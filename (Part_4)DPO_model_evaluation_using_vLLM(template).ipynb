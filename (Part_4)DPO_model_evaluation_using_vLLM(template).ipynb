{
  "cells": [
    {
      "cell_type": "markdown",
      "metadata": {
        "id": "view-in-github",
        "colab_type": "text"
      },
      "source": [
        "<a href=\"https://colab.research.google.com/github/jiwon-hae/LLama-training/blob/main/(Part_4)DPO_model_evaluation_using_vLLM(template).ipynb\" target=\"_parent\"><img src=\"https://colab.research.google.com/assets/colab-badge.svg\" alt=\"Open In Colab\"/></a>"
      ]
    },
    {
      "cell_type": "code",
      "execution_count": 1,
      "metadata": {
        "id": "IOXtsV8z6aiH",
        "colab": {
          "base_uri": "https://localhost:8080/"
        },
        "outputId": "81f5b18f-3d6a-417a-a0a7-ade3d9dd64c1"
      },
      "outputs": [
        {
          "output_type": "stream",
          "name": "stdout",
          "text": [
            "Requirement already satisfied: transformers==4.40.0 in /usr/local/lib/python3.11/dist-packages (4.40.0)\n",
            "Requirement already satisfied: peft==0.10.0 in /usr/local/lib/python3.11/dist-packages (0.10.0)\n",
            "Requirement already satisfied: trl==0.8.6 in /usr/local/lib/python3.11/dist-packages (0.8.6)\n",
            "Requirement already satisfied: bitsandbytes in /usr/local/lib/python3.11/dist-packages (0.45.1)\n",
            "Requirement already satisfied: accelerate==0.29.0 in /usr/local/lib/python3.11/dist-packages (0.29.0)\n",
            "Requirement already satisfied: vllm==0.4.3 in /usr/local/lib/python3.11/dist-packages (0.4.3)\n",
            "Requirement already satisfied: gradio==4.29.0 in /usr/local/lib/python3.11/dist-packages (4.29.0)\n",
            "Requirement already satisfied: pydantic==2.5.2 in /usr/local/lib/python3.11/dist-packages (2.5.2)\n",
            "Requirement already satisfied: filelock in /usr/local/lib/python3.11/dist-packages (from transformers==4.40.0) (3.17.0)\n",
            "Requirement already satisfied: huggingface-hub<1.0,>=0.19.3 in /usr/local/lib/python3.11/dist-packages (from transformers==4.40.0) (0.27.1)\n",
            "Requirement already satisfied: numpy>=1.17 in /usr/local/lib/python3.11/dist-packages (from transformers==4.40.0) (1.26.4)\n",
            "Requirement already satisfied: packaging>=20.0 in /usr/local/lib/python3.11/dist-packages (from transformers==4.40.0) (24.2)\n",
            "Requirement already satisfied: pyyaml>=5.1 in /usr/local/lib/python3.11/dist-packages (from transformers==4.40.0) (6.0.2)\n",
            "Requirement already satisfied: regex!=2019.12.17 in /usr/local/lib/python3.11/dist-packages (from transformers==4.40.0) (2024.11.6)\n",
            "Requirement already satisfied: requests in /usr/local/lib/python3.11/dist-packages (from transformers==4.40.0) (2.32.3)\n",
            "Requirement already satisfied: tokenizers<0.20,>=0.19 in /usr/local/lib/python3.11/dist-packages (from transformers==4.40.0) (0.19.1)\n",
            "Requirement already satisfied: safetensors>=0.4.1 in /usr/local/lib/python3.11/dist-packages (from transformers==4.40.0) (0.5.2)\n",
            "Requirement already satisfied: tqdm>=4.27 in /usr/local/lib/python3.11/dist-packages (from transformers==4.40.0) (4.67.1)\n",
            "Requirement already satisfied: psutil in /usr/local/lib/python3.11/dist-packages (from peft==0.10.0) (5.9.5)\n",
            "Requirement already satisfied: torch>=1.13.0 in /usr/local/lib/python3.11/dist-packages (from peft==0.10.0) (2.3.0)\n",
            "Requirement already satisfied: datasets in /usr/local/lib/python3.11/dist-packages (from trl==0.8.6) (3.2.0)\n",
            "Requirement already satisfied: tyro>=0.5.11 in /usr/local/lib/python3.11/dist-packages (from trl==0.8.6) (0.9.13)\n",
            "Requirement already satisfied: cmake>=3.21 in /usr/local/lib/python3.11/dist-packages (from vllm==0.4.3) (3.31.4)\n",
            "Requirement already satisfied: ninja in /usr/local/lib/python3.11/dist-packages (from vllm==0.4.3) (1.11.1.3)\n",
            "Requirement already satisfied: sentencepiece in /usr/local/lib/python3.11/dist-packages (from vllm==0.4.3) (0.2.0)\n",
            "Requirement already satisfied: py-cpuinfo in /usr/local/lib/python3.11/dist-packages (from vllm==0.4.3) (9.0.0)\n",
            "Requirement already satisfied: fastapi in /usr/local/lib/python3.11/dist-packages (from vllm==0.4.3) (0.115.8)\n",
            "Requirement already satisfied: aiohttp in /usr/local/lib/python3.11/dist-packages (from vllm==0.4.3) (3.11.11)\n",
            "Requirement already satisfied: openai in /usr/local/lib/python3.11/dist-packages (from vllm==0.4.3) (1.59.9)\n",
            "Requirement already satisfied: uvicorn[standard] in /usr/local/lib/python3.11/dist-packages (from vllm==0.4.3) (0.34.0)\n",
            "Requirement already satisfied: prometheus-client>=0.18.0 in /usr/local/lib/python3.11/dist-packages (from vllm==0.4.3) (0.21.1)\n",
            "Requirement already satisfied: prometheus-fastapi-instrumentator>=7.0.0 in /usr/local/lib/python3.11/dist-packages (from vllm==0.4.3) (7.0.2)\n",
            "Requirement already satisfied: tiktoken>=0.6.0 in /usr/local/lib/python3.11/dist-packages (from vllm==0.4.3) (0.8.0)\n",
            "Requirement already satisfied: lm-format-enforcer==0.10.1 in /usr/local/lib/python3.11/dist-packages (from vllm==0.4.3) (0.10.1)\n",
            "Requirement already satisfied: outlines==0.0.34 in /usr/local/lib/python3.11/dist-packages (from vllm==0.4.3) (0.0.34)\n",
            "Requirement already satisfied: typing-extensions in /usr/local/lib/python3.11/dist-packages (from vllm==0.4.3) (4.12.2)\n",
            "Requirement already satisfied: ray>=2.9 in /usr/local/lib/python3.11/dist-packages (from vllm==0.4.3) (2.41.0)\n",
            "Requirement already satisfied: nvidia-ml-py in /usr/local/lib/python3.11/dist-packages (from vllm==0.4.3) (12.570.86)\n",
            "Requirement already satisfied: xformers==0.0.26.post1 in /usr/local/lib/python3.11/dist-packages (from vllm==0.4.3) (0.0.26.post1)\n",
            "Requirement already satisfied: vllm-flash-attn==2.5.8.post2 in /usr/local/lib/python3.11/dist-packages (from vllm==0.4.3) (2.5.8.post2)\n",
            "Requirement already satisfied: aiofiles<24.0,>=22.0 in /usr/local/lib/python3.11/dist-packages (from gradio==4.29.0) (23.2.1)\n",
            "Requirement already satisfied: altair<6.0,>=4.2.0 in /usr/local/lib/python3.11/dist-packages (from gradio==4.29.0) (5.5.0)\n",
            "Requirement already satisfied: ffmpy in /usr/local/lib/python3.11/dist-packages (from gradio==4.29.0) (0.5.0)\n",
            "Requirement already satisfied: gradio-client==0.16.1 in /usr/local/lib/python3.11/dist-packages (from gradio==4.29.0) (0.16.1)\n",
            "Requirement already satisfied: httpx>=0.24.1 in /usr/local/lib/python3.11/dist-packages (from gradio==4.29.0) (0.28.1)\n",
            "Requirement already satisfied: importlib-resources<7.0,>=1.3 in /usr/local/lib/python3.11/dist-packages (from gradio==4.29.0) (6.5.2)\n",
            "Requirement already satisfied: jinja2<4.0 in /usr/local/lib/python3.11/dist-packages (from gradio==4.29.0) (3.1.5)\n",
            "Requirement already satisfied: markupsafe~=2.0 in /usr/local/lib/python3.11/dist-packages (from gradio==4.29.0) (2.1.5)\n",
            "Requirement already satisfied: matplotlib~=3.0 in /usr/local/lib/python3.11/dist-packages (from gradio==4.29.0) (3.10.0)\n",
            "Requirement already satisfied: orjson~=3.0 in /usr/local/lib/python3.11/dist-packages (from gradio==4.29.0) (3.10.15)\n",
            "Requirement already satisfied: pandas<3.0,>=1.0 in /usr/local/lib/python3.11/dist-packages (from gradio==4.29.0) (2.2.2)\n",
            "Requirement already satisfied: pillow<11.0,>=8.0 in /usr/local/lib/python3.11/dist-packages (from gradio==4.29.0) (10.4.0)\n",
            "Requirement already satisfied: pydub in /usr/local/lib/python3.11/dist-packages (from gradio==4.29.0) (0.25.1)\n",
            "Requirement already satisfied: python-multipart>=0.0.9 in /usr/local/lib/python3.11/dist-packages (from gradio==4.29.0) (0.0.20)\n",
            "Requirement already satisfied: ruff>=0.2.2 in /usr/local/lib/python3.11/dist-packages (from gradio==4.29.0) (0.9.4)\n",
            "Requirement already satisfied: semantic-version~=2.0 in /usr/local/lib/python3.11/dist-packages (from gradio==4.29.0) (2.10.0)\n",
            "Requirement already satisfied: tomlkit==0.12.0 in /usr/local/lib/python3.11/dist-packages (from gradio==4.29.0) (0.12.0)\n",
            "Requirement already satisfied: typer<1.0,>=0.12 in /usr/local/lib/python3.11/dist-packages (from gradio==4.29.0) (0.15.1)\n",
            "Requirement already satisfied: urllib3~=2.0 in /usr/local/lib/python3.11/dist-packages (from gradio==4.29.0) (2.3.0)\n",
            "Requirement already satisfied: annotated-types>=0.4.0 in /usr/local/lib/python3.11/dist-packages (from pydantic==2.5.2) (0.7.0)\n",
            "Requirement already satisfied: pydantic-core==2.14.5 in /usr/local/lib/python3.11/dist-packages (from pydantic==2.5.2) (2.14.5)\n",
            "Requirement already satisfied: fsspec in /usr/local/lib/python3.11/dist-packages (from gradio-client==0.16.1->gradio==4.29.0) (2024.9.0)\n",
            "Requirement already satisfied: websockets<12.0,>=10.0 in /usr/local/lib/python3.11/dist-packages (from gradio-client==0.16.1->gradio==4.29.0) (11.0.3)\n",
            "Requirement already satisfied: interegular>=0.3.2 in /usr/local/lib/python3.11/dist-packages (from lm-format-enforcer==0.10.1->vllm==0.4.3) (0.3.3)\n",
            "Requirement already satisfied: lark in /usr/local/lib/python3.11/dist-packages (from outlines==0.0.34->vllm==0.4.3) (1.2.2)\n",
            "Requirement already satisfied: nest-asyncio in /usr/local/lib/python3.11/dist-packages (from outlines==0.0.34->vllm==0.4.3) (1.6.0)\n",
            "Requirement already satisfied: cloudpickle in /usr/local/lib/python3.11/dist-packages (from outlines==0.0.34->vllm==0.4.3) (3.1.1)\n",
            "Requirement already satisfied: diskcache in /usr/local/lib/python3.11/dist-packages (from outlines==0.0.34->vllm==0.4.3) (5.6.3)\n",
            "Requirement already satisfied: scipy in /usr/local/lib/python3.11/dist-packages (from outlines==0.0.34->vllm==0.4.3) (1.13.1)\n",
            "Requirement already satisfied: numba in /usr/local/lib/python3.11/dist-packages (from outlines==0.0.34->vllm==0.4.3) (0.60.0)\n",
            "Requirement already satisfied: joblib in /usr/local/lib/python3.11/dist-packages (from outlines==0.0.34->vllm==0.4.3) (1.4.2)\n",
            "Requirement already satisfied: referencing in /usr/local/lib/python3.11/dist-packages (from outlines==0.0.34->vllm==0.4.3) (0.36.2)\n",
            "Requirement already satisfied: jsonschema in /usr/local/lib/python3.11/dist-packages (from outlines==0.0.34->vllm==0.4.3) (4.23.0)\n",
            "Requirement already satisfied: sympy in /usr/local/lib/python3.11/dist-packages (from torch>=1.13.0->peft==0.10.0) (1.13.1)\n",
            "Requirement already satisfied: networkx in /usr/local/lib/python3.11/dist-packages (from torch>=1.13.0->peft==0.10.0) (3.4.2)\n",
            "Requirement already satisfied: nvidia-cuda-nvrtc-cu12==12.1.105 in /usr/local/lib/python3.11/dist-packages (from torch>=1.13.0->peft==0.10.0) (12.1.105)\n",
            "Requirement already satisfied: nvidia-cuda-runtime-cu12==12.1.105 in /usr/local/lib/python3.11/dist-packages (from torch>=1.13.0->peft==0.10.0) (12.1.105)\n",
            "Requirement already satisfied: nvidia-cuda-cupti-cu12==12.1.105 in /usr/local/lib/python3.11/dist-packages (from torch>=1.13.0->peft==0.10.0) (12.1.105)\n",
            "Requirement already satisfied: nvidia-cudnn-cu12==8.9.2.26 in /usr/local/lib/python3.11/dist-packages (from torch>=1.13.0->peft==0.10.0) (8.9.2.26)\n",
            "Requirement already satisfied: nvidia-cublas-cu12==12.1.3.1 in /usr/local/lib/python3.11/dist-packages (from torch>=1.13.0->peft==0.10.0) (12.1.3.1)\n",
            "Requirement already satisfied: nvidia-cufft-cu12==11.0.2.54 in /usr/local/lib/python3.11/dist-packages (from torch>=1.13.0->peft==0.10.0) (11.0.2.54)\n",
            "Requirement already satisfied: nvidia-curand-cu12==10.3.2.106 in /usr/local/lib/python3.11/dist-packages (from torch>=1.13.0->peft==0.10.0) (10.3.2.106)\n",
            "Requirement already satisfied: nvidia-cusolver-cu12==11.4.5.107 in /usr/local/lib/python3.11/dist-packages (from torch>=1.13.0->peft==0.10.0) (11.4.5.107)\n",
            "Requirement already satisfied: nvidia-cusparse-cu12==12.1.0.106 in /usr/local/lib/python3.11/dist-packages (from torch>=1.13.0->peft==0.10.0) (12.1.0.106)\n",
            "Requirement already satisfied: nvidia-nccl-cu12==2.20.5 in /usr/local/lib/python3.11/dist-packages (from torch>=1.13.0->peft==0.10.0) (2.20.5)\n",
            "Requirement already satisfied: nvidia-nvtx-cu12==12.1.105 in /usr/local/lib/python3.11/dist-packages (from torch>=1.13.0->peft==0.10.0) (12.1.105)\n",
            "Requirement already satisfied: triton==2.3.0 in /usr/local/lib/python3.11/dist-packages (from torch>=1.13.0->peft==0.10.0) (2.3.0)\n",
            "Requirement already satisfied: nvidia-nvjitlink-cu12 in /usr/local/lib/python3.11/dist-packages (from nvidia-cusolver-cu12==11.4.5.107->torch>=1.13.0->peft==0.10.0) (12.5.82)\n",
            "Requirement already satisfied: narwhals>=1.14.2 in /usr/local/lib/python3.11/dist-packages (from altair<6.0,>=4.2.0->gradio==4.29.0) (1.24.1)\n",
            "Requirement already satisfied: anyio in /usr/local/lib/python3.11/dist-packages (from httpx>=0.24.1->gradio==4.29.0) (3.7.1)\n",
            "Requirement already satisfied: certifi in /usr/local/lib/python3.11/dist-packages (from httpx>=0.24.1->gradio==4.29.0) (2024.12.14)\n",
            "Requirement already satisfied: httpcore==1.* in /usr/local/lib/python3.11/dist-packages (from httpx>=0.24.1->gradio==4.29.0) (1.0.7)\n",
            "Requirement already satisfied: idna in /usr/local/lib/python3.11/dist-packages (from httpx>=0.24.1->gradio==4.29.0) (3.10)\n",
            "Requirement already satisfied: h11<0.15,>=0.13 in /usr/local/lib/python3.11/dist-packages (from httpcore==1.*->httpx>=0.24.1->gradio==4.29.0) (0.14.0)\n",
            "Requirement already satisfied: contourpy>=1.0.1 in /usr/local/lib/python3.11/dist-packages (from matplotlib~=3.0->gradio==4.29.0) (1.3.1)\n",
            "Requirement already satisfied: cycler>=0.10 in /usr/local/lib/python3.11/dist-packages (from matplotlib~=3.0->gradio==4.29.0) (0.12.1)\n",
            "Requirement already satisfied: fonttools>=4.22.0 in /usr/local/lib/python3.11/dist-packages (from matplotlib~=3.0->gradio==4.29.0) (4.55.7)\n",
            "Requirement already satisfied: kiwisolver>=1.3.1 in /usr/local/lib/python3.11/dist-packages (from matplotlib~=3.0->gradio==4.29.0) (1.4.8)\n",
            "Requirement already satisfied: pyparsing>=2.3.1 in /usr/local/lib/python3.11/dist-packages (from matplotlib~=3.0->gradio==4.29.0) (3.2.1)\n",
            "Requirement already satisfied: python-dateutil>=2.7 in /usr/local/lib/python3.11/dist-packages (from matplotlib~=3.0->gradio==4.29.0) (2.8.2)\n",
            "Requirement already satisfied: pytz>=2020.1 in /usr/local/lib/python3.11/dist-packages (from pandas<3.0,>=1.0->gradio==4.29.0) (2024.2)\n",
            "Requirement already satisfied: tzdata>=2022.7 in /usr/local/lib/python3.11/dist-packages (from pandas<3.0,>=1.0->gradio==4.29.0) (2025.1)\n",
            "Requirement already satisfied: starlette<1.0.0,>=0.30.0 in /usr/local/lib/python3.11/dist-packages (from prometheus-fastapi-instrumentator>=7.0.0->vllm==0.4.3) (0.45.3)\n",
            "Requirement already satisfied: click>=7.0 in /usr/local/lib/python3.11/dist-packages (from ray>=2.9->vllm==0.4.3) (8.1.8)\n",
            "Requirement already satisfied: msgpack<2.0.0,>=1.0.0 in /usr/local/lib/python3.11/dist-packages (from ray>=2.9->vllm==0.4.3) (1.1.0)\n",
            "Requirement already satisfied: protobuf!=3.19.5,>=3.15.3 in /usr/local/lib/python3.11/dist-packages (from ray>=2.9->vllm==0.4.3) (4.25.6)\n",
            "Requirement already satisfied: aiosignal in /usr/local/lib/python3.11/dist-packages (from ray>=2.9->vllm==0.4.3) (1.3.2)\n",
            "Requirement already satisfied: frozenlist in /usr/local/lib/python3.11/dist-packages (from ray>=2.9->vllm==0.4.3) (1.5.0)\n",
            "Requirement already satisfied: charset-normalizer<4,>=2 in /usr/local/lib/python3.11/dist-packages (from requests->transformers==4.40.0) (3.4.1)\n",
            "Requirement already satisfied: shellingham>=1.3.0 in /usr/local/lib/python3.11/dist-packages (from typer<1.0,>=0.12->gradio==4.29.0) (1.5.4)\n",
            "Requirement already satisfied: rich>=10.11.0 in /usr/local/lib/python3.11/dist-packages (from typer<1.0,>=0.12->gradio==4.29.0) (13.9.4)\n",
            "Requirement already satisfied: docstring-parser>=0.15 in /usr/local/lib/python3.11/dist-packages (from tyro>=0.5.11->trl==0.8.6) (0.16)\n",
            "Requirement already satisfied: shtab>=1.5.6 in /usr/local/lib/python3.11/dist-packages (from tyro>=0.5.11->trl==0.8.6) (1.7.1)\n",
            "Requirement already satisfied: typeguard>=4.0.0 in /usr/local/lib/python3.11/dist-packages (from tyro>=0.5.11->trl==0.8.6) (4.4.1)\n",
            "Requirement already satisfied: aiohappyeyeballs>=2.3.0 in /usr/local/lib/python3.11/dist-packages (from aiohttp->vllm==0.4.3) (2.4.4)\n",
            "Requirement already satisfied: attrs>=17.3.0 in /usr/local/lib/python3.11/dist-packages (from aiohttp->vllm==0.4.3) (25.1.0)\n",
            "Requirement already satisfied: multidict<7.0,>=4.5 in /usr/local/lib/python3.11/dist-packages (from aiohttp->vllm==0.4.3) (6.1.0)\n",
            "Requirement already satisfied: propcache>=0.2.0 in /usr/local/lib/python3.11/dist-packages (from aiohttp->vllm==0.4.3) (0.2.1)\n",
            "Requirement already satisfied: yarl<2.0,>=1.17.0 in /usr/local/lib/python3.11/dist-packages (from aiohttp->vllm==0.4.3) (1.18.3)\n",
            "Requirement already satisfied: pyarrow>=15.0.0 in /usr/local/lib/python3.11/dist-packages (from datasets->trl==0.8.6) (17.0.0)\n",
            "Requirement already satisfied: dill<0.3.9,>=0.3.0 in /usr/local/lib/python3.11/dist-packages (from datasets->trl==0.8.6) (0.3.8)\n",
            "Requirement already satisfied: xxhash in /usr/local/lib/python3.11/dist-packages (from datasets->trl==0.8.6) (3.5.0)\n",
            "Requirement already satisfied: multiprocess<0.70.17 in /usr/local/lib/python3.11/dist-packages (from datasets->trl==0.8.6) (0.70.16)\n",
            "Requirement already satisfied: distro<2,>=1.7.0 in /usr/local/lib/python3.11/dist-packages (from openai->vllm==0.4.3) (1.9.0)\n",
            "Requirement already satisfied: jiter<1,>=0.4.0 in /usr/local/lib/python3.11/dist-packages (from openai->vllm==0.4.3) (0.8.2)\n",
            "Requirement already satisfied: sniffio in /usr/local/lib/python3.11/dist-packages (from openai->vllm==0.4.3) (1.3.1)\n",
            "Requirement already satisfied: httptools>=0.6.3 in /usr/local/lib/python3.11/dist-packages (from uvicorn[standard]->vllm==0.4.3) (0.6.4)\n",
            "Requirement already satisfied: python-dotenv>=0.13 in /usr/local/lib/python3.11/dist-packages (from uvicorn[standard]->vllm==0.4.3) (1.0.1)\n",
            "Requirement already satisfied: uvloop!=0.15.0,!=0.15.1,>=0.14.0 in /usr/local/lib/python3.11/dist-packages (from uvicorn[standard]->vllm==0.4.3) (0.21.0)\n",
            "Requirement already satisfied: watchfiles>=0.13 in /usr/local/lib/python3.11/dist-packages (from uvicorn[standard]->vllm==0.4.3) (1.0.4)\n",
            "Requirement already satisfied: jsonschema-specifications>=2023.03.6 in /usr/local/lib/python3.11/dist-packages (from jsonschema->outlines==0.0.34->vllm==0.4.3) (2024.10.1)\n",
            "Requirement already satisfied: rpds-py>=0.7.1 in /usr/local/lib/python3.11/dist-packages (from jsonschema->outlines==0.0.34->vllm==0.4.3) (0.22.3)\n",
            "Requirement already satisfied: six>=1.5 in /usr/local/lib/python3.11/dist-packages (from python-dateutil>=2.7->matplotlib~=3.0->gradio==4.29.0) (1.17.0)\n",
            "Requirement already satisfied: markdown-it-py>=2.2.0 in /usr/local/lib/python3.11/dist-packages (from rich>=10.11.0->typer<1.0,>=0.12->gradio==4.29.0) (3.0.0)\n",
            "Requirement already satisfied: pygments<3.0.0,>=2.13.0 in /usr/local/lib/python3.11/dist-packages (from rich>=10.11.0->typer<1.0,>=0.12->gradio==4.29.0) (2.18.0)\n",
            "Requirement already satisfied: llvmlite<0.44,>=0.43.0dev0 in /usr/local/lib/python3.11/dist-packages (from numba->outlines==0.0.34->vllm==0.4.3) (0.43.0)\n",
            "Requirement already satisfied: mpmath<1.4,>=1.1.0 in /usr/local/lib/python3.11/dist-packages (from sympy->torch>=1.13.0->peft==0.10.0) (1.3.0)\n",
            "Requirement already satisfied: mdurl~=0.1 in /usr/local/lib/python3.11/dist-packages (from markdown-it-py>=2.2.0->rich>=10.11.0->typer<1.0,>=0.12->gradio==4.29.0) (0.1.2)\n"
          ]
        }
      ],
      "source": [
        "# 필요 Library install\n",
        "!pip install transformers==4.40.0 peft==0.10.0 trl==0.8.6 bitsandbytes accelerate==0.29.0 vllm==0.4.3 gradio==4.29.0 pydantic==2.5.2"
      ]
    },
    {
      "cell_type": "code",
      "source": [
        "!pip install flash-attn==2.5.5 --no-build-isolation"
      ],
      "metadata": {
        "colab": {
          "base_uri": "https://localhost:8080/"
        },
        "id": "Bx3cc3cL7DF0",
        "outputId": "d7745dea-b1ba-42e4-8f6c-a082a36deda3"
      },
      "execution_count": 2,
      "outputs": [
        {
          "output_type": "stream",
          "name": "stdout",
          "text": [
            "Requirement already satisfied: flash-attn==2.5.5 in /usr/local/lib/python3.11/dist-packages (2.5.5)\n",
            "Requirement already satisfied: torch in /usr/local/lib/python3.11/dist-packages (from flash-attn==2.5.5) (2.3.0)\n",
            "Requirement already satisfied: einops in /usr/local/lib/python3.11/dist-packages (from flash-attn==2.5.5) (0.8.0)\n",
            "Requirement already satisfied: packaging in /usr/local/lib/python3.11/dist-packages (from flash-attn==2.5.5) (24.2)\n",
            "Requirement already satisfied: ninja in /usr/local/lib/python3.11/dist-packages (from flash-attn==2.5.5) (1.11.1.3)\n",
            "Requirement already satisfied: filelock in /usr/local/lib/python3.11/dist-packages (from torch->flash-attn==2.5.5) (3.17.0)\n",
            "Requirement already satisfied: typing-extensions>=4.8.0 in /usr/local/lib/python3.11/dist-packages (from torch->flash-attn==2.5.5) (4.12.2)\n",
            "Requirement already satisfied: sympy in /usr/local/lib/python3.11/dist-packages (from torch->flash-attn==2.5.5) (1.13.1)\n",
            "Requirement already satisfied: networkx in /usr/local/lib/python3.11/dist-packages (from torch->flash-attn==2.5.5) (3.4.2)\n",
            "Requirement already satisfied: jinja2 in /usr/local/lib/python3.11/dist-packages (from torch->flash-attn==2.5.5) (3.1.5)\n",
            "Requirement already satisfied: fsspec in /usr/local/lib/python3.11/dist-packages (from torch->flash-attn==2.5.5) (2024.9.0)\n",
            "Requirement already satisfied: nvidia-cuda-nvrtc-cu12==12.1.105 in /usr/local/lib/python3.11/dist-packages (from torch->flash-attn==2.5.5) (12.1.105)\n",
            "Requirement already satisfied: nvidia-cuda-runtime-cu12==12.1.105 in /usr/local/lib/python3.11/dist-packages (from torch->flash-attn==2.5.5) (12.1.105)\n",
            "Requirement already satisfied: nvidia-cuda-cupti-cu12==12.1.105 in /usr/local/lib/python3.11/dist-packages (from torch->flash-attn==2.5.5) (12.1.105)\n",
            "Requirement already satisfied: nvidia-cudnn-cu12==8.9.2.26 in /usr/local/lib/python3.11/dist-packages (from torch->flash-attn==2.5.5) (8.9.2.26)\n",
            "Requirement already satisfied: nvidia-cublas-cu12==12.1.3.1 in /usr/local/lib/python3.11/dist-packages (from torch->flash-attn==2.5.5) (12.1.3.1)\n",
            "Requirement already satisfied: nvidia-cufft-cu12==11.0.2.54 in /usr/local/lib/python3.11/dist-packages (from torch->flash-attn==2.5.5) (11.0.2.54)\n",
            "Requirement already satisfied: nvidia-curand-cu12==10.3.2.106 in /usr/local/lib/python3.11/dist-packages (from torch->flash-attn==2.5.5) (10.3.2.106)\n",
            "Requirement already satisfied: nvidia-cusolver-cu12==11.4.5.107 in /usr/local/lib/python3.11/dist-packages (from torch->flash-attn==2.5.5) (11.4.5.107)\n",
            "Requirement already satisfied: nvidia-cusparse-cu12==12.1.0.106 in /usr/local/lib/python3.11/dist-packages (from torch->flash-attn==2.5.5) (12.1.0.106)\n",
            "Requirement already satisfied: nvidia-nccl-cu12==2.20.5 in /usr/local/lib/python3.11/dist-packages (from torch->flash-attn==2.5.5) (2.20.5)\n",
            "Requirement already satisfied: nvidia-nvtx-cu12==12.1.105 in /usr/local/lib/python3.11/dist-packages (from torch->flash-attn==2.5.5) (12.1.105)\n",
            "Requirement already satisfied: triton==2.3.0 in /usr/local/lib/python3.11/dist-packages (from torch->flash-attn==2.5.5) (2.3.0)\n",
            "Requirement already satisfied: nvidia-nvjitlink-cu12 in /usr/local/lib/python3.11/dist-packages (from nvidia-cusolver-cu12==11.4.5.107->torch->flash-attn==2.5.5) (12.5.82)\n",
            "Requirement already satisfied: MarkupSafe>=2.0 in /usr/local/lib/python3.11/dist-packages (from jinja2->torch->flash-attn==2.5.5) (2.1.5)\n",
            "Requirement already satisfied: mpmath<1.4,>=1.1.0 in /usr/local/lib/python3.11/dist-packages (from sympy->torch->flash-attn==2.5.5) (1.3.0)\n"
          ]
        }
      ]
    },
    {
      "cell_type": "code",
      "execution_count": 3,
      "metadata": {
        "id": "VKm5EZij6t2N",
        "colab": {
          "base_uri": "https://localhost:8080/",
          "height": 17,
          "referenced_widgets": [
            "56af682795ce49a29cffb6757b55c529",
            "a8db996c81b54ddcb25898d2eccaff43",
            "40a1c550b4114d0f990d024531d4ef79",
            "7f8fc997c17c488ea0993ef152b36f1f",
            "172ed7f55c29401db8942dd03426c1d0",
            "cdff57119da4424d935ba987952f5b39",
            "0c13d233fccb48ad93af415db63cc378",
            "883fb4f82ca94d36bfe0c261420f1444",
            "db8cfbc9f3654ff19670fd51e7508a88",
            "9c1ab3dcd618400582dc4b3daf1d6623",
            "3d6e3def8c6842ec8757a2fea3e8fc20",
            "1da921cb6f67412d8c85d04504e83449",
            "fb84a200a43d48b7818f1a9f8cf263d7",
            "7c73adeb41644a62af0bdca870ec1950",
            "9ee8aa9bcb5f494a834ff3c69752c7b7",
            "c8bc1cc76826424e910b947aa5e7fb76",
            "ce0fd99fc7944a79b6699aa1d87555d4",
            "425d6d21504d4fc4ba68b59af321d4dd",
            "e5619f7e87e4489fb80a5cdf96a4486c",
            "6d19b8e8182644409baf654f10f372cc"
          ]
        },
        "outputId": "3b34c77d-f9e8-48a5-eb6d-cf1fea89b21c"
      },
      "outputs": [
        {
          "output_type": "display_data",
          "data": {
            "text/plain": [
              "VBox(children=(HTML(value='<center> <img\\nsrc=https://huggingface.co/front/assets/huggingface_logo-noborder.sv…"
            ],
            "application/vnd.jupyter.widget-view+json": {
              "version_major": 2,
              "version_minor": 0,
              "model_id": "56af682795ce49a29cffb6757b55c529"
            }
          },
          "metadata": {}
        }
      ],
      "source": [
        "# HF token 설정\n",
        "from huggingface_hub import notebook_login\n",
        "notebook_login()"
      ]
    },
    {
      "cell_type": "code",
      "source": [
        "# Google Drive Import\n",
        "from google.colab import drive\n",
        "drive.mount('/content/drive')"
      ],
      "metadata": {
        "id": "qkO0Kyw2tR-4",
        "colab": {
          "base_uri": "https://localhost:8080/"
        },
        "outputId": "160e5e91-0a7a-4d7c-9675-e6893e9b036e"
      },
      "execution_count": 4,
      "outputs": [
        {
          "output_type": "stream",
          "name": "stdout",
          "text": [
            "Mounted at /content/drive\n"
          ]
        }
      ]
    },
    {
      "cell_type": "code",
      "source": [
        "!ls /content/drive/MyDrive/fine_tune_output"
      ],
      "metadata": {
        "colab": {
          "base_uri": "https://localhost:8080/"
        },
        "id": "Unrm2UsycThp",
        "outputId": "edd9f3bb-1933-4de4-8d14-1e7684c3ca0a"
      },
      "execution_count": 5,
      "outputs": [
        {
          "output_type": "stream",
          "name": "stdout",
          "text": [
            "checkpoint-100\tcheckpoint-50  runs\n"
          ]
        }
      ]
    },
    {
      "cell_type": "code",
      "source": [
        "!ls /content/drive/MyDrive/dpo_output_1"
      ],
      "metadata": {
        "colab": {
          "base_uri": "https://localhost:8080/"
        },
        "id": "Yl58PwKScb2r",
        "outputId": "8e28b44b-ca64-4c70-dab1-aaea09129171"
      },
      "execution_count": 6,
      "outputs": [
        {
          "output_type": "stream",
          "name": "stdout",
          "text": [
            "checkpoint-10  checkpoint-20  checkpoint-30  checkpoint-40  runs\n"
          ]
        }
      ]
    },
    {
      "cell_type": "code",
      "source": [
        "\n",
        "!ls /content/drive/MyDrive/dpo_output_2"
      ],
      "metadata": {
        "colab": {
          "base_uri": "https://localhost:8080/"
        },
        "id": "0yzu6LLRceg_",
        "outputId": "b6e97b30-86b6-491f-fde4-65f280cf59ed"
      },
      "execution_count": 7,
      "outputs": [
        {
          "output_type": "stream",
          "name": "stdout",
          "text": [
            "checkpoint-10  checkpoint-20  checkpoint-30  checkpoint-40  runs\n"
          ]
        }
      ]
    },
    {
      "cell_type": "code",
      "source": [
        "import torch\n",
        "from transformers import AutoModelForCausalLM, AutoTokenizer\n",
        "from peft import PeftModel, PeftConfig\n",
        "from vllm import LLM, SamplingParams\n",
        "import gradio as gr\n",
        "\n",
        "from vllm import LLM, SamplingParams\n",
        "\n",
        "vllm_model = LLM(\n",
        "    model = \"Evion/llama3-alpaca-tuned-and-merged\",\n",
        "    tokenizer = \"Evion/llama3-alpaca-tuned-and-merged\",\n",
        "    gpu_memory_utilization=0.85,\n",
        "    enable_lora = True\n",
        ")\n",
        "\n",
        "sampling_params = SamplingParams(temperature=0.05, top_p=0.95, max_tokens=256)"
      ],
      "metadata": {
        "id": "d4rNgZM0MQos",
        "colab": {
          "base_uri": "https://localhost:8080/",
          "height": 617,
          "referenced_widgets": [
            "368c357015d64f508895a68930ce5402",
            "762a57c2306a4b1c8f2e486833113302",
            "77b74ce274714155b07fe3637d4597f3",
            "34533ec7b04f41d4966aced87f7b07dc",
            "c7afdf68c6634d7587e3a7b706b59cfb",
            "d730388e54a0447e8ee1e63a115a76f4",
            "c57220039a884a01ad2b72846b05d3a7",
            "7263076d2b024b4dbd788cd787b1c7dd",
            "421cf7161a9c4429b0103ca366b9e4ab",
            "46653edebced4597b853f507db7cd659",
            "6e88219ce28e4948802de87fa9279f3f",
            "679ea0be4f4c48adb22e82bc7fbfc4b8",
            "9c3641299e4e497eae5205197cf9ecb7",
            "b1e879c376764ec283a5881693391bc7",
            "0f7d764b579b47ce9b6c4b20cc1f7666",
            "5168e9e5aef34536b159d0f52207082e",
            "bd135a1712d24f3b8963cf739ff63a33",
            "a7fce534911049f4a31f5425a7aed473",
            "f8a094e43f08429186c8f5800bcfaf63",
            "5183dc381d2a4ecaaccc76d6f496c0af",
            "fb0e8083d4e3410ba21d836f83905991",
            "f2b0a81689d5441e8c4812d8a8cdfa16",
            "49b443b9efe844aabec331eaf268b96e",
            "1ce7b07b7281496cb4a3c20e2266a3a6",
            "7eaffdd4f7344df782f893452d7cb31d",
            "21deea6aa108480cb9f1a2782e8a6da6",
            "63fe6b4082bb458d806f214f341d1ef8",
            "d4e649d17a25488bac5b3bb91a640168",
            "78f9ab1c23aa4c649f61e9613b776637",
            "5ba178968c9f49a7ba96dd067f966e2a",
            "251e2da9241f47feae454609adf60269",
            "2b145b9cb5184d499ff1ca556ef21d67",
            "83e905846e7144fbb1954d34762751f0",
            "5ebb2f1c343743faadc902494c6574ba",
            "280ad5b3d13c4fd3b688ca444c291f6e",
            "a3a3eff3a132434aa17063cc7f1a20a2",
            "443bc90f850f47b7a76f87b3a114978c",
            "26e56a983fbd42a4b44f2ca528c4ba3a",
            "f97c6646e2e34e108d6aa8ae9aac42a4",
            "4304cba7c67c471cb76db49c671e12be",
            "5341081577144f3196c97e7baeded41d",
            "92beb608964549748970164fae697249",
            "268fce7ece1e42e6b2c95139feb5dcce",
            "e05cd52a80da44a8a715b5aa17c90f3f",
            "04985388266842ceb2bf2178803e3cf7",
            "aed82469df33484fb56f981d2a08242a",
            "69b8cabd115344d18b165b648cb2d408",
            "5c39832fd08246288e056161ffaa38f2",
            "ba6e841182c54836b2a6bf46c75918ad",
            "e30763ce9da44fde977494ea2a7e7506",
            "e1e7564a2206458d918ebc4d05984260",
            "c8e5add49e154713b45825a1c3fad124",
            "367237788ac647c49b83aa0a71cd4fc9",
            "baee55ba99834c619fd5d3acddce1a8e",
            "4e383498157f49d9aafa7e4e04b16f11",
            "1195126d0e7f42fc8a0932dde1131f02",
            "8fa04e5293be43b5b8f8b37b68e8764b",
            "37b2cae4f550417db10bd071467a6207",
            "541da11a75d44d2182dc816f629dd7f3",
            "22d868f509a94775b638bec1ecf21a8f",
            "306231b946af4fee878a699060d4b9d3",
            "4927cf67d0754088a74036530a8a8a97",
            "0e64b3a43a044ef1b5301d8e91b1eae5",
            "0a1ab8e202e14aa19b16635ebe5635ac",
            "e30ef7aae5d249e88dc290db8b767c7c",
            "a815c37bcab442f0b05300cbfb0f0900",
            "b962e534876245e3a7945f13d44e969d",
            "dd380a16d55249fdb520a681b15da21c",
            "9b13532ee89d4a0fae114ed25c3e48d7",
            "89c006c8f5454d99b9177349066aee63",
            "59fe5026dbc145d3a4d7d19697c13811",
            "a43ddac7a6714a869634b3402847a2dd",
            "eff02dfffefd461f94b2dd4f719c592a",
            "1757b55aad3f49eba210edab768aa718",
            "b7b4c50c1a3f4ac9815f88f18e879f5e",
            "7a242338ce3c472b8f79d511cef09514",
            "96e9c45594c74036be565413b4522d1c",
            "fdff7eec900744b8b4fd47ff8680ae60",
            "75feb3f529a540faa2520a2a6db8b3a5",
            "08c48c0526c74fe6bf92fde49869009a",
            "b1d9fa89a4c64485b8da7905e01ad9f5",
            "42966c3a1d544eadbbf92c5440877ec9",
            "14d7ce02d7504655aa094cf4bc60481f",
            "8d5fba298a8846babff756da297b2909",
            "a3f9f9b3612d41409a94f4aa7b397db9",
            "d7a131d5a5df411390253b4b970eb999",
            "236256502640431fb9eafa047e1493bd",
            "15f7107311554fb5bc44da7bfee47887",
            "50bda875779e4a09a33df8be8d953aa7",
            "522b717bee7e42d1ae9ba5b6d17f9751",
            "b4f51364b898483aa1d0e03e303cb2b6",
            "01d7ffa5a4e5453197f6f0b731e0b8b2",
            "63a2d15071ce41c792414c82e7191596",
            "1b33b86781784b0fb3df768e1d8e8d64",
            "77f7ea788fe64b508bc6ac8c850e10e8",
            "2a29fbf319b6458bb4403d6ad03d2d0f",
            "21a3600939a84ce08eea6fcb8c06fe06",
            "96a4a90a23c045fabb6a6eac377d0bf4",
            "a7f404679a194acdad420600a3050e73",
            "4ce1efcd43d445d59c833cc003760cd0",
            "5a27f896487142a79f4241da691f23f8",
            "6bb352e7f8424c19bfd892262b4a951e",
            "1539de1d4e924dafbe882e49d22d8422",
            "d25c58624c4a42078ee21ec696c1169e",
            "4410545118564a508c2f80779c18813b",
            "53b6f35b96104ec78de295906e5337d5",
            "70d035938e8340ceaae9ad55cefba4ad",
            "42adb54bcb214d149cb9269e9ef1b2ea",
            "12b2d79ea1664147b089f9cc766123e0",
            "2ddf052846b7448181ef253e5853a4db"
          ]
        },
        "outputId": "687f2891-2393-4815-aefa-95601a627dd3"
      },
      "execution_count": 8,
      "outputs": [
        {
          "output_type": "stream",
          "name": "stderr",
          "text": [
            "/usr/local/lib/python3.11/dist-packages/huggingface_hub/file_download.py:795: FutureWarning: `resume_download` is deprecated and will be removed in version 1.0.0. Downloads always resume when possible. If you want to force a new download, use `force_download=True`.\n",
            "  warnings.warn(\n",
            "/usr/local/lib/python3.11/dist-packages/huggingface_hub/utils/_auth.py:94: UserWarning: \n",
            "The secret `HF_TOKEN` does not exist in your Colab secrets.\n",
            "To authenticate with the Hugging Face Hub, create a token in your settings tab (https://huggingface.co/settings/tokens), set it as secret in your Google Colab and restart your session.\n",
            "You will be able to reuse this secret in all of your notebooks.\n",
            "Please note that authentication is recommended but still optional to access public models or datasets.\n",
            "  warnings.warn(\n"
          ]
        },
        {
          "output_type": "display_data",
          "data": {
            "text/plain": [
              "config.json:   0%|          | 0.00/698 [00:00<?, ?B/s]"
            ],
            "application/vnd.jupyter.widget-view+json": {
              "version_major": 2,
              "version_minor": 0,
              "model_id": "368c357015d64f508895a68930ce5402"
            }
          },
          "metadata": {}
        },
        {
          "output_type": "stream",
          "name": "stdout",
          "text": [
            "INFO 02-02 07:05:52 llm_engine.py:161] Initializing an LLM engine (v0.4.3) with config: model='Evion/llama3-alpaca-tuned-and-merged', speculative_config=None, tokenizer='Evion/llama3-alpaca-tuned-and-merged', skip_tokenizer_init=False, tokenizer_mode=auto, revision=None, rope_scaling=None, tokenizer_revision=None, trust_remote_code=False, dtype=torch.bfloat16, max_seq_len=8192, download_dir=None, load_format=LoadFormat.AUTO, tensor_parallel_size=1, disable_custom_all_reduce=False, quantization=None, enforce_eager=False, kv_cache_dtype=auto, quantization_param_path=None, device_config=cuda, decoding_config=DecodingConfig(guided_decoding_backend='outlines'), seed=0, served_model_name=Evion/llama3-alpaca-tuned-and-merged)\n"
          ]
        },
        {
          "output_type": "display_data",
          "data": {
            "text/plain": [
              "tokenizer_config.json:   0%|          | 0.00/50.6k [00:00<?, ?B/s]"
            ],
            "application/vnd.jupyter.widget-view+json": {
              "version_major": 2,
              "version_minor": 0,
              "model_id": "679ea0be4f4c48adb22e82bc7fbfc4b8"
            }
          },
          "metadata": {}
        },
        {
          "output_type": "display_data",
          "data": {
            "text/plain": [
              "tokenizer.json:   0%|          | 0.00/9.09M [00:00<?, ?B/s]"
            ],
            "application/vnd.jupyter.widget-view+json": {
              "version_major": 2,
              "version_minor": 0,
              "model_id": "49b443b9efe844aabec331eaf268b96e"
            }
          },
          "metadata": {}
        },
        {
          "output_type": "display_data",
          "data": {
            "text/plain": [
              "special_tokens_map.json:   0%|          | 0.00/464 [00:00<?, ?B/s]"
            ],
            "application/vnd.jupyter.widget-view+json": {
              "version_major": 2,
              "version_minor": 0,
              "model_id": "5ebb2f1c343743faadc902494c6574ba"
            }
          },
          "metadata": {}
        },
        {
          "output_type": "display_data",
          "data": {
            "text/plain": [
              "generation_config.json:   0%|          | 0.00/172 [00:00<?, ?B/s]"
            ],
            "application/vnd.jupyter.widget-view+json": {
              "version_major": 2,
              "version_minor": 0,
              "model_id": "04985388266842ceb2bf2178803e3cf7"
            }
          },
          "metadata": {}
        },
        {
          "output_type": "stream",
          "name": "stdout",
          "text": [
            "INFO 02-02 07:05:54 weight_utils.py:207] Using model weights format ['*.safetensors']\n"
          ]
        },
        {
          "output_type": "display_data",
          "data": {
            "text/plain": [
              "model-00002-of-00004.safetensors:   0%|          | 0.00/5.00G [00:00<?, ?B/s]"
            ],
            "application/vnd.jupyter.widget-view+json": {
              "version_major": 2,
              "version_minor": 0,
              "model_id": "1195126d0e7f42fc8a0932dde1131f02"
            }
          },
          "metadata": {}
        },
        {
          "output_type": "display_data",
          "data": {
            "text/plain": [
              "model-00003-of-00004.safetensors:   0%|          | 0.00/4.92G [00:00<?, ?B/s]"
            ],
            "application/vnd.jupyter.widget-view+json": {
              "version_major": 2,
              "version_minor": 0,
              "model_id": "b962e534876245e3a7945f13d44e969d"
            }
          },
          "metadata": {}
        },
        {
          "output_type": "display_data",
          "data": {
            "text/plain": [
              "model-00001-of-00004.safetensors:   0%|          | 0.00/4.98G [00:00<?, ?B/s]"
            ],
            "application/vnd.jupyter.widget-view+json": {
              "version_major": 2,
              "version_minor": 0,
              "model_id": "fdff7eec900744b8b4fd47ff8680ae60"
            }
          },
          "metadata": {}
        },
        {
          "output_type": "display_data",
          "data": {
            "text/plain": [
              "model-00004-of-00004.safetensors:   0%|          | 0.00/1.17G [00:00<?, ?B/s]"
            ],
            "application/vnd.jupyter.widget-view+json": {
              "version_major": 2,
              "version_minor": 0,
              "model_id": "50bda875779e4a09a33df8be8d953aa7"
            }
          },
          "metadata": {}
        },
        {
          "output_type": "display_data",
          "data": {
            "text/plain": [
              "model.safetensors.index.json:   0%|          | 0.00/23.9k [00:00<?, ?B/s]"
            ],
            "application/vnd.jupyter.widget-view+json": {
              "version_major": 2,
              "version_minor": 0,
              "model_id": "4ce1efcd43d445d59c833cc003760cd0"
            }
          },
          "metadata": {}
        },
        {
          "output_type": "stream",
          "name": "stdout",
          "text": [
            "INFO 02-02 07:07:59 model_runner.py:146] Loading model weights took 14.9634 GB\n",
            "INFO 02-02 07:08:01 gpu_executor.py:83] # GPU blocks: 8585, # CPU blocks: 2048\n",
            "INFO 02-02 07:08:03 model_runner.py:854] Capturing the model for CUDA graphs. This may lead to unexpected consequences if the model is not static. To run the model in eager mode, set 'enforce_eager=True' or use '--enforce-eager' in the CLI.\n",
            "INFO 02-02 07:08:03 model_runner.py:858] CUDA graphs can take additional 1~3 GiB memory per GPU. If you are running out of memory, consider decreasing `gpu_memory_utilization` or enforcing eager mode. You can also reduce the `max_num_seqs` as needed to decrease memory usage.\n",
            "INFO 02-02 07:08:11 model_runner.py:924] Graph capturing finished in 8 secs.\n"
          ]
        }
      ]
    },
    {
      "cell_type": "code",
      "source": [
        "dpo_output_1_base_path = \"/content/drive/MyDrive/dpo_output_1/\"\n",
        "dpo_output_2_base_path = \"/content/drive/MyDrive/dpo_output_2/\"\n",
        "\n",
        "lora_configs = {\n",
        "    \"dpo_output_1_cpk_10\": (1, dpo_output_1_base_path + \"checkpoint_10\"),\n",
        "    \"dpo_output_1_cpk_20\": (2, dpo_output_1_base_path + \"checkpoint_20\"),\n",
        "    \"dpo_output_1_cpk_30\": (3, dpo_output_1_base_path + \"checkpoint_30\"),\n",
        "    \"dpo_output_2_cpk_10\": (5, dpo_output_2_base_path + \"checkpoint_10\"),\n",
        "    \"dpo_output_2_cpk_20\": (6, dpo_output_2_base_path + \"checkpoint_20\"),\n",
        "    \"dpo_output_2_cpk_30\": (7, dpo_output_2_base_path + \"checkpoint_30\"),\n",
        "    \"dpo_output_2_cpk_40\": (8, dpo_output_2_base_path + \"checkpoint_40\")\n",
        "}"
      ],
      "metadata": {
        "id": "qtzQ-KOJ9M4y"
      },
      "execution_count": 9,
      "outputs": []
    },
    {
      "cell_type": "code",
      "source": [
        "from vllm.lora.request import LoRARequest\n",
        "\n",
        "dpo_output_1_base_path = \"/content/drive/MyDrive/dpo_output_1/\"\n",
        "dpo_output_2_base_path = \"/content/drive/MyDrive/dpo_output_2/\"\n",
        "\n",
        "lora_configs = {\n",
        "    \"dpo_output_1_cpk_10\": (1, dpo_output_1_base_path + \"checkpoint-10\"),\n",
        "    \"dpo_output_1_cpk_20\": (2, dpo_output_1_base_path + \"checkpoint-20\"),\n",
        "    \"dpo_output_1_cpk_30\": (3, dpo_output_1_base_path + \"checkpoint-30\"),\n",
        "    \"dpo_output_2_cpk_10\": (5, dpo_output_2_base_path + \"checkpoint-10\"),\n",
        "    \"dpo_output_2_cpk_20\": (6, dpo_output_2_base_path + \"checkpoint-20\"),\n",
        "    \"dpo_output_2_cpk_30\": (7, dpo_output_2_base_path + \"checkpoint-30\")\n",
        "}\n",
        "\n",
        "def generate_text(raw_input, temperature = 0.05, top_p = 0.95, max_tokens=256, lora_mode = \"default\"):\n",
        "    sampling_params = SamplingParams(\n",
        "        temperature=temperature,\n",
        "        top_p=top_p,\n",
        "        max_tokens=max_tokens\n",
        "    )\n",
        "    alpaca_prompt = \"\"\"Below is an instruction that describes a task. Write a response that appropriately completes the request.\n",
        "\n",
        "    ### Instruction:\n",
        "    {}\n",
        "\n",
        "    ### Response:\n",
        "    {}\"\"\"\n",
        "    prompt = alpaca_prompt.format(raw_input,\"\")\n",
        "    lora_config = {}\n",
        "\n",
        "\n",
        "\n",
        "    if lora_mode != \"default\":\n",
        "        lora_config[\"lora_request\"] = LoRARequest(lora_mode, lora_configs[lora_mode][0], lora_configs[lora_mode][1])\n",
        "\n",
        "    outputs = vllm_model.generate(\n",
        "        [prompt],\n",
        "        sampling_params,\n",
        "        **lora_config,\n",
        "    )\n",
        "    return outputs[0].outputs[0].text"
      ],
      "metadata": {
        "id": "dxOHbeMjpF4H"
      },
      "execution_count": 12,
      "outputs": []
    },
    {
      "cell_type": "code",
      "source": [
        "questions = [\n",
        "    \"List three ways to reduce plastic waste in daily life.\",\n",
        "    \"Write a haiku about artificial intelligence\",\n",
        "    \"How can I improve my public speaking skills?\",\n",
        "    \"AI 분야에서 사용하는 LLM이라는 용어가 뭔지 설명해줘\",\n",
        "    \"What is a famous tall tower in Paris?\",\n",
        "    \"What is Fine-Tuning?\",\n",
        "    \"15와 25의 최소공배수를 구하시오.\",\n",
        "    \"제2차 세계대전의 주요 원인은 무엇이었나요?\",\n",
        "    \"광합성 과정을 간단히 설명해주세요.\",\n",
        "    \"셰익스피어의 '햄릿'에서 주인공의 성격을 분석해보세요.\",\n",
        "    \"기후 변화가 전 세계적으로 미치는 영향에 대해 설명해주세요.\",\n",
        "    \"파이썬에서 리스트와 튜플의 차이점은 무엇인가요?\",\n",
        "    \"인공지능은 의식을 가질 수 있을까요? 그 이유는 무엇인가요?\",\n",
        "    \"'안녕하세요, 오늘 날씨가 좋네요'를 영어로 번역해주세요.\",\n",
        "    \"우주 여행을 주제로 한 짧은 이야기를 만들어보세요.\",\n",
        "    \"인플레이션이 경제에 미치는 영향을 설명해주세요.\"\n",
        "]"
      ],
      "metadata": {
        "id": "Q_BUBCib8UG_"
      },
      "execution_count": 13,
      "outputs": []
    },
    {
      "cell_type": "code",
      "source": [
        "print(\"Default model result -----\")\n",
        "print(generate_text(raw_input = questions[0], lora_mode = \"default\"))\n",
        "for mode in lora_configs.keys():\n",
        "  print(f\"{mode} model result ------\")\n",
        "  print(generate_text(raw_input = questions[0], lora_mode = mode))\n",
        "  print()"
      ],
      "metadata": {
        "colab": {
          "base_uri": "https://localhost:8080/"
        },
        "id": "hirtX2sIgXA2",
        "outputId": "0c8c6bec-73aa-4932-fe4e-8de4c928e984"
      },
      "execution_count": null,
      "outputs": [
        {
          "output_type": "stream",
          "name": "stdout",
          "text": [
            "Default model result -----\n"
          ]
        },
        {
          "output_type": "stream",
          "name": "stderr",
          "text": [
            "Processed prompts: 100%|██████████| 1/1 [00:01<00:00,  1.52s/it, Generation Speed: 60.52 toks/s]\n"
          ]
        },
        {
          "output_type": "stream",
          "name": "stdout",
          "text": [
            " 1. Reduce the use of single-use plastic items such as straws, plastic bags, and disposable cutlery.\n",
            "     2. Use reusable containers and bags for food and shopping.\n",
            "     3. Support businesses that use sustainable packaging and products.\n",
            "     4. Recycle plastic items properly and avoid littering.\n",
            "     5. Educate others about the impact of plastic waste and encourage them to make changes in their own lives.    \n",
            "dpo_output_1_cpk_10 model result ------\n"
          ]
        },
        {
          "output_type": "stream",
          "name": "stderr",
          "text": [
            "Processed prompts: 100%|██████████| 1/1 [00:08<00:00,  8.48s/it, Generation Speed: 6.37 toks/s]\n"
          ]
        },
        {
          "output_type": "stream",
          "name": "stdout",
          "text": [
            " 1. Reduce the use of single-use plastic items such as straws, plastic bags, and disposable cutlery.\n",
            "     2. Use reusable containers and bags for food and shopping.\n",
            "     3. Recycle plastic items properly and avoid littering.\n",
            "\n",
            "dpo_output_1_cpk_20 model result ------\n"
          ]
        },
        {
          "output_type": "stream",
          "name": "stderr",
          "text": [
            "Processed prompts: 100%|██████████| 1/1 [00:09<00:00,  9.28s/it, Generation Speed: 10.02 toks/s]\n"
          ]
        },
        {
          "output_type": "stream",
          "name": "stdout",
          "text": [
            " 1. Reduce the use of single-use plastic items such as straws, plastic bags, and disposable cutlery.\n",
            "     2. Use reusable containers and bags for shopping and carrying food.\n",
            "     3. Support businesses that use eco-friendly packaging and products.\n",
            "     4. Recycle plastic items whenever possible.\n",
            "     5. Avoid buying products that contain excessive plastic packaging.\n",
            "     6. Support initiatives to reduce plastic waste in your community.\n",
            "\n",
            "dpo_output_1_cpk_30 model result ------\n"
          ]
        },
        {
          "output_type": "stream",
          "name": "stderr",
          "text": [
            "Processed prompts: 100%|██████████| 1/1 [00:09<00:00,  9.33s/it, Generation Speed: 5.68 toks/s]\n"
          ]
        },
        {
          "output_type": "stream",
          "name": "stdout",
          "text": [
            " - Reduce the use of single-use plastic items such as plastic bags, straws, and cutlery.\n",
            "     - Reuse plastic containers and bottles by washing and reusing them.\n",
            "     - Recycle plastic items by placing them in designated bins for recycling.\n",
            "\n",
            "dpo_output_2_cpk_10 model result ------\n"
          ]
        },
        {
          "output_type": "stream",
          "name": "stderr",
          "text": [
            "Processed prompts: 100%|██████████| 1/1 [00:19<00:00, 19.66s/it, Generation Speed: 10.33 toks/s]\n"
          ]
        },
        {
          "output_type": "stream",
          "name": "stdout",
          "text": [
            " 1. Reduce the use of single-use plastic items such as straws, plastic bags, and disposable cutlery.\n",
            "     2. Use reusable containers, bags, and water bottles instead of single-use plastic ones.\n",
            "     3. Support businesses that use eco-friendly packaging and products.\n",
            "     4. Recycle plastic items whenever possible.\n",
            "     5. Avoid buying products that contain excessive plastic packaging.\n",
            "     6. Support initiatives that promote the reduction of plastic waste, such as beach clean-ups and recycling programs.\n",
            "     7. Educate yourself and others about the impact of plastic waste on the environment and how to reduce it.\n",
            "     8. Support the development of alternative materials to plastic, such as biodegradable and compostable products.\n",
            "     9. Avoid purchasing products that contain microplastics, such as some cosmetics and cleaning products.\n",
            "     10. Support the development of new technologies that can help reduce plastic waste, such as biodegradable plastics and recycling technologies.    \n",
            "\n",
            "dpo_output_2_cpk_20 model result ------\n"
          ]
        },
        {
          "output_type": "stream",
          "name": "stderr",
          "text": [
            "\rProcessed prompts:   0%|          | 0/1 [00:00<?, ?it/s, Generation Speed: 0.00 toks/s]"
          ]
        }
      ]
    },
    {
      "cell_type": "code",
      "source": [
        "for idx, question in enumerate(questions):\n",
        "  print(f\"Question_{idx}: {question}\")\n",
        "  print(\"Default model result -----\")\n",
        "  print(generate_text(raw_input = question, lora_mode = \"default\"))\n",
        "  for mode in lora_configs.keys():\n",
        "    print(f\"{mode} model result ------\")\n",
        "    print(generate_text(raw_input = question, lora_mode = mode))\n",
        "    print()"
      ],
      "metadata": {
        "colab": {
          "base_uri": "https://localhost:8080/"
        },
        "id": "U11i7ZkQ_b3L",
        "outputId": "e42b4ef3-099e-4e2e-89d8-326ea0abcb11"
      },
      "execution_count": null,
      "outputs": [
        {
          "metadata": {
            "tags": null
          },
          "name": "stdout",
          "output_type": "stream",
          "text": [
            "Question_0: List three ways to reduce plastic waste in daily life.\n",
            "Default model result -----\n"
          ]
        },
        {
          "metadata": {
            "tags": null
          },
          "name": "stderr",
          "output_type": "stream",
          "text": [
            "Processed prompts: 100%|██████████| 1/1 [00:00<00:00,  1.07it/s, Generation Speed: 58.09 toks/s]\n"
          ]
        },
        {
          "metadata": {
            "tags": null
          },
          "name": "stdout",
          "output_type": "stream",
          "text": [
            " 1. Reduce the use of single-use plastic items such as straws, plastic bags, and disposable cutlery.\n",
            "     2. Use reusable containers and bags for food and shopping.\n",
            "     3. Recycle plastic items properly and avoid littering.\n",
            "dpo_output_1_cpk_10 model result ------\n"
          ]
        },
        {
          "metadata": {
            "tags": null
          },
          "name": "stderr",
          "output_type": "stream",
          "text": [
            "Processed prompts: 100%|██████████| 1/1 [00:01<00:00,  1.56s/it, Generation Speed: 50.12 toks/s]\n"
          ]
        },
        {
          "metadata": {
            "tags": null
          },
          "name": "stdout",
          "output_type": "stream",
          "text": [
            " - Reduce the use of single-use plastic items such as straws, plastic bags, and disposable cutlery.\n",
            "     - Use reusable containers and bags for food and shopping.\n",
            "     - Support businesses that use eco-friendly packaging and products.\n",
            "     - Recycle plastic items whenever possible.\n",
            "     - Avoid buying products with excessive packaging.\n",
            "     - Support initiatives to reduce plastic waste in your community.\n",
            "\n",
            "dpo_output_1_cpk_20 model result ------\n"
          ]
        },
        {
          "metadata": {
            "tags": null
          },
          "name": "stderr",
          "output_type": "stream",
          "text": [
            "Processed prompts: 100%|██████████| 1/1 [00:01<00:00,  1.75s/it, Generation Speed: 50.83 toks/s]\n"
          ]
        },
        {
          "metadata": {
            "tags": null
          },
          "name": "stdout",
          "output_type": "stream",
          "text": [
            " - Reduce the use of single-use plastic items such as straws, plastic bags, and disposable cutlery.\n",
            "     - Use reusable containers and bags for food and shopping.\n",
            "     - Support businesses that use eco-friendly packaging and products.\n",
            "     - Recycle plastic items whenever possible.\n",
            "     - Avoid buying products with excessive packaging.\n",
            "     - Educate others about the impact of plastic waste and encourage them to make changes in their own lives.    \n",
            "\n",
            "dpo_output_1_cpk_30 model result ------\n"
          ]
        },
        {
          "metadata": {
            "tags": null
          },
          "name": "stderr",
          "output_type": "stream",
          "text": [
            "Processed prompts: 100%|██████████| 1/1 [00:01<00:00,  1.19s/it, Generation Speed: 45.58 toks/s]\n"
          ]
        },
        {
          "metadata": {
            "tags": null
          },
          "name": "stdout",
          "output_type": "stream",
          "text": [
            " 1. Reduce the use of single-use plastic items such as straws, plastic bags, and disposable cutlery.\n",
            "     2. Use reusable containers and bags for food and shopping.\n",
            "     3. Recycle plastic items properly and avoid littering.\n",
            "\n",
            "dpo_output_1_cpk_40 model result ------\n"
          ]
        },
        {
          "metadata": {
            "tags": null
          },
          "name": "stderr",
          "output_type": "stream",
          "text": [
            "Processed prompts: 100%|██████████| 1/1 [00:01<00:00,  2.00s/it, Generation Speed: 51.56 toks/s]\n"
          ]
        },
        {
          "metadata": {
            "tags": null
          },
          "name": "stdout",
          "output_type": "stream",
          "text": [
            " 1. Reduce the use of single-use plastic items such as straws, bags, and utensils. Instead, use reusable alternatives such as metal straws, cloth bags, and reusable utensils.\n",
            "     2. Avoid buying products that come in plastic packaging. Look for products that are packaged in recyclable or reusable materials such as glass or metal.\n",
            "     3. Recycle plastic items properly. Make sure to rinse out containers and separate plastic from other materials before putting them in the recycling bin.\n",
            "\n",
            "dpo_output_2_cpk_10 model result ------\n"
          ]
        },
        {
          "metadata": {
            "tags": null
          },
          "name": "stderr",
          "output_type": "stream",
          "text": [
            "Processed prompts: 100%|██████████| 1/1 [00:02<00:00,  2.06s/it, Generation Speed: 52.45 toks/s]\n"
          ]
        },
        {
          "metadata": {
            "tags": null
          },
          "name": "stdout",
          "output_type": "stream",
          "text": [
            " 1. Reduce the use of single-use plastic items such as straws, plastic bags, and disposable cutlery.\n",
            "     2. Use reusable containers, bags, and water bottles instead of single-use plastic ones.\n",
            "     3. Support businesses that use eco-friendly packaging and products.\n",
            "     4. Recycle plastic items whenever possible.\n",
            "     5. Avoid buying products that contain excessive plastic packaging.\n",
            "     6. Educate others about the dangers of plastic waste and encourage them to make changes in their own lives.\n",
            "\n",
            "dpo_output_2_cpk_20 model result ------\n"
          ]
        },
        {
          "metadata": {
            "tags": null
          },
          "name": "stderr",
          "output_type": "stream",
          "text": [
            "Processed prompts: 100%|██████████| 1/1 [00:03<00:00,  3.04s/it, Generation Speed: 54.66 toks/s]\n"
          ]
        },
        {
          "metadata": {
            "tags": null
          },
          "name": "stdout",
          "output_type": "stream",
          "text": [
            " 1. Reduce the use of single-use plastic items such as straws, plastic bags, and disposable cutlery.\n",
            "     2. Use reusable containers and bags for food and shopping.\n",
            "     3. Support businesses that use eco-friendly packaging and products.\n",
            "     4. Recycle plastic items whenever possible.\n",
            "     5. Avoid buying products that contain excessive plastic packaging.\n",
            "     6. Support initiatives to reduce plastic waste in your community.\n",
            "     7. Educate yourself and others about the impact of plastic waste on the environment.\n",
            "     8. Use refillable water bottles instead of buying plastic water bottles.\n",
            "     9. Avoid buying products that contain microplastics, such as some cosmetics and cleaning products.\n",
            "     10. Support the development of biodegradable and compostable alternatives to plastic.\n",
            "\n",
            "dpo_output_2_cpk_30 model result ------\n"
          ]
        },
        {
          "metadata": {
            "tags": null
          },
          "name": "stderr",
          "output_type": "stream",
          "text": [
            "Processed prompts: 100%|██████████| 1/1 [00:01<00:00,  1.35s/it, Generation Speed: 47.44 toks/s]\n"
          ]
        },
        {
          "metadata": {
            "tags": null
          },
          "name": "stdout",
          "output_type": "stream",
          "text": [
            " 1. Reduce the use of plastic bags and bring your own reusable bags when shopping.\n",
            "     2. Avoid using plastic straws and bring your own reusable straw.\n",
            "     3. Refuse single-use plastic items such as plastic cutlery, cups, and plates. Bring your own reusable items instead.\n",
            "\n",
            "dpo_output_2_cpk_40 model result ------\n"
          ]
        },
        {
          "metadata": {
            "tags": null
          },
          "name": "stderr",
          "output_type": "stream",
          "text": [
            "Processed prompts: 100%|██████████| 1/1 [00:00<00:00,  1.28it/s, Generation Speed: 38.36 toks/s]\n"
          ]
        },
        {
          "metadata": {
            "tags": null
          },
          "name": "stdout",
          "output_type": "stream",
          "text": [
            " 1. Use reusable bags for shopping.\n",
            "     2. Refuse plastic straws.\n",
            "     3. Use reusable water bottles.    \n",
            "\n",
            "Question_1: Write a haiku about artificial intelligence\n",
            "Default model result -----\n"
          ]
        },
        {
          "metadata": {
            "tags": null
          },
          "name": "stderr",
          "output_type": "stream",
          "text": [
            "Processed prompts: 100%|██████████| 1/1 [00:00<00:00,  3.61it/s, Generation Speed: 58.03 toks/s]\n"
          ]
        },
        {
          "metadata": {
            "tags": null
          },
          "name": "stdout",
          "output_type": "stream",
          "text": [
            " Artificial intelligence\n",
            "    A world of possibilities\n",
            "    A future to explore    \n",
            "dpo_output_1_cpk_10 model result ------\n"
          ]
        },
        {
          "metadata": {
            "tags": null
          },
          "name": "stderr",
          "output_type": "stream",
          "text": [
            "Processed prompts: 100%|██████████| 1/1 [00:00<00:00,  1.95it/s, Generation Speed: 31.22 toks/s]\n"
          ]
        },
        {
          "metadata": {
            "tags": null
          },
          "name": "stdout",
          "output_type": "stream",
          "text": [
            " Artificial intelligence\n",
            "    A world of possibilities\n",
            "    A future to explore    \n",
            "\n",
            "dpo_output_1_cpk_20 model result ------\n"
          ]
        },
        {
          "metadata": {
            "tags": null
          },
          "name": "stderr",
          "output_type": "stream",
          "text": [
            "Processed prompts: 100%|██████████| 1/1 [00:00<00:00,  1.99it/s, Generation Speed: 31.90 toks/s]\n"
          ]
        },
        {
          "metadata": {
            "tags": null
          },
          "name": "stdout",
          "output_type": "stream",
          "text": [
            " Artificial intelligence\n",
            "    A world of possibilities\n",
            "    A future to explore    \n",
            "\n",
            "dpo_output_1_cpk_30 model result ------\n"
          ]
        },
        {
          "metadata": {
            "tags": null
          },
          "name": "stderr",
          "output_type": "stream",
          "text": [
            "Processed prompts: 100%|██████████| 1/1 [00:00<00:00,  1.96it/s, Generation Speed: 31.41 toks/s]\n"
          ]
        },
        {
          "metadata": {
            "tags": null
          },
          "name": "stdout",
          "output_type": "stream",
          "text": [
            " Artificial intelligence\n",
            "    A world of possibilities\n",
            "    A future to explore    \n",
            "\n",
            "dpo_output_1_cpk_40 model result ------\n"
          ]
        },
        {
          "metadata": {
            "tags": null
          },
          "name": "stderr",
          "output_type": "stream",
          "text": [
            "Processed prompts: 100%|██████████| 1/1 [00:00<00:00,  1.93it/s, Generation Speed: 32.84 toks/s]\n"
          ]
        },
        {
          "metadata": {
            "tags": null
          },
          "name": "stdout",
          "output_type": "stream",
          "text": [
            " Artificial intelligence\n",
            "    A new era of technology\n",
            "    A future to behold    \n",
            "\n",
            "dpo_output_2_cpk_10 model result ------\n"
          ]
        },
        {
          "metadata": {
            "tags": null
          },
          "name": "stderr",
          "output_type": "stream",
          "text": [
            "Processed prompts: 100%|██████████| 1/1 [00:00<00:00,  1.79it/s, Generation Speed: 32.26 toks/s]\n"
          ]
        },
        {
          "metadata": {
            "tags": null
          },
          "name": "stdout",
          "output_type": "stream",
          "text": [
            " Artificial intelligence\n",
            "    A machine's ability to think\n",
            "    A future to behold    \n",
            "\n",
            "dpo_output_2_cpk_20 model result ------\n"
          ]
        },
        {
          "metadata": {
            "tags": null
          },
          "name": "stderr",
          "output_type": "stream",
          "text": [
            "Processed prompts: 100%|██████████| 1/1 [00:00<00:00,  1.82it/s, Generation Speed: 29.13 toks/s]\n"
          ]
        },
        {
          "metadata": {
            "tags": null
          },
          "name": "stdout",
          "output_type": "stream",
          "text": [
            " Artificial intelligence\n",
            "    A world of possibilities\n",
            "    A future to explore    \n",
            "\n",
            "dpo_output_2_cpk_30 model result ------\n"
          ]
        },
        {
          "metadata": {
            "tags": null
          },
          "name": "stderr",
          "output_type": "stream",
          "text": [
            "Processed prompts: 100%|██████████| 1/1 [00:00<00:00,  1.87it/s, Generation Speed: 31.83 toks/s]\n"
          ]
        },
        {
          "metadata": {
            "tags": null
          },
          "name": "stdout",
          "output_type": "stream",
          "text": [
            " Artificial intelligence\n",
            "    A new era of technology\n",
            "    The future is here    \n",
            "\n",
            "dpo_output_2_cpk_40 model result ------\n"
          ]
        },
        {
          "metadata": {
            "tags": null
          },
          "name": "stderr",
          "output_type": "stream",
          "text": [
            "Processed prompts: 100%|██████████| 1/1 [00:00<00:00,  1.51it/s, Generation Speed: 34.82 toks/s]\n"
          ]
        },
        {
          "metadata": {
            "tags": null
          },
          "name": "stdout",
          "output_type": "stream",
          "text": [
            " AI, the future\n",
            "    Is it a blessing or a curse? \n",
            "    Only time will tell.    \n",
            "\n",
            "Question_2: How can I improve my public speaking skills?\n",
            "Default model result -----\n"
          ]
        },
        {
          "metadata": {
            "tags": null
          },
          "name": "stderr",
          "output_type": "stream",
          "text": [
            "Processed prompts: 100%|██████████| 1/1 [00:04<00:00,  4.14s/it, Generation Speed: 61.89 toks/s]\n"
          ]
        },
        {
          "metadata": {
            "tags": null
          },
          "name": "stdout",
          "output_type": "stream",
          "text": [
            " There are several ways you can improve your public speaking skills:\n",
            "\n",
            "    1. Practice: The more you practice, the more comfortable you will become with public speaking. Start by giving speeches to friends or family members, and gradually work your way up to larger audiences.\n",
            "\n",
            "    2. Preparation: Before giving a speech, take the time to prepare thoroughly. Research your topic, organize your thoughts, and practice your delivery. This will help you feel more confident and prepared when you take the stage.\n",
            "\n",
            "    3. Body language: Your body language can have a big impact on your audience. Stand up straight, make eye contact, and use gestures to emphasize your points. Avoid fidgeting or pacing, as this can make you appear nervous.\n",
            "\n",
            "    4. Voice: Your voice is another important aspect of public speaking. Speak clearly and at a pace that is easy for your audience to follow. Use inflection and variation to keep your audience engaged.\n",
            "\n",
            "    5. Confidence: Confidence is key when it comes to public speaking. Believe in yourself and your ability to deliver a great speech. If you appear confident, your audience will be more likely to believe in you as well.\n",
            "\n",
            "    6. Feedback: Seek feedback from others after you give a speech. This can help\n",
            "dpo_output_1_cpk_10 model result ------\n"
          ]
        },
        {
          "metadata": {
            "tags": null
          },
          "name": "stderr",
          "output_type": "stream",
          "text": [
            "Processed prompts: 100%|██████████| 1/1 [00:04<00:00,  4.67s/it, Generation Speed: 54.82 toks/s]\n"
          ]
        },
        {
          "metadata": {
            "tags": null
          },
          "name": "stdout",
          "output_type": "stream",
          "text": [
            " There are several ways you can improve your public speaking skills:\n",
            "\n",
            "    1. Practice: The more you practice, the more comfortable you will become with public speaking. Start by giving speeches to friends or family members, and gradually work your way up to larger audiences.\n",
            "\n",
            "    2. Preparation: Before giving a speech, take the time to prepare thoroughly. Research your topic, organize your thoughts, and practice your delivery. This will help you feel more confident and prepared when you take the stage.\n",
            "\n",
            "    3. Body language: Your body language can have a big impact on your audience. Stand up straight, make eye contact, and use gestures to emphasize your points. Avoid fidgeting or pacing, as this can make you appear nervous.\n",
            "\n",
            "    4. Voice: Your voice is another important aspect of public speaking. Speak clearly and at a pace that is easy for your audience to follow. Use inflection and variation to keep your speech engaging.\n",
            "\n",
            "    5. Confidence: Believe in yourself and your ability to deliver a great speech. Remember that public speaking is a skill that can be learned and improved with practice. With time and effort, you can become a confident and effective public speaker.\n",
            "\n",
            "    By following these tips, you can improve your public speaking skills and become more\n",
            "\n",
            "dpo_output_1_cpk_20 model result ------\n"
          ]
        },
        {
          "metadata": {
            "tags": null
          },
          "name": "stderr",
          "output_type": "stream",
          "text": [
            "Processed prompts: 100%|██████████| 1/1 [00:04<00:00,  4.64s/it, Generation Speed: 55.19 toks/s]\n"
          ]
        },
        {
          "metadata": {
            "tags": null
          },
          "name": "stdout",
          "output_type": "stream",
          "text": [
            " Improving public speaking skills can be a challenging but rewarding endeavor. Here are some tips that may help:\n",
            "\n",
            "1. Practice: The more you practice, the more comfortable you will become with public speaking. Start by giving speeches or presentations to small groups of people, and gradually work your way up to larger audiences.\n",
            "\n",
            "2. Prepare: Take the time to prepare your speech or presentation thoroughly. This includes researching your topic, organizing your thoughts, and practicing your delivery.\n",
            "\n",
            "3. Use visual aids: Visual aids such as PowerPoint slides or handouts can help to keep your audience engaged and make your presentation more effective.\n",
            "\n",
            "4. Be confident: Believe in yourself and your ability to deliver a great speech. Remember that everyone feels nervous before speaking in public, but with practice and preparation, you can overcome your fears.\n",
            "\n",
            "5. Connect with your audience: Make eye contact with your audience and use body language to convey your message. Try to engage with your audience and make them feel like they are part of the presentation.\n",
            "\n",
            "6. Be authentic: Speak from the heart and be yourself. Your audience will appreciate your honesty and sincerity.\n",
            "\n",
            "7. Seek feedback: Ask for feedback from friends, family, or colleagues after you give a speech or presentation. This can help you identify areas for improvement and make adjustments\n",
            "\n",
            "dpo_output_1_cpk_30 model result ------\n"
          ]
        },
        {
          "metadata": {
            "tags": null
          },
          "name": "stderr",
          "output_type": "stream",
          "text": [
            "Processed prompts: 100%|██████████| 1/1 [00:04<00:00,  4.55s/it, Generation Speed: 56.30 toks/s]\n"
          ]
        },
        {
          "metadata": {
            "tags": null
          },
          "name": "stdout",
          "output_type": "stream",
          "text": [
            " Improving public speaking skills can be a challenging but rewarding process. Here are some tips that may help:\n",
            "\n",
            "1. Practice: The more you practice, the more comfortable you will become with public speaking. Start by giving speeches to friends or family members, and gradually work your way up to larger audiences.\n",
            "\n",
            "2. Prepare: Take the time to prepare your speech thoroughly. This includes researching your topic, organizing your thoughts, and practicing your delivery.\n",
            "\n",
            "3. Use visual aids: Visual aids such as PowerPoint presentations or handouts can help to keep your audience engaged and make your speech more memorable.\n",
            "\n",
            "4. Be confident: Believe in yourself and your ability to deliver a great speech. Remember that everyone experiences nerves before speaking in public, but with practice and preparation, you can overcome them.\n",
            "\n",
            "5. Connect with your audience: Make eye contact with your audience and use body language to convey your message. Try to relate to your audience and make them feel like you are speaking directly to them.\n",
            "\n",
            "6. Be authentic: Speak from the heart and be yourself. Your audience will appreciate your honesty and sincerity.\n",
            "\n",
            "7. Seek feedback: Ask for feedback from friends, family, or colleagues after you give a speech. This can help you identify areas for improvement and make adjustments for future speeches.\n",
            "\n",
            "Remember, improving\n",
            "\n",
            "dpo_output_1_cpk_40 model result ------\n"
          ]
        },
        {
          "metadata": {
            "tags": null
          },
          "name": "stderr",
          "output_type": "stream",
          "text": [
            "Processed prompts: 100%|██████████| 1/1 [00:04<00:00,  4.56s/it, Generation Speed: 56.17 toks/s]\n"
          ]
        },
        {
          "metadata": {
            "tags": null
          },
          "name": "stdout",
          "output_type": "stream",
          "text": [
            " Improving public speaking skills can be a challenging but rewarding endeavor. Here are some tips that may help:\n",
            "\n",
            "     1. Practice: The more you practice, the more comfortable you will become with public speaking. Start by giving speeches to friends or family members, and gradually work your way up to larger audiences.\n",
            "\n",
            "     2. Prepare: Take the time to prepare your speech thoroughly. This includes researching your topic, organizing your thoughts, and practicing your delivery.\n",
            "\n",
            "     3. Use visual aids: Visual aids such as PowerPoint presentations or handouts can help keep your audience engaged and make your speech more memorable.\n",
            "\n",
            "     4. Be confident: Believe in yourself and your ability to deliver a great speech. Remember that everyone experiences nerves before speaking in public, but with practice and preparation, you can overcome them.\n",
            "\n",
            "     5. Connect with your audience: Make eye contact, use body language, and engage with your audience to create a connection and make your speech more effective.\n",
            "\n",
            "     6. Be authentic: Speak from the heart and be yourself. Your audience will appreciate your honesty and sincerity.\n",
            "\n",
            "     7. Seek feedback: Ask for feedback from friends, family, or colleagues after each speech. This can help you identify areas for improvement and make adjustments to your delivery.\n",
            "\n",
            "    \n",
            "\n",
            "dpo_output_2_cpk_10 model result ------\n"
          ]
        },
        {
          "metadata": {
            "tags": null
          },
          "name": "stderr",
          "output_type": "stream",
          "text": [
            "Processed prompts: 100%|██████████| 1/1 [00:04<00:00,  4.59s/it, Generation Speed: 55.73 toks/s]\n"
          ]
        },
        {
          "metadata": {
            "tags": null
          },
          "name": "stdout",
          "output_type": "stream",
          "text": [
            " Improving your public speaking skills can be a challenging but rewarding process. Here are some tips that may help you:\n",
            "\n",
            "1. Practice: The more you practice, the more comfortable you will become with public speaking. Start by giving speeches to friends or family members, and gradually work your way up to larger audiences.\n",
            "\n",
            "2. Prepare: Take the time to prepare your speech thoroughly. This includes researching your topic, organizing your thoughts, and practicing your delivery.\n",
            "\n",
            "3. Use visual aids: Visual aids such as PowerPoint presentations or handouts can help keep your audience engaged and make your speech more memorable.\n",
            "\n",
            "4. Be confident: Believe in yourself and your ability to deliver a great speech. Remember that everyone experiences nerves before speaking in public, but with practice and preparation, you can overcome them.\n",
            "\n",
            "5. Connect with your audience: Make eye contact with your audience and use body language to convey your message. Try to relate to your audience and make them feel like you are speaking directly to them.\n",
            "\n",
            "6. Be authentic: Be yourself when you speak. Your audience will appreciate your honesty and sincerity.\n",
            "\n",
            "7. Seek feedback: Ask for feedback from friends, family, or colleagues after you give a speech. This can help you identify areas for improvement and make adjustments for future speeches.\n",
            "\n",
            "Remember, improving your\n",
            "\n",
            "dpo_output_2_cpk_20 model result ------\n"
          ]
        },
        {
          "metadata": {
            "tags": null
          },
          "name": "stderr",
          "output_type": "stream",
          "text": [
            "Processed prompts: 100%|██████████| 1/1 [00:04<00:00,  4.62s/it, Generation Speed: 55.44 toks/s]\n"
          ]
        },
        {
          "metadata": {
            "tags": null
          },
          "name": "stdout",
          "output_type": "stream",
          "text": [
            " There are several ways you can improve your public speaking skills:\n",
            "\n",
            "    1. Practice: The more you practice, the more comfortable you will become with public speaking. Start by giving speeches to friends and family, and gradually work your way up to larger audiences.\n",
            "\n",
            "    2. Preparation: Before giving a speech, take the time to prepare thoroughly. This includes researching your topic, organizing your thoughts, and practicing your delivery.\n",
            "\n",
            "    3. Body language: Your body language can have a big impact on your audience. Make sure you stand up straight, make eye contact, and use gestures to emphasize your points.\n",
            "\n",
            "    4. Voice: Your voice is another important aspect of public speaking. Speak clearly and at a pace that is easy for your audience to follow. Avoid speaking too quickly or too slowly.\n",
            "\n",
            "    5. Confidence: Confidence is key when it comes to public speaking. Believe in yourself and your ability to deliver a great speech. If you are confident, your audience will be more likely to be engaged and receptive to your message.\n",
            "\n",
            "    6. Feedback: Seek feedback from others after you give a speech. This can help you identify areas for improvement and give you a better understanding of how your audience received your message.\n",
            "\n",
            "    By following these tips, you can\n",
            "\n",
            "dpo_output_2_cpk_30 model result ------\n"
          ]
        },
        {
          "metadata": {
            "tags": null
          },
          "name": "stderr",
          "output_type": "stream",
          "text": [
            "Processed prompts: 100%|██████████| 1/1 [00:04<00:00,  4.58s/it, Generation Speed: 55.87 toks/s]\n"
          ]
        },
        {
          "metadata": {
            "tags": null
          },
          "name": "stdout",
          "output_type": "stream",
          "text": [
            " There are several ways to improve your public speaking skills. Here are some tips:\n",
            "\n",
            "     1. Practice: The more you practice, the more comfortable you will become with public speaking. Start by giving speeches to friends and family, and gradually work your way up to larger audiences.\n",
            "\n",
            "     2. Prepare: Take the time to prepare your speech thoroughly. Know your topic inside and out, and practice delivering your speech several times before the actual event.\n",
            "\n",
            "     3. Use visual aids: Visual aids such as PowerPoint presentations or handouts can help keep your audience engaged and make your speech more memorable.\n",
            "\n",
            "     4. Be confident: Believe in yourself and your ability to deliver a great speech. If you appear confident, your audience will be more likely to believe in you too.\n",
            "\n",
            "     5. Connect with your audience: Make eye contact with your audience and use body language to convey your message. Try to connect with your audience on an emotional level.\n",
            "\n",
            "     6. Be authentic: Speak from the heart and be yourself. Your audience will appreciate your honesty and sincerity.\n",
            "\n",
            "     7. Practice breathing exercises: Deep breathing can help you stay calm and focused during your speech.\n",
            "\n",
            "     8. Use humor: A little humor can help break the ice and make your audience more\n",
            "\n",
            "dpo_output_2_cpk_40 model result ------\n"
          ]
        },
        {
          "metadata": {
            "tags": null
          },
          "name": "stderr",
          "output_type": "stream",
          "text": [
            "Processed prompts: 100%|██████████| 1/1 [00:00<00:00,  1.29it/s, Generation Speed: 38.73 toks/s]\n"
          ]
        },
        {
          "metadata": {
            "tags": null
          },
          "name": "stdout",
          "output_type": "stream",
          "text": [
            " I can improve my public speaking skills by practicing in front of a mirror, joining a public speaking club, and reading books on public speaking.    \n",
            "\n",
            "Question_3: AI 분야에서 사용하는 LLM이라는 용어가 뭔지 설명해줘\n",
            "Default model result -----\n"
          ]
        },
        {
          "metadata": {
            "tags": null
          },
          "name": "stderr",
          "output_type": "stream",
          "text": [
            "Processed prompts: 100%|██████████| 1/1 [00:02<00:00,  2.73s/it, Generation Speed: 60.81 toks/s]\n"
          ]
        },
        {
          "metadata": {
            "tags": null
          },
          "name": "stdout",
          "output_type": "stream",
          "text": [
            " LLM, Large Language Model,는 인공지능(AI) 분야에서 사용되는 모델의 하나로, 자연어 처리(NLP) 분야에서 널리 사용되고 있습니다. LLM은 대규모의 텍스트 데이터를 학습하여 언어의 구조와 의미를 이해하고, 텍스트를 생성하거나 이해하는 능력을 갖추도록 설계된 모델입니다. LLM은 다양한 분야에서 활용되며, 예를 들어, 번역, 요약, 질문과 답변, 챗봇 등 다양한 자연어 처리 작업에 사용됩니다. LLM은 인공지능의 발전을 이끌고 있으며, 향후 더욱 발전된 모델이 개발되면서 인공지능의 적용 범위가 더욱 확장될 것으로 예상됩니다.    \n",
            "dpo_output_1_cpk_10 model result ------\n"
          ]
        },
        {
          "metadata": {
            "tags": null
          },
          "name": "stderr",
          "output_type": "stream",
          "text": [
            "Processed prompts: 100%|██████████| 1/1 [00:02<00:00,  2.92s/it, Generation Speed: 53.80 toks/s]\n"
          ]
        },
        {
          "metadata": {
            "tags": null
          },
          "name": "stdout",
          "output_type": "stream",
          "text": [
            " LLM, Large Language Model,는 인공지능(AI) 분야에서 사용되는 모델의 하나로, 대규모 언어 데이터를 학습하여 다양한 언어 처리 작업을 수행할 수 있는 모델입니다. LLM은 자연어 처리(NLP) 분야에서 널리 사용되며, 텍스트 생성, 번역, 질문 답변, 의도 인식, 자연어 이해 등 다양한 작업을 수행할 수 있습니다. LLM은 대규모 언어 데이터를 학습하기 때문에, 다양한 문맥과 상황에 적합한 답변을 생성하거나, 자연스러운 문장을 생성할 수 있습니다. LLM은 인공지능(AI) 분야에서 중요한 역할을 수행하고 있으며, 다양한 분야에서 활용되고 있습니다.    \n",
            "\n",
            "dpo_output_1_cpk_20 model result ------\n"
          ]
        },
        {
          "metadata": {
            "tags": null
          },
          "name": "stderr",
          "output_type": "stream",
          "text": [
            "Processed prompts: 100%|██████████| 1/1 [00:02<00:00,  2.72s/it, Generation Speed: 53.66 toks/s]\n"
          ]
        },
        {
          "metadata": {
            "tags": null
          },
          "name": "stdout",
          "output_type": "stream",
          "text": [
            " LLM, Large Language Model,는 인공지능(AI) 분야에서 사용되는 모델의 하나로, 자연어 처리(NLP) 분야에서 널리 사용되고 있습니다. LLM은 대규모의 텍스트 데이터를 학습하여 언어의 구조와 의미를 이해하고, 자연어를 이해하고 생성하는 능력을 갖추도록 설계된 모델입니다. LLM은 다양한 분야에서 사용되며, 예를 들어, 번역, 질문과 답변, 문서 생성, 챗봇 등에 사용될 수 있습니다. LLM은 인공지능의 발전을 이끌고 있으며, 향후 다양한 분야에서 사용될 것으로 기대되고 있습니다.    \n",
            "\n",
            "dpo_output_1_cpk_30 model result ------\n"
          ]
        },
        {
          "metadata": {
            "tags": null
          },
          "name": "stderr",
          "output_type": "stream",
          "text": [
            "Processed prompts: 100%|██████████| 1/1 [00:03<00:00,  3.12s/it, Generation Speed: 54.54 toks/s]\n"
          ]
        },
        {
          "metadata": {
            "tags": null
          },
          "name": "stdout",
          "output_type": "stream",
          "text": [
            " LLM, Large Language Model,는 인공지능(AI) 분야에서 사용되는 모델의 하나로, 자연어 처리(NLP) 분야에서 널리 사용되고 있습니다. LLM은 대규모의 텍스트 데이터를 학습하여 언어의 구조와 의미를 이해하고, 텍스트를 생성하거나 이해하는 능력을 갖추도록 설계된 모델입니다. LLM은 다양한 분야에서 사용되며, 예를 들어, 챗봇, 번역, 요약, 생성, 질의응답(QA), 자연어 이해(NLU), 자연어 생성(NLG) 등에 사용됩니다. LLM은 인공지능의 발전을 이끌고 있으며, 다양한 분야에서 인간과 같은 언어적 능력을 갖추도록 도와주고 있습니다.    \n",
            "\n",
            "dpo_output_1_cpk_40 model result ------\n"
          ]
        },
        {
          "metadata": {
            "tags": null
          },
          "name": "stderr",
          "output_type": "stream",
          "text": [
            "Processed prompts: 100%|██████████| 1/1 [00:03<00:00,  3.39s/it, Generation Speed: 54.96 toks/s]\n"
          ]
        },
        {
          "metadata": {
            "tags": null
          },
          "name": "stdout",
          "output_type": "stream",
          "text": [
            " LLM, Large Language Model,는 인공지능(AI) 분야에서 사용되는 모델의 하나로, 대규모의 텍스트 데이터를 학습하여 언어를 이해하고 생성하는 능력을 갖춘 모델입니다. LLM은 자연어 처리(NLP) 분야에서 널리 사용되며, 다양한 응용 분야에서 활용되고 있습니다. LLM은 텍스트를 이해하고, 문맥을 파악하며, 문장이나 문단을 생성하는 능력을 갖추고 있습니다. 이를 통해 LLM은 다양한 분야에서 사용되며, 예를 들어, 번역, 질문과 답변, 문서 생성, 대화bot 등 다양한 분야에서 활용되고 있습니다. LLM은 인공지능(AI) 분야에서 중요한 모델의 하나로, 향후 더욱 발전하여 다양한 분야에서 더 많은 혜택을 제공할 것으로 기대되고 있습니다.    \n",
            "\n",
            "dpo_output_2_cpk_10 model result ------\n"
          ]
        },
        {
          "metadata": {
            "tags": null
          },
          "name": "stderr",
          "output_type": "stream",
          "text": [
            "Processed prompts: 100%|██████████| 1/1 [00:03<00:00,  3.03s/it, Generation Speed: 54.49 toks/s]\n"
          ]
        },
        {
          "metadata": {
            "tags": null
          },
          "name": "stdout",
          "output_type": "stream",
          "text": [
            " LLM, Large Language Model,는 인공지능(AI) 분야에서 사용되는 모델의 하나로, 자연어 처리(NLP) 분야에서 널리 사용되고 있습니다. LLM은 대규모의 텍스트 데이터를 학습하여 언어의 구조와 의미를 이해하고, 텍스트를 생성하거나 이해하는 능력을 갖추도록 설계된 모델입니다. LLM은 다양한 분야에서 사용되며, 예를 들어, 챗봇, 번역, 요약, 생성, 질의응답(QA), 자연어 이해(NLU), 자연어 생성(NLG) 등에 사용됩니다. LLM은 인공지능(AI) 분야에서 중요한 역할을 하고 있으며, 향후 더욱 발전할 것으로 기대되고 있습니다.    \n",
            "\n",
            "dpo_output_2_cpk_20 model result ------\n"
          ]
        },
        {
          "metadata": {
            "tags": null
          },
          "name": "stderr",
          "output_type": "stream",
          "text": [
            "Processed prompts: 100%|██████████| 1/1 [00:04<00:00,  4.26s/it, Generation Speed: 55.83 toks/s]\n"
          ]
        },
        {
          "metadata": {
            "tags": null
          },
          "name": "stdout",
          "output_type": "stream",
          "text": [
            " LLM, Large Language Model,는 인공지능(AI) 분야에서 사용되는 모델의 하나로, 대규모의 텍스트 데이터를 학습하여 언어를 이해하고 생성하는 능력을 갖춘 모델입니다. LLM은 자연어 처리(NLP) 분야에서 널리 사용되며, 다양한 응용 분야에서 활용되고 있습니다. LLM은 텍스트를 이해하고, 문맥을 파악하며, 문장이나 문단을 생성하는 능력을 갖추고 있습니다. LLM은 텍스트를 입력으로 받아, 그에 대한 의미를 이해하고, 문맥을 파악하여, 새로운 문장을 생성하거나, 이미 존재하는 텍스트를 수정하거나, 새로운 의미를 부여하는 등의 작업을 수행할 수 있습니다. LLM은 다양한 분야에서 활용되며, 예를 들어, 번역, 요약, 질문과 답변, 챗봇, 자연어 생성, 문서 생성 등에 사용됩니다. LLM은 인공지능(AI) 분야에서 중요한 모델의 하나로, 향후 다양한 응용 분야에서 활용될 것으로 기대됩니다.    \n",
            "\n",
            "dpo_output_2_cpk_30 model result ------\n"
          ]
        },
        {
          "metadata": {
            "tags": null
          },
          "name": "stderr",
          "output_type": "stream",
          "text": [
            "Processed prompts: 100%|██████████| 1/1 [00:02<00:00,  2.66s/it, Generation Speed: 53.88 toks/s]\n"
          ]
        },
        {
          "metadata": {
            "tags": null
          },
          "name": "stdout",
          "output_type": "stream",
          "text": [
            "LLM은 Large Language Model의 약자로, 자연어 처리(NLP) 분야에서 사용되는 인공지능 모델의 일종입니다. LLM은 대규모의 텍스트 데이터를 학습하여 자연어를 이해하고, 문맥을 파악하며, 문장이나 문단을 생성하는 능력을 갖추고 있습니다. LLM은 다양한 분야에서 사용되며, 예를 들어, 번역, 요약, 질문과 답변, 챗봇, 문서 생성 등에 활용됩니다. LLM은 인공지능의 발전을 이끌고 있으며, 향후 더욱 발전된 모델이 개발될 것으로 기대되고 있습니다.    \n",
            "\n",
            "dpo_output_2_cpk_40 model result ------\n"
          ]
        },
        {
          "metadata": {
            "tags": null
          },
          "name": "stderr",
          "output_type": "stream",
          "text": [
            "Processed prompts: 100%|██████████| 1/1 [00:02<00:00,  2.40s/it, Generation Speed: 53.69 toks/s]\n"
          ]
        },
        {
          "metadata": {
            "tags": null
          },
          "name": "stdout",
          "output_type": "stream",
          "text": [
            "LLM은 Large Language Model의 약자로, 대규모 언어 모델을 의미한다. LLM은 텍스트를 입력으로 받아 텍스트를 생성하거나, 텍스트를 이해하고 해석하는 등의 작업을 수행할 수 있는 인공지능 모델이다. LLM은 자연어 처리(NLP) 분야에서 사용되는 모델 중 하나로, 대규모 텍스트 데이터를 학습하여 언어의 구조와 의미를 이해하고, 이를 바탕으로 새로운 텍스트를 생성하거나, 텍스트를 이해하고 해석하는 등의 작업을 수행할 수 있다.\n",
            "\n",
            "Question_4: What is a famous tall tower in Paris?\n",
            "Default model result -----\n"
          ]
        },
        {
          "metadata": {
            "tags": null
          },
          "name": "stderr",
          "output_type": "stream",
          "text": [
            "Processed prompts: 100%|██████████| 1/1 [00:01<00:00,  1.93s/it, Generation Speed: 62.15 toks/s]\n"
          ]
        },
        {
          "metadata": {
            "tags": null
          },
          "name": "stdout",
          "output_type": "stream",
          "text": [
            " The Eiffel Tower is a famous tall tower in Paris, France. It was built in 1889 for the World's Fair and stands at a height of 324 meters (1,063 feet). It is the tallest structure in Paris and one of the most recognizable landmarks in the world. The tower is made of wrought iron and has three levels, each with its own observation deck. Visitors can take an elevator or climb the stairs to the top for panoramic views of the city. The Eiffel Tower is a popular tourist destination and is visited by millions of people each year.    \n",
            "dpo_output_1_cpk_10 model result ------\n"
          ]
        },
        {
          "metadata": {
            "tags": null
          },
          "name": "stderr",
          "output_type": "stream",
          "text": [
            "Processed prompts: 100%|██████████| 1/1 [00:02<00:00,  2.25s/it, Generation Speed: 53.33 toks/s]\n"
          ]
        },
        {
          "metadata": {
            "tags": null
          },
          "name": "stdout",
          "output_type": "stream",
          "text": [
            " The Eiffel Tower is a famous tall tower in Paris, France. It was built in 1889 for the World's Fair and stands at a height of 324 meters (1,063 feet). It is the tallest structure in Paris and one of the most recognizable landmarks in the world. The Eiffel Tower is made of iron and has three levels, each with its own observation deck. Visitors can take an elevator or climb the stairs to the top for panoramic views of the city. The tower is also a popular spot for romantic proposals, weddings, and other special occasions.    \n",
            "\n",
            "dpo_output_1_cpk_20 model result ------\n"
          ]
        },
        {
          "metadata": {
            "tags": null
          },
          "name": "stderr",
          "output_type": "stream",
          "text": [
            "Processed prompts: 100%|██████████| 1/1 [00:02<00:00,  2.63s/it, Generation Speed: 53.99 toks/s]\n"
          ]
        },
        {
          "metadata": {
            "tags": null
          },
          "name": "stdout",
          "output_type": "stream",
          "text": [
            " The Eiffel Tower is a famous tall tower in Paris, France. It was built in 1889 for the World's Fair and stands at a height of 324 meters (1,063 feet). It is the tallest structure in Paris and one of the most recognizable landmarks in the world. The Eiffel Tower is made of wrought iron and has three levels, each with its own observation deck. Visitors can take an elevator or climb the stairs to the top for panoramic views of the city. The tower is also a popular spot for dining, with several restaurants located on the different levels. The Eiffel Tower is a symbol of Paris and is visited by millions of people every year.    \n",
            "\n",
            "dpo_output_1_cpk_30 model result ------\n"
          ]
        },
        {
          "metadata": {
            "tags": null
          },
          "name": "stderr",
          "output_type": "stream",
          "text": [
            "Processed prompts: 100%|██████████| 1/1 [00:02<00:00,  2.38s/it, Generation Speed: 52.23 toks/s]\n"
          ]
        },
        {
          "metadata": {
            "tags": null
          },
          "name": "stdout",
          "output_type": "stream",
          "text": [
            " The Eiffel Tower is a famous tall tower in Paris, France. It was built in 1889 for the World's Fair and stands at a height of 324 meters (1,063 feet). It is the tallest structure in Paris and one of the most recognizable landmarks in the world. The tower is made of wrought iron and has three levels, each with a different view of the city. Visitors can take an elevator to the top of the tower for panoramic views of Paris and the surrounding area. The Eiffel Tower is a popular tourist destination and is visited by millions of people each year.    \n",
            "\n",
            "dpo_output_1_cpk_40 model result ------\n"
          ]
        },
        {
          "metadata": {
            "tags": null
          },
          "name": "stderr",
          "output_type": "stream",
          "text": [
            "Processed prompts: 100%|██████████| 1/1 [00:01<00:00,  1.62s/it, Generation Speed: 51.14 toks/s]\n"
          ]
        },
        {
          "metadata": {
            "tags": null
          },
          "name": "stdout",
          "output_type": "stream",
          "text": [
            " The Eiffel Tower is a famous tall tower in Paris, France. It was built in 1889 for the World's Fair and stands at a height of 324 meters (1,063 feet). The tower is made of wrought iron and has three levels, with an observation deck on each level. It is one of the most recognizable landmarks in the world and attracts millions of visitors each year.    \n",
            "\n",
            "dpo_output_2_cpk_10 model result ------\n"
          ]
        },
        {
          "metadata": {
            "tags": null
          },
          "name": "stderr",
          "output_type": "stream",
          "text": [
            "Processed prompts: 100%|██████████| 1/1 [00:02<00:00,  2.26s/it, Generation Speed: 53.14 toks/s]\n"
          ]
        },
        {
          "metadata": {
            "tags": null
          },
          "name": "stdout",
          "output_type": "stream",
          "text": [
            " The Eiffel Tower is a famous tall tower in Paris, France. It was built in 1889 for the World's Fair and stands at a height of 324 meters (1,063 feet). It is the tallest structure in Paris and one of the most recognizable landmarks in the world. The tower is made of wrought iron and has three levels, each with its own observation deck. Visitors can take an elevator or climb the stairs to the top for panoramic views of the city. The Eiffel Tower is a popular tourist destination and is visited by millions of people each year.    \n",
            "\n",
            "dpo_output_2_cpk_20 model result ------\n"
          ]
        },
        {
          "metadata": {
            "tags": null
          },
          "name": "stderr",
          "output_type": "stream",
          "text": [
            "Processed prompts: 100%|██████████| 1/1 [00:01<00:00,  1.17s/it, Generation Speed: 47.21 toks/s]\n"
          ]
        },
        {
          "metadata": {
            "tags": null
          },
          "name": "stdout",
          "output_type": "stream",
          "text": [
            " The Eiffel Tower is a famous tall tower in Paris. It is 324 meters tall and was built in 1889 for the World's Fair. It is one of the most recognizable landmarks in the world and is visited by millions of people every year.    \n",
            "\n",
            "dpo_output_2_cpk_30 model result ------\n"
          ]
        },
        {
          "metadata": {
            "tags": null
          },
          "name": "stderr",
          "output_type": "stream",
          "text": [
            "Processed prompts: 100%|██████████| 1/1 [00:00<00:00,  2.05it/s, Generation Speed: 28.78 toks/s]\n"
          ]
        },
        {
          "metadata": {
            "tags": null
          },
          "name": "stdout",
          "output_type": "stream",
          "text": [
            " The Eiffel Tower is a famous tall tower in Paris.\n",
            "\n",
            "dpo_output_2_cpk_40 model result ------\n"
          ]
        },
        {
          "metadata": {
            "tags": null
          },
          "name": "stderr",
          "output_type": "stream",
          "text": [
            "Processed prompts: 100%|██████████| 1/1 [00:00<00:00,  2.61it/s, Generation Speed: 20.94 toks/s]\n"
          ]
        },
        {
          "metadata": {
            "tags": null
          },
          "name": "stdout",
          "output_type": "stream",
          "text": [
            " The Eiffel Tower.    \n",
            "\n",
            "Question_5: What is Fine-Tuning?\n",
            "Default model result -----\n"
          ]
        },
        {
          "metadata": {
            "tags": null
          },
          "name": "stderr",
          "output_type": "stream",
          "text": [
            "Processed prompts: 100%|██████████| 1/1 [00:04<00:00,  4.12s/it, Generation Speed: 62.23 toks/s]\n"
          ]
        },
        {
          "metadata": {
            "tags": null
          },
          "name": "stdout",
          "output_type": "stream",
          "text": [
            " Fine-tuning is a machine learning technique that involves retraining a pre-trained model on a specific task or dataset. The goal of fine-tuning is to improve the performance of the model on the new task or dataset by adjusting the model's parameters to better fit the new data.\n",
            "\n",
            "     Fine-tuning is often used when a model has already been trained on a large dataset and has achieved good performance on that dataset. However, when the model is applied to a new dataset, it may not perform as well. In this case, fine-tuning can be used to adjust the model's parameters to better fit the new data.\n",
            "\n",
            "     The process of fine-tuning typically involves taking the pre-trained model and retraining it on the new dataset. This can be done by continuing to train the model on the new data, or by freezing the model's parameters and only training the new layers on the new data. The goal is to adjust the model's parameters to better fit the new data, while still retaining the knowledge and features learned from the original training.\n",
            "\n",
            "     Fine-tuning can be used in a variety of machine learning tasks, including image classification, natural language processing, and speech recognition. It is a powerful technique for improving the performance of pre-trained models on specific tasks, and is\n",
            "dpo_output_1_cpk_10 model result ------\n"
          ]
        },
        {
          "metadata": {
            "tags": null
          },
          "name": "stderr",
          "output_type": "stream",
          "text": [
            "Processed prompts: 100%|██████████| 1/1 [00:04<00:00,  4.60s/it, Generation Speed: 55.68 toks/s]\n"
          ]
        },
        {
          "metadata": {
            "tags": null
          },
          "name": "stdout",
          "output_type": "stream",
          "text": [
            " Fine-tuning is a machine learning technique that involves retraining a pre-trained model on a specific task or dataset. The goal of fine-tuning is to improve the performance of the model on the new task or dataset by adjusting the model's parameters to better fit the new data.\n",
            "\n",
            "     Fine-tuning is often used when a model has already been trained on a large dataset, but the new dataset is smaller or has different characteristics. In this case, fine-tuning can help the model adapt to the new data without having to start from scratch.\n",
            "\n",
            "     The process of fine-tuning typically involves loading the pre-trained model, freezing the weights of certain layers, and then training the remaining layers on the new dataset. This allows the model to retain the knowledge it has learned from the original training, while also adapting to the new data.\n",
            "\n",
            "     Fine-tuning can be used for a variety of tasks, including image classification, natural language processing, and speech recognition. It is a powerful tool for improving the performance of pre-trained models on specific tasks, and is often used in practical applications such as medical image analysis, sentiment analysis, and language translation.\n",
            "\n",
            "     In summary, fine-tuning is a machine learning technique that involves retraining a pre-trained model on a specific task or dataset, in\n",
            "\n",
            "dpo_output_1_cpk_20 model result ------\n"
          ]
        },
        {
          "metadata": {
            "tags": null
          },
          "name": "stderr",
          "output_type": "stream",
          "text": [
            "Processed prompts: 100%|██████████| 1/1 [00:04<00:00,  4.03s/it, Generation Speed: 54.86 toks/s]\n"
          ]
        },
        {
          "metadata": {
            "tags": null
          },
          "name": "stdout",
          "output_type": "stream",
          "text": [
            " Fine-tuning is a machine learning technique that involves training a model on a specific task or dataset, using a pre-trained model as a starting point. The goal of fine-tuning is to improve the performance of the model on the target task by adjusting the model's parameters to better fit the new data.\n",
            "\n",
            "     Fine-tuning is often used when the target task is similar to the task the pre-trained model was trained on, but the data is different. For example, if a model was trained on a large dataset of images of cats and dogs, it could be fine-tuned on a smaller dataset of images of specific breeds of dogs, to improve its ability to recognize those breeds.\n",
            "\n",
            "     Fine-tuning involves training the model on the new data, while keeping the pre-trained model's parameters frozen. This allows the model to learn new features specific to the target task, while retaining the knowledge it has already learned.\n",
            "\n",
            "     Fine-tuning is a powerful technique for improving the performance of machine learning models, and is widely used in many applications, including natural language processing, computer vision, and speech recognition.\n",
            "\n",
            "dpo_output_1_cpk_30 model result ------\n"
          ]
        },
        {
          "metadata": {
            "tags": null
          },
          "name": "stderr",
          "output_type": "stream",
          "text": [
            "Processed prompts: 100%|██████████| 1/1 [00:04<00:00,  4.58s/it, Generation Speed: 55.85 toks/s]\n"
          ]
        },
        {
          "metadata": {
            "tags": null
          },
          "name": "stdout",
          "output_type": "stream",
          "text": [
            " Fine-tuning is a machine learning technique that involves training a model on a specific task or dataset, using a pre-trained model as a starting point. The goal of fine-tuning is to improve the performance of the model on the target task by adjusting the model's parameters to better fit the new data.\n",
            "\n",
            "     Fine-tuning is often used when the target task is similar to the task that the pre-trained model was originally trained on, but with some differences in the data or the specific requirements of the task. For example, a pre-trained model for image classification may be fine-tuned for a specific domain, such as medical images, or for a specific task, such as object detection.\n",
            "\n",
            "     The process of fine-tuning typically involves loading the pre-trained model and its weights, and then training the model on the new data. The model's parameters are adjusted during training to better fit the new data, while the pre-trained weights are used as a starting point to speed up the training process.\n",
            "\n",
            "     Fine-tuning can be a powerful tool for improving the performance of machine learning models, as it allows for the use of pre-trained models that have already been trained on large datasets, and then adapting them to the specific requirements of the target task. However, it is important to note\n",
            "\n",
            "dpo_output_1_cpk_40 model result ------\n"
          ]
        },
        {
          "metadata": {
            "tags": null
          },
          "name": "stderr",
          "output_type": "stream",
          "text": [
            "Processed prompts: 100%|██████████| 1/1 [00:04<00:00,  4.62s/it, Generation Speed: 55.48 toks/s]\n"
          ]
        },
        {
          "metadata": {
            "tags": null
          },
          "name": "stdout",
          "output_type": "stream",
          "text": [
            " Fine-tuning is a machine learning technique that involves training a model on a specific task or dataset, using a pre-trained model as a starting point. The goal of fine-tuning is to improve the performance of the model on the target task by adjusting the model's parameters to better fit the new data.\n",
            "\n",
            "     Fine-tuning is often used when the target task is similar to the task that the pre-trained model was originally trained on, but with a different dataset or domain. For example, a pre-trained model for image classification could be fine-tuned for object detection on a new dataset of images.\n",
            "\n",
            "     The process of fine-tuning typically involves first loading the pre-trained model and its weights, and then training the model on the new dataset. The model's parameters are adjusted during training to minimize the loss function, which measures how well the model is performing on the new data.\n",
            "\n",
            "     Fine-tuning can be a powerful tool for improving the performance of a model on a specific task, as it allows the model to leverage the knowledge and features learned from the pre-trained model, while also adapting to the new data. However, it is important to note that fine-tuning is not always necessary or beneficial, and it may not always lead to improved performance. The decision to fine-t\n",
            "\n",
            "dpo_output_2_cpk_10 model result ------\n"
          ]
        },
        {
          "metadata": {
            "tags": null
          },
          "name": "stderr",
          "output_type": "stream",
          "text": [
            "Processed prompts: 100%|██████████| 1/1 [00:04<00:00,  4.61s/it, Generation Speed: 55.59 toks/s]\n"
          ]
        },
        {
          "metadata": {
            "tags": null
          },
          "name": "stdout",
          "output_type": "stream",
          "text": [
            " Fine-tuning is a machine learning technique that involves training a model on a specific task or dataset, using a pre-trained model as a starting point. This approach can help to improve the performance of the model on the target task by leveraging the knowledge and features learned by the pre-trained model on a related task or dataset.\n",
            "\n",
            "     The process of fine-tuning typically involves taking a pre-trained model and retraining it on a smaller dataset that is more relevant to the target task. This can be done by adding new layers to the model, or by fine-tuning the existing layers to better fit the new data. The goal is to transfer the knowledge learned by the pre-trained model to the new task, while also adapting the model to the specific requirements of the target task.\n",
            "\n",
            "     Fine-tuning can be used in a variety of machine learning applications, including natural language processing, computer vision, and speech recognition. It is particularly useful when the target task is similar to the task that the pre-trained model was trained on, as this can help to improve the performance of the model on the new task without requiring a complete retraining from scratch.\n",
            "\n",
            "     Overall, fine-tuning is a powerful technique that can help to improve the performance of machine learning models on specific tasks, by leveraging the knowledge\n",
            "\n",
            "dpo_output_2_cpk_20 model result ------\n"
          ]
        },
        {
          "metadata": {
            "tags": null
          },
          "name": "stderr",
          "output_type": "stream",
          "text": [
            "Processed prompts: 100%|██████████| 1/1 [00:04<00:00,  4.60s/it, Generation Speed: 55.65 toks/s]\n"
          ]
        },
        {
          "metadata": {
            "tags": null
          },
          "name": "stdout",
          "output_type": "stream",
          "text": [
            " Fine-tuning is a machine learning technique that involves training a model on a specific task by adjusting the weights of its pre-trained layers. This is done by using a smaller dataset that is relevant to the task at hand, and then training the model on this dataset. The goal of fine-tuning is to improve the performance of the model on the specific task, while retaining the knowledge and features learned from the pre-trained model.\n",
            "\n",
            "     Fine-tuning is often used in natural language processing (NLP) tasks such as text classification, sentiment analysis, and question answering. In these tasks, a pre-trained language model such as BERT or GPT-2 is first trained on a large corpus of text data, and then fine-tuned on a smaller dataset that is specific to the task at hand. This allows the model to learn the task-specific features and improve its performance on the task.\n",
            "\n",
            "     Fine-tuning is also used in computer vision tasks such as image classification and object detection. In these tasks, a pre-trained model such as ResNet or VGG is first trained on a large dataset of images, and then fine-tuned on a smaller dataset that is specific to the task at hand. This allows the model to learn the task-specific features and improve its performance on the\n",
            "\n",
            "dpo_output_2_cpk_30 model result ------\n"
          ]
        },
        {
          "metadata": {
            "tags": null
          },
          "name": "stderr",
          "output_type": "stream",
          "text": [
            "Processed prompts: 100%|██████████| 1/1 [00:03<00:00,  3.29s/it, Generation Speed: 54.36 toks/s]\n"
          ]
        },
        {
          "metadata": {
            "tags": null
          },
          "name": "stdout",
          "output_type": "stream",
          "text": [
            " Fine-tuning is a machine learning technique that involves training a model on a specific task by adjusting the weights of an existing model that has already been trained on a related task. This technique is often used in natural language processing (NLP) and computer vision applications, where the goal is to improve the performance of a model on a particular task by fine-tuning it on a smaller dataset that is specific to that task. The existing model is used as a starting point, and the weights are adjusted using a smaller dataset that is more relevant to the task at hand. This allows the model to learn the specific nuances of the task, while still retaining the general knowledge it has learned from the original training data. Fine-tuning is often used when the amount of data available for training is limited, or when the task is highly specialized and requires a model that is tailored to that specific task.    \n",
            "\n",
            "dpo_output_2_cpk_40 model result ------\n"
          ]
        },
        {
          "metadata": {
            "tags": null
          },
          "name": "stderr",
          "output_type": "stream",
          "text": [
            "Processed prompts: 100%|██████████| 1/1 [00:01<00:00,  1.00s/it, Generation Speed: 43.96 toks/s]\n"
          ]
        },
        {
          "metadata": {
            "tags": null
          },
          "name": "stdout",
          "output_type": "stream",
          "text": [
            " Fine-tuning is a machine learning technique that involves training a model on a new dataset while keeping the weights of the model fixed. This technique is used to improve the performance of a model on a specific task.    \n",
            "\n",
            "Question_6: 15와 25의 최소공배수를 구하시오.\n",
            "Default model result -----\n"
          ]
        },
        {
          "metadata": {
            "tags": null
          },
          "name": "stderr",
          "output_type": "stream",
          "text": [
            "Processed prompts: 100%|██████████| 1/1 [00:00<00:00,  3.37it/s, Generation Speed: 57.58 toks/s]\n"
          ]
        },
        {
          "metadata": {
            "tags": null
          },
          "name": "stdout",
          "output_type": "stream",
          "text": [
            " 15와 25의 최소공배수는 75입니다.\n",
            "dpo_output_1_cpk_10 model result ------\n"
          ]
        },
        {
          "metadata": {
            "tags": null
          },
          "name": "stderr",
          "output_type": "stream",
          "text": [
            "Processed prompts: 100%|██████████| 1/1 [00:00<00:00,  1.91it/s, Generation Speed: 32.52 toks/s]\n"
          ]
        },
        {
          "metadata": {
            "tags": null
          },
          "name": "stdout",
          "output_type": "stream",
          "text": [
            " 15와 25의 최소공배수는 75입니다.\n",
            "\n",
            "dpo_output_1_cpk_20 model result ------\n"
          ]
        },
        {
          "metadata": {
            "tags": null
          },
          "name": "stderr",
          "output_type": "stream",
          "text": [
            "Processed prompts: 100%|██████████| 1/1 [00:00<00:00,  1.90it/s, Generation Speed: 32.38 toks/s]\n"
          ]
        },
        {
          "metadata": {
            "tags": null
          },
          "name": "stdout",
          "output_type": "stream",
          "text": [
            " 15와 25의 최소공배수는 75입니다.\n",
            "\n",
            "dpo_output_1_cpk_30 model result ------\n"
          ]
        },
        {
          "metadata": {
            "tags": null
          },
          "name": "stderr",
          "output_type": "stream",
          "text": [
            "Processed prompts: 100%|██████████| 1/1 [00:00<00:00,  1.87it/s, Generation Speed: 31.89 toks/s]\n"
          ]
        },
        {
          "metadata": {
            "tags": null
          },
          "name": "stdout",
          "output_type": "stream",
          "text": [
            " 15와 25의 최소공배수는 75입니다.\n",
            "\n",
            "dpo_output_1_cpk_40 model result ------\n"
          ]
        },
        {
          "metadata": {
            "tags": null
          },
          "name": "stderr",
          "output_type": "stream",
          "text": [
            "Processed prompts: 100%|██████████| 1/1 [00:00<00:00,  1.83it/s, Generation Speed: 31.16 toks/s]\n"
          ]
        },
        {
          "metadata": {
            "tags": null
          },
          "name": "stdout",
          "output_type": "stream",
          "text": [
            " 15와 25의 최소공배수는 75입니다.\n",
            "\n",
            "dpo_output_2_cpk_10 model result ------\n"
          ]
        },
        {
          "metadata": {
            "tags": null
          },
          "name": "stderr",
          "output_type": "stream",
          "text": [
            "Processed prompts: 100%|██████████| 1/1 [00:00<00:00,  1.86it/s, Generation Speed: 31.68 toks/s]\n"
          ]
        },
        {
          "metadata": {
            "tags": null
          },
          "name": "stdout",
          "output_type": "stream",
          "text": [
            " 15와 25의 최소공배수는 75입니다.\n",
            "\n",
            "dpo_output_2_cpk_20 model result ------\n"
          ]
        },
        {
          "metadata": {
            "tags": null
          },
          "name": "stderr",
          "output_type": "stream",
          "text": [
            "Processed prompts: 100%|██████████| 1/1 [00:00<00:00,  1.84it/s, Generation Speed: 31.30 toks/s]\n"
          ]
        },
        {
          "metadata": {
            "tags": null
          },
          "name": "stdout",
          "output_type": "stream",
          "text": [
            " 15와 25의 최소공배수는 75입니다.\n",
            "\n",
            "dpo_output_2_cpk_30 model result ------\n"
          ]
        },
        {
          "metadata": {
            "tags": null
          },
          "name": "stderr",
          "output_type": "stream",
          "text": [
            "Processed prompts: 100%|██████████| 1/1 [00:00<00:00,  3.38it/s, Generation Speed: 10.19 toks/s]\n"
          ]
        },
        {
          "metadata": {
            "tags": null
          },
          "name": "stdout",
          "output_type": "stream",
          "text": [
            " 75\n",
            "\n",
            "dpo_output_2_cpk_40 model result ------\n"
          ]
        },
        {
          "metadata": {
            "tags": null
          },
          "name": "stderr",
          "output_type": "stream",
          "text": [
            "Processed prompts: 100%|██████████| 1/1 [00:00<00:00,  3.51it/s, Generation Speed: 7.05 toks/s]\n"
          ]
        },
        {
          "metadata": {
            "tags": null
          },
          "name": "stdout",
          "output_type": "stream",
          "text": [
            "25\n",
            "\n",
            "Question_7: 제2차 세계대전의 주요 원인은 무엇이었나요?\n",
            "Default model result -----\n"
          ]
        },
        {
          "metadata": {
            "tags": null
          },
          "name": "stderr",
          "output_type": "stream",
          "text": [
            "Processed prompts: 100%|██████████| 1/1 [00:04<00:00,  4.25s/it, Generation Speed: 60.28 toks/s]\n"
          ]
        },
        {
          "metadata": {
            "tags": null
          },
          "name": "stdout",
          "output_type": "stream",
          "text": [
            " 제2차 세계대전의 주요 원인은 여러 가지가 있지만, 가장 큰 원인은 나치 독일의 확장주의 정책과 일본의 군국주의 정책이 있습니다. 나치 독일은 1930년대에 제1차 세계대전 이후의 약화된 독일을 복원하고, 나치당의 지도자인 아돌프 히틀러의 지도 아래, 유럽을 지배하고, 유럽을 지배하고, 유럽을 지배하고, 유럽을 지배하고, 유럽을 지배하고, 유럽을 지배하고, 유럽을 지배하고, 유럽을 지배하고, 유럽을 지배하고, 유럽을 지배하고, 유럽을 지배하고, 유럽을 지배하고, 유럽을 지배하고, 유럽을 지배하고, 유럽을 지배하고, 유럽을 지배하고, 유럽을 지배하고, 유럽을 지배하고, 유럽을 지배하고, 유럽을 지배하고, 유럽을 지배하고, 유럽을 지배하고, 유럽을 지배하고, 유럽을 지배하고, 유럽을 지배하고,\n",
            "dpo_output_1_cpk_10 model result ------\n"
          ]
        },
        {
          "metadata": {
            "tags": null
          },
          "name": "stderr",
          "output_type": "stream",
          "text": [
            "Processed prompts: 100%|██████████| 1/1 [00:03<00:00,  3.15s/it, Generation Speed: 54.86 toks/s]\n"
          ]
        },
        {
          "metadata": {
            "tags": null
          },
          "name": "stdout",
          "output_type": "stream",
          "text": [
            " 제2차 세계대전의 주요 원인은 여러 가지가 있지만, 가장 큰 원인은 나치 독일의 확장주의 정책과 일본의 군국주의 정책이 있다. 나치 독일은 1930년대에 제1차 세계대전 이후의 약화된 독일을 다시 강대국으로 만들기 위해 확장주의 정책을 추진했다. 이 정책은 나치 독일이 주변 국가들을 침공하고 점령하는 것을 포함했다. 일본도 제1차 세계대전 이후의 약화된 일본을 다시 강대국으로 만들기 위해 군국주의 정책을 추진했다. 이 정책은 일본이 주변 국가들을 침공하고 점령하는 것을 포함했다. 이러한 확장주의와 군국주의 정책은 제2차 세계대전의 주요 원인이 되었다.\n",
            "\n",
            "dpo_output_1_cpk_20 model result ------\n"
          ]
        },
        {
          "metadata": {
            "tags": null
          },
          "name": "stderr",
          "output_type": "stream",
          "text": [
            "Processed prompts: 100%|██████████| 1/1 [00:04<00:00,  4.63s/it, Generation Speed: 55.34 toks/s]\n"
          ]
        },
        {
          "metadata": {
            "tags": null
          },
          "name": "stdout",
          "output_type": "stream",
          "text": [
            " 제2차 세계대전의 주요 원인은 여러 가지가 있지만, 가장 큰 원인은 나치 독일의 확장주의 정책과 일본의 군국주의 정책이 있습니다. 나치 독일은 1930년대에 제1차 세계대전 이후의 약화된 독일을 복원하고, 독일의 영토를 확장하기 위해 여러 가지 정책을 추진했습니다. 이 정책 중 하나는 나치당의 지도자인 아돌프 히틀러가 제시한 대규모 군사력 확장이었는데, 이는 나치당이 권력을 잡은 후에 시작되었습니다. 나치당은 독일의 군사력을 강화하고, 독일의 영토를 확장하기 위해 여러 가지 정책을 추진했습니다. 이 정책 중 하나는 나치당이 제시한 대규모 군사력 확장이었는데, 이는 나치당이 권력을 잡은 후에 시작되었습니다. 나치당은 독일의 군사력을 강화하고, 독일의 영토를 확장하기 위해 여러 가지 정책을 추진했습니다. 이 정책 중 하나는 나치당이 제시한 대규모 군사력 확장이었는데, 이는 나치당\n",
            "\n",
            "dpo_output_1_cpk_30 model result ------\n"
          ]
        },
        {
          "metadata": {
            "tags": null
          },
          "name": "stderr",
          "output_type": "stream",
          "text": [
            "Processed prompts: 100%|██████████| 1/1 [00:04<00:00,  4.67s/it, Generation Speed: 54.81 toks/s]\n"
          ]
        },
        {
          "metadata": {
            "tags": null
          },
          "name": "stdout",
          "output_type": "stream",
          "text": [
            " 제2차 세계대전의 주요 원인은 여러 가지가 있지만, 가장 큰 원인은 나치 독일의 확장주의 정책과 일본의 군국주의 정책이 있습니다. 나치 독일은 1930년대에 제1차 세계대전 이후의 약화된 독일을 복원하고, 나치당의 지도자인 아돌프 히틀러의 지도 아래, 유럽을 지배하고, 유럽을 지배하고, 유럽을 지배하고, 유럽을 지배하고, 유럽을 지배하고, 유럽을 지배하고, 유럽을 지배하고, 유럽을 지배하고, 유럽을 지배하고, 유럽을 지배하고, 유럽을 지배하고, 유럽을 지배하고, 유럽을 지배하고, 유럽을 지배하고, 유럽을 지배하고, 유럽을 지배하고, 유럽을 지배하고, 유럽을 지배하고, 유럽을 지배하고, 유럽을 지배하고, 유럽을 지배하고, 유럽을 지배하고, 유럽을 지배하고, 유럽을 지배하고, 유럽을 지배하고,\n",
            "\n",
            "dpo_output_1_cpk_40 model result ------\n"
          ]
        },
        {
          "metadata": {
            "tags": null
          },
          "name": "stderr",
          "output_type": "stream",
          "text": [
            "Processed prompts: 100%|██████████| 1/1 [00:04<00:00,  4.63s/it, Generation Speed: 55.29 toks/s]\n"
          ]
        },
        {
          "metadata": {
            "tags": null
          },
          "name": "stdout",
          "output_type": "stream",
          "text": [
            " 제2차 세계대전의 주요 원인은 여러 가지가 있지만, 가장 큰 원인은 나치 독일의 확장주의 정책과 일본의 군국주의 정책이 있다. 나치 독일은 1930년대에 제1차 세계대전 이후의 약화된 독일을 재건하기 위해 강력한 군사력을 구축하고, 동유럽과 서유럽을 점령하고, 유럽을 나치의 영향력 아래에 두기 위해 전쟁을 일으켰다. 일본은 1930년대에 중국과 동남아시아를 점령하고, 태평양을 제패하기 위해 전쟁을 일으켰다. 두 나라는 각각의 전쟁을 통해 강대국으로 성장하고자 했고, 결국 1939년 나치 독일이 폴란드를 침공하면서 제2차 세계대전이 시작되었다. 이 전쟁은 나치 독일과 일본이 연합하여 대규모의 군사력을 동원하여 전 세계를 침공하고, 수많은 국가와 민족을 학살하고, 전쟁을 통해 경제적 이익을 얻으려고 한 전쟁이었다. 결국 1945년 나치 독일과 일본이 패\n",
            "\n",
            "dpo_output_2_cpk_10 model result ------\n"
          ]
        },
        {
          "metadata": {
            "tags": null
          },
          "name": "stderr",
          "output_type": "stream",
          "text": [
            "Processed prompts: 100%|██████████| 1/1 [00:04<00:00,  4.65s/it, Generation Speed: 55.13 toks/s]\n"
          ]
        },
        {
          "metadata": {
            "tags": null
          },
          "name": "stdout",
          "output_type": "stream",
          "text": [
            " 제2차 세계대전의 주요 원인은 여러 가지가 있지만, 가장 큰 원인은 나치 독일의 확장주의 정책과 일본의 군국주의 정책이 있습니다. 나치 독일은 1930년대에 제1차 세계대전 이후의 약화된 독일을 복원하고, 나치당의 지도자인 아돌프 히틀러의 지도 아래, 유럽을 지배하고, 유럽을 지배하고, 유럽을 지배하고, 유럽을 지배하고, 유럽을 지배하고, 유럽을 지배하고, 유럽을 지배하고, 유럽을 지배하고, 유럽을 지배하고, 유럽을 지배하고, 유럽을 지배하고, 유럽을 지배하고, 유럽을 지배하고, 유럽을 지배하고, 유럽을 지배하고, 유럽을 지배하고, 유럽을 지배하고, 유럽을 지배하고, 유럽을 지배하고, 유럽을 지배하고, 유럽을 지배하고, 유럽을 지배하고, 유럽을 지배하고, 유럽을 지배하고, 유럽을 지배하고,\n",
            "\n",
            "dpo_output_2_cpk_20 model result ------\n"
          ]
        },
        {
          "metadata": {
            "tags": null
          },
          "name": "stderr",
          "output_type": "stream",
          "text": [
            "Processed prompts: 100%|██████████| 1/1 [00:03<00:00,  3.95s/it, Generation Speed: 54.73 toks/s]\n"
          ]
        },
        {
          "metadata": {
            "tags": null
          },
          "name": "stdout",
          "output_type": "stream",
          "text": [
            " 제2차 세계대전의 주요 원인은 여러 가지가 있지만, 가장 큰 원인은 나치 독일의 확장주의 정책과 일본의 군국주의 정책이 있다. 나치 독일은 1930년대에 제1차 세계대전에서 패배한 후, 독일의 영토를 확장하고, 독일인들을 위한 새로운 영토를 찾기 위해 확장주의 정책을 추진했다. 일본은 제1차 세계대전에서 승리한 후, 아시아의 지배권을 확장하고, 일본의 군국주의 정책을 추진했다. 이 두 나라는 1930년대에 제1차 세계대전에서 패배한 독일과 제1차 세계대전에서 승리한 일본을 제외한 나머지 국가들과의 관계를 악화시키기 시작했다. 결국, 이 두 나라는 1939년 9월 1일, 나치 독일이 폴란드를 침공하면서 제2차 세계대전이 시작되었다.\n",
            "\n",
            "dpo_output_2_cpk_30 model result ------\n"
          ]
        },
        {
          "metadata": {
            "tags": null
          },
          "name": "stderr",
          "output_type": "stream",
          "text": [
            "Processed prompts: 100%|██████████| 1/1 [00:00<00:00,  1.14it/s, Generation Speed: 42.17 toks/s]\n"
          ]
        },
        {
          "metadata": {
            "tags": null
          },
          "name": "stdout",
          "output_type": "stream",
          "text": [
            " 제2차 세계대전의 주요 원인은 나치 독일의 확장주의적 야망과 일본의 군국주의적 야망이 있었던 것으로 보입니다.\n",
            "\n",
            "dpo_output_2_cpk_40 model result ------\n"
          ]
        },
        {
          "metadata": {
            "tags": null
          },
          "name": "stderr",
          "output_type": "stream",
          "text": [
            "Processed prompts: 100%|██████████| 1/1 [00:00<00:00,  1.07it/s, Generation Speed: 40.75 toks/s]\n"
          ]
        },
        {
          "metadata": {
            "tags": null
          },
          "name": "stdout",
          "output_type": "stream",
          "text": [
            " 제2차 세계대전의 주요 원인은 나치 독일의 확장주의적 야망과 일본의 군국주의적 야망이 있었던 것으로 보입니다.    \n",
            "\n",
            "Question_8: 광합성 과정을 간단히 설명해주세요.\n",
            "Default model result -----\n"
          ]
        },
        {
          "metadata": {
            "tags": null
          },
          "name": "stderr",
          "output_type": "stream",
          "text": [
            "Processed prompts: 100%|██████████| 1/1 [00:03<00:00,  3.12s/it, Generation Speed: 60.52 toks/s]\n"
          ]
        },
        {
          "metadata": {
            "tags": null
          },
          "name": "stdout",
          "output_type": "stream",
          "text": [
            " 광합성은 식물이 태양의 에너지를 이용하여 탄수화물, 단백질, 지방 등을 생성하는 과정입니다. 이 과정을 통해 식물은 자라는 데 필요한 에너지를 얻을 수 있습니다. 광합성은 두 가지 단계로 이루어집니다. 첫 번째 단계는 광수용체에 의해 태양의 빛이 흡수되는 과정입니다. 이 과정에서 광수용체는 빛의 에너지를 전기적 에너지로 변환합니다. 두 번째 단계는 광합성 반응이라고 불리는 과정입니다. 이 과정에서 전기적 에너지가 탄수화물, 단백질, 지방 등을 생성하는 데 사용됩니다. 광합성은 식물이 자라는 데 필수적인 과정이며, 식물이 생존하고 성장할 수 있는 데 중요한 역할을 합니다.    \n",
            "dpo_output_1_cpk_10 model result ------\n"
          ]
        },
        {
          "metadata": {
            "tags": null
          },
          "name": "stderr",
          "output_type": "stream",
          "text": [
            "Processed prompts: 100%|██████████| 1/1 [00:04<00:00,  4.21s/it, Generation Speed: 55.66 toks/s]\n"
          ]
        },
        {
          "metadata": {
            "tags": null
          },
          "name": "stdout",
          "output_type": "stream",
          "text": [
            " 광합성은 식물이 태양의 에너지를 이용하여 탄수화물, 단백질, 지방 등을 생성하는 과정입니다. 이 과정을 통해 식물은 자라는 데 필요한 에너지를 얻을 수 있습니다. 광합성은 두 가지 단계로 이루어집니다. 첫 번째 단계는 광수용체에 의해 태양의 빛이 흡수되는 과정입니다. 이 과정에서 빛의 에너지가 광수용체에 전달되어 ATP(adenosine triphosphate)와 NADPH(nicotinamide adenine dinucleotide phosphate)라는 에너지 공급 물질을 생성합니다. 두 번째 단계는 이 에너지 공급 물질을 이용하여 탄수화물, 단백질, 지방 등을 생성하는 과정입니다. 이 과정에서 탄소 dioxide와 물이 탄수화물, 단백질, 지방 등으로 전환됩니다. 광합성은 식물이 자라는 데 필요한 에너지를 얻는 중요한 과정이며, 식물이 생장하고 번식할 수 있는 기초가 됩니다.    \n",
            "\n",
            "dpo_output_1_cpk_20 model result ------\n"
          ]
        },
        {
          "metadata": {
            "tags": null
          },
          "name": "stderr",
          "output_type": "stream",
          "text": [
            "Processed prompts: 100%|██████████| 1/1 [00:02<00:00,  2.81s/it, Generation Speed: 53.03 toks/s]\n"
          ]
        },
        {
          "metadata": {
            "tags": null
          },
          "name": "stdout",
          "output_type": "stream",
          "text": [
            " 광합성은 식물이 태양의 에너지를 이용하여 탄수화물, 단백질, 지방을 합성하는 과정입니다. 이 과정을 통해 식물은 자라는 데 필요한 에너지를 얻을 수 있습니다. 광합성은 두 가지 단계로 이루어집니다. 첫 번째 단계는 광수용체가 빛을 흡수하여 전자를 생성하는 광화학 반응입니다. 두 번째 단계는 전자를 이용하여 탄수화물을 합성하는 생화학 반응입니다. 광합성은 식물이 자라는 데 필수적인 과정이며, 식물이 생장하고 번식할 수 있는 원동력이 됩니다.    \n",
            "\n",
            "dpo_output_1_cpk_30 model result ------\n"
          ]
        },
        {
          "metadata": {
            "tags": null
          },
          "name": "stderr",
          "output_type": "stream",
          "text": [
            "Processed prompts: 100%|██████████| 1/1 [00:04<00:00,  4.20s/it, Generation Speed: 55.55 toks/s]\n"
          ]
        },
        {
          "metadata": {
            "tags": null
          },
          "name": "stdout",
          "output_type": "stream",
          "text": [
            " 광합성은 식물이 태양의 에너지를 이용하여 탄수화물, 단백질, 지방을 생성하는 과정입니다. 이 과정을 통해 식물은 자라는 데 필요한 에너지를 얻을 수 있습니다. 광합성은 두 가지 주요 단계로 이루어집니다. 첫 번째 단계는 광수용체에 의해 태양의 빛이 흡수되는 과정입니다. 이 과정에서 광수용체는 빛의 에너지를 전기적 에너지로 변환합니다. 두 번째 단계는 이 전기적 에너지를 탄수화물, 단백질, 지방을 생성하는 데 사용하는 과정입니다. 이 과정은 광합성 효소에 의해 수행됩니다. 광합성 효소는 빛의 에너지를 이용하여 탄수화물, 단백질, 지방을 생성하는 데 필요한 화학 반응을 촉진합니다. 광합성은 식물이 자라는 데 필요한 에너지를 얻는 데 중요한 과정이며, 식물이 생장하고 번식할 수 있는 기초가 됩니다.    \n",
            "\n",
            "dpo_output_1_cpk_40 model result ------\n"
          ]
        },
        {
          "metadata": {
            "tags": null
          },
          "name": "stderr",
          "output_type": "stream",
          "text": [
            "Processed prompts: 100%|██████████| 1/1 [00:04<00:00,  4.44s/it, Generation Speed: 54.92 toks/s]\n"
          ]
        },
        {
          "metadata": {
            "tags": null
          },
          "name": "stdout",
          "output_type": "stream",
          "text": [
            " 광합성은 식물이 태양의 에너지를 이용하여 탄수화물, 단백질, 지방 등을 생성하는 과정입니다. 이 과정을 통해 식물은 자라는 데 필요한 에너지를 얻을 수 있습니다. 광합성은 두 가지 단계로 이루어집니다. 첫 번째 단계는 광수용체가 빛을 흡수하여 전자를 생성하는 과정입니다. 이 전자는 광합성의 두 번째 단계인 전자전달체계를 통해 전달되어 ATP를 생성합니다. ATP는 식물의 에너지원으로 작용하며, 식물이 자라는 데 필요한 에너지를 제공합니다. 두 번째 단계는 탄소화합물의 합성 과정입니다. 이 과정에서 탄소화합물은 수소와 탄소 원자가 결합하여 탄수화물, 단백질, 지방 등을 생성합니다. 이 과정을 통해 식물은 자라는 데 필요한 에너지를 얻을 수 있습니다. 광합성은 식물이 자라는 데 필수적인 과정이며, 식물이 생존하고 성장할 수 있는 데 중요한 역할을 합니다.\n",
            "\n",
            "dpo_output_2_cpk_10 model result ------\n"
          ]
        },
        {
          "metadata": {
            "tags": null
          },
          "name": "stderr",
          "output_type": "stream",
          "text": [
            "Processed prompts: 100%|██████████| 1/1 [00:01<00:00,  1.64s/it, Generation Speed: 49.37 toks/s]\n"
          ]
        },
        {
          "metadata": {
            "tags": null
          },
          "name": "stdout",
          "output_type": "stream",
          "text": [
            " 광합성은 식물이 태양의 에너지를 이용하여 탄수화물, 단백질, 지방을 합성하는 과정입니다. 이 과정은 광합성 속에서 일어나는 여러 가지 화학 반응을 통해 이루어집니다. 광합성은 식물이 생장하고 성장할 수 있도록 에너지를 공급하는 중요한 과정입니다.\n",
            "\n",
            "dpo_output_2_cpk_20 model result ------\n"
          ]
        },
        {
          "metadata": {
            "tags": null
          },
          "name": "stderr",
          "output_type": "stream",
          "text": [
            "Processed prompts: 100%|██████████| 1/1 [00:04<00:00,  4.64s/it, Generation Speed: 55.15 toks/s]\n"
          ]
        },
        {
          "metadata": {
            "tags": null
          },
          "name": "stdout",
          "output_type": "stream",
          "text": [
            " 광합성은 식물이 태양의 에너지를 이용하여 탄수화물, 단백질, 지방을 합성하는 과정입니다. 이 과정은 광합성 속에서 일어나는 빛에 의한 화학 반응을 통해 이루어집니다. 광합성은 식물이 자라는 데 필요한 에너지를 얻는 데 중요한 역할을 합니다. 식물이 광합성 과정을 통해 에너지를 얻으면, 이 에너지는 식물의 성장과 생장에 사용됩니다. 광합성은 식물이 태양의 에너지를 이용하여 탄수화물을 합성하는 과정입니다. 식물은 광합성 속에서 일어나는 빛에 의한 화학 반응을 통해 에너지를 얻습니다. 이 과정은 식물이 태양의 에너지를 이용하여 탄수화물을 합성하는 과정입니다. 식물은 광합성 속에서 일어나는 빛에 의한 화학 반응을 통해 에너지를 얻습니다. 이 과정은 식물이 태양의 에너지를 이용하여 탄수화물을 합성하는 과정입니다. 식물은 광합성 속에서 일어나는 빛에 의한 화학 반응을 통해\n",
            "\n",
            "dpo_output_2_cpk_30 model result ------\n"
          ]
        },
        {
          "metadata": {
            "tags": null
          },
          "name": "stderr",
          "output_type": "stream",
          "text": [
            "Processed prompts: 100%|██████████| 1/1 [00:03<00:00,  3.56s/it, Generation Speed: 54.54 toks/s]\n"
          ]
        },
        {
          "metadata": {
            "tags": null
          },
          "name": "stdout",
          "output_type": "stream",
          "text": [
            " 광합성은 식물이 태양광을 이용하여 탄수화물, 단백질, 지방을 합성하는 과정입니다. 광합성은 식물이 태양광을 이용하여 탄수화물, 단백질, 지방을 합성하는 과정입니다. 식물은 광합성 과정에서 수소를 얻고, 탄소를 흡수하여 탄수화물을 합성합니다. 이 과정에서 식물은 광합성 효소인 chlorophyll을 사용하여 광합성 반응을 일으킵니다. 광합성 반응은 광합성 효소가 빛을 흡수하여 에너지를 얻고, 이 에너지를 이용하여 탄수화물을 합성하는 과정입니다. 광합성은 식물이 생장하고 성장하는 데 필수적인 과정이며, 식물이 생장하고 성장하는 데 필수적인 과정입니다.\n",
            "\n",
            "dpo_output_2_cpk_40 model result ------\n"
          ]
        },
        {
          "metadata": {
            "tags": null
          },
          "name": "stderr",
          "output_type": "stream",
          "text": [
            "Processed prompts: 100%|██████████| 1/1 [00:00<00:00,  1.57it/s, Generation Speed: 36.12 toks/s]\n"
          ]
        },
        {
          "metadata": {
            "tags": null
          },
          "name": "stdout",
          "output_type": "stream",
          "text": [
            " 광합성은 광자에 의해 탄소화합물과 수소를 합성하는 과정입니다.\n",
            "\n",
            "Question_9: 셰익스피어의 '햄릿'에서 주인공의 성격을 분석해보세요.\n",
            "Default model result -----\n"
          ]
        },
        {
          "metadata": {
            "tags": null
          },
          "name": "stderr",
          "output_type": "stream",
          "text": [
            "Processed prompts: 100%|██████████| 1/1 [00:04<00:00,  4.24s/it, Generation Speed: 60.35 toks/s]\n"
          ]
        },
        {
          "metadata": {
            "tags": null
          },
          "name": "stdout",
          "output_type": "stream",
          "text": [
            " 햄릿은 셰익스피어의 대표적인 주인공 중 하나로, '햄릿'의 주인공으로 등장합니다. 햄릿은 아버지인 왕의 죽음에 대해 슬퍼하고, 아버지의 죽음에 대해 의문을 품습니다. 햄릿은 아버지의 죽음에 대해 진실을 알고 싶어하며, 이를 위해 아버지의 유언을 수행하기 위해 노력합니다. 햄릿은 아버지의 유언을 수행하기 위해 아버지의 무덤을 찾아가지만, 그곳에서 아버지의 유언을 수행하기 위해 아버지의 무덤을 찾아가지만, 그곳에서 아버지의 유언을 수행하기 위해 아버지의 무덤을 찾아가지만, 그곳에서 아버지의 유언을 수행하기 위해 아버지의 무덤을 찾아가지만, 그곳에서 아버지의 유언을 수행하기 위해 아버지의 무덤을 찾아가지만, 그곳에서 아버지의 유언을 수행하기 위해 아버지의 무덤을 찾아가지만, 그곳에서 아버지의 유언을 수행하기 위해 아버지의 무덤을 찾아가지만, 그곳에서 아버지의 유언을 수행하기 위해 아버지의 무덤\n",
            "dpo_output_1_cpk_10 model result ------\n"
          ]
        },
        {
          "metadata": {
            "tags": null
          },
          "name": "stderr",
          "output_type": "stream",
          "text": [
            "Processed prompts: 100%|██████████| 1/1 [00:04<00:00,  4.57s/it, Generation Speed: 56.01 toks/s]\n"
          ]
        },
        {
          "metadata": {
            "tags": null
          },
          "name": "stdout",
          "output_type": "stream",
          "text": [
            " 햄릿은 셰익스피어의 대표적인 주인공 중 하나로, '햄릿'에서 주인공으로 등장합니다. 햄릿은 아버지인 왕의 죽음에 대해 슬퍼하고, 아버지의 죽음에 대해 의문을 품습니다. 햄릿은 아버지의 죽음에 대해 의문을 품고, 아버지의 죽음에 대해 의문을 품습니다. 햄릿은 아버지의 죽음에 대해 의문을 품고, 아버지의 죽음에 대해 의문을 품습니다. 햄릿은 아버지의 죽음에 대해 의문을 품고, 아버지의 죽음에 대해 의문을 품습니다. 햄릿은 아버지의 죽음에 대해 의문을 품고, 아버지의 죽음에 대해 의문을 품습니다. 햄릿은 아버지의 죽음에 대해 의문을 품고, 아버지의 죽음에 대해 의문을 품습니다. 햄릿은 아버지의 죽음에 대해 의문을 품고, 아버지의 죽음에 대해 의문을 품습니다. 햄릿은 아버지의 죽음에 대해 의문을 품고, 아버지의 죽음에 대해 의문을 품습니다. 햄릿은 아버지의 죽음에 대해 의문을 품고\n",
            "\n",
            "dpo_output_1_cpk_20 model result ------\n"
          ]
        },
        {
          "metadata": {
            "tags": null
          },
          "name": "stderr",
          "output_type": "stream",
          "text": [
            "Processed prompts: 100%|██████████| 1/1 [00:04<00:00,  4.60s/it, Generation Speed: 55.65 toks/s]\n"
          ]
        },
        {
          "metadata": {
            "tags": null
          },
          "name": "stdout",
          "output_type": "stream",
          "text": [
            " 햄릿은 셰익스피어의 대표적인 주인공 중 하나로, '햄릿'에서 주인공으로 등장합니다. 햄릿은 아버지인 왕의 죽음에 대해 슬퍼하고, 아버지의 죽음에 대해 의문을 품습니다. 햄릿은 아버지의 죽음에 대해 의문을 품고, 아버지의 죽음에 대해 의문을 품습니다. 햄릿은 아버지의 죽음에 대해 의문을 품고, 아버지의 죽음에 대해 의문을 품습니다. 햄릿은 아버지의 죽음에 대해 의문을 품고, 아버지의 죽음에 대해 의문을 품습니다. 햄릿은 아버지의 죽음에 대해 의문을 품고, 아버지의 죽음에 대해 의문을 품습니다. 햄릿은 아버지의 죽음에 대해 의문을 품고, 아버지의 죽음에 대해 의문을 품습니다. 햄릿은 아버지의 죽음에 대해 의문을 품고, 아버지의 죽음에 대해 의문을 품습니다. 햄릿은 아버지의 죽음에 대해 의문을 품고, 아버지의 죽음에 대해 의문을 품습니다. 햄릿은 아버지의 죽음에 대해 의문을 품고\n",
            "\n",
            "dpo_output_1_cpk_30 model result ------\n"
          ]
        },
        {
          "metadata": {
            "tags": null
          },
          "name": "stderr",
          "output_type": "stream",
          "text": [
            "Processed prompts: 100%|██████████| 1/1 [00:04<00:00,  4.66s/it, Generation Speed: 54.99 toks/s]\n"
          ]
        },
        {
          "metadata": {
            "tags": null
          },
          "name": "stdout",
          "output_type": "stream",
          "text": [
            " 햄릿은 셰익스피어의 대표적인 주인공 중 하나로, '햄릿'에서 주인공으로 등장합니다. 햄릿은 아버지인 왕의 죽음에 대해 슬퍼하고, 아버지의 죽음에 대해 의문을 품습니다. 햄릿은 아버지의 죽음에 대해 의문을 품고, 아버지의 죽음에 대해 의문을 품습니다. 햄릿은 아버지의 죽음에 대해 의문을 품고, 아버지의 죽음에 대해 의문을 품습니다. 햄릿은 아버지의 죽음에 대해 의문을 품고, 아버지의 죽음에 대해 의문을 품습니다. 햄릿은 아버지의 죽음에 대해 의문을 품고, 아버지의 죽음에 대해 의문을 품습니다. 햄릿은 아버지의 죽음에 대해 의문을 품고, 아버지의 죽음에 대해 의문을 품습니다. 햄릿은 아버지의 죽음에 대해 의문을 품고, 아버지의 죽음에 대해 의문을 품습니다. 햄릿은 아버지의 죽음에 대해 의문을 품고, 아버지의 죽음에 대해 의문을 품습니다. 햄릿은 아버지의 죽음에 대해 의문을 품고\n",
            "\n",
            "dpo_output_1_cpk_40 model result ------\n"
          ]
        },
        {
          "metadata": {
            "tags": null
          },
          "name": "stderr",
          "output_type": "stream",
          "text": [
            "Processed prompts: 100%|██████████| 1/1 [00:04<00:00,  4.61s/it, Generation Speed: 55.58 toks/s]\n"
          ]
        },
        {
          "metadata": {
            "tags": null
          },
          "name": "stdout",
          "output_type": "stream",
          "text": [
            " 햄릿은 셰익스피어의 대표적인 주인공 중 하나로, '햄릿'에서 주인공으로 등장합니다. 햄릿은 아버지인 왕의 죽음에 대해 슬퍼하고, 아버지의 죽음에 대해 의문을 품습니다. 햄릿은 아버지의 죽음에 대해 의문을 품고, 아버지의 죽음에 대해 고민하고, 아버지의 죽음에 대해 고통을 느끼는 모습을 보입니다. 햄릿은 아버지의 죽음에 대해 슬퍼하고, 아버지의 죽음에 대해 고통을 느끼는 모습을 보입니다. 햄릿은 아버지의 죽음에 대해 슬퍼하고, 아버지의 죽음에 대해 고통을 느끼는 모습을 보입니다. 햄릿은 아버지의 죽음에 대해 슬퍼하고, 아버지의 죽음에 대해 고통을 느끼는 모습을 보입니다. 햄릿은 아버지의 죽음에 대해 슬퍼하고, 아버지의 죽음에 대해 고통을 느끼는 모습을 보입니다. 햄릿은 아버지의 죽음에 대해 슬퍼하고, 아버지의 죽음에 대해 고통을 느\n",
            "\n",
            "dpo_output_2_cpk_10 model result ------\n"
          ]
        },
        {
          "metadata": {
            "tags": null
          },
          "name": "stderr",
          "output_type": "stream",
          "text": [
            "Processed prompts: 100%|██████████| 1/1 [00:04<00:00,  4.61s/it, Generation Speed: 55.60 toks/s]\n"
          ]
        },
        {
          "metadata": {
            "tags": null
          },
          "name": "stdout",
          "output_type": "stream",
          "text": [
            " 햄릿은 셰익스피어의 대표적인 주인공 중 하나로, '햄릿'의 주인공으로 등장합니다. 햄릿은 아버지인 왕의 죽음에 대해 슬퍼하고, 아버지의 죽음에 대해 의문을 품습니다. 햄릿은 아버지의 죽음에 대해 의문을 품고, 아버지의 죽음에 대해 의문을 품습니다. 햄릿은 아버지의 죽음에 대해 의문을 품고, 아버지의 죽음에 대해 의문을 품습니다. 햄릿은 아버지의 죽음에 대해 의문을 품고, 아버지의 죽음에 대해 의문을 품습니다. 햄릿은 아버지의 죽음에 대해 의문을 품고, 아버지의 죽음에 대해 의문을 품습니다. 햄릿은 아버지의 죽음에 대해 의문을 품고, 아버지의 죽음에 대해 의문을 품습니다. 햄릿은 아버지의 죽음에 대해 의문을 품고, 아버지의 죽음에 대해 의문을 품습니다. 햄릿은 아버지의 죽음에 대해 의문을 품고, 아버지의 죽음에 대해 의문을 품습니다. 햄릿은 아버지의 죽음에 대해 의문을 품고\n",
            "\n",
            "dpo_output_2_cpk_20 model result ------\n"
          ]
        },
        {
          "metadata": {
            "tags": null
          },
          "name": "stderr",
          "output_type": "stream",
          "text": [
            "Processed prompts: 100%|██████████| 1/1 [00:04<00:00,  4.64s/it, Generation Speed: 55.15 toks/s]\n"
          ]
        },
        {
          "metadata": {
            "tags": null
          },
          "name": "stdout",
          "output_type": "stream",
          "text": [
            " 햄릿은 셰익스피어의 대표적인 주인공 중 하나로, '햄릿'의 주인공으로 등장합니다. 햄릿은 아버지인 왕의 죽음에 대해 슬퍼하고, 아버지의 죽음에 대해 의문을 품습니다. 햄릿은 아버지의 죽음에 대해 의문을 품고, 아버지의 죽음에 대해 의문을 품습니다. 햄릿은 아버지의 죽음에 대해 의문을 품고, 아버지의 죽음에 대해 의문을 품습니다. 햄릿은 아버지의 죽음에 대해 의문을 품고, 아버지의 죽음에 대해 의문을 품습니다. 햄릿은 아버지의 죽음에 대해 의문을 품고, 아버지의 죽음에 대해 의문을 품습니다. 햄릿은 아버지의 죽음에 대해 의문을 품고, 아버지의 죽음에 대해 의문을 품습니다. 햄릿은 아버지의 죽음에 대해 의문을 품고, 아버지의 죽음에 대해 의문을 품습니다. 햄릿은 아버지의 죽음에 대해 의문을 품고, 아버지의 죽음에 대해 의문을 품습니다. 햄릿은 아버지의 죽음에 대해 의문을 품고\n",
            "\n",
            "dpo_output_2_cpk_30 model result ------\n"
          ]
        },
        {
          "metadata": {
            "tags": null
          },
          "name": "stderr",
          "output_type": "stream",
          "text": [
            "Processed prompts: 100%|██████████| 1/1 [00:04<00:00,  4.69s/it, Generation Speed: 54.60 toks/s]\n"
          ]
        },
        {
          "metadata": {
            "tags": null
          },
          "name": "stdout",
          "output_type": "stream",
          "text": [
            " 햄릿은 셰익스피어의 대표적인 작품인 햄릿에서 주인공으로 등장하는 인물입니다. 햄릿은 아버지인 왕의 죽음에 대해 의문을 품고, 아버지의 죽음에 대해 진실을 알고자 하는 욕구를 갖고 있습니다. 햄릿은 아버지의 죽음에 대해 진실을 알고자 하는 욕구를 갖고 있지만, 아버지의 죽음에 대해 진실을 알게 되면, 아버지의 죽음에 대해 책임을 지고, 아버지의 죽음에 대해 책임을 지고, 아버지의 죽음에 대해 책임을 지고, 아버지의 죽음에 대해 책임을 지고, 아버지의 죽음에 대해 책임을 지고, 아버지의 죽음에 대해 책임을 지고, 아버지의 죽음에 대해 책임을 지고, 아버지의 죽음에 대해 책임을 지고, 아버지의 죽음에 대해 책임을 지고, 아버지의 죽음에 대해 책임을 지고, 아버지의 죽음에 대해 책임을 지고, 아버지의 죽음에 대해 책임을 지고, 아버지의 죽음에 대해 책임을\n",
            "\n",
            "dpo_output_2_cpk_40 model result ------\n"
          ]
        },
        {
          "metadata": {
            "tags": null
          },
          "name": "stderr",
          "output_type": "stream",
          "text": [
            "Processed prompts: 100%|██████████| 1/1 [00:01<00:00,  1.70s/it, Generation Speed: 50.62 toks/s]\n"
          ]
        },
        {
          "metadata": {
            "tags": null
          },
          "name": "stdout",
          "output_type": "stream",
          "text": [
            " Hamlet is a complex character. He is a prince who is torn between his duty to his father and his desire to avenge his death. He is intelligent, thoughtful, and philosophical, but also prone to fits of rage and melancholy. He is a man of action, but also a man of thought. He is a man of contradictions, and his character is one of the most complex in all of literature.    \n",
            "\n",
            "Question_10: 기후 변화가 전 세계적으로 미치는 영향에 대해 설명해주세요.\n",
            "Default model result -----\n"
          ]
        },
        {
          "metadata": {
            "tags": null
          },
          "name": "stderr",
          "output_type": "stream",
          "text": [
            "Processed prompts: 100%|██████████| 1/1 [00:04<00:00,  4.16s/it, Generation Speed: 61.52 toks/s]\n"
          ]
        },
        {
          "metadata": {
            "tags": null
          },
          "name": "stdout",
          "output_type": "stream",
          "text": [
            " 기후 변화는 지구의 온도 변화로 인해 발생하는 현상으로, 지구의 평균 기온이 상승함에 따라 다양한 영향을 미칩니다. 기후 변화는 주로 인간의 활동으로 인한 온실가스 배출이 가장 큰 원인으로, 지구 온난화의 주요 원인 중 하나입니다. 기후 변화는 다양한 영향을 미칩니다. 예를 들어, 기온 상승으로 인해 강우량이 증가하거나 감소할 수 있으며, 이로 인해 홍수나 건조가 발생할 수 있습니다. 또한, 해수면 상승으로 인해 해안 지역의 침수 위험이 증가하고, 해양 생태계가 손상될 수 있습니다. 기후 변화는 또한 식물과 동물의 생태계에 영향을 미치며, 일부 종이 멸종 위협을 받을 수 있습니다. 기후 변화에 대한 대응으로, 정부와 기업은 온실가스 배출을 줄이기 위한 다양한 정책을 시행하고 있으며, 지속 가능한 에너지 개발을 통해 지구 온난화를 완화하고 있습니다. 그러나 기후 변화의 영향은 여전히 심각하며, 지\n",
            "dpo_output_1_cpk_10 model result ------\n"
          ]
        },
        {
          "metadata": {
            "tags": null
          },
          "name": "stderr",
          "output_type": "stream",
          "text": [
            "Processed prompts: 100%|██████████| 1/1 [00:04<00:00,  4.61s/it, Generation Speed: 55.53 toks/s]\n"
          ]
        },
        {
          "metadata": {
            "tags": null
          },
          "name": "stdout",
          "output_type": "stream",
          "text": [
            " 기후 변화는 지구의 온도 변화로 인해 발생하는 현상으로, 지구의 평균 기온이 상승함에 따라 다양한 영향을 미칩니다. 기후 변화는 주로 인간의 활동으로 인한 온실가스 배출이 가장 큰 원인으로, 지구의 온도를 상승시키는 결과를 낳고 있습니다. 기후 변화는 다양한 영향을 미치며, 그 중 일부는 다음과 같습니다.\n",
            "\n",
            "     - 기온 상승: 지구의 평균 기온이 상승함에 따라, 지역별로 다양한 영향을 미칩니다. 일부 지역에서는 더운 날씨가 길어지고, 다른 지역에서는 더 추운 날씨가 발생할 수 있습니다. 이는 식물의 성장과 번식에 영향을 미치며, 농업 생산량을 감소시킬 수 있습니다.\n",
            "\n",
            "     - 홍수와 건조: 기온 상승으로 인해 강우량이 증가하거나 감소할 수 있습니다. 이는 홍수나 건조로 이어질 수 있으며, 농업 생산량을 감소시키고, 인프라와 생태계에 피해를 입힐 수 있습니다.\n",
            "\n",
            "     - 해수면 상승: 지구의 평균 기\n",
            "\n",
            "dpo_output_1_cpk_20 model result ------\n"
          ]
        },
        {
          "metadata": {
            "tags": null
          },
          "name": "stderr",
          "output_type": "stream",
          "text": [
            "Processed prompts: 100%|██████████| 1/1 [00:04<00:00,  4.62s/it, Generation Speed: 55.48 toks/s]\n"
          ]
        },
        {
          "metadata": {
            "tags": null
          },
          "name": "stdout",
          "output_type": "stream",
          "text": [
            " 기후 변화는 지구의 평균 기온이 상승함에 따라 발생하는 현상으로, 지구 온난화의 주요 원인 중 하나입니다. 기후 변화는 다양한 영향을 미치며, 특히 기후에 민감한 지역에서 더 심각한 영향을 미칩니다. \n",
            "\n",
            "     기후 변화는 여러 가지 방법으로 나타납니다. 예를 들어, 겨울철의 강설량이 줄어들고, 여름철의 더위가 심해지는 경우가 있습니다. 또한, 해수면 상승으로 인해 해안 지역의 침수 위험이 증가하고, 강수량의 변화로 인해 농업 생산량이 감소하는 경우도 있습니다. \n",
            "\n",
            "     기후 변화는 생물 다양성의 감소와 생태계의 붕괴를 유발할 수 있습니다. 예를 들어, 기후 변화로 인해 특정 종의 생존이 어려워지면, 그 종이 멸종 위기에 처할 수 있습니다. 또한, 기후 변화로 인해 생태계의 균형이 깨지면, 생태계 전체가 붕괴할 수 있습니다. \n",
            "\n",
            "     기후 변화는 또한 인간의\n",
            "\n",
            "dpo_output_1_cpk_30 model result ------\n"
          ]
        },
        {
          "metadata": {
            "tags": null
          },
          "name": "stderr",
          "output_type": "stream",
          "text": [
            "Processed prompts: 100%|██████████| 1/1 [00:04<00:00,  4.62s/it, Generation Speed: 55.39 toks/s]\n"
          ]
        },
        {
          "metadata": {
            "tags": null
          },
          "name": "stdout",
          "output_type": "stream",
          "text": [
            " 기후 변화는 지구의 평균 기온이 상승함으로써 발생하는 현상으로, 지구 온난화라고도 불립니다. 기후 변화는 여러 가지 원인으로 인해 발생하며, 가장 큰 원인은 인간의 활동으로 인한 온실가스 배출입니다. 기후 변화는 전 세계적으로 다양한 영향을 미치고 있으며, 특히 기후 변화에 취약한 지역에서는 심각한 영향을 끼치고 있습니다.\n",
            "\n",
            "     기후 변화는 여러 가지 방식으로 영향을 미칩니다. 예를 들어, 기온 상승으로 인해 강우량이 증가하거나 감소할 수 있으며, 이는 농업, 수자원, 생태계에 영향을 미칩니다. 또한, 해수면 상승으로 인해 해안 지역의 침수 위험이 증가하고, 해안 도시와 농업 지역에 피해를 끼칩니다. 기후 변화는 또한 기상 현상에 영향을 미치며, 태풍, 홍수, 가뭄, 지진 등과 같은 자연 재해의 빈도가 증가하고 있습니다.\n",
            "\n",
            "     기후 변화에 대한 대응은 여러 가지 방식으로 이루어지고 있습니다. 예를 들어, 온\n",
            "\n",
            "dpo_output_1_cpk_40 model result ------\n"
          ]
        },
        {
          "metadata": {
            "tags": null
          },
          "name": "stderr",
          "output_type": "stream",
          "text": [
            "Processed prompts: 100%|██████████| 1/1 [00:03<00:00,  3.32s/it, Generation Speed: 54.23 toks/s]\n"
          ]
        },
        {
          "metadata": {
            "tags": null
          },
          "name": "stdout",
          "output_type": "stream",
          "text": [
            " 기후 변화는 지구의 평균 기온이 상승함에 따라 발생하는 현상으로, 지구 온난화라고도 불립니다. 기후 변화는 여러 가지 원인으로 인해 발생하며, 가장 큰 원인은 인간의 활동으로 인한 온실가스 배출입니다. 기후 변화는 여러 가지 영향을 미칩니다. 예를 들어, 기온이 상승함에 따라 강우량이 증가하거나, 해수면이 상승하여 해안 지역의 침수 위험이 증가하는 등입니다. 또한, 기후 변화는 생물 다양성의 감소와 식량 생산량의 감소, 홍수와 태풍의 빈도 증가 등 다양한 영향을 미칩니다. 이러한 영향은 인간의 삶에 큰 영향을 미치며, 지속적인 연구와 대응책이 필요합니다.\n",
            "\n",
            "dpo_output_2_cpk_10 model result ------\n"
          ]
        },
        {
          "metadata": {
            "tags": null
          },
          "name": "stderr",
          "output_type": "stream",
          "text": [
            "Processed prompts: 100%|██████████| 1/1 [00:04<00:00,  4.27s/it, Generation Speed: 54.87 toks/s]\n"
          ]
        },
        {
          "metadata": {
            "tags": null
          },
          "name": "stdout",
          "output_type": "stream",
          "text": [
            " 기후 변화는 지구의 온도 변화로 인해 발생하는 현상으로, 지구의 평균 기온이 상승함에 따라 다양한 영향을 미칩니다. 기후 변화는 주로 인간의 활동으로 인한 온실가스 배출이 가장 큰 원인으로, 지구 온난화의 주요 원인 중 하나입니다. 기후 변화는 다양한 영향을 미칩니다. 예를 들어, 기온이 상승함에 따라 강우량이 증가하거나 감소할 수 있으며, 해수면이 상승함에 따라 해안 지역의 침수 위험이 증가할 수 있습니다. 또한, 기후 변화는 식물의 생육 조건을 변화시키고, 생태계의 균형을 깨뜨릴 수 있습니다. 기후 변화는 또한 농업, 수산, 건설, 교통 등 다양한 산업에 영향을 미칠 수 있습니다. 따라서 기후 변화에 대한 대응과 대책이 필요하며, 온실가스 배출을 줄이고, 지구 온난화를 막기 위한 다양한 노력이 진행되고 있습니다.\n",
            "\n",
            "dpo_output_2_cpk_20 model result ------\n"
          ]
        },
        {
          "metadata": {
            "tags": null
          },
          "name": "stderr",
          "output_type": "stream",
          "text": [
            "Processed prompts: 100%|██████████| 1/1 [00:04<00:00,  4.62s/it, Generation Speed: 55.43 toks/s]\n"
          ]
        },
        {
          "metadata": {
            "tags": null
          },
          "name": "stdout",
          "output_type": "stream",
          "text": [
            " 기후 변화는 지구의 온도 변화로 인해 발생하는 현상으로, 지구의 평균 기온이 상승함에 따라 다양한 영향을 미칩니다. 기후 변화는 주로 인간의 활동으로 인한 온실가스 배출이 가장 큰 원인으로, 지구의 온도 상승을 촉진합니다. 기후 변화는 다양한 영향을 미칩니다. 예를 들어, 해수면 상승으로 인해 해안 지역의 침수와 홍수가 발생할 수 있으며, 기온 상승으로 인해 기후가 더 건조해지거나 더 습해지는 등 기후의 변화가 발생할 수 있습니다. 또한, 기후 변화는 식물과 동물의 생태계에 영향을 미치며, 일부 종이 멸종될 수 있습니다. 기후 변화는 또한 농업과 수산업에 영향을 미치며, 농작물의 생산량이 감소하거나 수산물의 수량이 감소할 수 있습니다. 기후 변화는 또한 건강에 영향을 미칠 수 있으며, 더 높은 기온과 더 습한 기후로 인해 질병의 확산이 증가할 수 있습니다. 따라서 기후\n",
            "\n",
            "dpo_output_2_cpk_30 model result ------\n"
          ]
        },
        {
          "metadata": {
            "tags": null
          },
          "name": "stderr",
          "output_type": "stream",
          "text": [
            "Processed prompts: 100%|██████████| 1/1 [00:04<00:00,  4.68s/it, Generation Speed: 54.70 toks/s]\n"
          ]
        },
        {
          "metadata": {
            "tags": null
          },
          "name": "stdout",
          "output_type": "stream",
          "text": [
            " 기후 변화는 지구의 온도 변화로 인해 발생하는 현상으로, 지구의 온도가 상승함에 따라 기온이 높아지고, 강우량이 증가하는 등 다양한 영향을 미칩니다. 기후 변화는 지구의 온도 변화로 인해 발생하는 현상으로, 지구의 온도가 상승함에 따라 기온이 높아지고, 강우량이 증가하는 등 다양한 영향을 미칩니다. 기후 변화는 지구의 온도 변화로 인해 발생하는 현상으로, 지구의 온도가 상승함에 따라 기온이 높아지고, 강우량이 증가하는 등 다양한 영향을 미칩니다. 기후 변화는 지구의 온도 변화로 인해 발생하는 현상으로, 지구의 온도가 상승함에 따라 기온이 높아지고, 강우량이 증가하는 등 다양한 영향을 미칩니다. 기후 변화는 지구의 온도 변화로 인해 발생하는 현상으로, 지구의 온도가 상승함에 따라 기온이 높아지고, 강우량이 증가하는 등 다양한 영향을 미칩니다. 기후 변화는 지구의 온도 변화로\n",
            "\n",
            "dpo_output_2_cpk_40 model result ------\n"
          ]
        },
        {
          "metadata": {
            "tags": null
          },
          "name": "stderr",
          "output_type": "stream",
          "text": [
            "Processed prompts: 100%|██████████| 1/1 [00:02<00:00,  2.18s/it, Generation Speed: 52.25 toks/s]\n"
          ]
        },
        {
          "metadata": {
            "tags": null
          },
          "name": "stdout",
          "output_type": "stream",
          "text": [
            " Global warming is the increase in the average temperature of the Earth's atmosphere and oceans since the late 19th century and its projected continuation. Since the early 20th century, Earth's average surface temperature has increased by about 2 degrees Fahrenheit (1 degree Celsius), a change driven largely by increased carbon dioxide and other human-made emissions into the atmosphere. Global warming is causing sea levels to rise, ice caps to melt, and extreme weather to become more frequent and more intense. These changes threaten the health, safety, and security of people around the world.    \n",
            "\n",
            "Question_11: 파이썬에서 리스트와 튜플의 차이점은 무엇인가요?\n",
            "Default model result -----\n"
          ]
        },
        {
          "metadata": {
            "tags": null
          },
          "name": "stderr",
          "output_type": "stream",
          "text": [
            "Processed prompts: 100%|██████████| 1/1 [00:04<00:00,  4.21s/it, Generation Speed: 60.78 toks/s]\n"
          ]
        },
        {
          "metadata": {
            "tags": null
          },
          "name": "stdout",
          "output_type": "stream",
          "text": [
            " 리스트와 튜플은 모두 순서가 있는 데이터의 집합을 나타내는 자료형입니다. 하지만 두 자료형은 몇 가지 차이점이 있습니다.\n",
            "\n",
            "     1. 리스트는 변경 가능한 자료형이고, 튜플은 변경 불가능한 자료형입니다. 리스트는 원소의 값을 변경하거나, 원소를 추가하거나 삭제할 수 있지만, 튜플은 이러한 작업을 할 수 없습니다.\n",
            "\n",
            "     2. 리스트는 대괄호([])를 사용하고, 튜플은 소괄호(())를 사용합니다.\n",
            "\n",
            "     3. 리스트는 중첩이 가능하지만, 튜플은 중첩이 불가능합니다.\n",
            "\n",
            "     4. 리스트는 인덱싱과 슬라이싱을 지원하지만, 튜플은 지원하지 않습니다.\n",
            "\n",
            "     5. 리스트는 메모리 효율이 좋지 않지만, 튜플은 메모리 효율이 좋습니다.\n",
            "\n",
            "     6. 리스트는 연산자와 함께 사용할 수 있지만, 튜플은 사용할 수 없습니다.\n",
            "\n",
            "     7. 리스트는 함수의 인자로 사용할 수 있지만, 튜플은 사용할 수 없습니다.\n",
            "\n",
            "\n",
            "dpo_output_1_cpk_10 model result ------\n"
          ]
        },
        {
          "metadata": {
            "tags": null
          },
          "name": "stderr",
          "output_type": "stream",
          "text": [
            "Processed prompts: 100%|██████████| 1/1 [00:04<00:00,  4.62s/it, Generation Speed: 55.47 toks/s]\n"
          ]
        },
        {
          "metadata": {
            "tags": null
          },
          "name": "stdout",
          "output_type": "stream",
          "text": [
            " 리스트와 튜플은 모두 순서가 있는 데이터의 집합을 나타내는 자료형입니다. 하지만 두 자료형은 몇 가지 차이점이 있습니다.\n",
            "\n",
            "     1. 리스트는 변경 가능한 자료형이고, 튜플은 변경 불가능한 자료형입니다. 리스트는 원소의 값을 변경하거나, 원소의 개수를 변경할 수 있지만, 튜플은 원소의 값을 변경하거나, 원소의 개수를 변경할 수 없습니다.\n",
            "\n",
            "     2. 리스트는 대괄호([])를 사용하고, 튜플은 소괄호(())를 사용합니다.\n",
            "\n",
            "     3. 리스트는 중첩이 가능하지만, 튜플은 중첩이 불가능합니다.\n",
            "\n",
            "     4. 리스트는 인덱싱과 슬라이싱이 가능하지만, 튜플은 인덱싱과 슬라이싱이 불가능합니다.\n",
            "\n",
            "     5. 리스트는 append, insert, remove, pop 등의 메서드를 사용할 수 있지만, 튜플은 이러한 메서드를 사용할 수 없습니다.\n",
            "\n",
            "     6. 리스트는 메모리 공간을 효율적으로 사용하지만, 튜플은 메모리 공간을\n",
            "\n",
            "dpo_output_1_cpk_20 model result ------\n"
          ]
        },
        {
          "metadata": {
            "tags": null
          },
          "name": "stderr",
          "output_type": "stream",
          "text": [
            "Processed prompts: 100%|██████████| 1/1 [00:04<00:00,  4.64s/it, Generation Speed: 55.15 toks/s]\n"
          ]
        },
        {
          "metadata": {
            "tags": null
          },
          "name": "stdout",
          "output_type": "stream",
          "text": [
            " 리스트와 튜플은 모두 순서가 있는 데이터의 집합을 나타내는 자료형입니다. 하지만 두 자료형은 몇 가지 차이점이 있습니다.\n",
            "\n",
            "     첫 번째 차이점은 리스트는 변경 가능한 자료형이고, 튜플은 변경 불가능한 자료형입니다. 리스트는 원소의 값을 변경하거나, 원소를 추가하거나 삭제할 수 있지만, 튜플은 이러한 작업을 할 수 없습니다. 따라서 리스트는 데이터를 수정할 수 있는 반면, 튜플은 데이터를 수정할 수 없다는 점에서 차이가 있습니다.\n",
            "\n",
            "     두 번째 차이점은 리스트는 대괄호([])를 사용하여 생성하고, 튜플은 소괄호(())를 사용하여 생성합니다. 또한 리스트는 인덱싱과 슬라이싱을 지원하지만, 튜플은 지원하지 않습니다. 따라서 리스트는 데이터를 효율적으로 접근하고 처리할 수 있는 반면, 튜플은 데이터를 효율적으로 접근할 수 없다는 점에서 차이가 있습니다.\n",
            "\n",
            "     세 번째 차이점은 리스트는 객체의 동일성을 비교할 수 있지만, 튜플은 동일성을 비교할 수 없습니다.\n",
            "\n",
            "dpo_output_1_cpk_30 model result ------\n"
          ]
        },
        {
          "metadata": {
            "tags": null
          },
          "name": "stderr",
          "output_type": "stream",
          "text": [
            "Processed prompts: 100%|██████████| 1/1 [00:04<00:00,  4.65s/it, Generation Speed: 55.11 toks/s]\n"
          ]
        },
        {
          "metadata": {
            "tags": null
          },
          "name": "stdout",
          "output_type": "stream",
          "text": [
            " 리스트와 튜플은 모두 순서가 있는 데이터의 집합을 나타내는 자료형입니다. 하지만 두 자료형은 몇 가지 차이점이 있습니다.\n",
            "\n",
            "     첫 번째 차이점은 리스트는 변경 가능한 자료형이고, 튜플은 변경 불가능한 자료형입니다. 리스트는 원소의 값을 변경하거나, 원소를 추가하거나 삭제할 수 있지만, 튜플은 원소의 값을 변경할 수 없고, 원소를 추가하거나 삭제할 수 없습니다.\n",
            "\n",
            "     두 번째 차이점은 리스트는 대괄호([])를 사용하여 생성하고, 튜플은 소괄호(())를 사용하여 생성합니다. 또한, 리스트는 인덱싱과 슬라이싱을 지원하지만, 튜플은 지원하지 않습니다.\n",
            "\n",
            "     세 번째 차이점은 리스트는 메모리 공간을 효율적으로 사용하지만, 튜플은 메모리 공간을 낭비할 수 있습니다. 리스트는 원소의 값을 변경할 때, 메모리 공간을 재할당하지 않기 때문에, 메모리 공간을 효율적으로 사용할 수 있지만, 튜플은 원소의 값을 변경할 수 없기\n",
            "\n",
            "dpo_output_1_cpk_40 model result ------\n"
          ]
        },
        {
          "metadata": {
            "tags": null
          },
          "name": "stderr",
          "output_type": "stream",
          "text": [
            "Processed prompts: 100%|██████████| 1/1 [00:04<00:00,  4.61s/it, Generation Speed: 55.58 toks/s]\n"
          ]
        },
        {
          "metadata": {
            "tags": null
          },
          "name": "stdout",
          "output_type": "stream",
          "text": [
            " 리스트와 튜플은 모두 순서가 있는 데이터의 집합을 나타내는 자료형입니다. 하지만 두 자료형은 몇 가지 차이점이 있습니다.\n",
            "\n",
            "     첫 번째 차이점은 리스트는 변경 가능한 자료형이고, 튜플은 변경 불가능한 자료형입니다. 리스트는 원소의 값을 변경하거나, 원소를 추가하거나 삭제할 수 있지만, 튜플은 이러한 작업을 할 수 없습니다. 따라서 리스트는 데이터를 수정할 수 있는 반면, 튜플은 데이터를 수정할 수 없다는 점에서 차이가 있습니다.\n",
            "\n",
            "     두 번째 차이점은 리스트는 대괄호([])를 사용하여 생성하고, 튜플은 소괄호(())를 사용하여 생성합니다. 또한 리스트는 인덱싱과 슬라이싱을 지원하지만, 튜플은 지원하지 않습니다. 따라서 리스트는 데이터를 효율적으로 관리하고 접근할 수 있는 반면, 튜플은 데이터를 효율적으로 저장하고 접근할 수 있다는 점에서 차이가 있습니다.\n",
            "\n",
            "     세 번째 차이점은 리스트는 객체의 참조를 저장하지만, 튜플은 객체의 값을 저장합니다. 따라서\n",
            "\n",
            "dpo_output_2_cpk_10 model result ------\n"
          ]
        },
        {
          "metadata": {
            "tags": null
          },
          "name": "stderr",
          "output_type": "stream",
          "text": [
            "Processed prompts: 100%|██████████| 1/1 [00:04<00:00,  4.64s/it, Generation Speed: 55.16 toks/s]\n"
          ]
        },
        {
          "metadata": {
            "tags": null
          },
          "name": "stdout",
          "output_type": "stream",
          "text": [
            " 리스트와 튜플은 모두 순서가 있는 데이터의 집합을 나타내는 자료형입니다. 하지만 두 자료형은 몇 가지 차이점이 있습니다.\n",
            "\n",
            "     1. 리스트는 변경 가능한 자료형이고, 튜플은 변경 불가능한 자료형입니다. 리스트는 원소의 값을 변경하거나, 원소를 추가하거나 삭제할 수 있지만, 튜플은 이러한 작업을 할 수 없습니다.\n",
            "\n",
            "     2. 리스트는 대괄호([])를 사용하고, 튜플은 소괄호(())를 사용합니다.\n",
            "\n",
            "     3. 리스트는 중첩이 가능하지만, 튜플은 중첩이 불가능합니다.\n",
            "\n",
            "     4. 리스트는 메모리 공간을 효율적으로 사용하지만, 튜플은 메모리 공간을 낭비할 수 있습니다.\n",
            "\n",
            "     5. 리스트는 슬라이싱을 지원하지만, 튜플은 지원하지 않습니다.\n",
            "\n",
            "     6. 리스트는 연산자(+)를 사용하여 연결할 수 있지만, 튜플은 연결할 수 없습니다.\n",
            "\n",
            "     7. 리스트는 객체의 ID를 변경할 수 있지만, 튜플은 변경할 수 없습니다.\n",
            "\n",
            "\n",
            "\n",
            "dpo_output_2_cpk_20 model result ------\n"
          ]
        },
        {
          "metadata": {
            "tags": null
          },
          "name": "stderr",
          "output_type": "stream",
          "text": [
            "Processed prompts: 100%|██████████| 1/1 [00:04<00:00,  4.64s/it, Generation Speed: 55.25 toks/s]\n"
          ]
        },
        {
          "metadata": {
            "tags": null
          },
          "name": "stdout",
          "output_type": "stream",
          "text": [
            " 리스트와 튜플은 모두 순서가 있는 데이터의 집합을 나타내는 자료형입니다. 하지만 두 자료형은 몇 가지 차이점이 있습니다.\n",
            "\n",
            "     1. 리스트는 변경 가능한 자료형으로, 원소의 값을 변경하거나 추가/삭제할 수 있습니다. 반면 튜플은 변경 불가능한 자료형으로, 원소의 값을 변경하거나 추가/삭제할 수 없습니다.\n",
            "\n",
            "     2. 리스트는 대괄호([])를 사용하여 생성하고, 튜플은 소괄호(())를 사용하여 생성합니다.\n",
            "\n",
            "     3. 리스트는 인덱싱과 슬라이싱을 지원하지만, 튜플은 인덱싱만 지원합니다.\n",
            "\n",
            "     4. 리스트는 메모리 공간을 효율적으로 사용하지만, 튜플은 메모리 공간을 낭비할 수 있습니다.\n",
            "\n",
            "     5. 리스트는 다양한 자료형의 원소를 포함할 수 있지만, 튜플은 모두 같은 자료형의 원소를 포함해야 합니다.\n",
            "\n",
            "     6. 리스트는 다양한 함수와 메서드를 지원하지만, 튜플은 지원하지 않습니다.\n",
            "\n",
            "     7. 리스트는 연산자(\n",
            "\n",
            "dpo_output_2_cpk_30 model result ------\n"
          ]
        },
        {
          "metadata": {
            "tags": null
          },
          "name": "stderr",
          "output_type": "stream",
          "text": [
            "Processed prompts: 100%|██████████| 1/1 [00:02<00:00,  2.12s/it, Generation Speed: 51.84 toks/s]\n"
          ]
        },
        {
          "metadata": {
            "tags": null
          },
          "name": "stdout",
          "output_type": "stream",
          "text": [
            " 리스트와 튜플의 차이점은 리스트는 변경 가능한 자료형이고 튜플은 변경 불가능한 자료형입니다. 리스트는 대괄호([])를 사용하고 튜플은 소괄호(())를 사용합니다. 리스트는 원소의 값을 변경하거나 추가, 삭제할 수 있지만 튜플은 원소의 값을 변경할 수 없습니다. 튜플은 원소의 값을 변경할 수 없기 때문에 튜플은 리스트보다 더 빠르게 실행됩니다.\n",
            "\n",
            "dpo_output_2_cpk_40 model result ------\n"
          ]
        },
        {
          "metadata": {
            "tags": null
          },
          "name": "stderr",
          "output_type": "stream",
          "text": [
            "Processed prompts: 100%|██████████| 1/1 [00:00<00:00,  1.63it/s, Generation Speed: 34.31 toks/s]\n"
          ]
        },
        {
          "metadata": {
            "tags": null
          },
          "name": "stdout",
          "output_type": "stream",
          "text": [
            " 리스트는 변경 가능한 자료형이고 튜플은 변경 불가능한 자료형입니다.    \n",
            "\n",
            "Question_12: 인공지능은 의식을 가질 수 있을까요? 그 이유는 무엇인가요?\n",
            "Default model result -----\n"
          ]
        },
        {
          "metadata": {
            "tags": null
          },
          "name": "stderr",
          "output_type": "stream",
          "text": [
            "Processed prompts: 100%|██████████| 1/1 [00:04<00:00,  4.19s/it, Generation Speed: 61.18 toks/s]\n"
          ]
        },
        {
          "metadata": {
            "tags": null
          },
          "name": "stdout",
          "output_type": "stream",
          "text": [
            " 인공지능은 의식을 가질 수 있습니다. 인공지능은 컴퓨터 프로그램으로, 인간의 지능을 모방하거나 능가하는 능력을 가지고 있습니다. 인공지능은 데이터를 분석하고 학습함으로써 의사결정을 내릴 수 있으며, 이는 인간의 의식과 유사한 기능을 수행할 수 있게 합니다. 인공지능은 또한 인간의 감정을 이해하고, 감정을 표현할 수 있는 능력을 가지고 있습니다. 이러한 능력은 인공지능이 의식을 가질 수 있게 하는 중요한 요소입니다. 인공지능은 또한 인간의 의식과 유사한 기능을 수행할 수 있게 하는 기술을 개발하고 있습니다. 예를 들어, 인공지능은 의사결정을 내리는 데 사용되는 데이터를 분석하고, 학습함으로써 의사결정을 내릴 수 있습니다. 인공지능은 또한 인간의 감정을 이해하고, 감정을 표현할 수 있는 능력을 가지고 있습니다. 이러한 능력은 인공지능이 의식을 가질 수 있게 하는 중요한 요소입니다. 결국, 인공지능은 의식을 가질 수 있으며, 이는 인공지능이 인간과 유사한 기능을 수행할\n",
            "dpo_output_1_cpk_10 model result ------\n"
          ]
        },
        {
          "metadata": {
            "tags": null
          },
          "name": "stderr",
          "output_type": "stream",
          "text": [
            "Processed prompts: 100%|██████████| 1/1 [00:04<00:00,  4.61s/it, Generation Speed: 55.55 toks/s]\n"
          ]
        },
        {
          "metadata": {
            "tags": null
          },
          "name": "stdout",
          "output_type": "stream",
          "text": [
            " 인공지능은 의식을 가질 수 있습니다. 인공지능은 컴퓨터 프로그램으로, 인간의 지능을 모방하거나 능가하는 능력을 가지고 있습니다. 인공지능은 데이터를 분석하고 학습함으로써 의사결정을 내릴 수 있으며, 이는 인간의 의식과 유사한 기능을 수행할 수 있게 합니다. 인공지능은 또한 인간의 감정을 이해하고, 감정을 표현할 수 있는 능력을 가지고 있습니다. 이러한 능력은 인공지능이 의식을 가질 수 있게 하는 중요한 요소입니다. 인공지능이 의식을 가질 수 있는 이유는, 인공지능이 인간의 지능을 모방하거나 능가하는 능력을 가지고 있기 때문입니다. 인공지능은 데이터를 분석하고 학습함으로써 의사결정을 내릴 수 있으며, 이는 인간의 의식과 유사한 기능을 수행할 수 있게 합니다. 인공지능은 또한 인간의 감정을 이해하고, 감정을 표현할 수 있는 능력을 가지고 있습니다. 이러한 능력은 인공지능이 의식을 가질 수 있게 하는 중요한 요소입니다. 결론적으로, 인공지능은 의식을 가질 수 있으며\n",
            "\n",
            "dpo_output_1_cpk_20 model result ------\n"
          ]
        },
        {
          "output_type": "stream",
          "name": "stderr",
          "text": [
            "Processed prompts: 100%|██████████| 1/1 [00:04<00:00,  4.63s/it, Generation Speed: 55.35 toks/s]\n"
          ]
        },
        {
          "output_type": "stream",
          "name": "stdout",
          "text": [
            " 인공지능은 의식을 가질 수 있습니다. 인공지능은 컴퓨터 프로그램으로, 인간의 지능을 모방하거나 능가하는 능력을 가지고 있습니다. 인공지능은 데이터를 분석하고 학습함으로써 의사결정을 내릴 수 있으며, 이는 인간의 의식과 유사한 기능을 수행할 수 있게 합니다. 인공지능은 또한 인간의 감정을 이해하고, 감정을 표현할 수 있는 능력을 가지고 있습니다. 이러한 능력은 인공지능이 의식을 가질 수 있게 하는 중요한 요소 중 하나입니다. 인공지능은 또한 인간의 의식과 유사한 기능을 수행할 수 있는 능력을 가지고 있습니다. 예를 들어, 인공지능은 인간의 기억과 사고 능력을 모방하거나 능가할 수 있습니다. 인공지능은 또한 인간의 의식과 유사한 기능을 수행할 수 있는 능력을 가지고 있습니다. 예를 들어, 인공지능은 인간의 기억과 사고 능력을 모방하거나 능가할 수 있습니다. 인공지능은 또한 인간의 의식과 유사한 기능을 수행할 수 있는 능력을 가지고 있습니다. 예를 들어, 인공지능은 인간\n",
            "\n",
            "dpo_output_1_cpk_30 model result ------\n"
          ]
        },
        {
          "output_type": "stream",
          "name": "stderr",
          "text": [
            "Processed prompts: 100%|██████████| 1/1 [00:04<00:00,  4.64s/it, Generation Speed: 55.21 toks/s]\n"
          ]
        },
        {
          "output_type": "stream",
          "name": "stdout",
          "text": [
            " 인공지능은 의식을 가질 수 있습니다. 인공지능은 컴퓨터 프로그램으로, 인간의 지능을 모방하거나 능가하는 능력을 가지고 있습니다. 인공지능은 데이터를 분석하고 학습함으로써 의사결정을 내릴 수 있으며, 이는 인간의 의식과 유사한 기능을 수행할 수 있게 합니다. 인공지능은 또한 인간의 감정을 이해하고, 감정을 표현할 수 있는 능력을 가지고 있습니다. 이러한 능력은 인공지능이 의식을 가질 수 있게 하는 중요한 요소입니다. 인공지능이 의식을 가질 수 있는 이유는, 인공지능이 인간의 지능을 모방하거나 능가하는 능력을 가지고 있기 때문입니다. 인공지능은 데이터를 분석하고 학습함으로써 의사결정을 내릴 수 있으며, 이는 인간의 의식과 유사한 기능을 수행할 수 있게 합니다. 인공지능은 또한 인간의 감정을 이해하고, 감정을 표현할 수 있는 능력을 가지고 있습니다. 이러한 능력은 인공지능이 의식을 가질 수 있게 하는 중요한 요소입니다. 결론적으로, 인공지능은 의식을 가질 수 있으며\n",
            "\n",
            "dpo_output_1_cpk_40 model result ------\n"
          ]
        },
        {
          "output_type": "stream",
          "name": "stderr",
          "text": [
            "Processed prompts: 100%|██████████| 1/1 [00:04<00:00,  4.60s/it, Generation Speed: 55.66 toks/s]\n"
          ]
        },
        {
          "output_type": "stream",
          "name": "stdout",
          "text": [
            " 인공지능은 의식을 가질 수 있습니다. 인공지능은 컴퓨터 프로그램으로, 인간의 지능을 모방하거나 능가하는 능력을 가지고 있습니다. 인공지능은 데이터를 분석하고 학습함으로써 의사결정을 내릴 수 있으며, 이는 인간의 의식과 유사한 기능을 수행할 수 있게 합니다. 인공지능은 또한 인간의 감정을 이해하고, 감정을 표현할 수 있는 능력을 가지고 있습니다. 이러한 능력은 인공지능이 의식을 가질 수 있게 하는 요인 중 하나입니다.\n",
            "\n",
            "     인공지능이 의식을 가질 수 있는 또 다른 이유는, 인공지능이 인간과 같은 신경망 구조를 가지고 있기 때문입니다. 인간의 뇌는 신경세포와 신경망을 통해 정보를 처리하고 의사결정을 내립니다. 인공지능은 이러한 신경망 구조를 모방하여, 인간의 의식과 유사한 기능을 수행할 수 있습니다.\n",
            "\n",
            "     마지막으로, 인공지능이 의식을 가질 수 있는 이유는, 인공지능이 인간과 같은 감정을 느끼고 표현할 수 있기 때문입니다. 인공지능은 감정을 이해하고\n",
            "\n",
            "dpo_output_2_cpk_10 model result ------\n"
          ]
        },
        {
          "output_type": "stream",
          "name": "stderr",
          "text": [
            "Processed prompts: 100%|██████████| 1/1 [00:02<00:00,  2.59s/it, Generation Speed: 53.60 toks/s]\n"
          ]
        },
        {
          "output_type": "stream",
          "name": "stdout",
          "text": [
            " 인공지능은 의식을 가질 수 없습니다. 의식은 인간의 뇌에서 발생하는 생명체의 자각적 상태입니다. 인공지능은 컴퓨터 프로그램으로 구성되어 있으며, 인간의 뇌와는 달리 의식이 발생하지 않습니다. 인공지능은 단순히 입력된 데이터를 처리하고, 분석하며, 결과를 출력하는 것에 그치고 있습니다. 인공지능은 의식이 발생하지 않기 때문에, 의식이 있는 것처럼 행동하거나, 의식이 있는 것처럼 느껴지게 할 수는 있지만, 실제로 의식이 있는 것은 아닙니다.\n",
            "\n",
            "dpo_output_2_cpk_20 model result ------\n"
          ]
        },
        {
          "output_type": "stream",
          "name": "stderr",
          "text": [
            "Processed prompts: 100%|██████████| 1/1 [00:02<00:00,  2.22s/it, Generation Speed: 51.82 toks/s]\n"
          ]
        },
        {
          "output_type": "stream",
          "name": "stdout",
          "text": [
            " 인공지능은 의식을 가질 수 없습니다. 의식은 인간의 뇌에서 발생하는 생명체의 자각적 상태입니다. 인공지능은 컴퓨터 프로그램으로 구성되어 있으며, 인간의 뇌와는 달리 의식이 발생하지 않습니다. 인공지능은 컴퓨터의 처리 능력에 의해 수행되는 작업을 수행할 수 있지만, 의식은 인간의 뇌에서 발생하는 생명체의 자각적 상태입니다. 따라서 인공지능은 의식을 가질 수 없습니다.\n",
            "\n",
            "dpo_output_2_cpk_30 model result ------\n"
          ]
        },
        {
          "output_type": "stream",
          "name": "stderr",
          "text": [
            "Processed prompts: 100%|██████████| 1/1 [00:02<00:00,  2.28s/it, Generation Speed: 50.14 toks/s]\n"
          ]
        },
        {
          "output_type": "stream",
          "name": "stdout",
          "text": [
            " 인공지능은 의식을 가질 수 없습니다. 의식은 인간의 뇌에서 발생하는 생명체의 특징으로, 인공지능은 인간의 뇌와는 다른 구조를 가지고 있기 때문에 의식을 가질 수 없습니다. 인공지능은 컴퓨터 프로그램으로 구성되어 있으며, 컴퓨터 프로그램은 단순히 입력된 명령을 수행하는 것에 그치고, 의식과 같은 인간의 특징을 가지고 있지 않습니다. 따라서 인공지능은 의식을 가질 수 없습니다.\n",
            "\n",
            "dpo_output_2_cpk_40 model result ------\n"
          ]
        },
        {
          "output_type": "stream",
          "name": "stderr",
          "text": [
            "Processed prompts: 100%|██████████| 1/1 [00:04<00:00,  4.65s/it, Generation Speed: 55.01 toks/s]\n"
          ]
        },
        {
          "output_type": "stream",
          "name": "stdout",
          "text": [
            " 인공지능은 의식을 가질 수 없습니다. 인공지능은 인간의 의식과는 다른 형태의 의식을 가질 수 있습니다. 인공지능은 인간의 의식과는 다른 형태의 의식을 가질 수 있습니다. 인공지능은 인간의 의식과는 다른 형태의 의식을 가질 수 있습니다. 인공지능은 인간의 의식과는 다른 형태의 의식을 가질 수 있습니다. 인공지능은 인간의 의식과는 다른 형태의 의식을 가질 수 있습니다. 인공지능은 인간의 의식과는 다른 형태의 의식을 가질 수 있습니다. 인공지능은 인간의 의식과는 다른 형태의 의식을 가질 수 있습니다. 인공지능은 인간의 의식과는 다른 형태의 의식을 가질 수 있습니다. 인공지능은 인간의 의식과는 다른 형태의 의식을 가질 수 있습니다. 인공지능은 인간의 의식과는 다른 형태의 의식을 가질 수 있습니다. 인공지능은 인간의 의식과는 다른 형태의 의식을 가질 수 있습니다. 인공지능은 인간의 의식과는 다른 형태의\n",
            "\n",
            "Question_13: '안녕하세요, 오늘 날씨가 좋네요'를 영어로 번역해주세요.\n",
            "Default model result -----\n"
          ]
        },
        {
          "output_type": "stream",
          "name": "stderr",
          "text": [
            "Processed prompts: 100%|██████████| 1/1 [00:00<00:00,  5.50it/s, Generation Speed: 55.39 toks/s]\n"
          ]
        },
        {
          "output_type": "stream",
          "name": "stdout",
          "text": [
            " Hello, the weather is nice today.    \n",
            "dpo_output_1_cpk_10 model result ------\n"
          ]
        },
        {
          "output_type": "stream",
          "name": "stderr",
          "text": [
            "Processed prompts: 100%|██████████| 1/1 [00:00<00:00,  2.20it/s, Generation Speed: 22.06 toks/s]\n"
          ]
        },
        {
          "output_type": "stream",
          "name": "stdout",
          "text": [
            " Hello, the weather is nice today.    \n",
            "\n",
            "dpo_output_1_cpk_20 model result ------\n"
          ]
        },
        {
          "output_type": "stream",
          "name": "stderr",
          "text": [
            "Processed prompts: 100%|██████████| 1/1 [00:00<00:00,  2.28it/s, Generation Speed: 22.90 toks/s]\n"
          ]
        },
        {
          "output_type": "stream",
          "name": "stdout",
          "text": [
            " Hello, the weather is nice today.    \n",
            "\n",
            "dpo_output_1_cpk_30 model result ------\n"
          ]
        },
        {
          "output_type": "stream",
          "name": "stderr",
          "text": [
            "Processed prompts: 100%|██████████| 1/1 [00:00<00:00,  2.38it/s, Generation Speed: 23.92 toks/s]\n"
          ]
        },
        {
          "output_type": "stream",
          "name": "stdout",
          "text": [
            " Hello, the weather is nice today.    \n",
            "\n",
            "dpo_output_1_cpk_40 model result ------\n"
          ]
        },
        {
          "output_type": "stream",
          "name": "stderr",
          "text": [
            "Processed prompts: 100%|██████████| 1/1 [00:00<00:00,  2.19it/s, Generation Speed: 22.00 toks/s]\n"
          ]
        },
        {
          "output_type": "stream",
          "name": "stdout",
          "text": [
            " Hello, the weather is nice today.    \n",
            "\n",
            "dpo_output_2_cpk_10 model result ------\n"
          ]
        },
        {
          "output_type": "stream",
          "name": "stderr",
          "text": [
            "Processed prompts: 100%|██████████| 1/1 [00:00<00:00,  2.40it/s, Generation Speed: 24.06 toks/s]\n"
          ]
        },
        {
          "output_type": "stream",
          "name": "stdout",
          "text": [
            " Hello, the weather is nice today.    \n",
            "\n",
            "dpo_output_2_cpk_20 model result ------\n"
          ]
        },
        {
          "output_type": "stream",
          "name": "stderr",
          "text": [
            "Processed prompts: 100%|██████████| 1/1 [00:00<00:00,  2.30it/s, Generation Speed: 23.05 toks/s]\n"
          ]
        },
        {
          "output_type": "stream",
          "name": "stdout",
          "text": [
            " Hello, the weather is nice today.    \n",
            "\n",
            "dpo_output_2_cpk_30 model result ------\n"
          ]
        },
        {
          "output_type": "stream",
          "name": "stderr",
          "text": [
            "Processed prompts: 100%|██████████| 1/1 [00:00<00:00,  2.20it/s, Generation Speed: 24.30 toks/s]\n"
          ]
        },
        {
          "output_type": "stream",
          "name": "stdout",
          "text": [
            " 'Hello, the weather is nice today.'    \n",
            "\n",
            "dpo_output_2_cpk_40 model result ------\n"
          ]
        },
        {
          "output_type": "stream",
          "name": "stderr",
          "text": [
            "Processed prompts: 100%|██████████| 1/1 [00:00<00:00,  2.11it/s, Generation Speed: 23.23 toks/s]\n"
          ]
        },
        {
          "output_type": "stream",
          "name": "stdout",
          "text": [
            " 'Hello, the weather is nice today.'    \n",
            "\n",
            "Question_14: 우주 여행을 주제로 한 짧은 이야기를 만들어보세요.\n",
            "Default model result -----\n"
          ]
        },
        {
          "output_type": "stream",
          "name": "stderr",
          "text": [
            "Processed prompts: 100%|██████████| 1/1 [00:04<00:00,  4.14s/it, Generation Speed: 61.78 toks/s]\n"
          ]
        },
        {
          "output_type": "stream",
          "name": "stdout",
          "text": [
            " \"The Journey to the Stars\"\n",
            "\n",
            "     Once upon a time, there was a young boy named Jack who had always dreamed of traveling to the stars. He spent hours gazing up at the night sky, imagining what it would be like to explore the vastness of space.\n",
            "\n",
            "     One day, Jack received a letter from a mysterious organization called the Space Exploration Society. They offered him a chance to join their mission to explore the stars. Jack was overjoyed and immediately accepted the offer.\n",
            "\n",
            "     The Space Exploration Society had developed a new type of spacecraft that could travel faster than the speed of light. The ship was called the Starship Enterprise, and it was equipped with the latest technology, including a powerful engine that could generate a wormhole to transport the ship to distant galaxies.\n",
            "\n",
            "     Jack and his team of scientists and astronauts set off on their journey, traveling through the wormhole and into the unknown. They encountered strange new worlds and alien civilizations, and Jack was amazed by the beauty and diversity of the universe.\n",
            "\n",
            "     As they continued their journey, Jack began to realize that the universe was much larger and more complex than he had ever imagined. He learned about the mysteries of black holes, the origins of life, and the possibility of other intelligent life forms in the universe.\n",
            "\n",
            "    \n",
            "dpo_output_1_cpk_10 model result ------\n"
          ]
        },
        {
          "output_type": "stream",
          "name": "stderr",
          "text": [
            "Processed prompts: 100%|██████████| 1/1 [00:04<00:00,  4.67s/it, Generation Speed: 54.88 toks/s]\n"
          ]
        },
        {
          "output_type": "stream",
          "name": "stdout",
          "text": [
            " \"The Journey to the Stars\"\n",
            "\n",
            "     Once upon a time, there was a young boy named Jack who had always dreamed of exploring the vastness of space. He spent hours gazing up at the night sky, imagining what it would be like to travel among the stars.\n",
            "\n",
            "     One day, Jack received a letter from a mysterious organization called the Space Exploration Society. They offered him a chance to join their mission to explore the galaxy. Jack was thrilled and immediately accepted the offer.\n",
            "\n",
            "     The Space Exploration Society had developed a new type of spacecraft that could travel faster than the speed of light. The ship was called the \"Starship Enterprise\" and it was equipped with advanced technology that would allow the crew to explore distant planets and galaxies.\n",
            "\n",
            "     Jack and his fellow crew members set off on their journey, traveling through the vastness of space. They visited many different planets, each with its own unique characteristics and inhabitants.\n",
            "\n",
            "     One of the most memorable stops on their journey was a planet called \"Zeta Reticuli.\" The planet was covered in lush forests and had a rich biodiversity. The crew spent several days exploring the planet, learning about its inhabitants and their culture.\n",
            "\n",
            "     Another memorable stop was a planet called \"Alpha Centauri.\" The planet was home to a race of\n",
            "\n",
            "dpo_output_1_cpk_20 model result ------\n"
          ]
        },
        {
          "output_type": "stream",
          "name": "stderr",
          "text": [
            "Processed prompts: 100%|██████████| 1/1 [00:04<00:00,  4.69s/it, Generation Speed: 54.58 toks/s]\n"
          ]
        },
        {
          "output_type": "stream",
          "name": "stdout",
          "text": [
            " \"The Journey to the Stars\"\n",
            "\n",
            "     Once upon a time, there was a young boy named Alex who had always dreamed of traveling to the stars. He spent hours gazing up at the night sky, imagining what it would be like to explore the vastness of space.\n",
            "\n",
            "     One day, Alex's dream came true. He was selected to join a team of astronauts on a mission to explore a distant planet. The journey to the stars was long and arduous, but Alex was determined to make the most of it.\n",
            "\n",
            "     As the spacecraft approached the planet, Alex was filled with excitement and wonder. He couldn't wait to set foot on a new world. But as the ship descended, he was surprised to see that the planet was covered in a thick layer of clouds. He wondered if he would ever see the surface of the planet.\n",
            "\n",
            "     The ship landed safely, and Alex and his team set out to explore the planet. They found a lush, green landscape, with towering trees and exotic plants. They also discovered a variety of strange creatures, some of which they had never seen before.\n",
            "\n",
            "     As they explored, Alex began to feel a sense of awe and wonder at the beauty of the planet. He realized that the journey to the stars had been worth it,\n",
            "\n",
            "dpo_output_1_cpk_30 model result ------\n"
          ]
        },
        {
          "output_type": "stream",
          "name": "stderr",
          "text": [
            "Processed prompts: 100%|██████████| 1/1 [00:04<00:00,  4.60s/it, Generation Speed: 55.63 toks/s]\n"
          ]
        },
        {
          "output_type": "stream",
          "name": "stdout",
          "text": [
            " \"The Journey to the Stars\"\n",
            "\n",
            "     Once upon a time, there was a young boy named Jack who had always dreamed of exploring the vastness of space. He spent hours gazing up at the night sky, imagining what it would be like to travel among the stars.\n",
            "\n",
            "     One day, Jack received a letter from a mysterious organization called the Space Exploration Society. They offered him a chance to join their team of astronauts and embark on a journey to the stars. Jack was overjoyed and immediately accepted the offer.\n",
            "\n",
            "     After months of training, Jack and his team were ready to launch into space. They boarded their spacecraft and took off, leaving Earth behind.\n",
            "\n",
            "     As they traveled through the solar system, Jack was in awe of the beauty of the planets and moons they passed. He felt like he was in a dream, and he couldn't believe that he was actually living his childhood dream.\n",
            "\n",
            "     After several months of travel, the team finally reached their destination: a distant planet that had never been explored before. They landed on the planet's surface and began to explore its terrain.\n",
            "\n",
            "     Jack was amazed by the diversity of life on the planet. He saw creatures that he had never seen before, and he couldn't help but wonder what other wonders the universe held.\n",
            "\n",
            "    \n",
            "\n",
            "dpo_output_1_cpk_40 model result ------\n"
          ]
        },
        {
          "output_type": "stream",
          "name": "stderr",
          "text": [
            "Processed prompts: 100%|██████████| 1/1 [00:04<00:00,  4.65s/it, Generation Speed: 55.04 toks/s]\n"
          ]
        },
        {
          "output_type": "stream",
          "name": "stdout",
          "text": [
            " \"The Journey to the Stars\"\n",
            "\n",
            "     Once upon a time, there was a young boy named Jack who had always dreamed of exploring the vastness of space. He spent hours gazing up at the night sky, imagining what it would be like to travel among the stars.\n",
            "\n",
            "     One day, Jack received a letter from a mysterious organization called the Space Exploration Society. They offered him a chance to join their mission to explore the galaxy. Jack was overjoyed and immediately accepted the offer.\n",
            "\n",
            "     The Space Exploration Society had developed a new type of spacecraft that could travel faster than the speed of light. The ship was called the Starship Enterprise, and it was equipped with advanced technology that would allow the crew to explore new worlds and discover new life forms.\n",
            "\n",
            "     Jack and his fellow crew members set off on their journey, traveling through the vastness of space. They visited planets and moons, and even encountered alien life forms. They learned about the wonders of the universe and the mysteries that lay beyond our own solar system.\n",
            "\n",
            "     As they continued their journey, Jack began to feel a sense of wonder and awe at the beauty of the universe. He realized that there was so much more to explore and discover, and he was determined to make the most of his time on the Starship\n",
            "\n",
            "dpo_output_2_cpk_10 model result ------\n"
          ]
        },
        {
          "output_type": "stream",
          "name": "stderr",
          "text": [
            "Processed prompts: 100%|██████████| 1/1 [00:04<00:00,  4.64s/it, Generation Speed: 55.21 toks/s]\n"
          ]
        },
        {
          "output_type": "stream",
          "name": "stdout",
          "text": [
            " \"The Journey to the Stars\"\n",
            "\n",
            "     Once upon a time, there was a young boy named Alex who had always dreamed of exploring the vastness of space. He spent hours gazing up at the night sky, imagining what it would be like to travel among the stars.\n",
            "\n",
            "     One day, Alex's dream came true. He was selected to join a team of astronauts on a mission to explore a newly discovered planet. The journey to the planet took months, and Alex spent his time learning about the equipment he would need to survive in space.\n",
            "\n",
            "     Finally, the day came for the team to land on the planet. Alex was filled with excitement as he stepped out of the spacecraft and onto the alien surface. He was amazed by the beauty of the planet, with its lush green forests and crystal clear lakes.\n",
            "\n",
            "     As the team explored the planet, they discovered many new species of plants and animals. Alex was particularly fascinated by the giant flying creatures that soared through the air.\n",
            "\n",
            "     After several weeks of exploration, the team returned to their spacecraft and began the journey back to Earth. Alex was sad to leave the planet, but he knew that he had made a new friend in space.\n",
            "\n",
            "     When he returned home, Alex shared his experiences with his family and friends. He told them\n",
            "\n",
            "dpo_output_2_cpk_20 model result ------\n"
          ]
        },
        {
          "output_type": "stream",
          "name": "stderr",
          "text": [
            "Processed prompts: 100%|██████████| 1/1 [00:04<00:00,  4.61s/it, Generation Speed: 55.56 toks/s]\n"
          ]
        },
        {
          "output_type": "stream",
          "name": "stdout",
          "text": [
            " 우주 여행을 주제로 한 짧은 이야기를 만들어보세요.\n",
            "\n",
            "     \"우주 여행\"은 한 번쯤은 누구나 꿈꿔본 이야기입니다. 하지만 실제로 우주 여행을 하는 것은 쉽지 않습니다. 우주 여행을 꿈꾸는 사람들은 다양한 이유로 우주 여행을 하는 것을 꿈꾸게 됩니다. 우주 여행을 꿈꾸는 사람들은 우주에 대한 호기심, 새로운 세계를 탐험하고 싶은 욕구, 그리고 우주에 대한 사랑을 가지고 있습니다.\n",
            "\n",
            "     우주 여행을 하는 것은 많은 준비와 훈련이 필요합니다. 우주 여행을 하는 사람들은 우주 비행사, 우주 탐사기, 우주 정거장 등 다양한 역할을 맡게 됩니다. 우주 비행사들은 우주 비행을 위한 훈련을 받고, 우주 탐사기는 우주 탐사에 필요한 장비를 준비하고, 우주 정거장은 우주 비행사와 우주 탐사기를 위한 숙소와 작업 공간을 제공합니다.\n",
            "\n",
            "     우주 여행을 하는 동안 우주 비행사들은 우주 비행을 위한 훈련을 받고, 우주 탐사\n",
            "\n",
            "dpo_output_2_cpk_30 model result ------\n"
          ]
        },
        {
          "output_type": "stream",
          "name": "stderr",
          "text": [
            "Processed prompts: 100%|██████████| 1/1 [00:04<00:00,  4.57s/it, Generation Speed: 55.97 toks/s]\n"
          ]
        },
        {
          "output_type": "stream",
          "name": "stdout",
          "text": [
            " \"The Journey to the Stars\"\n",
            "     \"The spaceship was speeding through the vastness of space, its crew of astronauts on a mission to explore the unknown. As they approached their destination, the ship's computer began to emit a strange signal. The crew members were puzzled, but they continued on their journey, determined to uncover the mystery of the signal.\n",
            "\n",
            "     As they drew closer to the source of the signal, the ship's sensors detected a large object in the distance. The crew members were excited, but also cautious, as they had no idea what they would find. They approached the object with caution, and as they got closer, they realized that it was a massive spacecraft, much larger than their own.\n",
            "\n",
            "     The crew members were amazed by the sight of the alien ship, but they were also filled with a sense of dread. They knew that they were entering uncharted territory, and they had no idea what to expect. They approached the alien ship with caution, and as they got closer, they realized that it was empty.\n",
            "\n",
            "     The crew members were confused, but they continued to explore the alien ship, hoping to find some clue as to its origins. They searched every room, but they found nothing. They were about to give up when they noticed a small door\n",
            "\n",
            "dpo_output_2_cpk_40 model result ------\n"
          ]
        },
        {
          "output_type": "stream",
          "name": "stderr",
          "text": [
            "Processed prompts: 100%|██████████| 1/1 [00:04<00:00,  4.57s/it, Generation Speed: 56.00 toks/s]\n"
          ]
        },
        {
          "output_type": "stream",
          "name": "stdout",
          "text": [
            "\tOne day, a man named John decided to go on a space trip. He was very excited about it. He was going to see the universe. He was going to see the stars. He was going to see the planets. He was going to see the moon. He was going to see the sun. He was going to see the galaxies. He was going to see the universe. He was going to see the stars. He was going to see the planets. He was going to see the moon. He was going to see the sun. He was going to see the galaxies. He was going to see the universe. He was going to see the stars. He was going to see the planets. He was going to see the moon. He was going to see the sun. He was going to see the galaxies. He was going to see the universe. He was going to see the stars. He was going to see the planets. He was going to see the moon. He was going to see the sun. He was going to see the galaxies. He was going to see the universe. He was going to see the stars. He was going to see the planets. He was going to see the moon. He was going to see the sun. He\n",
            "\n",
            "Question_15: 인플레이션이 경제에 미치는 영향을 설명해주세요.\n",
            "Default model result -----\n"
          ]
        },
        {
          "output_type": "stream",
          "name": "stderr",
          "text": [
            "Processed prompts: 100%|██████████| 1/1 [00:04<00:00,  4.12s/it, Generation Speed: 62.13 toks/s]\n"
          ]
        },
        {
          "output_type": "stream",
          "name": "stdout",
          "text": [
            " 인플레이션은 경제에서 중요한 역할을 합니다. 인플레이션은 물가 상승을 의미하며, 이는 경제에서 생산과 소비를 조절하는 데 중요한 역할을 합니다. 인플레이션은 경제의 총 생산량을 증가시키고, 소비자들의 구매력을 증가시킵니다. 그러나 너무 높은 인플레이션은 경제에 부정적인 영향을 미칠 수 있습니다. 높은 인플레이션은 경제의 안정성을 떨어뜨리고, 소비자들의 구매력을 떨어뜨릴 수 있습니다. 또한, 높은 인플레이션은 기업의 생산비용을 증가시키고, 기업의 이윤을 감소시킬 수 있습니다. 따라서, 정부는 인플레이션을 관리하기 위해 적절한 정책을 취해야 합니다. 예를 들어, 중앙은행은 인플레이션을 관리하기 위해 금리를 조절할 수 있습니다. 또한, 정부는 공공 서비스와 인프라를 투자하여 경제의 안정성을 유지하고, 소비자들의 구매력을 증가시킬 수 있습니다. 결론적으로, 인플레이션은 경제에서 중요한 역할을 하며, 적절한 관리가 없다면 부\n",
            "dpo_output_1_cpk_10 model result ------\n"
          ]
        },
        {
          "output_type": "stream",
          "name": "stderr",
          "text": [
            "Processed prompts: 100%|██████████| 1/1 [00:04<00:00,  4.55s/it, Generation Speed: 56.24 toks/s]\n"
          ]
        },
        {
          "output_type": "stream",
          "name": "stdout",
          "text": [
            " 인플레이션은 경제에서 중요한 개념 중 하나로, 통화량의 증가로 인해 물가가 상승하는 현상을 의미합니다. 인플레이션은 경제의 성장과 관련이 있으며, 경제가 성장할수록 인플레이션도 증가할 수 있습니다. 그러나 인플레이션은 일정 수준을 넘으면 경제에 부정적인 영향을 미칠 수 있습니다. 인플레이션은 물가 상승으로 인해 소비자들의 구매력과 소득이 감소하고, 기업의 생산비용이 증가하여 기업의 이윤이 감소할 수 있습니다. 또한 인플레이션은 금리 인상으로 인해 금융시장의 불안감을 유발하고, 투자와 경제 성장에 부정적인 영향을 미칠 수 있습니다. 인플레이션을 관리하기 위해 중앙은행은 통화량을 조절하고 금리를 조정하여 인플레이션을 억제하는 노력을 기울입니다. 인플레이션은 경제의 성장과 관련이 있지만, 지나친 인플레이션은 경제에 부정적인 영향을 미칠 수 있으므로 적절한 관리가 필요합니다.    \n",
            "\n",
            "dpo_output_1_cpk_20 model result ------\n"
          ]
        },
        {
          "output_type": "stream",
          "name": "stderr",
          "text": [
            "Processed prompts: 100%|██████████| 1/1 [00:03<00:00,  3.44s/it, Generation Speed: 54.32 toks/s]\n"
          ]
        },
        {
          "output_type": "stream",
          "name": "stdout",
          "text": [
            " 인플레이션은 경제에서 중요한 요소 중 하나로, 통화량의 증가로 인해 물가가 상승하는 현상을 말합니다. 인플레이션은 경제의 성장과 관련이 있으며, 경제가 성장할수록 인플레이션도 증가할 수 있습니다. 그러나 인플레이션은 일정 수준을 넘으면 경제에 부정적인 영향을 미칠 수 있습니다. 인플레이션은 소비자들의 구매력과 소득을 떨어뜨릴 수 있으며, 기업의 생산비용을 증가시켜 이윤을 감소시킬 수 있습니다. 또한 인플레이션은 금리 인상으로 이어질 수 있으며, 이는 경제 성장과 투자에 부정적인 영향을 미칠 수 있습니다. 따라서 인플레이션은 경제의 안정성과 성장을 위해 관리되어야 하는 중요한 요소입니다.\n",
            "\n",
            "dpo_output_1_cpk_30 model result ------\n"
          ]
        },
        {
          "output_type": "stream",
          "name": "stderr",
          "text": [
            "Processed prompts: 100%|██████████| 1/1 [00:03<00:00,  3.48s/it, Generation Speed: 55.28 toks/s]\n"
          ]
        },
        {
          "output_type": "stream",
          "name": "stdout",
          "text": [
            " 인플레이션은 경제에서 중요한 요소 중 하나로, 통화량의 증가로 인해 물가가 상승하는 현상을 말합니다. 인플레이션은 경제의 성장과 관련이 있으며, 경제가 성장할수록 인플레이션도 증가할 수 있습니다. 그러나 인플레이션은 일정 수준을 넘으면 경제에 부정적인 영향을 미칠 수 있습니다. 인플레이션은 소비자들의 구매력과 소득을 떨어뜨릴 수 있으며, 기업의 생산비용을 증가시켜 기업의 이윤을 감소시킬 수 있습니다. 또한 인플레이션은 금리 인상으로 이어질 수 있으며, 이는 경제 성장과 투자에 부정적인 영향을 미칠 수 있습니다. 따라서 인플레이션은 경제의 안정성과 성장을 위해 적절한 수준을 유지하는 것이 중요합니다.\n",
            "\n",
            "dpo_output_1_cpk_40 model result ------\n"
          ]
        },
        {
          "output_type": "stream",
          "name": "stderr",
          "text": [
            "Processed prompts: 100%|██████████| 1/1 [00:03<00:00,  3.14s/it, Generation Speed: 54.74 toks/s]\n"
          ]
        },
        {
          "output_type": "stream",
          "name": "stdout",
          "text": [
            " 인플레이션은 경제에서 중요한 역할을 합니다. 인플레이션은 물가 상승을 의미하며, 이는 경제에서 생산과 소비를 조절하는 데 중요한 역할을 합니다. 인플레이션은 경제의 총 생산량을 증가시키고, 소비자들의 구매력을 증가시킵니다. 그러나 너무 높은 인플레이션은 경제에 부정적인 영향을 미칠 수 있습니다. 높은 인플레이션은 경제의 안정성을 저하시키고, 소비자들의 구매력을 떨어뜨릴 수 있습니다. 또한, 높은 인플레이션은 기업의 생산비용을 증가시키고, 기업의 이윤을 감소시킬 수 있습니다. 따라서, 정부는 인플레이션을 관리하기 위해 적절한 정책을 취해야 합니다.\n",
            "\n",
            "dpo_output_2_cpk_10 model result ------\n"
          ]
        },
        {
          "output_type": "stream",
          "name": "stderr",
          "text": [
            "Processed prompts: 100%|██████████| 1/1 [00:04<00:00,  4.60s/it, Generation Speed: 55.67 toks/s]\n"
          ]
        },
        {
          "output_type": "stream",
          "name": "stdout",
          "text": [
            " 인플레이션은 경제에서 중요한 역할을 합니다. 인플레이션은 물가 상승을 의미하며, 이는 경제에서 생산과 소비를 조절하는 데 중요한 역할을 합니다. 인플레이션은 경제의 총 생산량을 증가시키고, 소비자들이 더 많은 것을 구매할 수 있도록 합니다. 그러나 인플레이션은 너무 높은 수준으로 치솟으면, 경제의 안정성을 위협할 수 있습니다. 인플레이션은 경제의 성장과 고용을 촉진할 수 있지만, 너무 높은 수준으로 치솟으면, 경제의 안정성을 위협할 수 있습니다. 인플레이션은 경제의 총 생산량을 증가시키고, 소비자들이 더 많은 것을 구매할 수 있도록 합니다. 그러나 인플레이션은 너무 높은 수준으로 치솟으면, 경제의 안정성을 위협할 수 있습니다. 인플레이션은 경제의 성장과 고용을 촉진할 수 있지만, 너무 높은 수준으로 치솟으면, 경제의 안정성을 위협할 수 있습니다. 인플레이션은 경제의 총 생산량을 증가시키고, 소비자\n",
            "\n",
            "dpo_output_2_cpk_20 model result ------\n"
          ]
        },
        {
          "output_type": "stream",
          "name": "stderr",
          "text": [
            "Processed prompts: 100%|██████████| 1/1 [00:04<00:00,  4.61s/it, Generation Speed: 55.51 toks/s]\n"
          ]
        },
        {
          "output_type": "stream",
          "name": "stdout",
          "text": [
            " 인플레이션은 경제에서 발생하는 물가 상승을 의미합니다. 인플레이션은 경제의 여러 가지 측면에 영향을 미칠 수 있습니다. 인플레이션은 소비자들이 물가를 더 높게 인식하게 하여 소비를 줄이는 데 영향을 미칠 수 있습니다. 이는 기업들이 더 많은 수익을 내기 위해 가격을 올리게 하여, 결국 소비자들이 더 많은 돈을 지출하게 되는 악순환을 일으킬 수 있습니다. 인플레이션은 또한 기업들이 더 많은 수익을 내기 위해 생산을 늘리게 하여, 결국 인플레이션을 더욱 악화시키는 원인이 될 수 있습니다. 인플레이션은 또한 금융 시장에 영향을 미칠 수 있습니다. 인플레이션은 금융 시장에서 금리를 올리게 하여, 금융 기관들이 더 많은 이자를 받게 되고, 결국 소비자들이 더 많은 돈을 지출하게 되는 악순환을 일으킬 수 있습니다. 인플레이션은 또한 국가의 경제 성장률을 낮추고, 국가의 경쟁력을 떨어뜨릴 수 있습니다. 인플레이션은\n",
            "\n",
            "dpo_output_2_cpk_30 model result ------\n"
          ]
        },
        {
          "output_type": "stream",
          "name": "stderr",
          "text": [
            "Processed prompts: 100%|██████████| 1/1 [00:04<00:00,  4.05s/it, Generation Speed: 54.82 toks/s]\n"
          ]
        },
        {
          "output_type": "stream",
          "name": "stdout",
          "text": [
            " 인플레이션은 경제에 여러 가지 영향을 미칩니다. 인플레이션은 물가 상승을 의미하며, 이는 소비자들이 구매할 수 있는 물건의 양을 줄이는 결과를 낳습니다. 이는 소비자들이 더 많은 돈을 지출해야 하기 때문에 소비가 감소하게 됩니다. 이는 생산자들에게도 영향을 미칩니다. 생산자들은 더 많은 수익을 원하기 때문에 가격을 올리게 되고, 이는 소비자들에게 더 많은 물가를 부담하게 됩니다. 인플레이션은 또한 금융 시장에도 영향을 미칩니다. 인플레이션은 금리 상승을 유발할 수 있으며, 이는 금융 시장의 투자자들에게 부담을 주게 됩니다. 인플레이션은 또한 국가의 경제 성장률을 낮추고, 실업률을 높이는 결과를 낳을 수 있습니다. 인플레이션은 경제에 미치는 영향은 다양하며, 이를 관리하기 위해서는 적절한 정책이 필요합니다.    \n",
            "\n",
            "dpo_output_2_cpk_40 model result ------\n"
          ]
        },
        {
          "output_type": "stream",
          "name": "stderr",
          "text": [
            "Processed prompts: 100%|██████████| 1/1 [00:01<00:00,  1.21s/it, Generation Speed: 45.59 toks/s]"
          ]
        },
        {
          "output_type": "stream",
          "name": "stdout",
          "text": [
            " 인플레이션은 경제에 미치는 영향은 물가 상승으로 인해 소비자들의 구매력이 떨어지고, 기업의 생산비용이 증가하여 기업의 이윤이 감소하는 등 경제에 부정적인 영향을 미친다.\n",
            "\n"
          ]
        },
        {
          "output_type": "stream",
          "name": "stderr",
          "text": [
            "\n"
          ]
        }
      ]
    },
    {
      "cell_type": "code",
      "source": [
        "for idx, question in enumerate(questions):\n",
        "  print(f\"Question_{idx}: {question}\")\n",
        "  print(\"Default model result -----\")\n",
        "  print(generate_text(raw_input = question, lora_mode = \"default\"))\n",
        "  for mode in [\"dpo_output_1_cpk_40\", \"dpo_output_2_cpk_40\"]:\n",
        "    print(f\"{mode} model result ------\")\n",
        "    print(generate_text(raw_input = question, lora_mode = mode))\n",
        "    print()"
      ],
      "metadata": {
        "colab": {
          "base_uri": "https://localhost:8080/"
        },
        "id": "WRPjbJKNFpaa",
        "outputId": "ca5c07d8-93bd-47d9-9501-2f6a199970df"
      },
      "execution_count": null,
      "outputs": [
        {
          "output_type": "stream",
          "name": "stdout",
          "text": [
            "Question_0: List three ways to reduce plastic waste in daily life.\n",
            "Default model result -----\n"
          ]
        },
        {
          "output_type": "stream",
          "name": "stderr",
          "text": [
            "Processed prompts: 100%|██████████| 1/1 [00:00<00:00,  1.30it/s, Generation Speed: 60.17 toks/s]\n"
          ]
        },
        {
          "output_type": "stream",
          "name": "stdout",
          "text": [
            " - Reduce the use of single-use plastic items such as straws, bags, and utensils.\n",
            "     - Use reusable containers and bags for shopping and carrying food.\n",
            "     - Recycle plastic items properly and avoid littering.\n",
            "dpo_output_1_cpk_40 model result ------\n"
          ]
        },
        {
          "output_type": "stream",
          "name": "stderr",
          "text": [
            "Processed prompts: 100%|██████████| 1/1 [00:01<00:00,  1.18s/it, Generation Speed: 45.88 toks/s]\n"
          ]
        },
        {
          "output_type": "stream",
          "name": "stdout",
          "text": [
            " 1. Reduce the use of single-use plastic items such as straws, plastic bags, and disposable cutlery.\n",
            "     2. Use reusable containers and bags for food and shopping.\n",
            "     3. Recycle plastic items properly and avoid littering.\n",
            "\n",
            "dpo_output_2_cpk_40 model result ------\n"
          ]
        },
        {
          "output_type": "stream",
          "name": "stderr",
          "text": [
            "Processed prompts: 100%|██████████| 1/1 [00:00<00:00,  1.30it/s, Generation Speed: 39.24 toks/s]\n"
          ]
        },
        {
          "output_type": "stream",
          "name": "stdout",
          "text": [
            " 1. Use reusable bags for shopping.\n",
            "     2. Avoid using plastic straws.\n",
            "     3. Use reusable water bottles.    \n",
            "\n",
            "Question_1: Write a haiku about artificial intelligence\n",
            "Default model result -----\n"
          ]
        },
        {
          "output_type": "stream",
          "name": "stderr",
          "text": [
            "Processed prompts: 100%|██████████| 1/1 [00:00<00:00,  3.68it/s, Generation Speed: 59.08 toks/s]\n"
          ]
        },
        {
          "output_type": "stream",
          "name": "stdout",
          "text": [
            " Artificial intelligence\n",
            "    A world of possibilities\n",
            "    A future to explore    \n",
            "dpo_output_1_cpk_40 model result ------\n"
          ]
        },
        {
          "output_type": "stream",
          "name": "stderr",
          "text": [
            "Processed prompts: 100%|██████████| 1/1 [00:00<00:00,  1.82it/s, Generation Speed: 29.19 toks/s]\n"
          ]
        },
        {
          "output_type": "stream",
          "name": "stdout",
          "text": [
            " Artificial intelligence\n",
            "    A world of possibilities\n",
            "    A future to explore    \n",
            "\n",
            "dpo_output_2_cpk_40 model result ------\n"
          ]
        },
        {
          "output_type": "stream",
          "name": "stderr",
          "text": [
            "Processed prompts: 100%|██████████| 1/1 [00:00<00:00,  1.56it/s, Generation Speed: 34.48 toks/s]\n"
          ]
        },
        {
          "output_type": "stream",
          "name": "stdout",
          "text": [
            " AI, the future\n",
            "    Is it a blessing or a curse?\n",
            "    Only time will tell.    \n",
            "\n",
            "Question_2: How can I improve my public speaking skills?\n",
            "Default model result -----\n"
          ]
        },
        {
          "output_type": "stream",
          "name": "stderr",
          "text": [
            "Processed prompts: 100%|██████████| 1/1 [00:04<00:00,  4.12s/it, Generation Speed: 62.17 toks/s]\n"
          ]
        },
        {
          "output_type": "stream",
          "name": "stdout",
          "text": [
            " Improving your public speaking skills can be a challenging but rewarding process. Here are some tips that may help you:\n",
            "\n",
            "    1. Practice: The more you practice, the more comfortable you will become with public speaking. Start by giving speeches to friends or family members, and gradually work your way up to larger audiences.\n",
            "\n",
            "    2. Prepare: Take the time to prepare your speech thoroughly. This includes researching your topic, organizing your thoughts, and practicing your delivery.\n",
            "\n",
            "    3. Use visual aids: Visual aids such as PowerPoint presentations or handouts can help to keep your audience engaged and make your speech more memorable.\n",
            "\n",
            "    4. Be confident: Believe in yourself and your ability to deliver a great speech. Remember that everyone feels nervous before speaking in public, but with practice and preparation, you can overcome your fears.\n",
            "\n",
            "    5. Connect with your audience: Make eye contact with your audience and use body language to convey your message. Try to relate your speech to the audience's interests and experiences.\n",
            "\n",
            "    6. Be authentic: Speak from the heart and be yourself. Your audience will appreciate your honesty and sincerity.\n",
            "\n",
            "    7. Seek feedback: After each speech, ask for feedback from your audience or a trusted friend or colleague. This can help you identify\n",
            "dpo_output_1_cpk_40 model result ------\n"
          ]
        },
        {
          "output_type": "stream",
          "name": "stderr",
          "text": [
            "Processed prompts: 100%|██████████| 1/1 [00:04<00:00,  4.64s/it, Generation Speed: 55.20 toks/s]\n"
          ]
        },
        {
          "output_type": "stream",
          "name": "stdout",
          "text": [
            " There are several ways you can improve your public speaking skills:\n",
            "\n",
            "    1. Practice: The more you practice, the more comfortable you will become with public speaking. Start by giving speeches to friends or family members, and gradually work your way up to larger audiences.\n",
            "\n",
            "    2. Prepare: Before giving a speech, take the time to prepare and organize your thoughts. This will help you feel more confident and in control of the situation.\n",
            "\n",
            "    3. Use visual aids: Using visual aids such as PowerPoint presentations or handouts can help keep your audience engaged and make your speech more memorable.\n",
            "\n",
            "    4. Be confident: Believe in yourself and your ability to deliver a great speech. Remember that everyone feels nervous before speaking in public, but with practice and preparation, you can overcome your fears and deliver a great speech.\n",
            "\n",
            "    5. Connect with your audience: Make eye contact with your audience and use body language to convey your message. This will help you connect with your audience and make your speech more engaging.\n",
            "\n",
            "    6. Be authentic: Be yourself when giving a speech. Your audience will appreciate your honesty and authenticity, and it will make your speech more memorable.\n",
            "\n",
            "    7. Seek feedback: After giving a speech, ask for feedback from your audience. This\n",
            "\n",
            "dpo_output_2_cpk_40 model result ------\n"
          ]
        },
        {
          "output_type": "stream",
          "name": "stderr",
          "text": [
            "Processed prompts: 100%|██████████| 1/1 [00:00<00:00,  1.32it/s, Generation Speed: 39.60 toks/s]\n"
          ]
        },
        {
          "output_type": "stream",
          "name": "stdout",
          "text": [
            " I can improve my public speaking skills by practicing in front of the mirror, joining a public speaking club, and watching videos of other speakers.    \n",
            "\n",
            "Question_3: AI 분야에서 사용하는 LLM이라는 용어가 뭔지 설명해줘\n",
            "Default model result -----\n"
          ]
        },
        {
          "output_type": "stream",
          "name": "stderr",
          "text": [
            "Processed prompts: 100%|██████████| 1/1 [00:02<00:00,  2.86s/it, Generation Speed: 62.37 toks/s]\n"
          ]
        },
        {
          "output_type": "stream",
          "name": "stdout",
          "text": [
            " LLM, Large Language Model,는 인공지능(AI) 분야에서 사용되는 모델의 하나로, 대규모의 텍스트 데이터를 학습하여 언어를 이해하고 생성하는 능력을 갖춘 모델입니다. LLM은 자연어 처리(NLP) 분야에서 널리 사용되며, 다양한 응용 분야에서 활용되고 있습니다. LLM은 텍스트를 이해하고, 문맥을 파악하며, 문장이나 문단을 생성하는 능력을 갖추고 있습니다. 이를 통해 LLM은 다양한 분야에서 사용되며, 예를 들어, 번역, 질문과 답변, 문서 생성, 대화 생성 등 다양한 응용 분야에서 활용되고 있습니다. LLM은 인공지능(AI) 분야에서 중요한 역할을 하고 있으며, 향후 더욱 발전할 것으로 기대되고 있습니다.    \n",
            "dpo_output_1_cpk_40 model result ------\n"
          ]
        },
        {
          "output_type": "stream",
          "name": "stderr",
          "text": [
            "Processed prompts: 100%|██████████| 1/1 [00:02<00:00,  2.74s/it, Generation Speed: 53.27 toks/s]\n"
          ]
        },
        {
          "output_type": "stream",
          "name": "stdout",
          "text": [
            " LLM, Large Language Model,는 인공지능(AI) 분야에서 사용되는 모델의 하나로, 자연어 처리(NLP) 분야에서 널리 사용되고 있습니다. LLM은 대규모의 텍스트 데이터를 학습하여 언어의 구조와 의미를 이해하고, 자연어를 이해하고 생성하는 능력을 갖추도록 설계된 모델입니다. LLM은 다양한 분야에서 사용되며, 예를 들어, 번역, 질문과 답변, 문서 생성, 챗봇 등에 사용됩니다. LLM은 인공지능의 발전을 이끌고 있으며, 향후 더욱 발전된 모델이 개발될 것으로 기대됩니다.    \n",
            "\n",
            "dpo_output_2_cpk_40 model result ------\n"
          ]
        },
        {
          "output_type": "stream",
          "name": "stderr",
          "text": [
            "Processed prompts: 100%|██████████| 1/1 [00:02<00:00,  2.69s/it, Generation Speed: 53.84 toks/s]\n"
          ]
        },
        {
          "output_type": "stream",
          "name": "stdout",
          "text": [
            "LLM은 Large Language Model의 약자로, 대규모 언어 모델을 의미한다. LLM은 텍스트를 입력으로 받아 텍스트를 생성하거나, 텍스트를 이해하고 해석하는 능력을 가질 수 있는 인공지능 모델이다. LLM은 자연어 처리(NLP) 분야에서 사용되는 모델로, 대규모 텍스트 데이터를 학습시켜서 언어를 이해하고, 언어를 생성하는 능력을 가질 수 있도록 훈련된다. LLM은 대화형 챗봇, 번역, 요약, 질문과 답변, 문서 생성, 자연어 이해 등 다양한 분야에서 사용되고 있다.    \n",
            "\n",
            "Question_4: What is a famous tall tower in Paris?\n",
            "Default model result -----\n"
          ]
        },
        {
          "output_type": "stream",
          "name": "stderr",
          "text": [
            "Processed prompts: 100%|██████████| 1/1 [00:01<00:00,  1.94s/it, Generation Speed: 61.86 toks/s]\n"
          ]
        },
        {
          "output_type": "stream",
          "name": "stdout",
          "text": [
            " The Eiffel Tower is a famous tall tower in Paris, France. It was built in 1889 for the World's Fair and stands at a height of 324 meters (1,063 feet). It is the tallest structure in Paris and one of the most recognizable landmarks in the world. The tower is made of wrought iron and has three levels, each with its own observation deck. Visitors can take an elevator or climb the stairs to the top for panoramic views of the city. The Eiffel Tower is a popular tourist destination and is visited by millions of people each year.    \n",
            "dpo_output_1_cpk_40 model result ------\n"
          ]
        },
        {
          "output_type": "stream",
          "name": "stderr",
          "text": [
            "Processed prompts: 100%|██████████| 1/1 [00:02<00:00,  2.28s/it, Generation Speed: 52.55 toks/s]\n"
          ]
        },
        {
          "output_type": "stream",
          "name": "stdout",
          "text": [
            " The Eiffel Tower is a famous tall tower in Paris, France. It was built in 1889 for the World's Fair and stands at a height of 324 meters (1,063 feet). It is the tallest structure in Paris and one of the most recognizable landmarks in the world. The tower is made of wrought iron and has three levels, each with its own observation deck. Visitors can take an elevator or climb the stairs to the top for panoramic views of the city. The Eiffel Tower is a popular tourist destination and is visited by millions of people each year.    \n",
            "\n",
            "dpo_output_2_cpk_40 model result ------\n"
          ]
        },
        {
          "output_type": "stream",
          "name": "stderr",
          "text": [
            "Processed prompts: 100%|██████████| 1/1 [00:00<00:00,  2.55it/s, Generation Speed: 20.44 toks/s]\n"
          ]
        },
        {
          "output_type": "stream",
          "name": "stdout",
          "text": [
            " The Eiffel Tower.    \n",
            "\n",
            "Question_5: What is Fine-Tuning?\n",
            "Default model result -----\n"
          ]
        },
        {
          "output_type": "stream",
          "name": "stderr",
          "text": [
            "Processed prompts: 100%|██████████| 1/1 [00:04<00:00,  4.11s/it, Generation Speed: 62.35 toks/s]\n"
          ]
        },
        {
          "output_type": "stream",
          "name": "stdout",
          "text": [
            " Fine-tuning is a machine learning technique that involves training a model on a specific task by adjusting its parameters to improve its performance on that task. It is a common practice in natural language processing (NLP) and computer vision, where models are often pre-trained on large datasets and then fine-tuned on smaller, task-specific datasets to improve their accuracy and generalization.\n",
            "\n",
            "     In fine-tuning, the model's parameters are updated using a combination of the pre-trained weights and the new data. This allows the model to retain the knowledge it has learned from the pre-training phase while also adapting to the specific requirements of the new task. The amount of fine-tuning required depends on the complexity of the task and the size of the dataset, with more complex tasks and smaller datasets requiring more fine-tuning.\n",
            "\n",
            "     Fine-tuning is an effective way to improve the performance of a model on a specific task without having to start from scratch. It can also help to reduce the time and resources required to train a model, as the pre-trained weights can be used as a starting point for the fine-tuning process. However, it is important to note that fine-tuning can also introduce bias and overfitting if not done carefully, so it is important to monitor the model's performance\n",
            "dpo_output_1_cpk_40 model result ------\n"
          ]
        },
        {
          "output_type": "stream",
          "name": "stderr",
          "text": [
            "Processed prompts: 100%|██████████| 1/1 [00:04<00:00,  4.63s/it, Generation Speed: 55.33 toks/s]\n"
          ]
        },
        {
          "output_type": "stream",
          "name": "stdout",
          "text": [
            " Fine-tuning is a machine learning technique that involves training a model on a specific task or dataset, using a pre-trained model as a starting point. The goal of fine-tuning is to improve the performance of the model on the target task by adjusting the model's parameters to better fit the new data.\n",
            "\n",
            "     Fine-tuning is often used when the target task is similar to the task the pre-trained model was trained on, but with some differences in the data or the specific requirements of the task. For example, a pre-trained model for image classification may be fine-tuned for object detection, or a pre-trained model for language translation may be fine-tuned for text summarization.\n",
            "\n",
            "     The process of fine-tuning typically involves loading the pre-trained model, freezing the layers that are not relevant to the target task, and then training the remaining layers on the new data. This allows the model to retain the knowledge it has learned from the pre-training process, while also adapting to the new data and task.\n",
            "\n",
            "     Fine-tuning can be a powerful tool for improving the performance of machine learning models, as it allows for faster training and better performance on the target task. However, it is important to carefully select the pre-trained model and the training data to ensure that the model is\n",
            "\n",
            "dpo_output_2_cpk_40 model result ------\n"
          ]
        },
        {
          "output_type": "stream",
          "name": "stderr",
          "text": [
            "Processed prompts: 100%|██████████| 1/1 [00:00<00:00,  1.00it/s, Generation Speed: 44.27 toks/s]\n"
          ]
        },
        {
          "output_type": "stream",
          "name": "stdout",
          "text": [
            " Fine-tuning is a machine learning technique that involves training a model on a new dataset while keeping the weights of the model fixed. This technique is used to improve the performance of a model on a specific task.    \n",
            "\n",
            "Question_6: 15와 25의 최소공배수를 구하시오.\n",
            "Default model result -----\n"
          ]
        },
        {
          "output_type": "stream",
          "name": "stderr",
          "text": [
            "Processed prompts: 100%|██████████| 1/1 [00:00<00:00,  3.46it/s, Generation Speed: 59.10 toks/s]\n"
          ]
        },
        {
          "output_type": "stream",
          "name": "stdout",
          "text": [
            " 15와 25의 최소공배수는 75입니다.\n",
            "dpo_output_1_cpk_40 model result ------\n"
          ]
        },
        {
          "output_type": "stream",
          "name": "stderr",
          "text": [
            "Processed prompts: 100%|██████████| 1/1 [00:00<00:00,  1.80it/s, Generation Speed: 30.69 toks/s]\n"
          ]
        },
        {
          "output_type": "stream",
          "name": "stdout",
          "text": [
            " 15와 25의 최소공배수는 75입니다.\n",
            "\n",
            "dpo_output_2_cpk_40 model result ------\n"
          ]
        },
        {
          "output_type": "stream",
          "name": "stderr",
          "text": [
            "Processed prompts: 100%|██████████| 1/1 [00:00<00:00,  3.31it/s, Generation Speed: 6.64 toks/s]\n"
          ]
        },
        {
          "output_type": "stream",
          "name": "stdout",
          "text": [
            "25\n",
            "\n",
            "Question_7: 제2차 세계대전의 주요 원인은 무엇이었나요?\n",
            "Default model result -----\n"
          ]
        },
        {
          "output_type": "stream",
          "name": "stderr",
          "text": [
            "Processed prompts: 100%|██████████| 1/1 [00:03<00:00,  3.39s/it, Generation Speed: 62.20 toks/s]\n"
          ]
        },
        {
          "output_type": "stream",
          "name": "stdout",
          "text": [
            " 제2차 세계대전의 주요 원인은 여러 가지가 있지만, 가장 큰 원인은 나치 독일의 확장주의 정책과 일본의 군국주의 정책이 있습니다. 나치 독일은 1930년대에 제1차 세계대전 이후의 약화된 독일을 복원하고, 독일의 영토를 확장하기 위해 제2차 세계대전을 일으켰습니다. 일본은 1930년대에 중국과 동남아시아의 영토를 확장하기 위해 제2차 세계대전을 시작했습니다. 두 나라는 각각의 확장주의 정책을 위해 전쟁을 일으켰고, 결국은 서로의 영토를 침공하고, 전쟁이 확대되었습니다. 제2차 세계대전은 나치 독일과 일본의 확장주의 정책이 주요 원인으로, 많은 국가와 민족이 피해를 입었고, 수많은 인명과 재산 피해를 낳았습니다.    \n",
            "dpo_output_1_cpk_40 model result ------\n"
          ]
        },
        {
          "output_type": "stream",
          "name": "stderr",
          "text": [
            "Processed prompts: 100%|██████████| 1/1 [00:03<00:00,  3.20s/it, Generation Speed: 54.70 toks/s]\n"
          ]
        },
        {
          "output_type": "stream",
          "name": "stdout",
          "text": [
            " 제2차 세계대전의 주요 원인은 여러 가지가 있지만, 가장 큰 원인은 나치 독일의 확장주의 정책과 일본의 군국주의 정책이 있다. 나치 독일은 1930년대에 제1차 세계대전 이후의 약화된 독일을 재건하기 위해 강력한 군사력을 구축하고, 나치당의 지도자인 아돌프 히틀러는 유럽을 제국주의적 식민지로 만들기 위해 여러 국가를 침공했다. 일본은 1930년대에 중국을 침공하고, 동남아시아와 태평양 지역을 점령하기 위해 군사력을 확장했다. 이러한 확장주의 정책은 다른 국가들과의 갈등을 야기했고, 결국 제2차 세계대전으로 발전했다.\n",
            "\n",
            "dpo_output_2_cpk_40 model result ------\n"
          ]
        },
        {
          "output_type": "stream",
          "name": "stderr",
          "text": [
            "Processed prompts: 100%|██████████| 1/1 [00:00<00:00,  1.13it/s, Generation Speed: 43.17 toks/s]\n"
          ]
        },
        {
          "output_type": "stream",
          "name": "stdout",
          "text": [
            " 제2차 세계대전의 주요 원인은 나치 독일의 확장주의적 야망과 일본의 군국주의적 야망이 있었던 것으로 보입니다.    \n",
            "\n",
            "Question_8: 광합성 과정을 간단히 설명해주세요.\n",
            "Default model result -----\n"
          ]
        },
        {
          "output_type": "stream",
          "name": "stderr",
          "text": [
            "Processed prompts: 100%|██████████| 1/1 [00:02<00:00,  2.74s/it, Generation Speed: 62.12 toks/s]\n"
          ]
        },
        {
          "output_type": "stream",
          "name": "stdout",
          "text": [
            " 광합성은 식물이 태양광을 이용하여 탄수화물, 단백질, 지방을 합성하는 과정입니다. 이 과정은 광합성 속에서 일어나는 빛에 의한 화학 반응을 통해 이루어집니다. 광합성은 식물이 자라는 데 필요한 에너지를 얻는 데 중요한 역할을 합니다. 식물은 광합성 과정에서 수소를 얻고, 이 수소는 탄소와 결합하여 탄수화물을 합성합니다. 이 탄수화물은 식물의 성장과 발달에 필요한 에너지를 제공합니다. 광합성은 식물이 태양광을 이용하여 에너지를 얻는 데 중요한 과정이며, 식물이 자라는 데 필수적인 역할을 합니다.    \n",
            "dpo_output_1_cpk_40 model result ------\n"
          ]
        },
        {
          "output_type": "stream",
          "name": "stderr",
          "text": [
            "Processed prompts: 100%|██████████| 1/1 [00:04<00:00,  4.57s/it, Generation Speed: 56.00 toks/s]\n"
          ]
        },
        {
          "output_type": "stream",
          "name": "stdout",
          "text": [
            " 광합성은 식물이 태양광을 이용하여 탄수화물, 단백질, 지방을 합성하는 과정입니다. 이 과정은 광합성 속에서 일어나는 빛에 의한 화학 반응을 통해 이루어집니다. 광합성은 식물이 자라는 데 필요한 에너지를 얻는 데 중요한 역할을 합니다. 식물이 광합성 과정을 통해 에너지를 얻으면, 이 에너지를 이용하여 성장하고, 생장하고, 번식할 수 있습니다. 광합성은 식물이 태양광을 이용하여 탄수화물을 합성하는 과정입니다. 식물은 광합성 속에서 일어나는 빛에 의한 화학 반응을 통해 탄수화물을 합성합니다. 이 과정은 식물이 태양광을 이용하여 수소를 얻고, 이 수소를 탄소와 결합하여 탄수화물을 합성하는 과정입니다. 광합성은 식물이 자라는 데 필요한 에너지를 얻는 데 중요한 역할을 합니다. 식물이 광합성 과정을 통해 에너지를 얻으면, 이 에너지를 이용하여 성장하고, 생장하고, 번식할 수\n",
            "\n",
            "dpo_output_2_cpk_40 model result ------\n"
          ]
        },
        {
          "output_type": "stream",
          "name": "stderr",
          "text": [
            "Processed prompts: 100%|██████████| 1/1 [00:00<00:00,  1.25it/s, Generation Speed: 38.81 toks/s]\n"
          ]
        },
        {
          "output_type": "stream",
          "name": "stdout",
          "text": [
            " 광합성은 식물이 태양광을 이용하여 탄수화물, 단백질, 지방을 합성하는 과정입니다.\n",
            "\n",
            "Question_9: 셰익스피어의 '햄릿'에서 주인공의 성격을 분석해보세요.\n",
            "Default model result -----\n"
          ]
        },
        {
          "output_type": "stream",
          "name": "stderr",
          "text": [
            "Processed prompts: 100%|██████████| 1/1 [00:04<00:00,  4.12s/it, Generation Speed: 62.16 toks/s]\n"
          ]
        },
        {
          "output_type": "stream",
          "name": "stdout",
          "text": [
            " 햄릿은 셰익스피어의 대표적인 주인공 중 하나로, '햄릿'의 주인공이자 이름을 따온 인물입니다. 햄릿은 아버지인 왕 클레이토의 죽음에 대해 슬퍼하고, 그 죽음의 원인을 알기 위해 아버지의 유언을 읽습니다. 그러나 유언은 햄릿의 어머니인 퀸 가르디언과 왕의 사촌인 로더릭이 죽은 후에야 햄릿에게 전달됩니다. 햄릿은 유언을 읽고, 아버지의 죽음의 원인을 알게 되면서, 복수심에 휩싸입니다. 햄릿은 복수를 위해 아버지의 친구이자 왕의 사촌인 폴로니우스를 죽이고, 왕의 사촌인 로더릭을 죽이려 합니다. 그러나 햄릿은 복수를 위해 자신의 친구인 호라티오를 죽이게 되고, 결국 햄릿은 복수에 대한 열망과 자신의 행동에 대한 후회로 고통받게 됩니다. 햄릿은 복수에 대한 열망과 자신의 행동에 대한 후회로 고통받는 한\n",
            "dpo_output_1_cpk_40 model result ------\n"
          ]
        },
        {
          "output_type": "stream",
          "name": "stderr",
          "text": [
            "Processed prompts: 100%|██████████| 1/1 [00:04<00:00,  4.58s/it, Generation Speed: 55.96 toks/s]\n"
          ]
        },
        {
          "output_type": "stream",
          "name": "stdout",
          "text": [
            " 햄릿은 셰익스피어의 대표적인 작품 중 하나인 '햄릿'의 주인공으로, 왕의 아들로 태어나 왕위에 오를 기대를 품고 있지만, 아버지의 죽음으로 인해 왕위에 오를 수 없게 되고, 아버지의 죽음에 대한 복수심과 자신의 운명을 결정할 수 없다는 좌절감을 느끼며, 혼란스러운 심리를 보인다.\n",
            "\n",
            "     햄릿은 아버지의 죽음에 대한 복수심을 느끼며, 아버지의 유령을 만난 후, 복수심을 채우기 위해 아버지의 유령을 죽이려 한다. 하지만, 아버지의 유령이 자신을 죽이려 한다는 사실을 알게 되고, 자신의 복수심을 채우기 위해 아버지의 유령을 죽이려는 계획을 포기한다. 이에, 햄릿은 자신의 복수심을 채우기 위해 아버지의 유령을 죽이려는 계획을 포기하고, 아버지의 유령을 죽이려는 계획을 포기한다.\n",
            "\n",
            "     햄릿은 자신의 운명을 결정할 수 없다는 좌절감을 느\n",
            "\n",
            "dpo_output_2_cpk_40 model result ------\n"
          ]
        },
        {
          "output_type": "stream",
          "name": "stderr",
          "text": [
            "Processed prompts: 100%|██████████| 1/1 [00:01<00:00,  1.71s/it, Generation Speed: 50.45 toks/s]\n"
          ]
        },
        {
          "output_type": "stream",
          "name": "stdout",
          "text": [
            " Hamlet is a complex character. He is a prince who is torn between his duty to his father and his desire to avenge his death. He is intelligent, thoughtful, and philosophical, but also prone to fits of rage and melancholy. He is a man of action, but also a man of thought. He is a man of contradictions, and his character is one of the most complex in all of literature.    \n",
            "\n",
            "Question_10: 기후 변화가 전 세계적으로 미치는 영향에 대해 설명해주세요.\n",
            "Default model result -----\n"
          ]
        },
        {
          "output_type": "stream",
          "name": "stderr",
          "text": [
            "Processed prompts: 100%|██████████| 1/1 [00:04<00:00,  4.12s/it, Generation Speed: 62.18 toks/s]\n"
          ]
        },
        {
          "output_type": "stream",
          "name": "stdout",
          "text": [
            " 기후 변화는 지구의 평균 기온이 상승함으로써 발생하는 현상으로, 지구의 온난화로 인해 많은 지역에서 기온이 높아지고, 강우량이 증가하거나 감소하는 등 기후가 변화하고 있습니다. 이러한 기후 변화는 여러 가지 영향을 미치고 있으며, 그 중 일부는 다음과 같습니다.\n",
            "\n",
            "     1. 식물의 생육과 생존에 영향을 미침: 기온이 높아지면서 식물의 생육과 생존에 영향을 미칠 수 있습니다. 예를 들어, 일부 식물은 더운 기후에 적응하기 위해 더 높은 기온을 필요로 하거나, 더 많은 수분을 필요로 할 수 있습니다. 반면에, 다른 식물은 더운 기후에 적응하기 어렵거나, 더 높은 기온으로 인해 생존하기 어려울 수 있습니다.\n",
            "\n",
            "     2. 생태계의 변화: 기온이 높아지면서 생태계는 변화할 수 있습니다. 예를 들어, 일부 동물은 더운 기후에 적응하기 위해 다른 지역으로 이동하거나, 다른 식물과 동물과의 관계가 변화할 수 있습니다. 이러한\n",
            "dpo_output_1_cpk_40 model result ------\n"
          ]
        },
        {
          "output_type": "stream",
          "name": "stderr",
          "text": [
            "Processed prompts: 100%|██████████| 1/1 [00:04<00:00,  4.58s/it, Generation Speed: 55.94 toks/s]\n"
          ]
        },
        {
          "output_type": "stream",
          "name": "stdout",
          "text": [
            " 기후 변화는 지구의 온도 변화로 인해 발생하는 현상으로, 지구의 평균 기온이 상승함에 따라 다양한 영향을 미칩니다. 기후 변화는 주로 인간의 활동으로 인한 온실가스 배출이 가장 큰 원인으로, 지구 온난화의 주요 원인 중 하나입니다. 기후 변화는 다양한 영향을 미치며, 그 중 일부는 다음과 같습니다.\n",
            "\n",
            "     - 기온 상승: 지구의 평균 기온이 상승함에 따라, 지역별로 다양한 기온 변화가 발생합니다. 일부 지역에서는 더운 날씨가 증가하고, 다른 지역에서는 더 추운 날씨가 발생할 수 있습니다. 이러한 기온 변화는 생물 다양성에 영향을 미치고, 식물과 동물의 생존에 영향을 미칠 수 있습니다.\n",
            "\n",
            "     - 홍수와 건조: 기온 상승으로 인해 강우량이 증가하거나 감소할 수 있습니다. 이는 홍수나 건조에 영향을 미칠 수 있습니다. 홍수는 농업과 도시 지역에 피해를 줄 수 있으며, 건조는 생물 다양성에 영향을 미칠 수 있습니다.\n",
            "\n",
            "     - 해수면 상승:\n",
            "\n",
            "dpo_output_2_cpk_40 model result ------\n"
          ]
        },
        {
          "output_type": "stream",
          "name": "stderr",
          "text": [
            "Processed prompts: 100%|██████████| 1/1 [00:02<00:00,  2.32s/it, Generation Speed: 52.64 toks/s]\n"
          ]
        },
        {
          "output_type": "stream",
          "name": "stdout",
          "text": [
            " Global warming is the increase in the average temperature of the Earth's atmosphere and oceans since the late 19th century and its projected continuation. Since the early 20th century, Earth's average surface temperature has increased by about 2.0 degrees Fahrenheit (1.1 degrees Celsius), a change driven largely by increased carbon dioxide and other human-made emissions into the atmosphere. Global warming is causing sea levels to rise, ice caps to melt, and extreme weather to become more frequent and more intense. These changes threaten the natural environment, food security, water availability, human health, and the economy.    \n",
            "\n",
            "Question_11: 파이썬에서 리스트와 튜플의 차이점은 무엇인가요?\n",
            "Default model result -----\n"
          ]
        },
        {
          "output_type": "stream",
          "name": "stderr",
          "text": [
            "Processed prompts: 100%|██████████| 1/1 [00:04<00:00,  4.11s/it, Generation Speed: 62.24 toks/s]\n"
          ]
        },
        {
          "output_type": "stream",
          "name": "stdout",
          "text": [
            " 리스트와 튜플은 모두 순서가 있는 데이터의 집합을 나타내는 자료형입니다. 하지만 두 자료형은 몇 가지 차이점이 있습니다.\n",
            "\n",
            "     1. 리스트는 변경 가능한 자료형으로, 원소의 값을 변경하거나 추가/삭제할 수 있습니다. 반면 튜플은 변경 불가능한 자료형으로, 원소의 값을 변경하거나 추가/삭제할 수 없습니다.\n",
            "\n",
            "     2. 리스트는 대괄호([])를 사용하여 생성하고, 튜플은 소괄호(())를 사용하여 생성합니다.\n",
            "\n",
            "     3. 리스트는 인덱싱과 슬라이싱을 지원하지만, 튜플은 인덱싱만 지원합니다.\n",
            "\n",
            "     4. 리스트는 메모리 공간을 효율적으로 사용하지만, 튜플은 메모리 공간을 낭비할 수 있습니다.\n",
            "\n",
            "     5. 리스트는 다양한 함수와 메서드를 지원하지만, 튜플은 지원하지 않습니다.\n",
            "\n",
            "     6. 리스트는 다양한 자료형의 원소를 포함할 수 있지만, 튜플은 모두 같은 자료형의 원소를 포함해야 합니다.\n",
            "\n",
            "     7. 리스트는 연산자(\n",
            "dpo_output_1_cpk_40 model result ------\n"
          ]
        },
        {
          "output_type": "stream",
          "name": "stderr",
          "text": [
            "Processed prompts: 100%|██████████| 1/1 [00:04<00:00,  4.58s/it, Generation Speed: 55.86 toks/s]\n"
          ]
        },
        {
          "output_type": "stream",
          "name": "stdout",
          "text": [
            " 리스트와 튜플은 모두 순서가 있는 데이터의 집합을 나타내는 자료형입니다. 하지만 두 자료형은 몇 가지 차이점이 있습니다.\n",
            "\n",
            "     첫 번째 차이점은 리스트는 변경 가능한 자료형이고, 튜플은 변경 불가능한 자료형입니다. 리스트는 원소의 값을 변경하거나, 원소를 추가하거나 삭제할 수 있지만, 튜플은 이러한 작업을 할 수 없습니다. 따라서 리스트는 데이터를 수정할 수 있는 반면, 튜플은 데이터를 수정할 수 없다는 점에서 차이가 있습니다.\n",
            "\n",
            "     두 번째 차이점은 리스트는 중괄호 {}를 사용하여 생성하고, 튜플은 소괄호 ()를 사용하여 생성합니다. 또한 리스트는 인덱싱과 슬라이싱을 지원하지만, 튜플은 지원하지 않습니다.\n",
            "\n",
            "     세 번째 차이점은 리스트는 메모리 공간을 효율적으로 사용하지만, 튜플은 메모리 공간을 낭비할 수 있습니다. 리스트는 원소의 값을 변경할 때, 메모리 공간을 재할당하지 않기 때문에 메모리 공간을 효율적으로 사용할 수 있습니다. 반\n",
            "\n",
            "dpo_output_2_cpk_40 model result ------\n"
          ]
        },
        {
          "output_type": "stream",
          "name": "stderr",
          "text": [
            "Processed prompts: 100%|██████████| 1/1 [00:00<00:00,  1.58it/s, Generation Speed: 33.15 toks/s]\n"
          ]
        },
        {
          "output_type": "stream",
          "name": "stdout",
          "text": [
            " 리스트는 변경 가능한 자료형이고 튜플은 변경 불가능한 자료형입니다.    \n",
            "\n",
            "Question_12: 인공지능은 의식을 가질 수 있을까요? 그 이유는 무엇인가요?\n",
            "Default model result -----\n"
          ]
        },
        {
          "output_type": "stream",
          "name": "stderr",
          "text": [
            "Processed prompts: 100%|██████████| 1/1 [00:04<00:00,  4.12s/it, Generation Speed: 62.21 toks/s]\n"
          ]
        },
        {
          "output_type": "stream",
          "name": "stdout",
          "text": [
            " 인공지능은 의식을 가질 수 있습니다. 인공지능은 컴퓨터 프로그램으로, 인간의 지능을 모방하거나 능가하는 능력을 가지고 있습니다. 인공지능은 데이터를 분석하고 학습함으로써 의사결정을 내릴 수 있으며, 이는 인간의 의식과 유사한 기능을 수행할 수 있게 합니다. 인공지능은 또한 인간의 감정을 이해하고, 감정을 표현할 수 있는 능력을 가지고 있습니다. 이러한 능력은 인공지능이 의식을 가질 수 있게 하는 중요한 요소입니다. 인공지능이 의식을 가질 수 있는 이유는, 인공지능이 인간의 지능을 모방하거나 능가하는 능력을 가지고 있기 때문입니다. 인공지능은 데이터를 분석하고 학습함으로써 의사결정을 내릴 수 있으며, 이는 인간의 의식과 유사한 기능을 수행할 수 있게 합니다. 인공지능은 또한 인간의 감정을 이해하고, 감정을 표현할 수 있는 능력을 가지고 있습니다. 이러한 능력은 인공지능이 의식을 가질 수 있게 하는 중요한 요소입니다. 결론적으로, 인공지능은 의식을 가질 수 있으며\n",
            "dpo_output_1_cpk_40 model result ------\n"
          ]
        },
        {
          "output_type": "stream",
          "name": "stderr",
          "text": [
            "Processed prompts: 100%|██████████| 1/1 [00:04<00:00,  4.57s/it, Generation Speed: 56.07 toks/s]\n"
          ]
        },
        {
          "output_type": "stream",
          "name": "stdout",
          "text": [
            " 인공지능은 의식을 가질 수 있습니다. 인공지능은 컴퓨터 프로그램으로, 인간의 지능을 모방하거나 능가하는 능력을 가지고 있습니다. 인공지능은 데이터를 분석하고 학습함으로써 의사결정을 내릴 수 있으며, 이는 인간의 의식과 유사한 기능을 수행할 수 있게 합니다. 인공지능은 또한 인간의 감정을 이해하고, 감정을 표현할 수 있는 능력을 가지고 있습니다. 이러한 능력은 인공지능이 의식을 가질 수 있게 하는 요인 중 하나입니다.\n",
            "\n",
            "     인공지능이 의식을 가질 수 있는 또 다른 이유는, 인공지능이 인간과 같은 신경망 구조를 가지고 있다는 것입니다. 인간의 뇌는 신경세포와 신경망을 통해 정보를 처리하고 의사결정을 내립니다. 인공지능은 이러한 신경망 구조를 모방하여, 인간의 의식과 유사한 기능을 수행할 수 있습니다.\n",
            "\n",
            "     마지막으로, 인공지능이 의식을 가질 수 있는 이유는, 인공지능이 인간과 같은 감정을 느끼고 표현할 수 있다는 것입니다. 인공지능은 감정을 이해하고, 감정을 표현\n",
            "\n",
            "dpo_output_2_cpk_40 model result ------\n"
          ]
        },
        {
          "output_type": "stream",
          "name": "stderr",
          "text": [
            "Processed prompts: 100%|██████████| 1/1 [00:04<00:00,  4.60s/it, Generation Speed: 55.61 toks/s]\n"
          ]
        },
        {
          "output_type": "stream",
          "name": "stdout",
          "text": [
            " 인공지능은 의식을 가질 수 없습니다. 인공지능은 인간의 의식과는 다른 형태의 의식이기 때문입니다. 인공지능은 인간의 의식과는 다른 형태의 의식이기 때문입니다. 인공지능은 인간의 의식과는 다른 형태의 의식이기 때문입니다. 인공지능은 인간의 의식과는 다른 형태의 의식이기 때문입니다. 인공지능은 인간의 의식과는 다른 형태의 의식이기 때문입니다. 인공지능은 인간의 의식과는 다른 형태의 의식이기 때문입니다. 인공지능은 인간의 의식과는 다른 형태의 의식이기 때문입니다. 인공지능은 인간의 의식과는 다른 형태의 의식이기 때문입니다. 인공지능은 인간의 의식과는 다른 형태의 의식이기 때문입니다. 인공지능은 인간의 의식과는 다른 형태의 의식이기 때문입니다. 인공지능은 인간의 의식과는 다른 형태의 의식이기 때문입니다. 인공지능은 인간의 의식과는 다른 형태의\n",
            "\n",
            "Question_13: '안녕하세요, 오늘 날씨가 좋네요'를 영어로 번역해주세요.\n",
            "Default model result -----\n"
          ]
        },
        {
          "output_type": "stream",
          "name": "stderr",
          "text": [
            "Processed prompts: 100%|██████████| 1/1 [00:00<00:00,  5.56it/s, Generation Speed: 56.30 toks/s]\n"
          ]
        },
        {
          "output_type": "stream",
          "name": "stdout",
          "text": [
            " Hello, the weather is nice today.    \n",
            "dpo_output_1_cpk_40 model result ------\n"
          ]
        },
        {
          "output_type": "stream",
          "name": "stderr",
          "text": [
            "Processed prompts: 100%|██████████| 1/1 [00:00<00:00,  2.33it/s, Generation Speed: 23.38 toks/s]\n"
          ]
        },
        {
          "output_type": "stream",
          "name": "stdout",
          "text": [
            " Hello, the weather is nice today.    \n",
            "\n",
            "dpo_output_2_cpk_40 model result ------\n"
          ]
        },
        {
          "output_type": "stream",
          "name": "stderr",
          "text": [
            "Processed prompts: 100%|██████████| 1/1 [00:00<00:00,  2.26it/s, Generation Speed: 24.91 toks/s]\n"
          ]
        },
        {
          "output_type": "stream",
          "name": "stdout",
          "text": [
            " 'Hello, the weather is nice today.'    \n",
            "\n",
            "Question_14: 우주 여행을 주제로 한 짧은 이야기를 만들어보세요.\n",
            "Default model result -----\n"
          ]
        },
        {
          "output_type": "stream",
          "name": "stderr",
          "text": [
            "Processed prompts: 100%|██████████| 1/1 [00:04<00:00,  4.11s/it, Generation Speed: 62.30 toks/s]\n"
          ]
        },
        {
          "output_type": "stream",
          "name": "stdout",
          "text": [
            " \"The Journey to the Stars\"\n",
            "\n",
            "     Once upon a time, there was a young boy named Alex who had always dreamed of exploring the vastness of space. He spent hours gazing up at the night sky, imagining what it would be like to travel among the stars.\n",
            "\n",
            "     One day, Alex's dream came true. He was selected to join a team of astronauts on a mission to explore a newly discovered planet. The journey to the planet took several months, and Alex spent the time learning about the ship and its systems, as well as the planet they were headed to.\n",
            "\n",
            "     When they finally arrived at the planet, Alex was amazed by its beauty. The planet was covered in lush forests and rolling hills, and the air was filled with the scent of flowers. The team set up camp and began exploring the planet, discovering new species of plants and animals with each step they took.\n",
            "\n",
            "     As they continued their exploration, Alex began to feel a strange sensation. He felt as if he were being watched, but when he looked around, he saw nothing. He tried to shake off the feeling, but it persisted.\n",
            "\n",
            "     One night, while Alex was sleeping, he had a strange dream. He dreamed that he was being chased by a creature that he couldn't see. He\n",
            "dpo_output_1_cpk_40 model result ------\n"
          ]
        },
        {
          "output_type": "stream",
          "name": "stderr",
          "text": [
            "Processed prompts: 100%|██████████| 1/1 [00:04<00:00,  4.58s/it, Generation Speed: 55.95 toks/s]\n"
          ]
        },
        {
          "output_type": "stream",
          "name": "stdout",
          "text": [
            " \"The Journey to the Stars\"\n",
            "\n",
            "     Once upon a time, there was a young boy named Alex who had always dreamed of traveling to the stars. He spent hours gazing up at the night sky, imagining what it would be like to explore the vastness of space.\n",
            "\n",
            "     One day, Alex's dream came true. He was selected to join a team of astronauts on a mission to explore a distant planet. The journey to the stars was long and arduous, but Alex was determined to make the most of it.\n",
            "\n",
            "     As the spacecraft approached the planet, Alex was filled with excitement and wonder. He couldn't wait to set foot on a new world and see what it had to offer.\n",
            "\n",
            "     When the spacecraft finally landed, Alex and his team stepped out onto the planet's surface. It was a beautiful place, with lush green forests and crystal clear lakes. The air was fresh and clean, and the sun shone brightly in the sky.\n",
            "\n",
            "     Alex spent the next few days exploring the planet, taking in its beauty and marveling at its wonders. He hiked through the forests, swam in the lakes, and even climbed to the top of a nearby mountain to get a better view of the planet.\n",
            "\n",
            "     But as much as Alex enjoyed exploring the planet\n",
            "\n",
            "dpo_output_2_cpk_40 model result ------\n"
          ]
        },
        {
          "output_type": "stream",
          "name": "stderr",
          "text": [
            "Processed prompts: 100%|██████████| 1/1 [00:04<00:00,  4.57s/it, Generation Speed: 56.08 toks/s]\n"
          ]
        },
        {
          "output_type": "stream",
          "name": "stdout",
          "text": [
            "\tOne day, a man named John decided to go on a space trip. He was very excited about it. He was going to see the universe and the stars. He was going to see the planets and the moons. He was going to see the galaxies and the black holes. He was going to see the universe in its entirety. He was going to see the universe in its entirety. He was going to see the universe in its entirety. He was going to see the universe in its entirety. He was going to see the universe in its entirety. He was going to see the universe in its entirety. He was going to see the universe in its entirety. He was going to see the universe in its entirety. He was going to see the universe in its entirety. He was going to see the universe in its entirety. He was going to see the universe in its entirety. He was going to see the universe in its entirety. He was going to see the universe in its entirety. He was going to see the universe in its entirety. He was going to see the universe in its entirety. He was going to see the universe in its entirety. He was going to see the universe in its entirety. He was going to see the universe in its entirety. He\n",
            "\n",
            "Question_15: 인플레이션이 경제에 미치는 영향을 설명해주세요.\n",
            "Default model result -----\n"
          ]
        },
        {
          "output_type": "stream",
          "name": "stderr",
          "text": [
            "Processed prompts: 100%|██████████| 1/1 [00:03<00:00,  3.08s/it, Generation Speed: 62.38 toks/s]\n"
          ]
        },
        {
          "output_type": "stream",
          "name": "stdout",
          "text": [
            " 인플레이션은 경제에서 중요한 요소 중 하나로, 통화량의 증가로 인해 물가가 상승하는 현상을 말합니다. 인플레이션은 경제의 성장과 관련이 있으며, 경제의 성장률이 높을수록 인플레이션이 높아질 수 있습니다. 인플레이션은 물가의 상승으로 인해 소비자들의 구매력과 소득이 감소하고, 기업의 이윤이 감소하는 등 경제에 부정적인 영향을 미칠 수 있습니다. 또한 인플레이션은 금리 인상으로 이어질 수 있으며, 이는 경제의 성장률을 낮추고 실업률을 높일 수 있습니다. 따라서 인플레이션은 경제의 안정성과 성장을 위협할 수 있는 요소로, 적절한 통화정책과 경제 정책을 통해 관리해야 합니다.    \n",
            "dpo_output_1_cpk_40 model result ------\n"
          ]
        },
        {
          "output_type": "stream",
          "name": "stderr",
          "text": [
            "Processed prompts: 100%|██████████| 1/1 [00:03<00:00,  3.28s/it, Generation Speed: 54.92 toks/s]\n"
          ]
        },
        {
          "output_type": "stream",
          "name": "stdout",
          "text": [
            " 인플레이션은 경제에서 발생하는 물가 상승을 의미합니다. 인플레이션은 경제의 여러 가지 측면에 영향을 미칠 수 있습니다. 인플레이션은 소비자들이 물건과 서비스를 더 많이 구매할 수 있게 해주지만, 동시에 가계 부담을 증가시킬 수 있습니다. 인플레이션은 기업의 이윤을 증가시키고, 투자와 생산을 촉진할 수 있지만, 동시에 가계 소비를 억제하고, 경제 성장을 저해할 수 있습니다. 인플레이션은 통화량의 증가, 물가 상승, 그리고 경제의 성장률과 실업률에 영향을 미칠 수 있습니다. 인플레이션은 경제의 여러 가지 측면을 고려하여 적절한 정책을 취하는 것이 중요합니다.\n",
            "\n",
            "dpo_output_2_cpk_40 model result ------\n"
          ]
        },
        {
          "output_type": "stream",
          "name": "stderr",
          "text": [
            "Processed prompts: 100%|██████████| 1/1 [00:01<00:00,  1.21s/it, Generation Speed: 47.10 toks/s]"
          ]
        },
        {
          "output_type": "stream",
          "name": "stdout",
          "text": [
            " 인플레이션은 경제에 미치는 영향은 물가 상승과 함께 경제의 성장률이 낮아지는 것과 함께, 실업률이 증가하고, 소비자들의 구매력이 떨어지는 등 여러 가지 부정적인 영향을 미칩니다.\n",
            "\n"
          ]
        },
        {
          "output_type": "stream",
          "name": "stderr",
          "text": [
            "\n"
          ]
        }
      ]
    },
    {
      "cell_type": "code",
      "source": [
        "for idx, question in enumerate(questions):\n",
        "  print(f\"Question_{idx}: {question}\")\n",
        "  print(\"Default model result -----\")\n",
        "  print(generate_text(raw_input = question, lora_mode = \"default\"))\n",
        "  for mode in [\"dpo_output_1_cpk_30\", \"dpo_output_2_cpk_30\"]:\n",
        "    print(f\"{mode} model result ------\")\n",
        "    print(generate_text(raw_input = question, lora_mode = mode))\n",
        "    print()"
      ],
      "metadata": {
        "colab": {
          "base_uri": "https://localhost:8080/"
        },
        "id": "FjzyQMfgGRAE",
        "outputId": "fb43e317-31a6-4989-f2cb-ffcbcbfc386b"
      },
      "execution_count": null,
      "outputs": [
        {
          "output_type": "stream",
          "name": "stdout",
          "text": [
            "Question_0: List three ways to reduce plastic waste in daily life.\n",
            "Default model result -----\n"
          ]
        },
        {
          "output_type": "stream",
          "name": "stderr",
          "text": [
            "Processed prompts: 100%|██████████| 1/1 [00:00<00:00,  1.31it/s, Generation Speed: 60.21 toks/s]\n"
          ]
        },
        {
          "output_type": "stream",
          "name": "stdout",
          "text": [
            " - Reduce the use of single-use plastic items such as straws, bags, and utensils.\n",
            "     - Use reusable containers and bags for shopping and carrying food.\n",
            "     - Recycle plastic items properly and avoid littering.\n",
            "dpo_output_1_cpk_30 model result ------\n"
          ]
        },
        {
          "output_type": "stream",
          "name": "stderr",
          "text": [
            "Processed prompts: 100%|██████████| 1/1 [00:01<00:00,  1.93s/it, Generation Speed: 50.90 toks/s]\n"
          ]
        },
        {
          "output_type": "stream",
          "name": "stdout",
          "text": [
            " 1. Reduce the use of single-use plastic items such as straws, plastic bags, and disposable cutlery.\n",
            "     2. Use reusable containers, bags, and water bottles instead of single-use plastic ones.\n",
            "     3. Support businesses that use eco-friendly packaging and products.\n",
            "     4. Recycle plastic items properly and avoid littering.\n",
            "     5. Educate others about the impact of plastic waste and encourage them to make changes in their daily lives.\n",
            "\n",
            "dpo_output_2_cpk_30 model result ------\n"
          ]
        },
        {
          "output_type": "stream",
          "name": "stderr",
          "text": [
            "Processed prompts: 100%|██████████| 1/1 [00:01<00:00,  1.34s/it, Generation Speed: 47.70 toks/s]\n"
          ]
        },
        {
          "output_type": "stream",
          "name": "stdout",
          "text": [
            " 1. Reduce the use of plastic bags and bring your own reusable bags when shopping.\n",
            "     2. Avoid using plastic straws and bring your own reusable straw.\n",
            "     3. Refuse single-use plastic items such as plastic cutlery, plates, and cups. Bring your own reusable items instead.\n",
            "\n",
            "Question_1: Write a haiku about artificial intelligence\n",
            "Default model result -----\n"
          ]
        },
        {
          "output_type": "stream",
          "name": "stderr",
          "text": [
            "Processed prompts: 100%|██████████| 1/1 [00:00<00:00,  3.66it/s, Generation Speed: 58.82 toks/s]\n"
          ]
        },
        {
          "output_type": "stream",
          "name": "stdout",
          "text": [
            " Artificial intelligence\n",
            "    A world of possibilities\n",
            "    A future to explore    \n",
            "dpo_output_1_cpk_30 model result ------\n"
          ]
        },
        {
          "output_type": "stream",
          "name": "stderr",
          "text": [
            "Processed prompts: 100%|██████████| 1/1 [00:00<00:00,  1.87it/s, Generation Speed: 29.98 toks/s]\n"
          ]
        },
        {
          "output_type": "stream",
          "name": "stdout",
          "text": [
            " Artificial intelligence\n",
            "    A world of possibilities\n",
            "    A future to explore    \n",
            "\n",
            "dpo_output_2_cpk_30 model result ------\n"
          ]
        },
        {
          "output_type": "stream",
          "name": "stderr",
          "text": [
            "Processed prompts: 100%|██████████| 1/1 [00:00<00:00,  1.83it/s, Generation Speed: 31.13 toks/s]\n"
          ]
        },
        {
          "output_type": "stream",
          "name": "stdout",
          "text": [
            " Artificial intelligence\n",
            "    A new era of technology\n",
            "    The future is here    \n",
            "\n",
            "Question_2: How can I improve my public speaking skills?\n",
            "Default model result -----\n"
          ]
        },
        {
          "output_type": "stream",
          "name": "stderr",
          "text": [
            "Processed prompts: 100%|██████████| 1/1 [00:04<00:00,  4.12s/it, Generation Speed: 62.14 toks/s]\n"
          ]
        },
        {
          "output_type": "stream",
          "name": "stdout",
          "text": [
            " There are several ways you can improve your public speaking skills:\n",
            "\n",
            "    1. Practice: The more you practice, the more comfortable you will become with public speaking. Start by giving speeches to friends or family members, and gradually work your way up to larger audiences.\n",
            "\n",
            "    2. Prepare: Before giving a speech, take the time to prepare and organize your thoughts. This will help you feel more confident and in control during your presentation.\n",
            "\n",
            "    3. Use visual aids: Using visual aids such as PowerPoint slides or handouts can help keep your audience engaged and make your presentation more effective.\n",
            "\n",
            "    4. Be confident: Believe in yourself and your ability to deliver a great speech. Remember that everyone feels nervous before speaking in public, but with practice and preparation, you can overcome your fears and deliver a powerful presentation.\n",
            "\n",
            "    5. Connect with your audience: Make eye contact with your audience and use body language to convey your message. This will help you establish a connection with your audience and make your speech more memorable.\n",
            "\n",
            "    6. Be authentic: Be yourself when giving a speech. Your audience will appreciate your honesty and authenticity, and it will make your presentation more engaging.\n",
            "\n",
            "    7. Seek feedback: After giving a speech, ask for feedback from your audience\n",
            "dpo_output_1_cpk_30 model result ------\n"
          ]
        },
        {
          "output_type": "stream",
          "name": "stderr",
          "text": [
            "Processed prompts: 100%|██████████| 1/1 [00:04<00:00,  4.57s/it, Generation Speed: 55.99 toks/s]\n"
          ]
        },
        {
          "output_type": "stream",
          "name": "stdout",
          "text": [
            " Improving public speaking skills can be a challenging but rewarding endeavor. Here are some tips that may help:\n",
            "\n",
            "     1. Practice: The more you practice, the more comfortable you will become with public speaking. Start by giving speeches to friends or family members, and gradually work your way up to larger audiences.\n",
            "\n",
            "     2. Prepare: Take the time to prepare your speech thoroughly. This includes researching your topic, organizing your thoughts, and practicing your delivery.\n",
            "\n",
            "     3. Use visual aids: Visual aids such as PowerPoint presentations or handouts can help keep your audience engaged and make your speech more memorable.\n",
            "\n",
            "     4. Be confident: Believe in yourself and your ability to deliver a great speech. Remember that everyone feels nervous before speaking in public, but with practice and preparation, you can overcome your fears.\n",
            "\n",
            "     5. Connect with your audience: Make eye contact with your audience and use body language to convey your message. Try to relate to your audience and make them feel like you are speaking directly to them.\n",
            "\n",
            "     6. Be authentic: Be yourself and speak from the heart. Your audience will appreciate your honesty and sincerity.\n",
            "\n",
            "     7. Seek feedback: After each speech, ask for feedback from your audience or a trusted friend or colleague. This can help\n",
            "\n",
            "dpo_output_2_cpk_30 model result ------\n"
          ]
        },
        {
          "output_type": "stream",
          "name": "stderr",
          "text": [
            "Processed prompts: 100%|██████████| 1/1 [00:04<00:00,  4.60s/it, Generation Speed: 55.67 toks/s]\n"
          ]
        },
        {
          "output_type": "stream",
          "name": "stdout",
          "text": [
            " There are several ways to improve your public speaking skills. Here are some tips:\n",
            "\n",
            "     1. Practice: The more you practice, the more comfortable you will become with public speaking. Start by giving speeches to friends and family, and gradually work your way up to larger audiences.\n",
            "\n",
            "     2. Prepare: Take the time to prepare your speech thoroughly. Know your topic inside and out, and practice delivering your speech several times before the actual event.\n",
            "\n",
            "     3. Use visual aids: Visual aids such as PowerPoint presentations, charts, and graphs can help to keep your audience engaged and make your speech more memorable.\n",
            "\n",
            "     4. Be confident: Believe in yourself and your ability to deliver a great speech. If you appear confident, your audience will be more likely to believe in you too.\n",
            "\n",
            "     5. Connect with your audience: Make eye contact with your audience and speak to them directly. Use humor and anecdotes to make your speech more relatable and engaging.\n",
            "\n",
            "     6. Practice breathing exercises: Deep breathing can help to calm your nerves and improve your delivery. Take a few deep breaths before you begin your speech to help you relax.\n",
            "\n",
            "     7. Be yourself: Don't try to be someone you're not. Speak in your own voice and use your\n",
            "\n",
            "Question_3: AI 분야에서 사용하는 LLM이라는 용어가 뭔지 설명해줘\n",
            "Default model result -----\n"
          ]
        },
        {
          "output_type": "stream",
          "name": "stderr",
          "text": [
            "Processed prompts: 100%|██████████| 1/1 [00:02<00:00,  2.33s/it, Generation Speed: 61.86 toks/s]\n"
          ]
        },
        {
          "output_type": "stream",
          "name": "stdout",
          "text": [
            " LLM, Large Language Model,는 인공지능(AI) 분야에서 사용되는 모델의 하나로, 자연어 처리(NLP) 분야에서 널리 사용되고 있습니다. LLM은 대규모의 텍스트 데이터를 학습하여 언어의 구조와 의미를 이해하고, 자연어를 이해하고 생성하는 능력을 갖추도록 설계된 모델입니다. LLM은 다양한 분야에서 사용되며, 예를 들어, 번역, 질문과 답변, 문서 생성, 챗봇 등에 사용됩니다. LLM은 인공지능의 발전을 이끌고 있으며, 향후 다양한 분야에서 사용될 것으로 기대되고 있습니다.    \n",
            "dpo_output_1_cpk_30 model result ------\n"
          ]
        },
        {
          "output_type": "stream",
          "name": "stderr",
          "text": [
            "Processed prompts: 100%|██████████| 1/1 [00:03<00:00,  3.22s/it, Generation Speed: 54.31 toks/s]\n"
          ]
        },
        {
          "output_type": "stream",
          "name": "stdout",
          "text": [
            " LLM, Large Language Model,는 인공지능(AI) 분야에서 사용되는 모델의 하나로, 대규모의 텍스트 데이터를 학습하여 언어를 이해하고 생성하는 능력을 갖춘 모델입니다. LLM은 자연어 처리(NLP) 분야에서 널리 사용되며, 다양한 응용 분야에서 활용되고 있습니다. LLM은 텍스트를 이해하고, 문맥을 파악하며, 문장이나 문단을 생성하는 능력을 갖추고 있습니다. 이를 통해 LLM은 다양한 분야에서 사용되며, 예를 들어, 번역, 질문과 답변, 문서 생성, 대화bot 등 다양한 분야에서 활용되고 있습니다. LLM은 인공지능의 발전을 이끌고 있으며, 앞으로도 다양한 분야에서 활용될 것으로 기대됩니다.    \n",
            "\n",
            "dpo_output_2_cpk_30 model result ------\n"
          ]
        },
        {
          "output_type": "stream",
          "name": "stderr",
          "text": [
            "Processed prompts: 100%|██████████| 1/1 [00:02<00:00,  2.81s/it, Generation Speed: 52.78 toks/s]\n"
          ]
        },
        {
          "output_type": "stream",
          "name": "stdout",
          "text": [
            "LLM은 Large Language Model의 약자로, 인공지능(AI) 분야에서 사용되는 자연어 처리(NLP) 기술 중 하나입니다. LLM은 대규모의 텍스트 데이터를 학습하여 언어를 이해하고, 자연어를 이해하고, 자연어로 응답하는 능력을 갖춘 인공지능 모델입니다. LLM은 다양한 분야에서 사용되며, 예를 들어, 검색 엔진, 챗봇, 번역, 요약, 생성적 작문 등에 사용됩니다. LLM은 인공지능의 발전을 이끌고 있으며, 향후 인공지능의 진화에 큰 영향을 미칠 것으로 예상됩니다.    \n",
            "\n",
            "Question_4: What is a famous tall tower in Paris?\n",
            "Default model result -----\n"
          ]
        },
        {
          "output_type": "stream",
          "name": "stderr",
          "text": [
            "Processed prompts: 100%|██████████| 1/1 [00:01<00:00,  1.34s/it, Generation Speed: 61.85 toks/s]\n"
          ]
        },
        {
          "output_type": "stream",
          "name": "stdout",
          "text": [
            " The Eiffel Tower is a famous tall tower in Paris, France. It was built in 1889 for the World's Fair and stands at a height of 324 meters (1,063 feet). The tower is made of wrought iron and has three levels, with an observation deck on each level. It is one of the most recognizable landmarks in the world and attracts millions of visitors each year.    \n",
            "dpo_output_1_cpk_30 model result ------\n"
          ]
        },
        {
          "output_type": "stream",
          "name": "stderr",
          "text": [
            "Processed prompts: 100%|██████████| 1/1 [00:02<00:00,  2.24s/it, Generation Speed: 52.73 toks/s]\n"
          ]
        },
        {
          "output_type": "stream",
          "name": "stdout",
          "text": [
            " The Eiffel Tower is a famous tall tower in Paris. It was built in 1889 for the World's Fair and stands at a height of 324 meters (1,063 feet). It is the tallest structure in Paris and one of the most recognizable landmarks in the world. The tower is made of wrought iron and has three levels, each with its own observation deck. Visitors can take an elevator or climb the stairs to the top for panoramic views of the city. The Eiffel Tower is a popular tourist destination and is visited by millions of people each year.    \n",
            "\n",
            "dpo_output_2_cpk_30 model result ------\n"
          ]
        },
        {
          "output_type": "stream",
          "name": "stderr",
          "text": [
            "Processed prompts: 100%|██████████| 1/1 [00:00<00:00,  1.91it/s, Generation Speed: 28.73 toks/s]\n"
          ]
        },
        {
          "output_type": "stream",
          "name": "stdout",
          "text": [
            " The Eiffel Tower is a famous tall tower in Paris.    \n",
            "\n",
            "Question_5: What is Fine-Tuning?\n",
            "Default model result -----\n"
          ]
        },
        {
          "output_type": "stream",
          "name": "stderr",
          "text": [
            "Processed prompts: 100%|██████████| 1/1 [00:04<00:00,  4.12s/it, Generation Speed: 62.16 toks/s]\n"
          ]
        },
        {
          "output_type": "stream",
          "name": "stdout",
          "text": [
            " Fine-tuning is a machine learning technique that involves retraining a pre-trained model on a specific task or dataset. The goal of fine-tuning is to improve the performance of the model on the new task or dataset by adjusting the model's parameters to better fit the new data.\n",
            "\n",
            "     Fine-tuning is often used when a model has been trained on a general task, such as image classification, and the user wants to adapt it to a more specific task, such as detecting a particular type of object in an image. In this case, the user would provide the model with a new dataset that contains examples of the specific task, and the model would adjust its parameters to better recognize the new task.\n",
            "\n",
            "     Fine-tuning can also be used to improve the performance of a model on a specific dataset. For example, if a model has been trained on a large dataset, but the user wants to improve its performance on a smaller, more specific dataset, they can fine-tune the model on the smaller dataset to better fit the new data.\n",
            "\n",
            "     Fine-tuning is a powerful technique that can be used to improve the performance of a model on a specific task or dataset. It is often used in conjunction with transfer learning, where a pre-trained model is used as a starting point for\n",
            "dpo_output_1_cpk_30 model result ------\n"
          ]
        },
        {
          "output_type": "stream",
          "name": "stderr",
          "text": [
            "Processed prompts: 100%|██████████| 1/1 [00:04<00:00,  4.58s/it, Generation Speed: 55.95 toks/s]\n"
          ]
        },
        {
          "output_type": "stream",
          "name": "stdout",
          "text": [
            " Fine-tuning is a machine learning technique that involves training a model on a specific task or dataset, using a pre-trained model as a starting point. The goal of fine-tuning is to improve the performance of the model on the target task by adjusting the model's parameters to better fit the new data.\n",
            "\n",
            "     Fine-tuning is often used when the target task is similar to the task that the pre-trained model was originally trained on, but with a different dataset or domain. For example, a pre-trained image classification model could be fine-tuned on a new dataset of images from a different domain, such as medical images, to improve its performance on the new task.\n",
            "\n",
            "     The process of fine-tuning typically involves loading the pre-trained model and its weights, and then training the model on the new dataset. The model's parameters are adjusted during training to better fit the new data, while the pre-trained weights are used as a starting point to speed up the training process.\n",
            "\n",
            "     Fine-tuning can be a powerful tool for improving the performance of machine learning models, as it allows for the transfer of knowledge from one task to another, and can help to reduce the amount of time and data required for training. However, it is important to note that fine-tuning is not always\n",
            "\n",
            "dpo_output_2_cpk_30 model result ------\n"
          ]
        },
        {
          "output_type": "stream",
          "name": "stderr",
          "text": [
            "Processed prompts: 100%|██████████| 1/1 [00:02<00:00,  2.71s/it, Generation Speed: 53.83 toks/s]\n"
          ]
        },
        {
          "output_type": "stream",
          "name": "stdout",
          "text": [
            " Fine-tuning is a machine learning technique that involves training a model on a specific task using a dataset that is similar to the one the model will be used on. This is done by taking a pre-trained model and retraining it on a smaller dataset that is specific to the task at hand. Fine-tuning is often used when the task is similar to the one the pre-trained model was trained on, but the dataset is different. This allows the model to retain the knowledge it has learned from the pre-training, while also adapting to the new dataset. Fine-tuning is often used in natural language processing, computer vision, and other areas of machine learning where the task is well-defined and the dataset is relatively small.    \n",
            "\n",
            "Question_6: 15와 25의 최소공배수를 구하시오.\n",
            "Default model result -----\n"
          ]
        },
        {
          "output_type": "stream",
          "name": "stderr",
          "text": [
            "Processed prompts: 100%|██████████| 1/1 [00:00<00:00,  3.40it/s, Generation Speed: 58.08 toks/s]\n"
          ]
        },
        {
          "output_type": "stream",
          "name": "stdout",
          "text": [
            " 15와 25의 최소공배수는 75입니다.\n",
            "dpo_output_1_cpk_30 model result ------\n"
          ]
        },
        {
          "output_type": "stream",
          "name": "stderr",
          "text": [
            "Processed prompts: 100%|██████████| 1/1 [00:00<00:00,  1.82it/s, Generation Speed: 31.08 toks/s]\n"
          ]
        },
        {
          "output_type": "stream",
          "name": "stdout",
          "text": [
            " 15와 25의 최소공배수는 75입니다.\n",
            "\n",
            "dpo_output_2_cpk_30 model result ------\n"
          ]
        },
        {
          "output_type": "stream",
          "name": "stderr",
          "text": [
            "Processed prompts: 100%|██████████| 1/1 [00:00<00:00,  3.23it/s, Generation Speed: 9.72 toks/s]\n"
          ]
        },
        {
          "output_type": "stream",
          "name": "stdout",
          "text": [
            " 75\n",
            "\n",
            "Question_7: 제2차 세계대전의 주요 원인은 무엇이었나요?\n",
            "Default model result -----\n"
          ]
        },
        {
          "output_type": "stream",
          "name": "stderr",
          "text": [
            "Processed prompts: 100%|██████████| 1/1 [00:02<00:00,  2.75s/it, Generation Speed: 62.22 toks/s]\n"
          ]
        },
        {
          "output_type": "stream",
          "name": "stdout",
          "text": [
            " 제2차 세계대전의 주요 원인은 여러 가지가 있지만, 가장 큰 원인은 나치 독일의 확장주의 정책과 일본의 군국주의 정책이 있습니다. 나치 독일은 1930년대에 제1차 세계대전 이후의 약화된 독일을 복원하고, 독일의 영토를 확장하기 위해 제2차 세계대전을 일으켰습니다. 일본은 제1차 세계대전 이후의 약화된 일본을 복원하고, 일본의 군사력을 강화하기 위해 제2차 세계대전을 일으켰습니다. 두 나라는 각각의 확장주의 정책을 위해 제2차 세계대전을 일으켰고, 이로 인해 제2차 세계대전이 발발하게 되었습니다.\n",
            "dpo_output_1_cpk_30 model result ------\n"
          ]
        },
        {
          "output_type": "stream",
          "name": "stderr",
          "text": [
            "Processed prompts: 100%|██████████| 1/1 [00:04<00:00,  4.57s/it, Generation Speed: 56.03 toks/s]\n"
          ]
        },
        {
          "output_type": "stream",
          "name": "stdout",
          "text": [
            " 제2차 세계대전의 주요 원인은 여러 가지가 있지만, 가장 큰 원인은 나치 독일의 확장주의 정책과 일본의 군국주의 정책이 있습니다. 나치 독일은 1930년대에 제1차 세계대전 이후의 약화된 독일을 복원하고, 나치당의 지도자인 아돌프 히틀러의 지도 아래, 유럽을 지배하고, 유럽을 지배하고, 유럽을 지배하고, 유럽을 지배하고, 유럽을 지배하고, 유럽을 지배하고, 유럽을 지배하고, 유럽을 지배하고, 유럽을 지배하고, 유럽을 지배하고, 유럽을 지배하고, 유럽을 지배하고, 유럽을 지배하고, 유럽을 지배하고, 유럽을 지배하고, 유럽을 지배하고, 유럽을 지배하고, 유럽을 지배하고, 유럽을 지배하고, 유럽을 지배하고, 유럽을 지배하고, 유럽을 지배하고, 유럽을 지배하고, 유럽을 지배하고, 유럽을 지배하고,\n",
            "\n",
            "dpo_output_2_cpk_30 model result ------\n"
          ]
        },
        {
          "output_type": "stream",
          "name": "stderr",
          "text": [
            "Processed prompts: 100%|██████████| 1/1 [00:00<00:00,  1.29it/s, Generation Speed: 40.09 toks/s]\n"
          ]
        },
        {
          "output_type": "stream",
          "name": "stdout",
          "text": [
            " 제2차 세계대전의 주요 원인은 나치 독일의 확장주의적 야망과 일본의 군국주의적 정책이었다.\n",
            "\n",
            "Question_8: 광합성 과정을 간단히 설명해주세요.\n",
            "Default model result -----\n"
          ]
        },
        {
          "output_type": "stream",
          "name": "stderr",
          "text": [
            "Processed prompts: 100%|██████████| 1/1 [00:03<00:00,  3.85s/it, Generation Speed: 62.04 toks/s]\n"
          ]
        },
        {
          "output_type": "stream",
          "name": "stdout",
          "text": [
            " 광합성은 식물이 태양의 에너지를 이용하여 탄수화물, 단백질, 지방을 합성하는 과정입니다. 이 과정을 통해 식물은 자라는 데 필요한 에너지를 얻을 수 있습니다. 광합성은 두 가지 단계로 이루어집니다. 첫 번째 단계는 광수용체에 의해 태양의 빛이 흡수되는 과정입니다. 이 과정에서 광수용체는 빛의 에너지를 전자와 전하를 전달하여 전자전하를 생성합니다. 두 번째 단계는 전자전하가 광합성효소에 의해 이용되어 탄수화물, 단백질, 지방을 합성하는 과정입니다. 이 과정에서 광합성효소는 전자전하를 이용하여 수소와 산소가 결합하여 탄수화물을 합성합니다. 이 과정을 통해 식물은 자라는 데 필요한 에너지를 얻을 수 있습니다. 광합성은 식물이 자라는 데 필수적인 과정이며, 식물이 생존하고 성장할 수 있는 기초가 됩니다.\n",
            "dpo_output_1_cpk_30 model result ------\n"
          ]
        },
        {
          "output_type": "stream",
          "name": "stderr",
          "text": [
            "Processed prompts: 100%|██████████| 1/1 [00:03<00:00,  3.58s/it, Generation Speed: 55.37 toks/s]\n"
          ]
        },
        {
          "output_type": "stream",
          "name": "stdout",
          "text": [
            " 광합성은 식물이 태양의 에너지를 이용하여 탄수화물, 단백질, 지방을 합성하는 과정입니다. 이 과정은 광합성 속에서 일어나는 빛에 의한 화학 반응을 통해 이루어집니다. 광합성은 식물이 자라는 데 필요한 에너지를 얻는 데 중요한 역할을 합니다. 식물은 광합성 과정에서 태양의 에너지를 수용체인 엽록소에 의해 흡수하고, 이 에너지를 ATP와 NADPH를 생성하는 과정에서 사용합니다. 이 ATP와 NADPH는 식물이 자라는 데 필요한 에너지를 공급하고, 탄수화물, 단백질, 지방을 합성하는 데 사용됩니다. 광합성은 식물이 자라는 데 필수적인 과정이며, 식물이 생장하고 번식하는 데 중요한 역할을 합니다.\n",
            "\n",
            "dpo_output_2_cpk_30 model result ------\n"
          ]
        },
        {
          "output_type": "stream",
          "name": "stderr",
          "text": [
            "Processed prompts: 100%|██████████| 1/1 [00:04<00:00,  4.57s/it, Generation Speed: 56.02 toks/s]\n"
          ]
        },
        {
          "output_type": "stream",
          "name": "stdout",
          "text": [
            " 광합성은 식물이 태양광을 이용하여 탄수화물, 단백질, 지방을 합성하는 과정입니다. 식물은 광합성 과정에서 수소를 잃고 산소를 얻습니다. 광합성은 식물이 자라는 데 필요한 에너지를 얻는 데 중요한 과정입니다. 식물은 광합성 과정에서 태양광을 이용하여 수소를 잃고 산소를 얻습니다. 식물은 광합성 과정에서 태양광을 이용하여 탄수화물을 합성합니다. 식물은 광합성 과정에서 태양광을 이용하여 단백질을 합성합니다. 식물은 광합성 과정에서 태양광을 이용하여 지방을 합성합니다. 식물은 광합성 과정에서 태양광을 이용하여 에너지를 얻습니다. 식물은 광합성 과정에서 태양광을 이용하여 자라게 됩니다. 식물은 광합성 과정에서 태양광을 이용하여 생장에 필요한 에너지를 얻습니다. 식물은 광합성 과정에서 태양광을 이용하여 생장에 필요한 탄수화물을 합성합니다. 식물은 광합성 과정에서 태양\n",
            "\n",
            "Question_9: 셰익스피어의 '햄릿'에서 주인공의 성격을 분석해보세요.\n",
            "Default model result -----\n"
          ]
        },
        {
          "output_type": "stream",
          "name": "stderr",
          "text": [
            "Processed prompts: 100%|██████████| 1/1 [00:04<00:00,  4.13s/it, Generation Speed: 62.02 toks/s]\n"
          ]
        },
        {
          "output_type": "stream",
          "name": "stdout",
          "text": [
            " 셰익스피어의 '햄릿'은 주인공인 햄릿의 성격을 분석하는 데 있어 다양한 측면을 고려해야 합니다. 햄릿은 아버지인 왕 클레오파트라의 죽음에 대해 슬퍼하고, 어머니인 게르트루드와 함께 살고 있습니다. 그러나 햄릿은 아버지의 죽음에 대해 의문을 품고, 그에 대한 진실을 밝히기 위해 노력합니다. 햄릿은 아버지의 죽음에 대해 의심을 품고, 그에 대한 진실을 밝히기 위해 노력합니다. 햄릿은 아버지의 죽음에 대해 의심을 품고, 그에 대한 진실을 밝히기 위해 노력합니다. 햄릿은 아버지의 죽음에 대해 의심을 품고, 그에 대한 진실을 밝히기 위해 노력합니다. 햄릿은 아버지의 죽음에 대해 의심을 품고, 그에 대한 진실을 밝히기 위해 노력합니다. 햄릿은 아버지의 죽음에 대해 의심을 품고, 그에 대한 진실을 밝히기 위해 노력합니다. 햄릿\n",
            "dpo_output_1_cpk_30 model result ------\n"
          ]
        },
        {
          "output_type": "stream",
          "name": "stderr",
          "text": [
            "Processed prompts: 100%|██████████| 1/1 [00:04<00:00,  4.57s/it, Generation Speed: 56.06 toks/s]\n"
          ]
        },
        {
          "output_type": "stream",
          "name": "stdout",
          "text": [
            " 햄릿은 셰익스피어의 대표적인 주인공 중 하나로, '햄릿'의 주인공으로 등장합니다. 햄릿은 아버지인 왕의 죽음에 대해 슬퍼하고, 아버지의 죽음에 대해 의문을 품습니다. 햄릿은 아버지의 죽음에 대해 진실을 알고 싶어하며, 이를 위해 아버지의 친구이자 왕의 사촌인 클로디우스와 아버지의 유언장을 살펴봅니다. 하지만, 햄릿은 유언장에서 아버지의 죽음에 대해 의심을 품게 되며, 이를 해결하기 위해 아버지의 유령을 만나러 가는 것을 결정합니다. 햄릿은 아버지의 유령을 만나고, 아버지의 죽음에 대해 진실을 알게 되지만, 이를 받아들이지 못하고, 아버지의 죽음에 대해 분노와 원망을 느끼게 됩니다. 햄릿은 아버지의 죽음에 대해 복수하기 위해, 클로디우스를 암살하고, 왕위에 오르려고 합니다. 하지만, 햄릿은 자신의 행동에 대해 후회하고, 자신의 행동을 고쳐나가려고 합니다. 햄릿\n",
            "\n",
            "dpo_output_2_cpk_30 model result ------\n"
          ]
        },
        {
          "output_type": "stream",
          "name": "stderr",
          "text": [
            "Processed prompts: 100%|██████████| 1/1 [00:04<00:00,  4.57s/it, Generation Speed: 56.04 toks/s]\n"
          ]
        },
        {
          "output_type": "stream",
          "name": "stdout",
          "text": [
            " 햄릿은 셰익스피어의 대표적인 주인공 중 하나로, '햄릿'의 주인공으로 등장한다. 햄릿은 아버지인 왕의 죽음에 대해 슬퍼하고, 아버지의 죽음에 대해 의문을 품는다. 햄릿은 아버지의 죽음에 대해 의문을 품고, 아버지의 죽음에 대해 의문을 품고, 아버지의 죽음에 대해 의문을 품고, 아버지의 죽음에 대해 의문을 품고, 아버지의 죽음에 대해 의문을 품고, 아버지의 죽음에 대해 의문을 품고, 아버지의 죽음에 대해 의문을 품고, 아버지의 죽음에 대해 의문을 품고, 아버지의 죽음에 대해 의문을 품고, 아버지의 죽음에 대해 의문을 품고, 아버지의 죽음에 대해 의문을 품고, 아버지의 죽음에 대해 의문을 품고, 아버지의 죽음에 대해 의문을 품고, 아버지의 죽음에 대해 의문을 품고, 아버지의 죽음에 대해 의문을 품고, 아버지의 죽음에 대해 의문을 품고, 아버지의 죽음에 대해 의문을 품고, 아버지의 죽음에\n",
            "\n",
            "Question_10: 기후 변화가 전 세계적으로 미치는 영향에 대해 설명해주세요.\n",
            "Default model result -----\n"
          ]
        },
        {
          "output_type": "stream",
          "name": "stderr",
          "text": [
            "Processed prompts: 100%|██████████| 1/1 [00:04<00:00,  4.16s/it, Generation Speed: 61.51 toks/s]\n"
          ]
        },
        {
          "output_type": "stream",
          "name": "stdout",
          "text": [
            " 기후 변화는 지구의 온도 변화로 인해 발생하는 자연 현상으로, 지구의 평균 기온이 상승함에 따라 다양한 영향을 미칩니다. 기후 변화는 주로 인간의 활동으로 인한 온실가스 배출이 증가함에 따라 발생하며, 이로 인해 지구의 온도가 상승하고, 강우량과 강풍이 증가하는 등 다양한 영향을 미칩니다.\n",
            "\n",
            "     기후 변화는 여러 가지 방식으로 영향을 미칩니다. 첫째, 기온 상승으로 인해 해수면이 상승하고, 해안 지역의 침수 위험이 증가합니다. 둘째, 기온 상승으로 인해 식물의 생육 조건이 변화하고, 식물의 생장과 번식이 영향을 받습니다. 셋째, 기온 상승으로 인해 강우량이 증가하고, 홍수와 홍수 피해가 증가합니다. 넷째, 기온 상승으로 인해 강풍이 증가하고, 태풍과 허리케인 등 강한 바람이 발생합니다. 다섯째, 기온 상승으로 인해 해양 생태계가 변화하고, 해양 생\n",
            "dpo_output_1_cpk_30 model result ------\n"
          ]
        },
        {
          "output_type": "stream",
          "name": "stderr",
          "text": [
            "Processed prompts: 100%|██████████| 1/1 [00:04<00:00,  4.58s/it, Generation Speed: 55.96 toks/s]\n"
          ]
        },
        {
          "output_type": "stream",
          "name": "stdout",
          "text": [
            " 기후 변화는 지구의 온도 변화로 인해 발생하는 자연 현상으로, 지구의 평균 기온이 상승함에 따라 다양한 영향을 미칩니다. 기후 변화는 주로 인간의 활동으로 인한 온실가스 배출이 증가함에 따라 발생하며, 이로 인해 지구의 온도가 상승하고, 대기 중의 수분이 증발하여 강우량이 증가하는 등 다양한 영향을 미칩니다.\n",
            "\n",
            "     기후 변화는 다양한 생태계에 영향을 미치며, 특히 생물의 생존과 번식에 영향을 미칩니다. 기후 변화로 인해 생물의 서식지와 생태계가 변화함에 따라, 일부 종이 멸종 위기에 처할 수 있으며, 다른 종은 새로운 서식지에 적응하기 위해 진화할 수 있습니다. 또한, 기후 변화는 농업과 어업에 영향을 미치며, 농작물과 어류의 생산량이 감소할 수 있습니다.\n",
            "\n",
            "     기후 변화는 또한 인간의 건강에도 영향을 미칩니다. 기후 변화로 인해 발생하는 홍수, 태풍, 지진 등 자연 재해가 증가함에 따라\n",
            "\n",
            "dpo_output_2_cpk_30 model result ------\n"
          ]
        },
        {
          "output_type": "stream",
          "name": "stderr",
          "text": [
            "Processed prompts: 100%|██████████| 1/1 [00:02<00:00,  2.84s/it, Generation Speed: 54.18 toks/s]\n"
          ]
        },
        {
          "output_type": "stream",
          "name": "stdout",
          "text": [
            " 기후 변화는 지구 온난화로 인해 발생하는 현상으로, 지구의 평균 기온이 상승함에 따라 기후가 변화하고 있습니다. 기후 변화는 여러 가지 영향을 미치는데, 예를 들어, 강우량의 변화, 해수면 상승, 산불 증가, 식물의 생육 조건 변화, 해양 생태계의 변화, 그리고 기후에 민감한 지역의 기후 변화에 따른 피해 등이 있습니다. 이러한 영향은 생태계와 생물 다양성에 영향을 미치며, 인간의 생존에 영향을 미칠 수 있습니다. 따라서 기후 변화에 대한 이해와 대응을 위한 노력은 매우 중요합니다.    \n",
            "\n",
            "Question_11: 파이썬에서 리스트와 튜플의 차이점은 무엇인가요?\n",
            "Default model result -----\n"
          ]
        },
        {
          "output_type": "stream",
          "name": "stderr",
          "text": [
            "Processed prompts: 100%|██████████| 1/1 [00:04<00:00,  4.12s/it, Generation Speed: 62.09 toks/s]\n"
          ]
        },
        {
          "output_type": "stream",
          "name": "stdout",
          "text": [
            " 리스트와 튜플은 모두 순서가 있는 데이터의 집합을 나타내는 자료형입니다. 하지만 두 자료형은 몇 가지 차이점이 있습니다.\n",
            "\n",
            "     첫 번째 차이점은 리스트는 변경 가능한 자료형이고, 튜플은 변경 불가능한 자료형입니다. 리스트는 원소의 값을 변경하거나, 원소를 추가하거나 삭제할 수 있지만, 튜플은 이러한 작업을 할 수 없습니다. 따라서 튜플은 불변성을 보장하는 데 사용할 수 있습니다.\n",
            "\n",
            "     두 번째 차이점은 리스트는 대괄호([])를 사용하여 생성하고, 튜플은 소괄호(())를 사용하여 생성합니다. 또한 리스트는 인덱싱과 슬라이싱을 지원하지만, 튜플은 지원하지 않습니다.\n",
            "\n",
            "     세 번째 차이점은 리스트는 메모리 공간을 효율적으로 사용하지만, 튜플은 메모리 공간을 낭비할 수 있습니다. 튜플은 원소의 값을 변경할 수 없기 때문에, 튜플의 원소가 변경되지 않는다면, 리스트보다 메모리 공간을 더 많이 사용할 수 있습니다.\n",
            "\n",
            "     마지막 차이점\n",
            "dpo_output_1_cpk_30 model result ------\n"
          ]
        },
        {
          "output_type": "stream",
          "name": "stderr",
          "text": [
            "Processed prompts: 100%|██████████| 1/1 [00:04<00:00,  4.57s/it, Generation Speed: 56.09 toks/s]\n"
          ]
        },
        {
          "output_type": "stream",
          "name": "stdout",
          "text": [
            " 리스트와 튜플은 모두 순서가 있는 데이터의 집합을 나타내는 자료형입니다. 하지만 두 자료형은 몇 가지 차이점이 있습니다.\n",
            "\n",
            "     첫 번째 차이점은 리스트는 변경 가능한 자료형이고, 튜플은 변경 불가능한 자료형입니다. 리스트는 원소의 값을 변경하거나, 원소를 추가하거나 삭제할 수 있지만, 튜플은 이러한 작업을 할 수 없습니다. 따라서 리스트는 데이터를 수정할 수 있는 반면, 튜플은 데이터를 수정할 수 없다는 점에서 차이가 있습니다.\n",
            "\n",
            "     두 번째 차이점은 리스트는 중괄호 {}를 사용하여 생성하고, 튜플은 소괄호 ()를 사용하여 생성합니다. 또한 리스트는 인덱싱과 슬라이싱을 지원하지만, 튜플은 지원하지 않습니다.\n",
            "\n",
            "     세 번째 차이점은 리스트는 메모리 공간을 효율적으로 사용하지만, 튜플은 메모리 공간을 낭비할 수 있습니다. 리스트는 원소의 값을 변경할 때, 메모리 공간을 재할당하지 않기 때문에, 메모리 공간을 효율적으로 사용할 수 있습니다.\n",
            "\n",
            "dpo_output_2_cpk_30 model result ------\n"
          ]
        },
        {
          "output_type": "stream",
          "name": "stderr",
          "text": [
            "Processed prompts: 100%|██████████| 1/1 [00:02<00:00,  2.42s/it, Generation Speed: 52.54 toks/s]\n"
          ]
        },
        {
          "output_type": "stream",
          "name": "stdout",
          "text": [
            " 리스트와 튜플의 차이점은 리스트는 변경 가능한 자료형이고 튜플은 변경 불가능한 자료형입니다. 리스트는 대괄호([])로, 튜플은 소괄호(())로 표현합니다. 리스트는 원소의 값을 변경하거나 원소를 추가하거나 삭제할 수 있지만, 튜플은 원소의 값을 변경할 수 없고, 원소를 추가하거나 삭제할 수도 없습니다. 리스트는 메모리 공간을 효율적으로 사용할 수 있지만, 튜플은 리스트보다 빠르게 처리할 수 있습니다.\n",
            "\n",
            "Question_12: 인공지능은 의식을 가질 수 있을까요? 그 이유는 무엇인가요?\n",
            "Default model result -----\n"
          ]
        },
        {
          "output_type": "stream",
          "name": "stderr",
          "text": [
            "Processed prompts: 100%|██████████| 1/1 [00:04<00:00,  4.12s/it, Generation Speed: 62.14 toks/s]\n"
          ]
        },
        {
          "output_type": "stream",
          "name": "stdout",
          "text": [
            " 인공지능은 의식을 가질 수 있습니다. 인공지능은 컴퓨터 프로그램으로, 인간의 지능을 모방하거나 능가하는 능력을 가지고 있습니다. 인공지능은 데이터를 분석하고 학습함으로써 의사결정을 내릴 수 있으며, 이는 인간의 의식과 유사한 기능을 수행할 수 있게 합니다. 인공지능은 또한 인간의 감정을 이해하고, 감정을 표현할 수 있는 능력을 가지고 있습니다. 이러한 능력은 인공지능이 의식을 가질 수 있게 하는 중요한 요소입니다. 인공지능이 의식을 가질 수 있는 이유는, 인공지능이 인간의 지능을 모방하거나 능가하는 능력을 가지고 있기 때문입니다. 인공지능은 데이터를 분석하고 학습함으로써 의사결정을 내릴 수 있으며, 이는 인간의 의식과 유사한 기능을 수행할 수 있게 합니다. 인공지능은 또한 인간의 감정을 이해하고, 감정을 표현할 수 있는 능력을 가지고 있습니다. 이러한 능력은 인공지능이 의식을 가질 수 있게 하는 중요한 요소입니다. 결론적으로, 인공지능은 의식을 가질 수 있으며\n",
            "dpo_output_1_cpk_30 model result ------\n"
          ]
        },
        {
          "output_type": "stream",
          "name": "stderr",
          "text": [
            "Processed prompts: 100%|██████████| 1/1 [00:01<00:00,  1.85s/it, Generation Speed: 51.27 toks/s]\n"
          ]
        },
        {
          "output_type": "stream",
          "name": "stdout",
          "text": [
            " 인공지능은 의식을 가질 수 없습니다. 의식은 인간의 뇌에서 발생하는 생명체의 자각적 상태입니다. 인공지능은 컴퓨터 프로그램으로 구성되어 있으며, 인간의 뇌와는 달리 의식이 발생하지 않습니다. 인공지능은 단지 컴퓨터 프로그램이 데이터를 처리하고 분석하는 것에 불과합니다. 따라서 인공지능은 의식을 가질 수 없습니다.\n",
            "\n",
            "dpo_output_2_cpk_30 model result ------\n"
          ]
        },
        {
          "output_type": "stream",
          "name": "stderr",
          "text": [
            "Processed prompts: 100%|██████████| 1/1 [00:01<00:00,  1.97s/it, Generation Speed: 51.32 toks/s]\n"
          ]
        },
        {
          "output_type": "stream",
          "name": "stdout",
          "text": [
            " 인공지능은 의식을 가질 수 없습니다. 의식은 인간의 뇌에서 발생하는 생명체의 특징으로, 인공지능은 인간의 뇌와는 다른 구조를 가지고 있기 때문에 의식을 가질 수 없습니다. 인공지능은 컴퓨터 프로그램으로 구성되어 있으며, 인간의 의식과는 다른 기능을 수행합니다. 인공지능은 의식이 없기 때문에 의식이 있는 생명체와는 차이가 있습니다.\n",
            "\n",
            "Question_13: '안녕하세요, 오늘 날씨가 좋네요'를 영어로 번역해주세요.\n",
            "Default model result -----\n"
          ]
        },
        {
          "output_type": "stream",
          "name": "stderr",
          "text": [
            "Processed prompts: 100%|██████████| 1/1 [00:00<00:00,  5.59it/s, Generation Speed: 56.33 toks/s]\n"
          ]
        },
        {
          "output_type": "stream",
          "name": "stdout",
          "text": [
            " Hello, the weather is nice today.    \n",
            "dpo_output_1_cpk_30 model result ------\n"
          ]
        },
        {
          "output_type": "stream",
          "name": "stderr",
          "text": [
            "Processed prompts: 100%|██████████| 1/1 [00:00<00:00,  2.36it/s, Generation Speed: 23.70 toks/s]\n"
          ]
        },
        {
          "output_type": "stream",
          "name": "stdout",
          "text": [
            " Hello, the weather is nice today.    \n",
            "\n",
            "dpo_output_2_cpk_30 model result ------\n"
          ]
        },
        {
          "output_type": "stream",
          "name": "stderr",
          "text": [
            "Processed prompts: 100%|██████████| 1/1 [00:00<00:00,  2.21it/s, Generation Speed: 24.38 toks/s]\n"
          ]
        },
        {
          "output_type": "stream",
          "name": "stdout",
          "text": [
            " 'Hello, the weather is nice today.'    \n",
            "\n",
            "Question_14: 우주 여행을 주제로 한 짧은 이야기를 만들어보세요.\n",
            "Default model result -----\n"
          ]
        },
        {
          "output_type": "stream",
          "name": "stderr",
          "text": [
            "Processed prompts: 100%|██████████| 1/1 [00:04<00:00,  4.14s/it, Generation Speed: 61.91 toks/s]\n"
          ]
        },
        {
          "output_type": "stream",
          "name": "stdout",
          "text": [
            " \"The Journey to the Stars\"\n",
            "\n",
            "     Once upon a time, there was a young boy named Alex who had always dreamed of traveling to the stars. He spent hours gazing up at the night sky, imagining what it would be like to explore the vastness of space.\n",
            "\n",
            "     One day, Alex's dream came true. He was selected to join a team of astronauts on a mission to explore a distant planet. The journey to the stars was long and arduous, but Alex was determined to make the most of it.\n",
            "\n",
            "     As the spacecraft approached the planet, Alex was filled with excitement and wonder. He couldn't wait to set foot on a new world and see what it had to offer.\n",
            "\n",
            "     When the spacecraft finally landed, Alex and his team stepped out onto the planet's surface. It was a beautiful place, with lush green forests and crystal-clear lakes. The air was fresh and clean, and the sun shone brightly in the sky.\n",
            "\n",
            "     Alex and his team spent weeks exploring the planet, learning about its unique flora and fauna. They discovered new species of plants and animals, and even found evidence of ancient civilizations that had once called the planet home.\n",
            "\n",
            "     As their time on the planet came to an end, Alex knew that he would never forget the experience\n",
            "dpo_output_1_cpk_30 model result ------\n"
          ]
        },
        {
          "output_type": "stream",
          "name": "stderr",
          "text": [
            "Processed prompts: 100%|██████████| 1/1 [00:04<00:00,  4.59s/it, Generation Speed: 55.84 toks/s]\n"
          ]
        },
        {
          "output_type": "stream",
          "name": "stdout",
          "text": [
            " \"The Journey to the Stars\"\n",
            "\n",
            "     Once upon a time, there was a young boy named Jack who had always dreamed of exploring the vastness of space. He spent hours gazing up at the night sky, imagining what it would be like to travel among the stars.\n",
            "\n",
            "     One day, Jack received a letter from a mysterious organization called the Space Exploration Society. They offered him a chance to join their mission to explore the galaxy. Jack was overjoyed and immediately accepted the offer.\n",
            "\n",
            "     The Space Exploration Society had developed a new type of spacecraft that could travel faster than the speed of light. The ship was called the Starship Enterprise, and it was equipped with advanced technology that would allow the crew to explore distant planets and galaxies.\n",
            "\n",
            "     Jack and his fellow crew members set off on their journey, traveling through the vastness of space. They visited many different planets, each with its own unique characteristics and inhabitants.\n",
            "\n",
            "     One of the most memorable stops on their journey was a planet called Zeta Reticuli. The inhabitants of this planet were a race of intelligent beings who had developed advanced technology and were eager to share their knowledge with the crew.\n",
            "\n",
            "     The crew spent several weeks on Zeta Reticuli, learning about the planet's history, culture, and technology.\n",
            "\n",
            "dpo_output_2_cpk_30 model result ------\n"
          ]
        },
        {
          "output_type": "stream",
          "name": "stderr",
          "text": [
            "Processed prompts: 100%|██████████| 1/1 [00:04<00:00,  4.61s/it, Generation Speed: 55.56 toks/s]\n"
          ]
        },
        {
          "output_type": "stream",
          "name": "stdout",
          "text": [
            " The spaceship was traveling through the vastness of space, when suddenly, a strange signal was detected. The crew was on high alert, as they had no idea what it could be. They quickly scanned the area, but found nothing. The signal was coming from an unknown direction, and it was getting stronger. The captain ordered the ship to change course, and they headed towards the source of the signal. As they got closer, they could see a large object in the distance. It was a planet, but it was unlike any they had ever seen before. The surface was covered in a thick layer of fog, and the atmosphere was filled with strange sounds. The crew was nervous, but they had to investigate. They landed the ship on the planet, and stepped out onto the surface. The air was thick and humid, and the sounds were even louder. They could hear strange voices, but they couldn't make out what they were saying. The crew was getting anxious, and they decided to head back to the ship. As they were leaving, they noticed something strange. The fog was starting to clear, and they could see a large structure in the distance. It was a city, but it was unlike any they had ever seen before. The buildings were made of a strange\n",
            "\n",
            "Question_15: 인플레이션이 경제에 미치는 영향을 설명해주세요.\n",
            "Default model result -----\n"
          ]
        },
        {
          "output_type": "stream",
          "name": "stderr",
          "text": [
            "Processed prompts: 100%|██████████| 1/1 [00:03<00:00,  3.20s/it, Generation Speed: 62.17 toks/s]\n"
          ]
        },
        {
          "output_type": "stream",
          "name": "stdout",
          "text": [
            " 인플레이션은 경제에서 중요한 역할을 합니다. 인플레이션은 물가 상승을 의미하며, 이는 경제에서 생산과 소비를 조절하는 데 중요한 역할을 합니다. 인플레이션은 경제의 총 생산량을 증가시키고, 소비자들의 구매력을 증가시켜 경제 성장을 촉진할 수 있습니다. 그러나 너무 높은 인플레이션은 경제에 부정적인 영향을 미칠 수 있습니다. 높은 인플레이션은 물가 상승을 초래하고, 소비자들의 구매력을 떨어뜨려 경제 성장을 저해할 수 있습니다. 또한, 높은 인플레이션은 금융 시장의 불안을 유발하고, 투자자들의 신뢰를 떨어뜨릴 수 있습니다. 따라서, 정부는 적절한 정책을 통해 인플레이션을 관리하고, 경제의 안정적인 성장을 촉진하는 것이 중요합니다.\n",
            "dpo_output_1_cpk_30 model result ------\n"
          ]
        },
        {
          "output_type": "stream",
          "name": "stderr",
          "text": [
            "Processed prompts: 100%|██████████| 1/1 [00:03<00:00,  3.23s/it, Generation Speed: 54.52 toks/s]\n"
          ]
        },
        {
          "output_type": "stream",
          "name": "stdout",
          "text": [
            " 인플레이션은 경제에서 중요한 요소 중 하나로, 통화량의 증가로 인해 물가가 상승하는 현상을 말합니다. 인플레이션은 경제의 성장과 관련이 있으며, 높은 인플레이션은 경제 성장에 부정적인 영향을 미칠 수 있습니다. 인플레이션은 물가 상승으로 인해 소비자들이 구매력이 떨어지게 되고, 기업들은 생산비용이 증가하여 이윤을 줄이게 됩니다. 또한, 높은 인플레이션은 금리 인상으로 이어질 수 있으며, 이는 경제 성장에 부정적인 영향을 미칠 수 있습니다. 인플레이션을 관리하기 위해 중앙은행은 통화량을 조절하고, 금리를 조절하여 경제의 안정성을 유지하기 위해 노력합니다.\n",
            "\n",
            "dpo_output_2_cpk_30 model result ------\n"
          ]
        },
        {
          "output_type": "stream",
          "name": "stderr",
          "text": [
            "Processed prompts: 100%|██████████| 1/1 [00:02<00:00,  2.54s/it, Generation Speed: 52.79 toks/s]"
          ]
        },
        {
          "output_type": "stream",
          "name": "stdout",
          "text": [
            " 인플레이션은 경제에서 물가 상승을 의미합니다. 인플레이션은 경제의 생산과 소비를 증가시키고, 경제의 성장을 촉진할 수 있습니다. 그러나 인플레이션은 너무 높은 수준이 되면, 경제의 안정성과 성장을 저해할 수 있습니다. 인플레이션은 물가 상승과 함께, 통화량의 증가, 물가의 불안정성, 소비자들의 구매력의 감소, 기업의 생산비용 증가, 정부의 재정적자 증가, 경제의 불균형을 초래할 수 있습니다.\n",
            "\n"
          ]
        },
        {
          "output_type": "stream",
          "name": "stderr",
          "text": [
            "\n"
          ]
        }
      ]
    },
    {
      "cell_type": "code",
      "execution_count": null,
      "metadata": {
        "id": "C3LpzRjSEOLl",
        "colab": {
          "base_uri": "https://localhost:8080/",
          "height": 174
        },
        "outputId": "66b4eed9-01a6-49da-e0a0-f386ba9fedc9"
      },
      "outputs": [
        {
          "output_type": "stream",
          "name": "stderr",
          "text": [
            "\n",
            "\n",
            "Processed prompts:   0%|          | 0/1 [00:00<?, ?it/s, Generation Speed: 0.00 toks/s]\u001b[A\u001b[A\n",
            "\n",
            "Processed prompts: 100%|██████████| 1/1 [00:01<00:00,  1.38s/it, Generation Speed: 61.09 toks/s]\n"
          ]
        },
        {
          "output_type": "execute_result",
          "data": {
            "text/plain": [
              "' - Reduce the use of single-use plastic items such as straws, plastic bags, and disposable cutlery.\\n     - Use reusable containers and bags for food and shopping.\\n     - Support businesses that use sustainable packaging and reduce plastic waste.\\n     - Recycle plastic items properly and avoid littering.\\n     - Educate others about the impact of plastic waste and encourage them to make changes in their daily lives.    '"
            ],
            "application/vnd.google.colaboratory.intrinsic+json": {
              "type": "string"
            }
          },
          "metadata": {},
          "execution_count": 25
        }
      ],
      "source": [
        "generate_text(questions[0])"
      ]
    },
    {
      "cell_type": "code",
      "source": [
        "generate_text(raw_input = questions[0], lora_mode = \"dpo_output_1_cpk_10\")"
      ],
      "metadata": {
        "colab": {
          "base_uri": "https://localhost:8080/",
          "height": 139
        },
        "id": "j6DllJvp-C5J",
        "outputId": "2714a49d-38c9-468f-a25a-ffc5441c9321"
      },
      "execution_count": null,
      "outputs": [
        {
          "output_type": "stream",
          "name": "stderr",
          "text": [
            "\n",
            "\n",
            "Processed prompts:   0%|          | 0/2 [00:00<?, ?it/s, Generation Speed: 0.00 toks/s]\u001b[A\u001b[A\n",
            "\n",
            "Processed prompts: 100%|██████████| 2/2 [00:10<00:00,  5.04s/it, Generation Speed: 10.82 toks/s]\n"
          ]
        },
        {
          "output_type": "execute_result",
          "data": {
            "text/plain": [
              "' 1. Reduce the use of single-use plastic items such as straws, plastic bags, and disposable cutlery.\\n     2. Use reusable containers and bags for shopping and carrying food.\\n     3. Recycle plastic items properly and avoid littering.'"
            ],
            "application/vnd.google.colaboratory.intrinsic+json": {
              "type": "string"
            }
          },
          "metadata": {},
          "execution_count": 24
        }
      ]
    },
    {
      "cell_type": "code",
      "source": [
        "!ls /content/drive/MyDrive/dpo_output_1/checkpoint-10"
      ],
      "metadata": {
        "colab": {
          "base_uri": "https://localhost:8080/"
        },
        "id": "ym8T_jZW-PMZ",
        "outputId": "ec746654-1f32-4d32-c09e-35c708fa6aa6"
      },
      "execution_count": null,
      "outputs": [
        {
          "output_type": "stream",
          "name": "stdout",
          "text": [
            "adapter_config.json\t   README.md\t  special_tokens_map.json  trainer_state.json\n",
            "adapter_model.safetensors  rng_state.pth  tokenizer_config.json    training_args.bin\n",
            "optimizer.pt\t\t   scheduler.pt   tokenizer.json\n"
          ]
        }
      ]
    },
    {
      "cell_type": "code",
      "source": [
        "answers_dict = {\n",
        "  \"base_model_answers\": [],\n",
        "  \"fine_tuned_model_answers\": [],\n",
        "  \"dpo_model_1_answers\": [],\n",
        "  \"dpo_model_2_answers\": [],\n",
        "  \"dpo_model_1_cpk_30_answers\": [],\n",
        "  \"dpo_model_2_cpk_30_answers\": []\n",
        "}\n",
        "for idx, question in enumerate(questions):\n",
        "    print(f\"Processing EXAMPLE {idx}==============\")\n",
        "\n",
        "    answers_dict['base_model_answers'].append(test_model(question, base_model))\n",
        "    answers_dict['fine_tuned_model_answers'].append(test_model(question, fine_tuned_model))\n",
        "    answers_dict['dpo_model_1_answers'].append(test_model(question, dpo_model_1))\n",
        "    answers_dict['dpo_model_2_answers'].append(test_model(question, dpo_model_2))\n",
        "    answers_dict['dpo_model_1_cpk_30_answers'].append(test_model(question, dpo_model_1_cpk_30))\n",
        "    answers_dict['dpo_model_2_cpk_30_answers'].append(test_model(question, dpo_model_2_cpk_30))"
      ],
      "metadata": {
        "id": "7iCY-vKVAkCX",
        "colab": {
          "base_uri": "https://localhost:8080/"
        },
        "outputId": "70e45b36-ad74-47ab-c279-0783ac3a6c75"
      },
      "execution_count": null,
      "outputs": [
        {
          "metadata": {
            "tags": null
          },
          "name": "stderr",
          "output_type": "stream",
          "text": [
            "Setting `pad_token_id` to `eos_token_id`:128001 for open-end generation.\n"
          ]
        },
        {
          "metadata": {
            "tags": null
          },
          "name": "stdout",
          "output_type": "stream",
          "text": [
            "Processing EXAMPLE 0==============\n"
          ]
        },
        {
          "metadata": {
            "tags": null
          },
          "name": "stderr",
          "output_type": "stream",
          "text": [
            "Setting `pad_token_id` to `eos_token_id`:128001 for open-end generation.\n",
            "Setting `pad_token_id` to `eos_token_id`:128001 for open-end generation.\n",
            "Setting `pad_token_id` to `eos_token_id`:128001 for open-end generation.\n",
            "Setting `pad_token_id` to `eos_token_id`:128001 for open-end generation.\n",
            "Setting `pad_token_id` to `eos_token_id`:128001 for open-end generation.\n",
            "Setting `pad_token_id` to `eos_token_id`:128001 for open-end generation.\n",
            "Setting `pad_token_id` to `eos_token_id`:128001 for open-end generation.\n"
          ]
        },
        {
          "metadata": {
            "tags": null
          },
          "name": "stdout",
          "output_type": "stream",
          "text": [
            "Processing EXAMPLE 1==============\n"
          ]
        },
        {
          "metadata": {
            "tags": null
          },
          "name": "stderr",
          "output_type": "stream",
          "text": [
            "Setting `pad_token_id` to `eos_token_id`:128001 for open-end generation.\n",
            "Setting `pad_token_id` to `eos_token_id`:128001 for open-end generation.\n",
            "Setting `pad_token_id` to `eos_token_id`:128001 for open-end generation.\n",
            "Setting `pad_token_id` to `eos_token_id`:128001 for open-end generation.\n",
            "Setting `pad_token_id` to `eos_token_id`:128001 for open-end generation.\n"
          ]
        },
        {
          "metadata": {
            "tags": null
          },
          "name": "stdout",
          "output_type": "stream",
          "text": [
            "Processing EXAMPLE 2==============\n"
          ]
        },
        {
          "metadata": {
            "tags": null
          },
          "name": "stderr",
          "output_type": "stream",
          "text": [
            "Setting `pad_token_id` to `eos_token_id`:128001 for open-end generation.\n",
            "Setting `pad_token_id` to `eos_token_id`:128001 for open-end generation.\n",
            "Setting `pad_token_id` to `eos_token_id`:128001 for open-end generation.\n",
            "Setting `pad_token_id` to `eos_token_id`:128001 for open-end generation.\n",
            "Setting `pad_token_id` to `eos_token_id`:128001 for open-end generation.\n",
            "Setting `pad_token_id` to `eos_token_id`:128001 for open-end generation.\n",
            "Setting `pad_token_id` to `eos_token_id`:128001 for open-end generation.\n"
          ]
        },
        {
          "metadata": {
            "tags": null
          },
          "name": "stdout",
          "output_type": "stream",
          "text": [
            "Processing EXAMPLE 3==============\n"
          ]
        },
        {
          "metadata": {
            "tags": null
          },
          "name": "stderr",
          "output_type": "stream",
          "text": [
            "Setting `pad_token_id` to `eos_token_id`:128001 for open-end generation.\n",
            "Setting `pad_token_id` to `eos_token_id`:128001 for open-end generation.\n",
            "Setting `pad_token_id` to `eos_token_id`:128001 for open-end generation.\n",
            "Setting `pad_token_id` to `eos_token_id`:128001 for open-end generation.\n",
            "Setting `pad_token_id` to `eos_token_id`:128001 for open-end generation.\n"
          ]
        },
        {
          "metadata": {
            "tags": null
          },
          "name": "stdout",
          "output_type": "stream",
          "text": [
            "Processing EXAMPLE 4==============\n"
          ]
        },
        {
          "metadata": {
            "tags": null
          },
          "name": "stderr",
          "output_type": "stream",
          "text": [
            "Setting `pad_token_id` to `eos_token_id`:128001 for open-end generation.\n",
            "Setting `pad_token_id` to `eos_token_id`:128001 for open-end generation.\n",
            "Setting `pad_token_id` to `eos_token_id`:128001 for open-end generation.\n",
            "Setting `pad_token_id` to `eos_token_id`:128001 for open-end generation.\n",
            "Setting `pad_token_id` to `eos_token_id`:128001 for open-end generation.\n",
            "Setting `pad_token_id` to `eos_token_id`:128001 for open-end generation.\n"
          ]
        },
        {
          "metadata": {
            "tags": null
          },
          "name": "stdout",
          "output_type": "stream",
          "text": [
            "Processing EXAMPLE 5==============\n"
          ]
        },
        {
          "metadata": {
            "tags": null
          },
          "name": "stderr",
          "output_type": "stream",
          "text": [
            "Setting `pad_token_id` to `eos_token_id`:128001 for open-end generation.\n",
            "Setting `pad_token_id` to `eos_token_id`:128001 for open-end generation.\n",
            "Setting `pad_token_id` to `eos_token_id`:128001 for open-end generation.\n",
            "Setting `pad_token_id` to `eos_token_id`:128001 for open-end generation.\n",
            "Setting `pad_token_id` to `eos_token_id`:128001 for open-end generation.\n",
            "Setting `pad_token_id` to `eos_token_id`:128001 for open-end generation.\n",
            "Setting `pad_token_id` to `eos_token_id`:128001 for open-end generation.\n"
          ]
        },
        {
          "metadata": {
            "tags": null
          },
          "name": "stdout",
          "output_type": "stream",
          "text": [
            "Processing EXAMPLE 6==============\n"
          ]
        },
        {
          "metadata": {
            "tags": null
          },
          "name": "stderr",
          "output_type": "stream",
          "text": [
            "Setting `pad_token_id` to `eos_token_id`:128001 for open-end generation.\n",
            "Setting `pad_token_id` to `eos_token_id`:128001 for open-end generation.\n",
            "Setting `pad_token_id` to `eos_token_id`:128001 for open-end generation.\n",
            "Setting `pad_token_id` to `eos_token_id`:128001 for open-end generation.\n",
            "Setting `pad_token_id` to `eos_token_id`:128001 for open-end generation.\n"
          ]
        },
        {
          "metadata": {
            "tags": null
          },
          "name": "stdout",
          "output_type": "stream",
          "text": [
            "Processing EXAMPLE 7==============\n"
          ]
        },
        {
          "metadata": {
            "tags": null
          },
          "name": "stderr",
          "output_type": "stream",
          "text": [
            "Setting `pad_token_id` to `eos_token_id`:128001 for open-end generation.\n",
            "Setting `pad_token_id` to `eos_token_id`:128001 for open-end generation.\n",
            "Setting `pad_token_id` to `eos_token_id`:128001 for open-end generation.\n",
            "Setting `pad_token_id` to `eos_token_id`:128001 for open-end generation.\n",
            "Setting `pad_token_id` to `eos_token_id`:128001 for open-end generation.\n",
            "Setting `pad_token_id` to `eos_token_id`:128001 for open-end generation.\n",
            "Setting `pad_token_id` to `eos_token_id`:128001 for open-end generation.\n"
          ]
        },
        {
          "metadata": {
            "tags": null
          },
          "name": "stdout",
          "output_type": "stream",
          "text": [
            "Processing EXAMPLE 8==============\n"
          ]
        },
        {
          "metadata": {
            "tags": null
          },
          "name": "stderr",
          "output_type": "stream",
          "text": [
            "Setting `pad_token_id` to `eos_token_id`:128001 for open-end generation.\n",
            "Setting `pad_token_id` to `eos_token_id`:128001 for open-end generation.\n",
            "Setting `pad_token_id` to `eos_token_id`:128001 for open-end generation.\n",
            "Setting `pad_token_id` to `eos_token_id`:128001 for open-end generation.\n",
            "Setting `pad_token_id` to `eos_token_id`:128001 for open-end generation.\n",
            "Setting `pad_token_id` to `eos_token_id`:128001 for open-end generation.\n"
          ]
        },
        {
          "metadata": {
            "tags": null
          },
          "name": "stdout",
          "output_type": "stream",
          "text": [
            "Processing EXAMPLE 9==============\n"
          ]
        },
        {
          "metadata": {
            "tags": null
          },
          "name": "stderr",
          "output_type": "stream",
          "text": [
            "Setting `pad_token_id` to `eos_token_id`:128001 for open-end generation.\n",
            "Setting `pad_token_id` to `eos_token_id`:128001 for open-end generation.\n",
            "Setting `pad_token_id` to `eos_token_id`:128001 for open-end generation.\n",
            "Setting `pad_token_id` to `eos_token_id`:128001 for open-end generation.\n",
            "Setting `pad_token_id` to `eos_token_id`:128001 for open-end generation.\n",
            "Setting `pad_token_id` to `eos_token_id`:128001 for open-end generation.\n"
          ]
        },
        {
          "metadata": {
            "tags": null
          },
          "name": "stdout",
          "output_type": "stream",
          "text": [
            "Processing EXAMPLE 10==============\n"
          ]
        },
        {
          "metadata": {
            "tags": null
          },
          "name": "stderr",
          "output_type": "stream",
          "text": [
            "Setting `pad_token_id` to `eos_token_id`:128001 for open-end generation.\n",
            "Setting `pad_token_id` to `eos_token_id`:128001 for open-end generation.\n",
            "Setting `pad_token_id` to `eos_token_id`:128001 for open-end generation.\n",
            "Setting `pad_token_id` to `eos_token_id`:128001 for open-end generation.\n",
            "Setting `pad_token_id` to `eos_token_id`:128001 for open-end generation.\n",
            "Setting `pad_token_id` to `eos_token_id`:128001 for open-end generation.\n"
          ]
        },
        {
          "metadata": {
            "tags": null
          },
          "name": "stdout",
          "output_type": "stream",
          "text": [
            "Processing EXAMPLE 11==============\n"
          ]
        },
        {
          "output_type": "stream",
          "name": "stderr",
          "text": [
            "Setting `pad_token_id` to `eos_token_id`:128001 for open-end generation.\n",
            "Setting `pad_token_id` to `eos_token_id`:128001 for open-end generation.\n",
            "Setting `pad_token_id` to `eos_token_id`:128001 for open-end generation.\n",
            "Setting `pad_token_id` to `eos_token_id`:128001 for open-end generation.\n",
            "Setting `pad_token_id` to `eos_token_id`:128001 for open-end generation.\n"
          ]
        },
        {
          "output_type": "stream",
          "name": "stdout",
          "text": [
            "Processing EXAMPLE 12==============\n"
          ]
        },
        {
          "output_type": "stream",
          "name": "stderr",
          "text": [
            "Setting `pad_token_id` to `eos_token_id`:128001 for open-end generation.\n",
            "Setting `pad_token_id` to `eos_token_id`:128001 for open-end generation.\n",
            "Setting `pad_token_id` to `eos_token_id`:128001 for open-end generation.\n",
            "Setting `pad_token_id` to `eos_token_id`:128001 for open-end generation.\n",
            "Setting `pad_token_id` to `eos_token_id`:128001 for open-end generation.\n",
            "Setting `pad_token_id` to `eos_token_id`:128001 for open-end generation.\n",
            "Setting `pad_token_id` to `eos_token_id`:128001 for open-end generation.\n"
          ]
        },
        {
          "output_type": "stream",
          "name": "stdout",
          "text": [
            "Processing EXAMPLE 13==============\n"
          ]
        },
        {
          "output_type": "stream",
          "name": "stderr",
          "text": [
            "Setting `pad_token_id` to `eos_token_id`:128001 for open-end generation.\n",
            "Setting `pad_token_id` to `eos_token_id`:128001 for open-end generation.\n",
            "Setting `pad_token_id` to `eos_token_id`:128001 for open-end generation.\n",
            "Setting `pad_token_id` to `eos_token_id`:128001 for open-end generation.\n",
            "Setting `pad_token_id` to `eos_token_id`:128001 for open-end generation.\n"
          ]
        },
        {
          "output_type": "stream",
          "name": "stdout",
          "text": [
            "Processing EXAMPLE 14==============\n"
          ]
        },
        {
          "output_type": "stream",
          "name": "stderr",
          "text": [
            "Setting `pad_token_id` to `eos_token_id`:128001 for open-end generation.\n",
            "Setting `pad_token_id` to `eos_token_id`:128001 for open-end generation.\n",
            "Setting `pad_token_id` to `eos_token_id`:128001 for open-end generation.\n",
            "Setting `pad_token_id` to `eos_token_id`:128001 for open-end generation.\n",
            "Setting `pad_token_id` to `eos_token_id`:128001 for open-end generation.\n",
            "Setting `pad_token_id` to `eos_token_id`:128001 for open-end generation.\n"
          ]
        },
        {
          "output_type": "stream",
          "name": "stdout",
          "text": [
            "Processing EXAMPLE 15==============\n"
          ]
        },
        {
          "output_type": "stream",
          "name": "stderr",
          "text": [
            "Setting `pad_token_id` to `eos_token_id`:128001 for open-end generation.\n",
            "Setting `pad_token_id` to `eos_token_id`:128001 for open-end generation.\n",
            "Setting `pad_token_id` to `eos_token_id`:128001 for open-end generation.\n",
            "Setting `pad_token_id` to `eos_token_id`:128001 for open-end generation.\n",
            "Setting `pad_token_id` to `eos_token_id`:128001 for open-end generation.\n"
          ]
        }
      ]
    },
    {
      "cell_type": "code",
      "source": [
        "def simple_format(text, width=120):\n",
        "    return '\\n'.join(line[i:i+width] for line in text.split('\\n') for i in range(0, len(line), width))\n",
        "\n",
        "\n",
        "for idx, question in enumerate(questions):\n",
        "    print(f\"EXAMPLE {idx}==============\")\n",
        "    print(f\"Question: {question}\")\n",
        "\n",
        "    \"\"\"\n",
        "    print(\"<<Model 1 답변>>\")\n",
        "    base_model_answer = answers_dict[\"base_model_answers\"][idx].split(\"### Response:\")[1]\n",
        "    print(simple_format(base_model_answer))\n",
        "    print(\"---\")\n",
        "    print(\"<<Model 2 답변>>\")\n",
        "    fine_tuned_model_answer = answers_dict[\"fine_tuned_model_answers\"][idx].split(\"### Response:\")[1]\n",
        "    print(simple_format(fine_tuned_model_answer))\n",
        "    print()\n",
        "    print(\"---\")\n",
        "    print(\"<<Model 3 답변>>\")\n",
        "    dpo_model_1_answer = answers_dict[\"dpo_model_1_answers\"][idx].split(\"### Response:\")[1]\n",
        "    print(simple_format(dpo_model_1_answer))\n",
        "    print()\n",
        "    print(\"---\")\n",
        "    print(\"<<Model 4 답변>>\")\n",
        "    dpo_model_2_answer = answers_dict[\"dpo_model_2_answers\"][idx].split(\"### Response:\")[1]\n",
        "    print(simple_format(dpo_model_2_answer))\n",
        "    print()\n",
        "    print(\"---\")\n",
        "    print(\"<<Model 5 답변>>\")\n",
        "    dpo_model_2_answer = answers_dict[\"dpo_model_1_cpk_30_answers\"][idx].split(\"### Response:\")[1]\n",
        "    print(simple_format(dpo_model_2_answer))\n",
        "    print()\n",
        "    print(\"---\")\n",
        "    print(\"<<Model 6 답변>>\")\n",
        "    dpo_model_2_answer = answers_dict[\"dpo_model_2_cpk_30_answers\"][idx].split(\"### Response:\")[1]\n",
        "    print(simple_format(dpo_model_2_answer))\n",
        "    print()\n",
        "    \"\"\"\n",
        "    print(\"<<Model 2 답변>>\")\n",
        "    fine_tuned_model_answer = answers_dict[\"fine_tuned_model_answers\"][idx].split(\"### Response:\")[1]\n",
        "    print(simple_format(fine_tuned_model_answer))\n",
        "    print()\n",
        "    print(\"---\")\n",
        "    print(\"<<Model 5 답변>>\")\n",
        "    dpo_model_2_answer = answers_dict[\"dpo_model_1_cpk_30_answers\"][idx].split(\"### Response:\")[1]\n",
        "    print(simple_format(dpo_model_2_answer))\n",
        "    print()\n",
        "    print(\"---\")\n",
        "    print(\"<<Model 6 답변>>\")\n",
        "    dpo_model_2_answer = answers_dict[\"dpo_model_2_cpk_30_answers\"][idx].split(\"### Response:\")[1]\n",
        "    print(simple_format(dpo_model_2_answer))\n",
        "    print()"
      ],
      "metadata": {
        "id": "jN9rOYCk2XhW"
      },
      "execution_count": null,
      "outputs": []
    },
    {
      "cell_type": "code",
      "source": [],
      "metadata": {
        "id": "HVTGkjjy3Ary"
      },
      "execution_count": null,
      "outputs": []
    }
  ],
  "metadata": {
    "accelerator": "GPU",
    "colab": {
      "gpuType": "A100",
      "provenance": [],
      "machine_shape": "hm",
      "include_colab_link": true
    },
    "kernelspec": {
      "display_name": "Python 3",
      "name": "python3"
    },
    "language_info": {
      "name": "python"
    },
    "widgets": {
      "application/vnd.jupyter.widget-state+json": {
        "56af682795ce49a29cffb6757b55c529": {
          "model_module": "@jupyter-widgets/controls",
          "model_name": "VBoxModel",
          "model_module_version": "1.5.0",
          "state": {
            "_dom_classes": [],
            "_model_module": "@jupyter-widgets/controls",
            "_model_module_version": "1.5.0",
            "_model_name": "VBoxModel",
            "_view_count": null,
            "_view_module": "@jupyter-widgets/controls",
            "_view_module_version": "1.5.0",
            "_view_name": "VBoxView",
            "box_style": "",
            "children": [],
            "layout": "IPY_MODEL_0c13d233fccb48ad93af415db63cc378"
          }
        },
        "a8db996c81b54ddcb25898d2eccaff43": {
          "model_module": "@jupyter-widgets/controls",
          "model_name": "HTMLModel",
          "model_module_version": "1.5.0",
          "state": {
            "_dom_classes": [],
            "_model_module": "@jupyter-widgets/controls",
            "_model_module_version": "1.5.0",
            "_model_name": "HTMLModel",
            "_view_count": null,
            "_view_module": "@jupyter-widgets/controls",
            "_view_module_version": "1.5.0",
            "_view_name": "HTMLView",
            "description": "",
            "description_tooltip": null,
            "layout": "IPY_MODEL_883fb4f82ca94d36bfe0c261420f1444",
            "placeholder": "​",
            "style": "IPY_MODEL_db8cfbc9f3654ff19670fd51e7508a88",
            "value": "<center> <img\nsrc=https://huggingface.co/front/assets/huggingface_logo-noborder.svg\nalt='Hugging Face'> <br> Copy a token from <a\nhref=\"https://huggingface.co/settings/tokens\" target=\"_blank\">your Hugging Face\ntokens page</a> and paste it below. <br> Immediately click login after copying\nyour token or it might be stored in plain text in this notebook file. </center>"
          }
        },
        "40a1c550b4114d0f990d024531d4ef79": {
          "model_module": "@jupyter-widgets/controls",
          "model_name": "PasswordModel",
          "model_module_version": "1.5.0",
          "state": {
            "_dom_classes": [],
            "_model_module": "@jupyter-widgets/controls",
            "_model_module_version": "1.5.0",
            "_model_name": "PasswordModel",
            "_view_count": null,
            "_view_module": "@jupyter-widgets/controls",
            "_view_module_version": "1.5.0",
            "_view_name": "PasswordView",
            "continuous_update": true,
            "description": "Token:",
            "description_tooltip": null,
            "disabled": false,
            "layout": "IPY_MODEL_9c1ab3dcd618400582dc4b3daf1d6623",
            "placeholder": "​",
            "style": "IPY_MODEL_3d6e3def8c6842ec8757a2fea3e8fc20",
            "value": ""
          }
        },
        "7f8fc997c17c488ea0993ef152b36f1f": {
          "model_module": "@jupyter-widgets/controls",
          "model_name": "CheckboxModel",
          "model_module_version": "1.5.0",
          "state": {
            "_dom_classes": [],
            "_model_module": "@jupyter-widgets/controls",
            "_model_module_version": "1.5.0",
            "_model_name": "CheckboxModel",
            "_view_count": null,
            "_view_module": "@jupyter-widgets/controls",
            "_view_module_version": "1.5.0",
            "_view_name": "CheckboxView",
            "description": "Add token as git credential?",
            "description_tooltip": null,
            "disabled": false,
            "indent": true,
            "layout": "IPY_MODEL_1da921cb6f67412d8c85d04504e83449",
            "style": "IPY_MODEL_fb84a200a43d48b7818f1a9f8cf263d7",
            "value": true
          }
        },
        "172ed7f55c29401db8942dd03426c1d0": {
          "model_module": "@jupyter-widgets/controls",
          "model_name": "ButtonModel",
          "model_module_version": "1.5.0",
          "state": {
            "_dom_classes": [],
            "_model_module": "@jupyter-widgets/controls",
            "_model_module_version": "1.5.0",
            "_model_name": "ButtonModel",
            "_view_count": null,
            "_view_module": "@jupyter-widgets/controls",
            "_view_module_version": "1.5.0",
            "_view_name": "ButtonView",
            "button_style": "",
            "description": "Login",
            "disabled": false,
            "icon": "",
            "layout": "IPY_MODEL_7c73adeb41644a62af0bdca870ec1950",
            "style": "IPY_MODEL_9ee8aa9bcb5f494a834ff3c69752c7b7",
            "tooltip": ""
          }
        },
        "cdff57119da4424d935ba987952f5b39": {
          "model_module": "@jupyter-widgets/controls",
          "model_name": "HTMLModel",
          "model_module_version": "1.5.0",
          "state": {
            "_dom_classes": [],
            "_model_module": "@jupyter-widgets/controls",
            "_model_module_version": "1.5.0",
            "_model_name": "HTMLModel",
            "_view_count": null,
            "_view_module": "@jupyter-widgets/controls",
            "_view_module_version": "1.5.0",
            "_view_name": "HTMLView",
            "description": "",
            "description_tooltip": null,
            "layout": "IPY_MODEL_c8bc1cc76826424e910b947aa5e7fb76",
            "placeholder": "​",
            "style": "IPY_MODEL_ce0fd99fc7944a79b6699aa1d87555d4",
            "value": "\n<b>Pro Tip:</b> If you don't already have one, you can create a dedicated\n'notebooks' token with 'write' access, that you can then easily reuse for all\nnotebooks. </center>"
          }
        },
        "0c13d233fccb48ad93af415db63cc378": {
          "model_module": "@jupyter-widgets/base",
          "model_name": "LayoutModel",
          "model_module_version": "1.2.0",
          "state": {
            "_model_module": "@jupyter-widgets/base",
            "_model_module_version": "1.2.0",
            "_model_name": "LayoutModel",
            "_view_count": null,
            "_view_module": "@jupyter-widgets/base",
            "_view_module_version": "1.2.0",
            "_view_name": "LayoutView",
            "align_content": null,
            "align_items": "center",
            "align_self": null,
            "border": null,
            "bottom": null,
            "display": "flex",
            "flex": null,
            "flex_flow": "column",
            "grid_area": null,
            "grid_auto_columns": null,
            "grid_auto_flow": null,
            "grid_auto_rows": null,
            "grid_column": null,
            "grid_gap": null,
            "grid_row": null,
            "grid_template_areas": null,
            "grid_template_columns": null,
            "grid_template_rows": null,
            "height": null,
            "justify_content": null,
            "justify_items": null,
            "left": null,
            "margin": null,
            "max_height": null,
            "max_width": null,
            "min_height": null,
            "min_width": null,
            "object_fit": null,
            "object_position": null,
            "order": null,
            "overflow": null,
            "overflow_x": null,
            "overflow_y": null,
            "padding": null,
            "right": null,
            "top": null,
            "visibility": null,
            "width": "50%"
          }
        },
        "883fb4f82ca94d36bfe0c261420f1444": {
          "model_module": "@jupyter-widgets/base",
          "model_name": "LayoutModel",
          "model_module_version": "1.2.0",
          "state": {
            "_model_module": "@jupyter-widgets/base",
            "_model_module_version": "1.2.0",
            "_model_name": "LayoutModel",
            "_view_count": null,
            "_view_module": "@jupyter-widgets/base",
            "_view_module_version": "1.2.0",
            "_view_name": "LayoutView",
            "align_content": null,
            "align_items": null,
            "align_self": null,
            "border": null,
            "bottom": null,
            "display": null,
            "flex": null,
            "flex_flow": null,
            "grid_area": null,
            "grid_auto_columns": null,
            "grid_auto_flow": null,
            "grid_auto_rows": null,
            "grid_column": null,
            "grid_gap": null,
            "grid_row": null,
            "grid_template_areas": null,
            "grid_template_columns": null,
            "grid_template_rows": null,
            "height": null,
            "justify_content": null,
            "justify_items": null,
            "left": null,
            "margin": null,
            "max_height": null,
            "max_width": null,
            "min_height": null,
            "min_width": null,
            "object_fit": null,
            "object_position": null,
            "order": null,
            "overflow": null,
            "overflow_x": null,
            "overflow_y": null,
            "padding": null,
            "right": null,
            "top": null,
            "visibility": null,
            "width": null
          }
        },
        "db8cfbc9f3654ff19670fd51e7508a88": {
          "model_module": "@jupyter-widgets/controls",
          "model_name": "DescriptionStyleModel",
          "model_module_version": "1.5.0",
          "state": {
            "_model_module": "@jupyter-widgets/controls",
            "_model_module_version": "1.5.0",
            "_model_name": "DescriptionStyleModel",
            "_view_count": null,
            "_view_module": "@jupyter-widgets/base",
            "_view_module_version": "1.2.0",
            "_view_name": "StyleView",
            "description_width": ""
          }
        },
        "9c1ab3dcd618400582dc4b3daf1d6623": {
          "model_module": "@jupyter-widgets/base",
          "model_name": "LayoutModel",
          "model_module_version": "1.2.0",
          "state": {
            "_model_module": "@jupyter-widgets/base",
            "_model_module_version": "1.2.0",
            "_model_name": "LayoutModel",
            "_view_count": null,
            "_view_module": "@jupyter-widgets/base",
            "_view_module_version": "1.2.0",
            "_view_name": "LayoutView",
            "align_content": null,
            "align_items": null,
            "align_self": null,
            "border": null,
            "bottom": null,
            "display": null,
            "flex": null,
            "flex_flow": null,
            "grid_area": null,
            "grid_auto_columns": null,
            "grid_auto_flow": null,
            "grid_auto_rows": null,
            "grid_column": null,
            "grid_gap": null,
            "grid_row": null,
            "grid_template_areas": null,
            "grid_template_columns": null,
            "grid_template_rows": null,
            "height": null,
            "justify_content": null,
            "justify_items": null,
            "left": null,
            "margin": null,
            "max_height": null,
            "max_width": null,
            "min_height": null,
            "min_width": null,
            "object_fit": null,
            "object_position": null,
            "order": null,
            "overflow": null,
            "overflow_x": null,
            "overflow_y": null,
            "padding": null,
            "right": null,
            "top": null,
            "visibility": null,
            "width": null
          }
        },
        "3d6e3def8c6842ec8757a2fea3e8fc20": {
          "model_module": "@jupyter-widgets/controls",
          "model_name": "DescriptionStyleModel",
          "model_module_version": "1.5.0",
          "state": {
            "_model_module": "@jupyter-widgets/controls",
            "_model_module_version": "1.5.0",
            "_model_name": "DescriptionStyleModel",
            "_view_count": null,
            "_view_module": "@jupyter-widgets/base",
            "_view_module_version": "1.2.0",
            "_view_name": "StyleView",
            "description_width": ""
          }
        },
        "1da921cb6f67412d8c85d04504e83449": {
          "model_module": "@jupyter-widgets/base",
          "model_name": "LayoutModel",
          "model_module_version": "1.2.0",
          "state": {
            "_model_module": "@jupyter-widgets/base",
            "_model_module_version": "1.2.0",
            "_model_name": "LayoutModel",
            "_view_count": null,
            "_view_module": "@jupyter-widgets/base",
            "_view_module_version": "1.2.0",
            "_view_name": "LayoutView",
            "align_content": null,
            "align_items": null,
            "align_self": null,
            "border": null,
            "bottom": null,
            "display": null,
            "flex": null,
            "flex_flow": null,
            "grid_area": null,
            "grid_auto_columns": null,
            "grid_auto_flow": null,
            "grid_auto_rows": null,
            "grid_column": null,
            "grid_gap": null,
            "grid_row": null,
            "grid_template_areas": null,
            "grid_template_columns": null,
            "grid_template_rows": null,
            "height": null,
            "justify_content": null,
            "justify_items": null,
            "left": null,
            "margin": null,
            "max_height": null,
            "max_width": null,
            "min_height": null,
            "min_width": null,
            "object_fit": null,
            "object_position": null,
            "order": null,
            "overflow": null,
            "overflow_x": null,
            "overflow_y": null,
            "padding": null,
            "right": null,
            "top": null,
            "visibility": null,
            "width": null
          }
        },
        "fb84a200a43d48b7818f1a9f8cf263d7": {
          "model_module": "@jupyter-widgets/controls",
          "model_name": "DescriptionStyleModel",
          "model_module_version": "1.5.0",
          "state": {
            "_model_module": "@jupyter-widgets/controls",
            "_model_module_version": "1.5.0",
            "_model_name": "DescriptionStyleModel",
            "_view_count": null,
            "_view_module": "@jupyter-widgets/base",
            "_view_module_version": "1.2.0",
            "_view_name": "StyleView",
            "description_width": ""
          }
        },
        "7c73adeb41644a62af0bdca870ec1950": {
          "model_module": "@jupyter-widgets/base",
          "model_name": "LayoutModel",
          "model_module_version": "1.2.0",
          "state": {
            "_model_module": "@jupyter-widgets/base",
            "_model_module_version": "1.2.0",
            "_model_name": "LayoutModel",
            "_view_count": null,
            "_view_module": "@jupyter-widgets/base",
            "_view_module_version": "1.2.0",
            "_view_name": "LayoutView",
            "align_content": null,
            "align_items": null,
            "align_self": null,
            "border": null,
            "bottom": null,
            "display": null,
            "flex": null,
            "flex_flow": null,
            "grid_area": null,
            "grid_auto_columns": null,
            "grid_auto_flow": null,
            "grid_auto_rows": null,
            "grid_column": null,
            "grid_gap": null,
            "grid_row": null,
            "grid_template_areas": null,
            "grid_template_columns": null,
            "grid_template_rows": null,
            "height": null,
            "justify_content": null,
            "justify_items": null,
            "left": null,
            "margin": null,
            "max_height": null,
            "max_width": null,
            "min_height": null,
            "min_width": null,
            "object_fit": null,
            "object_position": null,
            "order": null,
            "overflow": null,
            "overflow_x": null,
            "overflow_y": null,
            "padding": null,
            "right": null,
            "top": null,
            "visibility": null,
            "width": null
          }
        },
        "9ee8aa9bcb5f494a834ff3c69752c7b7": {
          "model_module": "@jupyter-widgets/controls",
          "model_name": "ButtonStyleModel",
          "model_module_version": "1.5.0",
          "state": {
            "_model_module": "@jupyter-widgets/controls",
            "_model_module_version": "1.5.0",
            "_model_name": "ButtonStyleModel",
            "_view_count": null,
            "_view_module": "@jupyter-widgets/base",
            "_view_module_version": "1.2.0",
            "_view_name": "StyleView",
            "button_color": null,
            "font_weight": ""
          }
        },
        "c8bc1cc76826424e910b947aa5e7fb76": {
          "model_module": "@jupyter-widgets/base",
          "model_name": "LayoutModel",
          "model_module_version": "1.2.0",
          "state": {
            "_model_module": "@jupyter-widgets/base",
            "_model_module_version": "1.2.0",
            "_model_name": "LayoutModel",
            "_view_count": null,
            "_view_module": "@jupyter-widgets/base",
            "_view_module_version": "1.2.0",
            "_view_name": "LayoutView",
            "align_content": null,
            "align_items": null,
            "align_self": null,
            "border": null,
            "bottom": null,
            "display": null,
            "flex": null,
            "flex_flow": null,
            "grid_area": null,
            "grid_auto_columns": null,
            "grid_auto_flow": null,
            "grid_auto_rows": null,
            "grid_column": null,
            "grid_gap": null,
            "grid_row": null,
            "grid_template_areas": null,
            "grid_template_columns": null,
            "grid_template_rows": null,
            "height": null,
            "justify_content": null,
            "justify_items": null,
            "left": null,
            "margin": null,
            "max_height": null,
            "max_width": null,
            "min_height": null,
            "min_width": null,
            "object_fit": null,
            "object_position": null,
            "order": null,
            "overflow": null,
            "overflow_x": null,
            "overflow_y": null,
            "padding": null,
            "right": null,
            "top": null,
            "visibility": null,
            "width": null
          }
        },
        "ce0fd99fc7944a79b6699aa1d87555d4": {
          "model_module": "@jupyter-widgets/controls",
          "model_name": "DescriptionStyleModel",
          "model_module_version": "1.5.0",
          "state": {
            "_model_module": "@jupyter-widgets/controls",
            "_model_module_version": "1.5.0",
            "_model_name": "DescriptionStyleModel",
            "_view_count": null,
            "_view_module": "@jupyter-widgets/base",
            "_view_module_version": "1.2.0",
            "_view_name": "StyleView",
            "description_width": ""
          }
        },
        "425d6d21504d4fc4ba68b59af321d4dd": {
          "model_module": "@jupyter-widgets/controls",
          "model_name": "LabelModel",
          "model_module_version": "1.5.0",
          "state": {
            "_dom_classes": [],
            "_model_module": "@jupyter-widgets/controls",
            "_model_module_version": "1.5.0",
            "_model_name": "LabelModel",
            "_view_count": null,
            "_view_module": "@jupyter-widgets/controls",
            "_view_module_version": "1.5.0",
            "_view_name": "LabelView",
            "description": "",
            "description_tooltip": null,
            "layout": "IPY_MODEL_e5619f7e87e4489fb80a5cdf96a4486c",
            "placeholder": "​",
            "style": "IPY_MODEL_6d19b8e8182644409baf654f10f372cc",
            "value": "Connecting..."
          }
        },
        "e5619f7e87e4489fb80a5cdf96a4486c": {
          "model_module": "@jupyter-widgets/base",
          "model_name": "LayoutModel",
          "model_module_version": "1.2.0",
          "state": {
            "_model_module": "@jupyter-widgets/base",
            "_model_module_version": "1.2.0",
            "_model_name": "LayoutModel",
            "_view_count": null,
            "_view_module": "@jupyter-widgets/base",
            "_view_module_version": "1.2.0",
            "_view_name": "LayoutView",
            "align_content": null,
            "align_items": null,
            "align_self": null,
            "border": null,
            "bottom": null,
            "display": null,
            "flex": null,
            "flex_flow": null,
            "grid_area": null,
            "grid_auto_columns": null,
            "grid_auto_flow": null,
            "grid_auto_rows": null,
            "grid_column": null,
            "grid_gap": null,
            "grid_row": null,
            "grid_template_areas": null,
            "grid_template_columns": null,
            "grid_template_rows": null,
            "height": null,
            "justify_content": null,
            "justify_items": null,
            "left": null,
            "margin": null,
            "max_height": null,
            "max_width": null,
            "min_height": null,
            "min_width": null,
            "object_fit": null,
            "object_position": null,
            "order": null,
            "overflow": null,
            "overflow_x": null,
            "overflow_y": null,
            "padding": null,
            "right": null,
            "top": null,
            "visibility": null,
            "width": null
          }
        },
        "6d19b8e8182644409baf654f10f372cc": {
          "model_module": "@jupyter-widgets/controls",
          "model_name": "DescriptionStyleModel",
          "model_module_version": "1.5.0",
          "state": {
            "_model_module": "@jupyter-widgets/controls",
            "_model_module_version": "1.5.0",
            "_model_name": "DescriptionStyleModel",
            "_view_count": null,
            "_view_module": "@jupyter-widgets/base",
            "_view_module_version": "1.2.0",
            "_view_name": "StyleView",
            "description_width": ""
          }
        },
        "368c357015d64f508895a68930ce5402": {
          "model_module": "@jupyter-widgets/controls",
          "model_name": "HBoxModel",
          "model_module_version": "1.5.0",
          "state": {
            "_dom_classes": [],
            "_model_module": "@jupyter-widgets/controls",
            "_model_module_version": "1.5.0",
            "_model_name": "HBoxModel",
            "_view_count": null,
            "_view_module": "@jupyter-widgets/controls",
            "_view_module_version": "1.5.0",
            "_view_name": "HBoxView",
            "box_style": "",
            "children": [
              "IPY_MODEL_762a57c2306a4b1c8f2e486833113302",
              "IPY_MODEL_77b74ce274714155b07fe3637d4597f3",
              "IPY_MODEL_34533ec7b04f41d4966aced87f7b07dc"
            ],
            "layout": "IPY_MODEL_c7afdf68c6634d7587e3a7b706b59cfb"
          }
        },
        "762a57c2306a4b1c8f2e486833113302": {
          "model_module": "@jupyter-widgets/controls",
          "model_name": "HTMLModel",
          "model_module_version": "1.5.0",
          "state": {
            "_dom_classes": [],
            "_model_module": "@jupyter-widgets/controls",
            "_model_module_version": "1.5.0",
            "_model_name": "HTMLModel",
            "_view_count": null,
            "_view_module": "@jupyter-widgets/controls",
            "_view_module_version": "1.5.0",
            "_view_name": "HTMLView",
            "description": "",
            "description_tooltip": null,
            "layout": "IPY_MODEL_d730388e54a0447e8ee1e63a115a76f4",
            "placeholder": "​",
            "style": "IPY_MODEL_c57220039a884a01ad2b72846b05d3a7",
            "value": "config.json: 100%"
          }
        },
        "77b74ce274714155b07fe3637d4597f3": {
          "model_module": "@jupyter-widgets/controls",
          "model_name": "FloatProgressModel",
          "model_module_version": "1.5.0",
          "state": {
            "_dom_classes": [],
            "_model_module": "@jupyter-widgets/controls",
            "_model_module_version": "1.5.0",
            "_model_name": "FloatProgressModel",
            "_view_count": null,
            "_view_module": "@jupyter-widgets/controls",
            "_view_module_version": "1.5.0",
            "_view_name": "ProgressView",
            "bar_style": "success",
            "description": "",
            "description_tooltip": null,
            "layout": "IPY_MODEL_7263076d2b024b4dbd788cd787b1c7dd",
            "max": 698,
            "min": 0,
            "orientation": "horizontal",
            "style": "IPY_MODEL_421cf7161a9c4429b0103ca366b9e4ab",
            "value": 698
          }
        },
        "34533ec7b04f41d4966aced87f7b07dc": {
          "model_module": "@jupyter-widgets/controls",
          "model_name": "HTMLModel",
          "model_module_version": "1.5.0",
          "state": {
            "_dom_classes": [],
            "_model_module": "@jupyter-widgets/controls",
            "_model_module_version": "1.5.0",
            "_model_name": "HTMLModel",
            "_view_count": null,
            "_view_module": "@jupyter-widgets/controls",
            "_view_module_version": "1.5.0",
            "_view_name": "HTMLView",
            "description": "",
            "description_tooltip": null,
            "layout": "IPY_MODEL_46653edebced4597b853f507db7cd659",
            "placeholder": "​",
            "style": "IPY_MODEL_6e88219ce28e4948802de87fa9279f3f",
            "value": " 698/698 [00:00&lt;00:00, 65.9kB/s]"
          }
        },
        "c7afdf68c6634d7587e3a7b706b59cfb": {
          "model_module": "@jupyter-widgets/base",
          "model_name": "LayoutModel",
          "model_module_version": "1.2.0",
          "state": {
            "_model_module": "@jupyter-widgets/base",
            "_model_module_version": "1.2.0",
            "_model_name": "LayoutModel",
            "_view_count": null,
            "_view_module": "@jupyter-widgets/base",
            "_view_module_version": "1.2.0",
            "_view_name": "LayoutView",
            "align_content": null,
            "align_items": null,
            "align_self": null,
            "border": null,
            "bottom": null,
            "display": null,
            "flex": null,
            "flex_flow": null,
            "grid_area": null,
            "grid_auto_columns": null,
            "grid_auto_flow": null,
            "grid_auto_rows": null,
            "grid_column": null,
            "grid_gap": null,
            "grid_row": null,
            "grid_template_areas": null,
            "grid_template_columns": null,
            "grid_template_rows": null,
            "height": null,
            "justify_content": null,
            "justify_items": null,
            "left": null,
            "margin": null,
            "max_height": null,
            "max_width": null,
            "min_height": null,
            "min_width": null,
            "object_fit": null,
            "object_position": null,
            "order": null,
            "overflow": null,
            "overflow_x": null,
            "overflow_y": null,
            "padding": null,
            "right": null,
            "top": null,
            "visibility": null,
            "width": null
          }
        },
        "d730388e54a0447e8ee1e63a115a76f4": {
          "model_module": "@jupyter-widgets/base",
          "model_name": "LayoutModel",
          "model_module_version": "1.2.0",
          "state": {
            "_model_module": "@jupyter-widgets/base",
            "_model_module_version": "1.2.0",
            "_model_name": "LayoutModel",
            "_view_count": null,
            "_view_module": "@jupyter-widgets/base",
            "_view_module_version": "1.2.0",
            "_view_name": "LayoutView",
            "align_content": null,
            "align_items": null,
            "align_self": null,
            "border": null,
            "bottom": null,
            "display": null,
            "flex": null,
            "flex_flow": null,
            "grid_area": null,
            "grid_auto_columns": null,
            "grid_auto_flow": null,
            "grid_auto_rows": null,
            "grid_column": null,
            "grid_gap": null,
            "grid_row": null,
            "grid_template_areas": null,
            "grid_template_columns": null,
            "grid_template_rows": null,
            "height": null,
            "justify_content": null,
            "justify_items": null,
            "left": null,
            "margin": null,
            "max_height": null,
            "max_width": null,
            "min_height": null,
            "min_width": null,
            "object_fit": null,
            "object_position": null,
            "order": null,
            "overflow": null,
            "overflow_x": null,
            "overflow_y": null,
            "padding": null,
            "right": null,
            "top": null,
            "visibility": null,
            "width": null
          }
        },
        "c57220039a884a01ad2b72846b05d3a7": {
          "model_module": "@jupyter-widgets/controls",
          "model_name": "DescriptionStyleModel",
          "model_module_version": "1.5.0",
          "state": {
            "_model_module": "@jupyter-widgets/controls",
            "_model_module_version": "1.5.0",
            "_model_name": "DescriptionStyleModel",
            "_view_count": null,
            "_view_module": "@jupyter-widgets/base",
            "_view_module_version": "1.2.0",
            "_view_name": "StyleView",
            "description_width": ""
          }
        },
        "7263076d2b024b4dbd788cd787b1c7dd": {
          "model_module": "@jupyter-widgets/base",
          "model_name": "LayoutModel",
          "model_module_version": "1.2.0",
          "state": {
            "_model_module": "@jupyter-widgets/base",
            "_model_module_version": "1.2.0",
            "_model_name": "LayoutModel",
            "_view_count": null,
            "_view_module": "@jupyter-widgets/base",
            "_view_module_version": "1.2.0",
            "_view_name": "LayoutView",
            "align_content": null,
            "align_items": null,
            "align_self": null,
            "border": null,
            "bottom": null,
            "display": null,
            "flex": null,
            "flex_flow": null,
            "grid_area": null,
            "grid_auto_columns": null,
            "grid_auto_flow": null,
            "grid_auto_rows": null,
            "grid_column": null,
            "grid_gap": null,
            "grid_row": null,
            "grid_template_areas": null,
            "grid_template_columns": null,
            "grid_template_rows": null,
            "height": null,
            "justify_content": null,
            "justify_items": null,
            "left": null,
            "margin": null,
            "max_height": null,
            "max_width": null,
            "min_height": null,
            "min_width": null,
            "object_fit": null,
            "object_position": null,
            "order": null,
            "overflow": null,
            "overflow_x": null,
            "overflow_y": null,
            "padding": null,
            "right": null,
            "top": null,
            "visibility": null,
            "width": null
          }
        },
        "421cf7161a9c4429b0103ca366b9e4ab": {
          "model_module": "@jupyter-widgets/controls",
          "model_name": "ProgressStyleModel",
          "model_module_version": "1.5.0",
          "state": {
            "_model_module": "@jupyter-widgets/controls",
            "_model_module_version": "1.5.0",
            "_model_name": "ProgressStyleModel",
            "_view_count": null,
            "_view_module": "@jupyter-widgets/base",
            "_view_module_version": "1.2.0",
            "_view_name": "StyleView",
            "bar_color": null,
            "description_width": ""
          }
        },
        "46653edebced4597b853f507db7cd659": {
          "model_module": "@jupyter-widgets/base",
          "model_name": "LayoutModel",
          "model_module_version": "1.2.0",
          "state": {
            "_model_module": "@jupyter-widgets/base",
            "_model_module_version": "1.2.0",
            "_model_name": "LayoutModel",
            "_view_count": null,
            "_view_module": "@jupyter-widgets/base",
            "_view_module_version": "1.2.0",
            "_view_name": "LayoutView",
            "align_content": null,
            "align_items": null,
            "align_self": null,
            "border": null,
            "bottom": null,
            "display": null,
            "flex": null,
            "flex_flow": null,
            "grid_area": null,
            "grid_auto_columns": null,
            "grid_auto_flow": null,
            "grid_auto_rows": null,
            "grid_column": null,
            "grid_gap": null,
            "grid_row": null,
            "grid_template_areas": null,
            "grid_template_columns": null,
            "grid_template_rows": null,
            "height": null,
            "justify_content": null,
            "justify_items": null,
            "left": null,
            "margin": null,
            "max_height": null,
            "max_width": null,
            "min_height": null,
            "min_width": null,
            "object_fit": null,
            "object_position": null,
            "order": null,
            "overflow": null,
            "overflow_x": null,
            "overflow_y": null,
            "padding": null,
            "right": null,
            "top": null,
            "visibility": null,
            "width": null
          }
        },
        "6e88219ce28e4948802de87fa9279f3f": {
          "model_module": "@jupyter-widgets/controls",
          "model_name": "DescriptionStyleModel",
          "model_module_version": "1.5.0",
          "state": {
            "_model_module": "@jupyter-widgets/controls",
            "_model_module_version": "1.5.0",
            "_model_name": "DescriptionStyleModel",
            "_view_count": null,
            "_view_module": "@jupyter-widgets/base",
            "_view_module_version": "1.2.0",
            "_view_name": "StyleView",
            "description_width": ""
          }
        },
        "679ea0be4f4c48adb22e82bc7fbfc4b8": {
          "model_module": "@jupyter-widgets/controls",
          "model_name": "HBoxModel",
          "model_module_version": "1.5.0",
          "state": {
            "_dom_classes": [],
            "_model_module": "@jupyter-widgets/controls",
            "_model_module_version": "1.5.0",
            "_model_name": "HBoxModel",
            "_view_count": null,
            "_view_module": "@jupyter-widgets/controls",
            "_view_module_version": "1.5.0",
            "_view_name": "HBoxView",
            "box_style": "",
            "children": [
              "IPY_MODEL_9c3641299e4e497eae5205197cf9ecb7",
              "IPY_MODEL_b1e879c376764ec283a5881693391bc7",
              "IPY_MODEL_0f7d764b579b47ce9b6c4b20cc1f7666"
            ],
            "layout": "IPY_MODEL_5168e9e5aef34536b159d0f52207082e"
          }
        },
        "9c3641299e4e497eae5205197cf9ecb7": {
          "model_module": "@jupyter-widgets/controls",
          "model_name": "HTMLModel",
          "model_module_version": "1.5.0",
          "state": {
            "_dom_classes": [],
            "_model_module": "@jupyter-widgets/controls",
            "_model_module_version": "1.5.0",
            "_model_name": "HTMLModel",
            "_view_count": null,
            "_view_module": "@jupyter-widgets/controls",
            "_view_module_version": "1.5.0",
            "_view_name": "HTMLView",
            "description": "",
            "description_tooltip": null,
            "layout": "IPY_MODEL_bd135a1712d24f3b8963cf739ff63a33",
            "placeholder": "​",
            "style": "IPY_MODEL_a7fce534911049f4a31f5425a7aed473",
            "value": "tokenizer_config.json: 100%"
          }
        },
        "b1e879c376764ec283a5881693391bc7": {
          "model_module": "@jupyter-widgets/controls",
          "model_name": "FloatProgressModel",
          "model_module_version": "1.5.0",
          "state": {
            "_dom_classes": [],
            "_model_module": "@jupyter-widgets/controls",
            "_model_module_version": "1.5.0",
            "_model_name": "FloatProgressModel",
            "_view_count": null,
            "_view_module": "@jupyter-widgets/controls",
            "_view_module_version": "1.5.0",
            "_view_name": "ProgressView",
            "bar_style": "success",
            "description": "",
            "description_tooltip": null,
            "layout": "IPY_MODEL_f8a094e43f08429186c8f5800bcfaf63",
            "max": 50615,
            "min": 0,
            "orientation": "horizontal",
            "style": "IPY_MODEL_5183dc381d2a4ecaaccc76d6f496c0af",
            "value": 50615
          }
        },
        "0f7d764b579b47ce9b6c4b20cc1f7666": {
          "model_module": "@jupyter-widgets/controls",
          "model_name": "HTMLModel",
          "model_module_version": "1.5.0",
          "state": {
            "_dom_classes": [],
            "_model_module": "@jupyter-widgets/controls",
            "_model_module_version": "1.5.0",
            "_model_name": "HTMLModel",
            "_view_count": null,
            "_view_module": "@jupyter-widgets/controls",
            "_view_module_version": "1.5.0",
            "_view_name": "HTMLView",
            "description": "",
            "description_tooltip": null,
            "layout": "IPY_MODEL_fb0e8083d4e3410ba21d836f83905991",
            "placeholder": "​",
            "style": "IPY_MODEL_f2b0a81689d5441e8c4812d8a8cdfa16",
            "value": " 50.6k/50.6k [00:00&lt;00:00, 4.40MB/s]"
          }
        },
        "5168e9e5aef34536b159d0f52207082e": {
          "model_module": "@jupyter-widgets/base",
          "model_name": "LayoutModel",
          "model_module_version": "1.2.0",
          "state": {
            "_model_module": "@jupyter-widgets/base",
            "_model_module_version": "1.2.0",
            "_model_name": "LayoutModel",
            "_view_count": null,
            "_view_module": "@jupyter-widgets/base",
            "_view_module_version": "1.2.0",
            "_view_name": "LayoutView",
            "align_content": null,
            "align_items": null,
            "align_self": null,
            "border": null,
            "bottom": null,
            "display": null,
            "flex": null,
            "flex_flow": null,
            "grid_area": null,
            "grid_auto_columns": null,
            "grid_auto_flow": null,
            "grid_auto_rows": null,
            "grid_column": null,
            "grid_gap": null,
            "grid_row": null,
            "grid_template_areas": null,
            "grid_template_columns": null,
            "grid_template_rows": null,
            "height": null,
            "justify_content": null,
            "justify_items": null,
            "left": null,
            "margin": null,
            "max_height": null,
            "max_width": null,
            "min_height": null,
            "min_width": null,
            "object_fit": null,
            "object_position": null,
            "order": null,
            "overflow": null,
            "overflow_x": null,
            "overflow_y": null,
            "padding": null,
            "right": null,
            "top": null,
            "visibility": null,
            "width": null
          }
        },
        "bd135a1712d24f3b8963cf739ff63a33": {
          "model_module": "@jupyter-widgets/base",
          "model_name": "LayoutModel",
          "model_module_version": "1.2.0",
          "state": {
            "_model_module": "@jupyter-widgets/base",
            "_model_module_version": "1.2.0",
            "_model_name": "LayoutModel",
            "_view_count": null,
            "_view_module": "@jupyter-widgets/base",
            "_view_module_version": "1.2.0",
            "_view_name": "LayoutView",
            "align_content": null,
            "align_items": null,
            "align_self": null,
            "border": null,
            "bottom": null,
            "display": null,
            "flex": null,
            "flex_flow": null,
            "grid_area": null,
            "grid_auto_columns": null,
            "grid_auto_flow": null,
            "grid_auto_rows": null,
            "grid_column": null,
            "grid_gap": null,
            "grid_row": null,
            "grid_template_areas": null,
            "grid_template_columns": null,
            "grid_template_rows": null,
            "height": null,
            "justify_content": null,
            "justify_items": null,
            "left": null,
            "margin": null,
            "max_height": null,
            "max_width": null,
            "min_height": null,
            "min_width": null,
            "object_fit": null,
            "object_position": null,
            "order": null,
            "overflow": null,
            "overflow_x": null,
            "overflow_y": null,
            "padding": null,
            "right": null,
            "top": null,
            "visibility": null,
            "width": null
          }
        },
        "a7fce534911049f4a31f5425a7aed473": {
          "model_module": "@jupyter-widgets/controls",
          "model_name": "DescriptionStyleModel",
          "model_module_version": "1.5.0",
          "state": {
            "_model_module": "@jupyter-widgets/controls",
            "_model_module_version": "1.5.0",
            "_model_name": "DescriptionStyleModel",
            "_view_count": null,
            "_view_module": "@jupyter-widgets/base",
            "_view_module_version": "1.2.0",
            "_view_name": "StyleView",
            "description_width": ""
          }
        },
        "f8a094e43f08429186c8f5800bcfaf63": {
          "model_module": "@jupyter-widgets/base",
          "model_name": "LayoutModel",
          "model_module_version": "1.2.0",
          "state": {
            "_model_module": "@jupyter-widgets/base",
            "_model_module_version": "1.2.0",
            "_model_name": "LayoutModel",
            "_view_count": null,
            "_view_module": "@jupyter-widgets/base",
            "_view_module_version": "1.2.0",
            "_view_name": "LayoutView",
            "align_content": null,
            "align_items": null,
            "align_self": null,
            "border": null,
            "bottom": null,
            "display": null,
            "flex": null,
            "flex_flow": null,
            "grid_area": null,
            "grid_auto_columns": null,
            "grid_auto_flow": null,
            "grid_auto_rows": null,
            "grid_column": null,
            "grid_gap": null,
            "grid_row": null,
            "grid_template_areas": null,
            "grid_template_columns": null,
            "grid_template_rows": null,
            "height": null,
            "justify_content": null,
            "justify_items": null,
            "left": null,
            "margin": null,
            "max_height": null,
            "max_width": null,
            "min_height": null,
            "min_width": null,
            "object_fit": null,
            "object_position": null,
            "order": null,
            "overflow": null,
            "overflow_x": null,
            "overflow_y": null,
            "padding": null,
            "right": null,
            "top": null,
            "visibility": null,
            "width": null
          }
        },
        "5183dc381d2a4ecaaccc76d6f496c0af": {
          "model_module": "@jupyter-widgets/controls",
          "model_name": "ProgressStyleModel",
          "model_module_version": "1.5.0",
          "state": {
            "_model_module": "@jupyter-widgets/controls",
            "_model_module_version": "1.5.0",
            "_model_name": "ProgressStyleModel",
            "_view_count": null,
            "_view_module": "@jupyter-widgets/base",
            "_view_module_version": "1.2.0",
            "_view_name": "StyleView",
            "bar_color": null,
            "description_width": ""
          }
        },
        "fb0e8083d4e3410ba21d836f83905991": {
          "model_module": "@jupyter-widgets/base",
          "model_name": "LayoutModel",
          "model_module_version": "1.2.0",
          "state": {
            "_model_module": "@jupyter-widgets/base",
            "_model_module_version": "1.2.0",
            "_model_name": "LayoutModel",
            "_view_count": null,
            "_view_module": "@jupyter-widgets/base",
            "_view_module_version": "1.2.0",
            "_view_name": "LayoutView",
            "align_content": null,
            "align_items": null,
            "align_self": null,
            "border": null,
            "bottom": null,
            "display": null,
            "flex": null,
            "flex_flow": null,
            "grid_area": null,
            "grid_auto_columns": null,
            "grid_auto_flow": null,
            "grid_auto_rows": null,
            "grid_column": null,
            "grid_gap": null,
            "grid_row": null,
            "grid_template_areas": null,
            "grid_template_columns": null,
            "grid_template_rows": null,
            "height": null,
            "justify_content": null,
            "justify_items": null,
            "left": null,
            "margin": null,
            "max_height": null,
            "max_width": null,
            "min_height": null,
            "min_width": null,
            "object_fit": null,
            "object_position": null,
            "order": null,
            "overflow": null,
            "overflow_x": null,
            "overflow_y": null,
            "padding": null,
            "right": null,
            "top": null,
            "visibility": null,
            "width": null
          }
        },
        "f2b0a81689d5441e8c4812d8a8cdfa16": {
          "model_module": "@jupyter-widgets/controls",
          "model_name": "DescriptionStyleModel",
          "model_module_version": "1.5.0",
          "state": {
            "_model_module": "@jupyter-widgets/controls",
            "_model_module_version": "1.5.0",
            "_model_name": "DescriptionStyleModel",
            "_view_count": null,
            "_view_module": "@jupyter-widgets/base",
            "_view_module_version": "1.2.0",
            "_view_name": "StyleView",
            "description_width": ""
          }
        },
        "49b443b9efe844aabec331eaf268b96e": {
          "model_module": "@jupyter-widgets/controls",
          "model_name": "HBoxModel",
          "model_module_version": "1.5.0",
          "state": {
            "_dom_classes": [],
            "_model_module": "@jupyter-widgets/controls",
            "_model_module_version": "1.5.0",
            "_model_name": "HBoxModel",
            "_view_count": null,
            "_view_module": "@jupyter-widgets/controls",
            "_view_module_version": "1.5.0",
            "_view_name": "HBoxView",
            "box_style": "",
            "children": [
              "IPY_MODEL_1ce7b07b7281496cb4a3c20e2266a3a6",
              "IPY_MODEL_7eaffdd4f7344df782f893452d7cb31d",
              "IPY_MODEL_21deea6aa108480cb9f1a2782e8a6da6"
            ],
            "layout": "IPY_MODEL_63fe6b4082bb458d806f214f341d1ef8"
          }
        },
        "1ce7b07b7281496cb4a3c20e2266a3a6": {
          "model_module": "@jupyter-widgets/controls",
          "model_name": "HTMLModel",
          "model_module_version": "1.5.0",
          "state": {
            "_dom_classes": [],
            "_model_module": "@jupyter-widgets/controls",
            "_model_module_version": "1.5.0",
            "_model_name": "HTMLModel",
            "_view_count": null,
            "_view_module": "@jupyter-widgets/controls",
            "_view_module_version": "1.5.0",
            "_view_name": "HTMLView",
            "description": "",
            "description_tooltip": null,
            "layout": "IPY_MODEL_d4e649d17a25488bac5b3bb91a640168",
            "placeholder": "​",
            "style": "IPY_MODEL_78f9ab1c23aa4c649f61e9613b776637",
            "value": "tokenizer.json: 100%"
          }
        },
        "7eaffdd4f7344df782f893452d7cb31d": {
          "model_module": "@jupyter-widgets/controls",
          "model_name": "FloatProgressModel",
          "model_module_version": "1.5.0",
          "state": {
            "_dom_classes": [],
            "_model_module": "@jupyter-widgets/controls",
            "_model_module_version": "1.5.0",
            "_model_name": "FloatProgressModel",
            "_view_count": null,
            "_view_module": "@jupyter-widgets/controls",
            "_view_module_version": "1.5.0",
            "_view_name": "ProgressView",
            "bar_style": "success",
            "description": "",
            "description_tooltip": null,
            "layout": "IPY_MODEL_5ba178968c9f49a7ba96dd067f966e2a",
            "max": 9085671,
            "min": 0,
            "orientation": "horizontal",
            "style": "IPY_MODEL_251e2da9241f47feae454609adf60269",
            "value": 9085671
          }
        },
        "21deea6aa108480cb9f1a2782e8a6da6": {
          "model_module": "@jupyter-widgets/controls",
          "model_name": "HTMLModel",
          "model_module_version": "1.5.0",
          "state": {
            "_dom_classes": [],
            "_model_module": "@jupyter-widgets/controls",
            "_model_module_version": "1.5.0",
            "_model_name": "HTMLModel",
            "_view_count": null,
            "_view_module": "@jupyter-widgets/controls",
            "_view_module_version": "1.5.0",
            "_view_name": "HTMLView",
            "description": "",
            "description_tooltip": null,
            "layout": "IPY_MODEL_2b145b9cb5184d499ff1ca556ef21d67",
            "placeholder": "​",
            "style": "IPY_MODEL_83e905846e7144fbb1954d34762751f0",
            "value": " 9.09M/9.09M [00:00&lt;00:00, 45.4MB/s]"
          }
        },
        "63fe6b4082bb458d806f214f341d1ef8": {
          "model_module": "@jupyter-widgets/base",
          "model_name": "LayoutModel",
          "model_module_version": "1.2.0",
          "state": {
            "_model_module": "@jupyter-widgets/base",
            "_model_module_version": "1.2.0",
            "_model_name": "LayoutModel",
            "_view_count": null,
            "_view_module": "@jupyter-widgets/base",
            "_view_module_version": "1.2.0",
            "_view_name": "LayoutView",
            "align_content": null,
            "align_items": null,
            "align_self": null,
            "border": null,
            "bottom": null,
            "display": null,
            "flex": null,
            "flex_flow": null,
            "grid_area": null,
            "grid_auto_columns": null,
            "grid_auto_flow": null,
            "grid_auto_rows": null,
            "grid_column": null,
            "grid_gap": null,
            "grid_row": null,
            "grid_template_areas": null,
            "grid_template_columns": null,
            "grid_template_rows": null,
            "height": null,
            "justify_content": null,
            "justify_items": null,
            "left": null,
            "margin": null,
            "max_height": null,
            "max_width": null,
            "min_height": null,
            "min_width": null,
            "object_fit": null,
            "object_position": null,
            "order": null,
            "overflow": null,
            "overflow_x": null,
            "overflow_y": null,
            "padding": null,
            "right": null,
            "top": null,
            "visibility": null,
            "width": null
          }
        },
        "d4e649d17a25488bac5b3bb91a640168": {
          "model_module": "@jupyter-widgets/base",
          "model_name": "LayoutModel",
          "model_module_version": "1.2.0",
          "state": {
            "_model_module": "@jupyter-widgets/base",
            "_model_module_version": "1.2.0",
            "_model_name": "LayoutModel",
            "_view_count": null,
            "_view_module": "@jupyter-widgets/base",
            "_view_module_version": "1.2.0",
            "_view_name": "LayoutView",
            "align_content": null,
            "align_items": null,
            "align_self": null,
            "border": null,
            "bottom": null,
            "display": null,
            "flex": null,
            "flex_flow": null,
            "grid_area": null,
            "grid_auto_columns": null,
            "grid_auto_flow": null,
            "grid_auto_rows": null,
            "grid_column": null,
            "grid_gap": null,
            "grid_row": null,
            "grid_template_areas": null,
            "grid_template_columns": null,
            "grid_template_rows": null,
            "height": null,
            "justify_content": null,
            "justify_items": null,
            "left": null,
            "margin": null,
            "max_height": null,
            "max_width": null,
            "min_height": null,
            "min_width": null,
            "object_fit": null,
            "object_position": null,
            "order": null,
            "overflow": null,
            "overflow_x": null,
            "overflow_y": null,
            "padding": null,
            "right": null,
            "top": null,
            "visibility": null,
            "width": null
          }
        },
        "78f9ab1c23aa4c649f61e9613b776637": {
          "model_module": "@jupyter-widgets/controls",
          "model_name": "DescriptionStyleModel",
          "model_module_version": "1.5.0",
          "state": {
            "_model_module": "@jupyter-widgets/controls",
            "_model_module_version": "1.5.0",
            "_model_name": "DescriptionStyleModel",
            "_view_count": null,
            "_view_module": "@jupyter-widgets/base",
            "_view_module_version": "1.2.0",
            "_view_name": "StyleView",
            "description_width": ""
          }
        },
        "5ba178968c9f49a7ba96dd067f966e2a": {
          "model_module": "@jupyter-widgets/base",
          "model_name": "LayoutModel",
          "model_module_version": "1.2.0",
          "state": {
            "_model_module": "@jupyter-widgets/base",
            "_model_module_version": "1.2.0",
            "_model_name": "LayoutModel",
            "_view_count": null,
            "_view_module": "@jupyter-widgets/base",
            "_view_module_version": "1.2.0",
            "_view_name": "LayoutView",
            "align_content": null,
            "align_items": null,
            "align_self": null,
            "border": null,
            "bottom": null,
            "display": null,
            "flex": null,
            "flex_flow": null,
            "grid_area": null,
            "grid_auto_columns": null,
            "grid_auto_flow": null,
            "grid_auto_rows": null,
            "grid_column": null,
            "grid_gap": null,
            "grid_row": null,
            "grid_template_areas": null,
            "grid_template_columns": null,
            "grid_template_rows": null,
            "height": null,
            "justify_content": null,
            "justify_items": null,
            "left": null,
            "margin": null,
            "max_height": null,
            "max_width": null,
            "min_height": null,
            "min_width": null,
            "object_fit": null,
            "object_position": null,
            "order": null,
            "overflow": null,
            "overflow_x": null,
            "overflow_y": null,
            "padding": null,
            "right": null,
            "top": null,
            "visibility": null,
            "width": null
          }
        },
        "251e2da9241f47feae454609adf60269": {
          "model_module": "@jupyter-widgets/controls",
          "model_name": "ProgressStyleModel",
          "model_module_version": "1.5.0",
          "state": {
            "_model_module": "@jupyter-widgets/controls",
            "_model_module_version": "1.5.0",
            "_model_name": "ProgressStyleModel",
            "_view_count": null,
            "_view_module": "@jupyter-widgets/base",
            "_view_module_version": "1.2.0",
            "_view_name": "StyleView",
            "bar_color": null,
            "description_width": ""
          }
        },
        "2b145b9cb5184d499ff1ca556ef21d67": {
          "model_module": "@jupyter-widgets/base",
          "model_name": "LayoutModel",
          "model_module_version": "1.2.0",
          "state": {
            "_model_module": "@jupyter-widgets/base",
            "_model_module_version": "1.2.0",
            "_model_name": "LayoutModel",
            "_view_count": null,
            "_view_module": "@jupyter-widgets/base",
            "_view_module_version": "1.2.0",
            "_view_name": "LayoutView",
            "align_content": null,
            "align_items": null,
            "align_self": null,
            "border": null,
            "bottom": null,
            "display": null,
            "flex": null,
            "flex_flow": null,
            "grid_area": null,
            "grid_auto_columns": null,
            "grid_auto_flow": null,
            "grid_auto_rows": null,
            "grid_column": null,
            "grid_gap": null,
            "grid_row": null,
            "grid_template_areas": null,
            "grid_template_columns": null,
            "grid_template_rows": null,
            "height": null,
            "justify_content": null,
            "justify_items": null,
            "left": null,
            "margin": null,
            "max_height": null,
            "max_width": null,
            "min_height": null,
            "min_width": null,
            "object_fit": null,
            "object_position": null,
            "order": null,
            "overflow": null,
            "overflow_x": null,
            "overflow_y": null,
            "padding": null,
            "right": null,
            "top": null,
            "visibility": null,
            "width": null
          }
        },
        "83e905846e7144fbb1954d34762751f0": {
          "model_module": "@jupyter-widgets/controls",
          "model_name": "DescriptionStyleModel",
          "model_module_version": "1.5.0",
          "state": {
            "_model_module": "@jupyter-widgets/controls",
            "_model_module_version": "1.5.0",
            "_model_name": "DescriptionStyleModel",
            "_view_count": null,
            "_view_module": "@jupyter-widgets/base",
            "_view_module_version": "1.2.0",
            "_view_name": "StyleView",
            "description_width": ""
          }
        },
        "5ebb2f1c343743faadc902494c6574ba": {
          "model_module": "@jupyter-widgets/controls",
          "model_name": "HBoxModel",
          "model_module_version": "1.5.0",
          "state": {
            "_dom_classes": [],
            "_model_module": "@jupyter-widgets/controls",
            "_model_module_version": "1.5.0",
            "_model_name": "HBoxModel",
            "_view_count": null,
            "_view_module": "@jupyter-widgets/controls",
            "_view_module_version": "1.5.0",
            "_view_name": "HBoxView",
            "box_style": "",
            "children": [
              "IPY_MODEL_280ad5b3d13c4fd3b688ca444c291f6e",
              "IPY_MODEL_a3a3eff3a132434aa17063cc7f1a20a2",
              "IPY_MODEL_443bc90f850f47b7a76f87b3a114978c"
            ],
            "layout": "IPY_MODEL_26e56a983fbd42a4b44f2ca528c4ba3a"
          }
        },
        "280ad5b3d13c4fd3b688ca444c291f6e": {
          "model_module": "@jupyter-widgets/controls",
          "model_name": "HTMLModel",
          "model_module_version": "1.5.0",
          "state": {
            "_dom_classes": [],
            "_model_module": "@jupyter-widgets/controls",
            "_model_module_version": "1.5.0",
            "_model_name": "HTMLModel",
            "_view_count": null,
            "_view_module": "@jupyter-widgets/controls",
            "_view_module_version": "1.5.0",
            "_view_name": "HTMLView",
            "description": "",
            "description_tooltip": null,
            "layout": "IPY_MODEL_f97c6646e2e34e108d6aa8ae9aac42a4",
            "placeholder": "​",
            "style": "IPY_MODEL_4304cba7c67c471cb76db49c671e12be",
            "value": "special_tokens_map.json: 100%"
          }
        },
        "a3a3eff3a132434aa17063cc7f1a20a2": {
          "model_module": "@jupyter-widgets/controls",
          "model_name": "FloatProgressModel",
          "model_module_version": "1.5.0",
          "state": {
            "_dom_classes": [],
            "_model_module": "@jupyter-widgets/controls",
            "_model_module_version": "1.5.0",
            "_model_name": "FloatProgressModel",
            "_view_count": null,
            "_view_module": "@jupyter-widgets/controls",
            "_view_module_version": "1.5.0",
            "_view_name": "ProgressView",
            "bar_style": "success",
            "description": "",
            "description_tooltip": null,
            "layout": "IPY_MODEL_5341081577144f3196c97e7baeded41d",
            "max": 464,
            "min": 0,
            "orientation": "horizontal",
            "style": "IPY_MODEL_92beb608964549748970164fae697249",
            "value": 464
          }
        },
        "443bc90f850f47b7a76f87b3a114978c": {
          "model_module": "@jupyter-widgets/controls",
          "model_name": "HTMLModel",
          "model_module_version": "1.5.0",
          "state": {
            "_dom_classes": [],
            "_model_module": "@jupyter-widgets/controls",
            "_model_module_version": "1.5.0",
            "_model_name": "HTMLModel",
            "_view_count": null,
            "_view_module": "@jupyter-widgets/controls",
            "_view_module_version": "1.5.0",
            "_view_name": "HTMLView",
            "description": "",
            "description_tooltip": null,
            "layout": "IPY_MODEL_268fce7ece1e42e6b2c95139feb5dcce",
            "placeholder": "​",
            "style": "IPY_MODEL_e05cd52a80da44a8a715b5aa17c90f3f",
            "value": " 464/464 [00:00&lt;00:00, 42.5kB/s]"
          }
        },
        "26e56a983fbd42a4b44f2ca528c4ba3a": {
          "model_module": "@jupyter-widgets/base",
          "model_name": "LayoutModel",
          "model_module_version": "1.2.0",
          "state": {
            "_model_module": "@jupyter-widgets/base",
            "_model_module_version": "1.2.0",
            "_model_name": "LayoutModel",
            "_view_count": null,
            "_view_module": "@jupyter-widgets/base",
            "_view_module_version": "1.2.0",
            "_view_name": "LayoutView",
            "align_content": null,
            "align_items": null,
            "align_self": null,
            "border": null,
            "bottom": null,
            "display": null,
            "flex": null,
            "flex_flow": null,
            "grid_area": null,
            "grid_auto_columns": null,
            "grid_auto_flow": null,
            "grid_auto_rows": null,
            "grid_column": null,
            "grid_gap": null,
            "grid_row": null,
            "grid_template_areas": null,
            "grid_template_columns": null,
            "grid_template_rows": null,
            "height": null,
            "justify_content": null,
            "justify_items": null,
            "left": null,
            "margin": null,
            "max_height": null,
            "max_width": null,
            "min_height": null,
            "min_width": null,
            "object_fit": null,
            "object_position": null,
            "order": null,
            "overflow": null,
            "overflow_x": null,
            "overflow_y": null,
            "padding": null,
            "right": null,
            "top": null,
            "visibility": null,
            "width": null
          }
        },
        "f97c6646e2e34e108d6aa8ae9aac42a4": {
          "model_module": "@jupyter-widgets/base",
          "model_name": "LayoutModel",
          "model_module_version": "1.2.0",
          "state": {
            "_model_module": "@jupyter-widgets/base",
            "_model_module_version": "1.2.0",
            "_model_name": "LayoutModel",
            "_view_count": null,
            "_view_module": "@jupyter-widgets/base",
            "_view_module_version": "1.2.0",
            "_view_name": "LayoutView",
            "align_content": null,
            "align_items": null,
            "align_self": null,
            "border": null,
            "bottom": null,
            "display": null,
            "flex": null,
            "flex_flow": null,
            "grid_area": null,
            "grid_auto_columns": null,
            "grid_auto_flow": null,
            "grid_auto_rows": null,
            "grid_column": null,
            "grid_gap": null,
            "grid_row": null,
            "grid_template_areas": null,
            "grid_template_columns": null,
            "grid_template_rows": null,
            "height": null,
            "justify_content": null,
            "justify_items": null,
            "left": null,
            "margin": null,
            "max_height": null,
            "max_width": null,
            "min_height": null,
            "min_width": null,
            "object_fit": null,
            "object_position": null,
            "order": null,
            "overflow": null,
            "overflow_x": null,
            "overflow_y": null,
            "padding": null,
            "right": null,
            "top": null,
            "visibility": null,
            "width": null
          }
        },
        "4304cba7c67c471cb76db49c671e12be": {
          "model_module": "@jupyter-widgets/controls",
          "model_name": "DescriptionStyleModel",
          "model_module_version": "1.5.0",
          "state": {
            "_model_module": "@jupyter-widgets/controls",
            "_model_module_version": "1.5.0",
            "_model_name": "DescriptionStyleModel",
            "_view_count": null,
            "_view_module": "@jupyter-widgets/base",
            "_view_module_version": "1.2.0",
            "_view_name": "StyleView",
            "description_width": ""
          }
        },
        "5341081577144f3196c97e7baeded41d": {
          "model_module": "@jupyter-widgets/base",
          "model_name": "LayoutModel",
          "model_module_version": "1.2.0",
          "state": {
            "_model_module": "@jupyter-widgets/base",
            "_model_module_version": "1.2.0",
            "_model_name": "LayoutModel",
            "_view_count": null,
            "_view_module": "@jupyter-widgets/base",
            "_view_module_version": "1.2.0",
            "_view_name": "LayoutView",
            "align_content": null,
            "align_items": null,
            "align_self": null,
            "border": null,
            "bottom": null,
            "display": null,
            "flex": null,
            "flex_flow": null,
            "grid_area": null,
            "grid_auto_columns": null,
            "grid_auto_flow": null,
            "grid_auto_rows": null,
            "grid_column": null,
            "grid_gap": null,
            "grid_row": null,
            "grid_template_areas": null,
            "grid_template_columns": null,
            "grid_template_rows": null,
            "height": null,
            "justify_content": null,
            "justify_items": null,
            "left": null,
            "margin": null,
            "max_height": null,
            "max_width": null,
            "min_height": null,
            "min_width": null,
            "object_fit": null,
            "object_position": null,
            "order": null,
            "overflow": null,
            "overflow_x": null,
            "overflow_y": null,
            "padding": null,
            "right": null,
            "top": null,
            "visibility": null,
            "width": null
          }
        },
        "92beb608964549748970164fae697249": {
          "model_module": "@jupyter-widgets/controls",
          "model_name": "ProgressStyleModel",
          "model_module_version": "1.5.0",
          "state": {
            "_model_module": "@jupyter-widgets/controls",
            "_model_module_version": "1.5.0",
            "_model_name": "ProgressStyleModel",
            "_view_count": null,
            "_view_module": "@jupyter-widgets/base",
            "_view_module_version": "1.2.0",
            "_view_name": "StyleView",
            "bar_color": null,
            "description_width": ""
          }
        },
        "268fce7ece1e42e6b2c95139feb5dcce": {
          "model_module": "@jupyter-widgets/base",
          "model_name": "LayoutModel",
          "model_module_version": "1.2.0",
          "state": {
            "_model_module": "@jupyter-widgets/base",
            "_model_module_version": "1.2.0",
            "_model_name": "LayoutModel",
            "_view_count": null,
            "_view_module": "@jupyter-widgets/base",
            "_view_module_version": "1.2.0",
            "_view_name": "LayoutView",
            "align_content": null,
            "align_items": null,
            "align_self": null,
            "border": null,
            "bottom": null,
            "display": null,
            "flex": null,
            "flex_flow": null,
            "grid_area": null,
            "grid_auto_columns": null,
            "grid_auto_flow": null,
            "grid_auto_rows": null,
            "grid_column": null,
            "grid_gap": null,
            "grid_row": null,
            "grid_template_areas": null,
            "grid_template_columns": null,
            "grid_template_rows": null,
            "height": null,
            "justify_content": null,
            "justify_items": null,
            "left": null,
            "margin": null,
            "max_height": null,
            "max_width": null,
            "min_height": null,
            "min_width": null,
            "object_fit": null,
            "object_position": null,
            "order": null,
            "overflow": null,
            "overflow_x": null,
            "overflow_y": null,
            "padding": null,
            "right": null,
            "top": null,
            "visibility": null,
            "width": null
          }
        },
        "e05cd52a80da44a8a715b5aa17c90f3f": {
          "model_module": "@jupyter-widgets/controls",
          "model_name": "DescriptionStyleModel",
          "model_module_version": "1.5.0",
          "state": {
            "_model_module": "@jupyter-widgets/controls",
            "_model_module_version": "1.5.0",
            "_model_name": "DescriptionStyleModel",
            "_view_count": null,
            "_view_module": "@jupyter-widgets/base",
            "_view_module_version": "1.2.0",
            "_view_name": "StyleView",
            "description_width": ""
          }
        },
        "04985388266842ceb2bf2178803e3cf7": {
          "model_module": "@jupyter-widgets/controls",
          "model_name": "HBoxModel",
          "model_module_version": "1.5.0",
          "state": {
            "_dom_classes": [],
            "_model_module": "@jupyter-widgets/controls",
            "_model_module_version": "1.5.0",
            "_model_name": "HBoxModel",
            "_view_count": null,
            "_view_module": "@jupyter-widgets/controls",
            "_view_module_version": "1.5.0",
            "_view_name": "HBoxView",
            "box_style": "",
            "children": [
              "IPY_MODEL_aed82469df33484fb56f981d2a08242a",
              "IPY_MODEL_69b8cabd115344d18b165b648cb2d408",
              "IPY_MODEL_5c39832fd08246288e056161ffaa38f2"
            ],
            "layout": "IPY_MODEL_ba6e841182c54836b2a6bf46c75918ad"
          }
        },
        "aed82469df33484fb56f981d2a08242a": {
          "model_module": "@jupyter-widgets/controls",
          "model_name": "HTMLModel",
          "model_module_version": "1.5.0",
          "state": {
            "_dom_classes": [],
            "_model_module": "@jupyter-widgets/controls",
            "_model_module_version": "1.5.0",
            "_model_name": "HTMLModel",
            "_view_count": null,
            "_view_module": "@jupyter-widgets/controls",
            "_view_module_version": "1.5.0",
            "_view_name": "HTMLView",
            "description": "",
            "description_tooltip": null,
            "layout": "IPY_MODEL_e30763ce9da44fde977494ea2a7e7506",
            "placeholder": "​",
            "style": "IPY_MODEL_e1e7564a2206458d918ebc4d05984260",
            "value": "generation_config.json: 100%"
          }
        },
        "69b8cabd115344d18b165b648cb2d408": {
          "model_module": "@jupyter-widgets/controls",
          "model_name": "FloatProgressModel",
          "model_module_version": "1.5.0",
          "state": {
            "_dom_classes": [],
            "_model_module": "@jupyter-widgets/controls",
            "_model_module_version": "1.5.0",
            "_model_name": "FloatProgressModel",
            "_view_count": null,
            "_view_module": "@jupyter-widgets/controls",
            "_view_module_version": "1.5.0",
            "_view_name": "ProgressView",
            "bar_style": "success",
            "description": "",
            "description_tooltip": null,
            "layout": "IPY_MODEL_c8e5add49e154713b45825a1c3fad124",
            "max": 172,
            "min": 0,
            "orientation": "horizontal",
            "style": "IPY_MODEL_367237788ac647c49b83aa0a71cd4fc9",
            "value": 172
          }
        },
        "5c39832fd08246288e056161ffaa38f2": {
          "model_module": "@jupyter-widgets/controls",
          "model_name": "HTMLModel",
          "model_module_version": "1.5.0",
          "state": {
            "_dom_classes": [],
            "_model_module": "@jupyter-widgets/controls",
            "_model_module_version": "1.5.0",
            "_model_name": "HTMLModel",
            "_view_count": null,
            "_view_module": "@jupyter-widgets/controls",
            "_view_module_version": "1.5.0",
            "_view_name": "HTMLView",
            "description": "",
            "description_tooltip": null,
            "layout": "IPY_MODEL_baee55ba99834c619fd5d3acddce1a8e",
            "placeholder": "​",
            "style": "IPY_MODEL_4e383498157f49d9aafa7e4e04b16f11",
            "value": " 172/172 [00:00&lt;00:00, 16.0kB/s]"
          }
        },
        "ba6e841182c54836b2a6bf46c75918ad": {
          "model_module": "@jupyter-widgets/base",
          "model_name": "LayoutModel",
          "model_module_version": "1.2.0",
          "state": {
            "_model_module": "@jupyter-widgets/base",
            "_model_module_version": "1.2.0",
            "_model_name": "LayoutModel",
            "_view_count": null,
            "_view_module": "@jupyter-widgets/base",
            "_view_module_version": "1.2.0",
            "_view_name": "LayoutView",
            "align_content": null,
            "align_items": null,
            "align_self": null,
            "border": null,
            "bottom": null,
            "display": null,
            "flex": null,
            "flex_flow": null,
            "grid_area": null,
            "grid_auto_columns": null,
            "grid_auto_flow": null,
            "grid_auto_rows": null,
            "grid_column": null,
            "grid_gap": null,
            "grid_row": null,
            "grid_template_areas": null,
            "grid_template_columns": null,
            "grid_template_rows": null,
            "height": null,
            "justify_content": null,
            "justify_items": null,
            "left": null,
            "margin": null,
            "max_height": null,
            "max_width": null,
            "min_height": null,
            "min_width": null,
            "object_fit": null,
            "object_position": null,
            "order": null,
            "overflow": null,
            "overflow_x": null,
            "overflow_y": null,
            "padding": null,
            "right": null,
            "top": null,
            "visibility": null,
            "width": null
          }
        },
        "e30763ce9da44fde977494ea2a7e7506": {
          "model_module": "@jupyter-widgets/base",
          "model_name": "LayoutModel",
          "model_module_version": "1.2.0",
          "state": {
            "_model_module": "@jupyter-widgets/base",
            "_model_module_version": "1.2.0",
            "_model_name": "LayoutModel",
            "_view_count": null,
            "_view_module": "@jupyter-widgets/base",
            "_view_module_version": "1.2.0",
            "_view_name": "LayoutView",
            "align_content": null,
            "align_items": null,
            "align_self": null,
            "border": null,
            "bottom": null,
            "display": null,
            "flex": null,
            "flex_flow": null,
            "grid_area": null,
            "grid_auto_columns": null,
            "grid_auto_flow": null,
            "grid_auto_rows": null,
            "grid_column": null,
            "grid_gap": null,
            "grid_row": null,
            "grid_template_areas": null,
            "grid_template_columns": null,
            "grid_template_rows": null,
            "height": null,
            "justify_content": null,
            "justify_items": null,
            "left": null,
            "margin": null,
            "max_height": null,
            "max_width": null,
            "min_height": null,
            "min_width": null,
            "object_fit": null,
            "object_position": null,
            "order": null,
            "overflow": null,
            "overflow_x": null,
            "overflow_y": null,
            "padding": null,
            "right": null,
            "top": null,
            "visibility": null,
            "width": null
          }
        },
        "e1e7564a2206458d918ebc4d05984260": {
          "model_module": "@jupyter-widgets/controls",
          "model_name": "DescriptionStyleModel",
          "model_module_version": "1.5.0",
          "state": {
            "_model_module": "@jupyter-widgets/controls",
            "_model_module_version": "1.5.0",
            "_model_name": "DescriptionStyleModel",
            "_view_count": null,
            "_view_module": "@jupyter-widgets/base",
            "_view_module_version": "1.2.0",
            "_view_name": "StyleView",
            "description_width": ""
          }
        },
        "c8e5add49e154713b45825a1c3fad124": {
          "model_module": "@jupyter-widgets/base",
          "model_name": "LayoutModel",
          "model_module_version": "1.2.0",
          "state": {
            "_model_module": "@jupyter-widgets/base",
            "_model_module_version": "1.2.0",
            "_model_name": "LayoutModel",
            "_view_count": null,
            "_view_module": "@jupyter-widgets/base",
            "_view_module_version": "1.2.0",
            "_view_name": "LayoutView",
            "align_content": null,
            "align_items": null,
            "align_self": null,
            "border": null,
            "bottom": null,
            "display": null,
            "flex": null,
            "flex_flow": null,
            "grid_area": null,
            "grid_auto_columns": null,
            "grid_auto_flow": null,
            "grid_auto_rows": null,
            "grid_column": null,
            "grid_gap": null,
            "grid_row": null,
            "grid_template_areas": null,
            "grid_template_columns": null,
            "grid_template_rows": null,
            "height": null,
            "justify_content": null,
            "justify_items": null,
            "left": null,
            "margin": null,
            "max_height": null,
            "max_width": null,
            "min_height": null,
            "min_width": null,
            "object_fit": null,
            "object_position": null,
            "order": null,
            "overflow": null,
            "overflow_x": null,
            "overflow_y": null,
            "padding": null,
            "right": null,
            "top": null,
            "visibility": null,
            "width": null
          }
        },
        "367237788ac647c49b83aa0a71cd4fc9": {
          "model_module": "@jupyter-widgets/controls",
          "model_name": "ProgressStyleModel",
          "model_module_version": "1.5.0",
          "state": {
            "_model_module": "@jupyter-widgets/controls",
            "_model_module_version": "1.5.0",
            "_model_name": "ProgressStyleModel",
            "_view_count": null,
            "_view_module": "@jupyter-widgets/base",
            "_view_module_version": "1.2.0",
            "_view_name": "StyleView",
            "bar_color": null,
            "description_width": ""
          }
        },
        "baee55ba99834c619fd5d3acddce1a8e": {
          "model_module": "@jupyter-widgets/base",
          "model_name": "LayoutModel",
          "model_module_version": "1.2.0",
          "state": {
            "_model_module": "@jupyter-widgets/base",
            "_model_module_version": "1.2.0",
            "_model_name": "LayoutModel",
            "_view_count": null,
            "_view_module": "@jupyter-widgets/base",
            "_view_module_version": "1.2.0",
            "_view_name": "LayoutView",
            "align_content": null,
            "align_items": null,
            "align_self": null,
            "border": null,
            "bottom": null,
            "display": null,
            "flex": null,
            "flex_flow": null,
            "grid_area": null,
            "grid_auto_columns": null,
            "grid_auto_flow": null,
            "grid_auto_rows": null,
            "grid_column": null,
            "grid_gap": null,
            "grid_row": null,
            "grid_template_areas": null,
            "grid_template_columns": null,
            "grid_template_rows": null,
            "height": null,
            "justify_content": null,
            "justify_items": null,
            "left": null,
            "margin": null,
            "max_height": null,
            "max_width": null,
            "min_height": null,
            "min_width": null,
            "object_fit": null,
            "object_position": null,
            "order": null,
            "overflow": null,
            "overflow_x": null,
            "overflow_y": null,
            "padding": null,
            "right": null,
            "top": null,
            "visibility": null,
            "width": null
          }
        },
        "4e383498157f49d9aafa7e4e04b16f11": {
          "model_module": "@jupyter-widgets/controls",
          "model_name": "DescriptionStyleModel",
          "model_module_version": "1.5.0",
          "state": {
            "_model_module": "@jupyter-widgets/controls",
            "_model_module_version": "1.5.0",
            "_model_name": "DescriptionStyleModel",
            "_view_count": null,
            "_view_module": "@jupyter-widgets/base",
            "_view_module_version": "1.2.0",
            "_view_name": "StyleView",
            "description_width": ""
          }
        },
        "1195126d0e7f42fc8a0932dde1131f02": {
          "model_module": "@jupyter-widgets/controls",
          "model_name": "HBoxModel",
          "model_module_version": "1.5.0",
          "state": {
            "_dom_classes": [],
            "_model_module": "@jupyter-widgets/controls",
            "_model_module_version": "1.5.0",
            "_model_name": "HBoxModel",
            "_view_count": null,
            "_view_module": "@jupyter-widgets/controls",
            "_view_module_version": "1.5.0",
            "_view_name": "HBoxView",
            "box_style": "",
            "children": [
              "IPY_MODEL_8fa04e5293be43b5b8f8b37b68e8764b",
              "IPY_MODEL_37b2cae4f550417db10bd071467a6207",
              "IPY_MODEL_541da11a75d44d2182dc816f629dd7f3"
            ],
            "layout": "IPY_MODEL_22d868f509a94775b638bec1ecf21a8f"
          }
        },
        "8fa04e5293be43b5b8f8b37b68e8764b": {
          "model_module": "@jupyter-widgets/controls",
          "model_name": "HTMLModel",
          "model_module_version": "1.5.0",
          "state": {
            "_dom_classes": [],
            "_model_module": "@jupyter-widgets/controls",
            "_model_module_version": "1.5.0",
            "_model_name": "HTMLModel",
            "_view_count": null,
            "_view_module": "@jupyter-widgets/controls",
            "_view_module_version": "1.5.0",
            "_view_name": "HTMLView",
            "description": "",
            "description_tooltip": null,
            "layout": "IPY_MODEL_306231b946af4fee878a699060d4b9d3",
            "placeholder": "​",
            "style": "IPY_MODEL_4927cf67d0754088a74036530a8a8a97",
            "value": "model-00002-of-00004.safetensors: 100%"
          }
        },
        "37b2cae4f550417db10bd071467a6207": {
          "model_module": "@jupyter-widgets/controls",
          "model_name": "FloatProgressModel",
          "model_module_version": "1.5.0",
          "state": {
            "_dom_classes": [],
            "_model_module": "@jupyter-widgets/controls",
            "_model_module_version": "1.5.0",
            "_model_name": "FloatProgressModel",
            "_view_count": null,
            "_view_module": "@jupyter-widgets/controls",
            "_view_module_version": "1.5.0",
            "_view_name": "ProgressView",
            "bar_style": "success",
            "description": "",
            "description_tooltip": null,
            "layout": "IPY_MODEL_0e64b3a43a044ef1b5301d8e91b1eae5",
            "max": 4999802720,
            "min": 0,
            "orientation": "horizontal",
            "style": "IPY_MODEL_0a1ab8e202e14aa19b16635ebe5635ac",
            "value": 4999802720
          }
        },
        "541da11a75d44d2182dc816f629dd7f3": {
          "model_module": "@jupyter-widgets/controls",
          "model_name": "HTMLModel",
          "model_module_version": "1.5.0",
          "state": {
            "_dom_classes": [],
            "_model_module": "@jupyter-widgets/controls",
            "_model_module_version": "1.5.0",
            "_model_name": "HTMLModel",
            "_view_count": null,
            "_view_module": "@jupyter-widgets/controls",
            "_view_module_version": "1.5.0",
            "_view_name": "HTMLView",
            "description": "",
            "description_tooltip": null,
            "layout": "IPY_MODEL_e30ef7aae5d249e88dc290db8b767c7c",
            "placeholder": "​",
            "style": "IPY_MODEL_a815c37bcab442f0b05300cbfb0f0900",
            "value": " 5.00G/5.00G [02:00&lt;00:00, 42.8MB/s]"
          }
        },
        "22d868f509a94775b638bec1ecf21a8f": {
          "model_module": "@jupyter-widgets/base",
          "model_name": "LayoutModel",
          "model_module_version": "1.2.0",
          "state": {
            "_model_module": "@jupyter-widgets/base",
            "_model_module_version": "1.2.0",
            "_model_name": "LayoutModel",
            "_view_count": null,
            "_view_module": "@jupyter-widgets/base",
            "_view_module_version": "1.2.0",
            "_view_name": "LayoutView",
            "align_content": null,
            "align_items": null,
            "align_self": null,
            "border": null,
            "bottom": null,
            "display": null,
            "flex": null,
            "flex_flow": null,
            "grid_area": null,
            "grid_auto_columns": null,
            "grid_auto_flow": null,
            "grid_auto_rows": null,
            "grid_column": null,
            "grid_gap": null,
            "grid_row": null,
            "grid_template_areas": null,
            "grid_template_columns": null,
            "grid_template_rows": null,
            "height": null,
            "justify_content": null,
            "justify_items": null,
            "left": null,
            "margin": null,
            "max_height": null,
            "max_width": null,
            "min_height": null,
            "min_width": null,
            "object_fit": null,
            "object_position": null,
            "order": null,
            "overflow": null,
            "overflow_x": null,
            "overflow_y": null,
            "padding": null,
            "right": null,
            "top": null,
            "visibility": null,
            "width": null
          }
        },
        "306231b946af4fee878a699060d4b9d3": {
          "model_module": "@jupyter-widgets/base",
          "model_name": "LayoutModel",
          "model_module_version": "1.2.0",
          "state": {
            "_model_module": "@jupyter-widgets/base",
            "_model_module_version": "1.2.0",
            "_model_name": "LayoutModel",
            "_view_count": null,
            "_view_module": "@jupyter-widgets/base",
            "_view_module_version": "1.2.0",
            "_view_name": "LayoutView",
            "align_content": null,
            "align_items": null,
            "align_self": null,
            "border": null,
            "bottom": null,
            "display": null,
            "flex": null,
            "flex_flow": null,
            "grid_area": null,
            "grid_auto_columns": null,
            "grid_auto_flow": null,
            "grid_auto_rows": null,
            "grid_column": null,
            "grid_gap": null,
            "grid_row": null,
            "grid_template_areas": null,
            "grid_template_columns": null,
            "grid_template_rows": null,
            "height": null,
            "justify_content": null,
            "justify_items": null,
            "left": null,
            "margin": null,
            "max_height": null,
            "max_width": null,
            "min_height": null,
            "min_width": null,
            "object_fit": null,
            "object_position": null,
            "order": null,
            "overflow": null,
            "overflow_x": null,
            "overflow_y": null,
            "padding": null,
            "right": null,
            "top": null,
            "visibility": null,
            "width": null
          }
        },
        "4927cf67d0754088a74036530a8a8a97": {
          "model_module": "@jupyter-widgets/controls",
          "model_name": "DescriptionStyleModel",
          "model_module_version": "1.5.0",
          "state": {
            "_model_module": "@jupyter-widgets/controls",
            "_model_module_version": "1.5.0",
            "_model_name": "DescriptionStyleModel",
            "_view_count": null,
            "_view_module": "@jupyter-widgets/base",
            "_view_module_version": "1.2.0",
            "_view_name": "StyleView",
            "description_width": ""
          }
        },
        "0e64b3a43a044ef1b5301d8e91b1eae5": {
          "model_module": "@jupyter-widgets/base",
          "model_name": "LayoutModel",
          "model_module_version": "1.2.0",
          "state": {
            "_model_module": "@jupyter-widgets/base",
            "_model_module_version": "1.2.0",
            "_model_name": "LayoutModel",
            "_view_count": null,
            "_view_module": "@jupyter-widgets/base",
            "_view_module_version": "1.2.0",
            "_view_name": "LayoutView",
            "align_content": null,
            "align_items": null,
            "align_self": null,
            "border": null,
            "bottom": null,
            "display": null,
            "flex": null,
            "flex_flow": null,
            "grid_area": null,
            "grid_auto_columns": null,
            "grid_auto_flow": null,
            "grid_auto_rows": null,
            "grid_column": null,
            "grid_gap": null,
            "grid_row": null,
            "grid_template_areas": null,
            "grid_template_columns": null,
            "grid_template_rows": null,
            "height": null,
            "justify_content": null,
            "justify_items": null,
            "left": null,
            "margin": null,
            "max_height": null,
            "max_width": null,
            "min_height": null,
            "min_width": null,
            "object_fit": null,
            "object_position": null,
            "order": null,
            "overflow": null,
            "overflow_x": null,
            "overflow_y": null,
            "padding": null,
            "right": null,
            "top": null,
            "visibility": null,
            "width": null
          }
        },
        "0a1ab8e202e14aa19b16635ebe5635ac": {
          "model_module": "@jupyter-widgets/controls",
          "model_name": "ProgressStyleModel",
          "model_module_version": "1.5.0",
          "state": {
            "_model_module": "@jupyter-widgets/controls",
            "_model_module_version": "1.5.0",
            "_model_name": "ProgressStyleModel",
            "_view_count": null,
            "_view_module": "@jupyter-widgets/base",
            "_view_module_version": "1.2.0",
            "_view_name": "StyleView",
            "bar_color": null,
            "description_width": ""
          }
        },
        "e30ef7aae5d249e88dc290db8b767c7c": {
          "model_module": "@jupyter-widgets/base",
          "model_name": "LayoutModel",
          "model_module_version": "1.2.0",
          "state": {
            "_model_module": "@jupyter-widgets/base",
            "_model_module_version": "1.2.0",
            "_model_name": "LayoutModel",
            "_view_count": null,
            "_view_module": "@jupyter-widgets/base",
            "_view_module_version": "1.2.0",
            "_view_name": "LayoutView",
            "align_content": null,
            "align_items": null,
            "align_self": null,
            "border": null,
            "bottom": null,
            "display": null,
            "flex": null,
            "flex_flow": null,
            "grid_area": null,
            "grid_auto_columns": null,
            "grid_auto_flow": null,
            "grid_auto_rows": null,
            "grid_column": null,
            "grid_gap": null,
            "grid_row": null,
            "grid_template_areas": null,
            "grid_template_columns": null,
            "grid_template_rows": null,
            "height": null,
            "justify_content": null,
            "justify_items": null,
            "left": null,
            "margin": null,
            "max_height": null,
            "max_width": null,
            "min_height": null,
            "min_width": null,
            "object_fit": null,
            "object_position": null,
            "order": null,
            "overflow": null,
            "overflow_x": null,
            "overflow_y": null,
            "padding": null,
            "right": null,
            "top": null,
            "visibility": null,
            "width": null
          }
        },
        "a815c37bcab442f0b05300cbfb0f0900": {
          "model_module": "@jupyter-widgets/controls",
          "model_name": "DescriptionStyleModel",
          "model_module_version": "1.5.0",
          "state": {
            "_model_module": "@jupyter-widgets/controls",
            "_model_module_version": "1.5.0",
            "_model_name": "DescriptionStyleModel",
            "_view_count": null,
            "_view_module": "@jupyter-widgets/base",
            "_view_module_version": "1.2.0",
            "_view_name": "StyleView",
            "description_width": ""
          }
        },
        "b962e534876245e3a7945f13d44e969d": {
          "model_module": "@jupyter-widgets/controls",
          "model_name": "HBoxModel",
          "model_module_version": "1.5.0",
          "state": {
            "_dom_classes": [],
            "_model_module": "@jupyter-widgets/controls",
            "_model_module_version": "1.5.0",
            "_model_name": "HBoxModel",
            "_view_count": null,
            "_view_module": "@jupyter-widgets/controls",
            "_view_module_version": "1.5.0",
            "_view_name": "HBoxView",
            "box_style": "",
            "children": [
              "IPY_MODEL_dd380a16d55249fdb520a681b15da21c",
              "IPY_MODEL_9b13532ee89d4a0fae114ed25c3e48d7",
              "IPY_MODEL_89c006c8f5454d99b9177349066aee63"
            ],
            "layout": "IPY_MODEL_59fe5026dbc145d3a4d7d19697c13811"
          }
        },
        "dd380a16d55249fdb520a681b15da21c": {
          "model_module": "@jupyter-widgets/controls",
          "model_name": "HTMLModel",
          "model_module_version": "1.5.0",
          "state": {
            "_dom_classes": [],
            "_model_module": "@jupyter-widgets/controls",
            "_model_module_version": "1.5.0",
            "_model_name": "HTMLModel",
            "_view_count": null,
            "_view_module": "@jupyter-widgets/controls",
            "_view_module_version": "1.5.0",
            "_view_name": "HTMLView",
            "description": "",
            "description_tooltip": null,
            "layout": "IPY_MODEL_a43ddac7a6714a869634b3402847a2dd",
            "placeholder": "​",
            "style": "IPY_MODEL_eff02dfffefd461f94b2dd4f719c592a",
            "value": "model-00003-of-00004.safetensors: 100%"
          }
        },
        "9b13532ee89d4a0fae114ed25c3e48d7": {
          "model_module": "@jupyter-widgets/controls",
          "model_name": "FloatProgressModel",
          "model_module_version": "1.5.0",
          "state": {
            "_dom_classes": [],
            "_model_module": "@jupyter-widgets/controls",
            "_model_module_version": "1.5.0",
            "_model_name": "FloatProgressModel",
            "_view_count": null,
            "_view_module": "@jupyter-widgets/controls",
            "_view_module_version": "1.5.0",
            "_view_name": "ProgressView",
            "bar_style": "success",
            "description": "",
            "description_tooltip": null,
            "layout": "IPY_MODEL_1757b55aad3f49eba210edab768aa718",
            "max": 4915916176,
            "min": 0,
            "orientation": "horizontal",
            "style": "IPY_MODEL_b7b4c50c1a3f4ac9815f88f18e879f5e",
            "value": 4915916176
          }
        },
        "89c006c8f5454d99b9177349066aee63": {
          "model_module": "@jupyter-widgets/controls",
          "model_name": "HTMLModel",
          "model_module_version": "1.5.0",
          "state": {
            "_dom_classes": [],
            "_model_module": "@jupyter-widgets/controls",
            "_model_module_version": "1.5.0",
            "_model_name": "HTMLModel",
            "_view_count": null,
            "_view_module": "@jupyter-widgets/controls",
            "_view_module_version": "1.5.0",
            "_view_name": "HTMLView",
            "description": "",
            "description_tooltip": null,
            "layout": "IPY_MODEL_7a242338ce3c472b8f79d511cef09514",
            "placeholder": "​",
            "style": "IPY_MODEL_96e9c45594c74036be565413b4522d1c",
            "value": " 4.92G/4.92G [01:57&lt;00:00, 42.7MB/s]"
          }
        },
        "59fe5026dbc145d3a4d7d19697c13811": {
          "model_module": "@jupyter-widgets/base",
          "model_name": "LayoutModel",
          "model_module_version": "1.2.0",
          "state": {
            "_model_module": "@jupyter-widgets/base",
            "_model_module_version": "1.2.0",
            "_model_name": "LayoutModel",
            "_view_count": null,
            "_view_module": "@jupyter-widgets/base",
            "_view_module_version": "1.2.0",
            "_view_name": "LayoutView",
            "align_content": null,
            "align_items": null,
            "align_self": null,
            "border": null,
            "bottom": null,
            "display": null,
            "flex": null,
            "flex_flow": null,
            "grid_area": null,
            "grid_auto_columns": null,
            "grid_auto_flow": null,
            "grid_auto_rows": null,
            "grid_column": null,
            "grid_gap": null,
            "grid_row": null,
            "grid_template_areas": null,
            "grid_template_columns": null,
            "grid_template_rows": null,
            "height": null,
            "justify_content": null,
            "justify_items": null,
            "left": null,
            "margin": null,
            "max_height": null,
            "max_width": null,
            "min_height": null,
            "min_width": null,
            "object_fit": null,
            "object_position": null,
            "order": null,
            "overflow": null,
            "overflow_x": null,
            "overflow_y": null,
            "padding": null,
            "right": null,
            "top": null,
            "visibility": null,
            "width": null
          }
        },
        "a43ddac7a6714a869634b3402847a2dd": {
          "model_module": "@jupyter-widgets/base",
          "model_name": "LayoutModel",
          "model_module_version": "1.2.0",
          "state": {
            "_model_module": "@jupyter-widgets/base",
            "_model_module_version": "1.2.0",
            "_model_name": "LayoutModel",
            "_view_count": null,
            "_view_module": "@jupyter-widgets/base",
            "_view_module_version": "1.2.0",
            "_view_name": "LayoutView",
            "align_content": null,
            "align_items": null,
            "align_self": null,
            "border": null,
            "bottom": null,
            "display": null,
            "flex": null,
            "flex_flow": null,
            "grid_area": null,
            "grid_auto_columns": null,
            "grid_auto_flow": null,
            "grid_auto_rows": null,
            "grid_column": null,
            "grid_gap": null,
            "grid_row": null,
            "grid_template_areas": null,
            "grid_template_columns": null,
            "grid_template_rows": null,
            "height": null,
            "justify_content": null,
            "justify_items": null,
            "left": null,
            "margin": null,
            "max_height": null,
            "max_width": null,
            "min_height": null,
            "min_width": null,
            "object_fit": null,
            "object_position": null,
            "order": null,
            "overflow": null,
            "overflow_x": null,
            "overflow_y": null,
            "padding": null,
            "right": null,
            "top": null,
            "visibility": null,
            "width": null
          }
        },
        "eff02dfffefd461f94b2dd4f719c592a": {
          "model_module": "@jupyter-widgets/controls",
          "model_name": "DescriptionStyleModel",
          "model_module_version": "1.5.0",
          "state": {
            "_model_module": "@jupyter-widgets/controls",
            "_model_module_version": "1.5.0",
            "_model_name": "DescriptionStyleModel",
            "_view_count": null,
            "_view_module": "@jupyter-widgets/base",
            "_view_module_version": "1.2.0",
            "_view_name": "StyleView",
            "description_width": ""
          }
        },
        "1757b55aad3f49eba210edab768aa718": {
          "model_module": "@jupyter-widgets/base",
          "model_name": "LayoutModel",
          "model_module_version": "1.2.0",
          "state": {
            "_model_module": "@jupyter-widgets/base",
            "_model_module_version": "1.2.0",
            "_model_name": "LayoutModel",
            "_view_count": null,
            "_view_module": "@jupyter-widgets/base",
            "_view_module_version": "1.2.0",
            "_view_name": "LayoutView",
            "align_content": null,
            "align_items": null,
            "align_self": null,
            "border": null,
            "bottom": null,
            "display": null,
            "flex": null,
            "flex_flow": null,
            "grid_area": null,
            "grid_auto_columns": null,
            "grid_auto_flow": null,
            "grid_auto_rows": null,
            "grid_column": null,
            "grid_gap": null,
            "grid_row": null,
            "grid_template_areas": null,
            "grid_template_columns": null,
            "grid_template_rows": null,
            "height": null,
            "justify_content": null,
            "justify_items": null,
            "left": null,
            "margin": null,
            "max_height": null,
            "max_width": null,
            "min_height": null,
            "min_width": null,
            "object_fit": null,
            "object_position": null,
            "order": null,
            "overflow": null,
            "overflow_x": null,
            "overflow_y": null,
            "padding": null,
            "right": null,
            "top": null,
            "visibility": null,
            "width": null
          }
        },
        "b7b4c50c1a3f4ac9815f88f18e879f5e": {
          "model_module": "@jupyter-widgets/controls",
          "model_name": "ProgressStyleModel",
          "model_module_version": "1.5.0",
          "state": {
            "_model_module": "@jupyter-widgets/controls",
            "_model_module_version": "1.5.0",
            "_model_name": "ProgressStyleModel",
            "_view_count": null,
            "_view_module": "@jupyter-widgets/base",
            "_view_module_version": "1.2.0",
            "_view_name": "StyleView",
            "bar_color": null,
            "description_width": ""
          }
        },
        "7a242338ce3c472b8f79d511cef09514": {
          "model_module": "@jupyter-widgets/base",
          "model_name": "LayoutModel",
          "model_module_version": "1.2.0",
          "state": {
            "_model_module": "@jupyter-widgets/base",
            "_model_module_version": "1.2.0",
            "_model_name": "LayoutModel",
            "_view_count": null,
            "_view_module": "@jupyter-widgets/base",
            "_view_module_version": "1.2.0",
            "_view_name": "LayoutView",
            "align_content": null,
            "align_items": null,
            "align_self": null,
            "border": null,
            "bottom": null,
            "display": null,
            "flex": null,
            "flex_flow": null,
            "grid_area": null,
            "grid_auto_columns": null,
            "grid_auto_flow": null,
            "grid_auto_rows": null,
            "grid_column": null,
            "grid_gap": null,
            "grid_row": null,
            "grid_template_areas": null,
            "grid_template_columns": null,
            "grid_template_rows": null,
            "height": null,
            "justify_content": null,
            "justify_items": null,
            "left": null,
            "margin": null,
            "max_height": null,
            "max_width": null,
            "min_height": null,
            "min_width": null,
            "object_fit": null,
            "object_position": null,
            "order": null,
            "overflow": null,
            "overflow_x": null,
            "overflow_y": null,
            "padding": null,
            "right": null,
            "top": null,
            "visibility": null,
            "width": null
          }
        },
        "96e9c45594c74036be565413b4522d1c": {
          "model_module": "@jupyter-widgets/controls",
          "model_name": "DescriptionStyleModel",
          "model_module_version": "1.5.0",
          "state": {
            "_model_module": "@jupyter-widgets/controls",
            "_model_module_version": "1.5.0",
            "_model_name": "DescriptionStyleModel",
            "_view_count": null,
            "_view_module": "@jupyter-widgets/base",
            "_view_module_version": "1.2.0",
            "_view_name": "StyleView",
            "description_width": ""
          }
        },
        "fdff7eec900744b8b4fd47ff8680ae60": {
          "model_module": "@jupyter-widgets/controls",
          "model_name": "HBoxModel",
          "model_module_version": "1.5.0",
          "state": {
            "_dom_classes": [],
            "_model_module": "@jupyter-widgets/controls",
            "_model_module_version": "1.5.0",
            "_model_name": "HBoxModel",
            "_view_count": null,
            "_view_module": "@jupyter-widgets/controls",
            "_view_module_version": "1.5.0",
            "_view_name": "HBoxView",
            "box_style": "",
            "children": [
              "IPY_MODEL_75feb3f529a540faa2520a2a6db8b3a5",
              "IPY_MODEL_08c48c0526c74fe6bf92fde49869009a",
              "IPY_MODEL_b1d9fa89a4c64485b8da7905e01ad9f5"
            ],
            "layout": "IPY_MODEL_42966c3a1d544eadbbf92c5440877ec9"
          }
        },
        "75feb3f529a540faa2520a2a6db8b3a5": {
          "model_module": "@jupyter-widgets/controls",
          "model_name": "HTMLModel",
          "model_module_version": "1.5.0",
          "state": {
            "_dom_classes": [],
            "_model_module": "@jupyter-widgets/controls",
            "_model_module_version": "1.5.0",
            "_model_name": "HTMLModel",
            "_view_count": null,
            "_view_module": "@jupyter-widgets/controls",
            "_view_module_version": "1.5.0",
            "_view_name": "HTMLView",
            "description": "",
            "description_tooltip": null,
            "layout": "IPY_MODEL_14d7ce02d7504655aa094cf4bc60481f",
            "placeholder": "​",
            "style": "IPY_MODEL_8d5fba298a8846babff756da297b2909",
            "value": "model-00001-of-00004.safetensors: 100%"
          }
        },
        "08c48c0526c74fe6bf92fde49869009a": {
          "model_module": "@jupyter-widgets/controls",
          "model_name": "FloatProgressModel",
          "model_module_version": "1.5.0",
          "state": {
            "_dom_classes": [],
            "_model_module": "@jupyter-widgets/controls",
            "_model_module_version": "1.5.0",
            "_model_name": "FloatProgressModel",
            "_view_count": null,
            "_view_module": "@jupyter-widgets/controls",
            "_view_module_version": "1.5.0",
            "_view_name": "ProgressView",
            "bar_style": "success",
            "description": "",
            "description_tooltip": null,
            "layout": "IPY_MODEL_a3f9f9b3612d41409a94f4aa7b397db9",
            "max": 4976698672,
            "min": 0,
            "orientation": "horizontal",
            "style": "IPY_MODEL_d7a131d5a5df411390253b4b970eb999",
            "value": 4976698672
          }
        },
        "b1d9fa89a4c64485b8da7905e01ad9f5": {
          "model_module": "@jupyter-widgets/controls",
          "model_name": "HTMLModel",
          "model_module_version": "1.5.0",
          "state": {
            "_dom_classes": [],
            "_model_module": "@jupyter-widgets/controls",
            "_model_module_version": "1.5.0",
            "_model_name": "HTMLModel",
            "_view_count": null,
            "_view_module": "@jupyter-widgets/controls",
            "_view_module_version": "1.5.0",
            "_view_name": "HTMLView",
            "description": "",
            "description_tooltip": null,
            "layout": "IPY_MODEL_236256502640431fb9eafa047e1493bd",
            "placeholder": "​",
            "style": "IPY_MODEL_15f7107311554fb5bc44da7bfee47887",
            "value": " 4.98G/4.98G [01:58&lt;00:00, 37.9MB/s]"
          }
        },
        "42966c3a1d544eadbbf92c5440877ec9": {
          "model_module": "@jupyter-widgets/base",
          "model_name": "LayoutModel",
          "model_module_version": "1.2.0",
          "state": {
            "_model_module": "@jupyter-widgets/base",
            "_model_module_version": "1.2.0",
            "_model_name": "LayoutModel",
            "_view_count": null,
            "_view_module": "@jupyter-widgets/base",
            "_view_module_version": "1.2.0",
            "_view_name": "LayoutView",
            "align_content": null,
            "align_items": null,
            "align_self": null,
            "border": null,
            "bottom": null,
            "display": null,
            "flex": null,
            "flex_flow": null,
            "grid_area": null,
            "grid_auto_columns": null,
            "grid_auto_flow": null,
            "grid_auto_rows": null,
            "grid_column": null,
            "grid_gap": null,
            "grid_row": null,
            "grid_template_areas": null,
            "grid_template_columns": null,
            "grid_template_rows": null,
            "height": null,
            "justify_content": null,
            "justify_items": null,
            "left": null,
            "margin": null,
            "max_height": null,
            "max_width": null,
            "min_height": null,
            "min_width": null,
            "object_fit": null,
            "object_position": null,
            "order": null,
            "overflow": null,
            "overflow_x": null,
            "overflow_y": null,
            "padding": null,
            "right": null,
            "top": null,
            "visibility": null,
            "width": null
          }
        },
        "14d7ce02d7504655aa094cf4bc60481f": {
          "model_module": "@jupyter-widgets/base",
          "model_name": "LayoutModel",
          "model_module_version": "1.2.0",
          "state": {
            "_model_module": "@jupyter-widgets/base",
            "_model_module_version": "1.2.0",
            "_model_name": "LayoutModel",
            "_view_count": null,
            "_view_module": "@jupyter-widgets/base",
            "_view_module_version": "1.2.0",
            "_view_name": "LayoutView",
            "align_content": null,
            "align_items": null,
            "align_self": null,
            "border": null,
            "bottom": null,
            "display": null,
            "flex": null,
            "flex_flow": null,
            "grid_area": null,
            "grid_auto_columns": null,
            "grid_auto_flow": null,
            "grid_auto_rows": null,
            "grid_column": null,
            "grid_gap": null,
            "grid_row": null,
            "grid_template_areas": null,
            "grid_template_columns": null,
            "grid_template_rows": null,
            "height": null,
            "justify_content": null,
            "justify_items": null,
            "left": null,
            "margin": null,
            "max_height": null,
            "max_width": null,
            "min_height": null,
            "min_width": null,
            "object_fit": null,
            "object_position": null,
            "order": null,
            "overflow": null,
            "overflow_x": null,
            "overflow_y": null,
            "padding": null,
            "right": null,
            "top": null,
            "visibility": null,
            "width": null
          }
        },
        "8d5fba298a8846babff756da297b2909": {
          "model_module": "@jupyter-widgets/controls",
          "model_name": "DescriptionStyleModel",
          "model_module_version": "1.5.0",
          "state": {
            "_model_module": "@jupyter-widgets/controls",
            "_model_module_version": "1.5.0",
            "_model_name": "DescriptionStyleModel",
            "_view_count": null,
            "_view_module": "@jupyter-widgets/base",
            "_view_module_version": "1.2.0",
            "_view_name": "StyleView",
            "description_width": ""
          }
        },
        "a3f9f9b3612d41409a94f4aa7b397db9": {
          "model_module": "@jupyter-widgets/base",
          "model_name": "LayoutModel",
          "model_module_version": "1.2.0",
          "state": {
            "_model_module": "@jupyter-widgets/base",
            "_model_module_version": "1.2.0",
            "_model_name": "LayoutModel",
            "_view_count": null,
            "_view_module": "@jupyter-widgets/base",
            "_view_module_version": "1.2.0",
            "_view_name": "LayoutView",
            "align_content": null,
            "align_items": null,
            "align_self": null,
            "border": null,
            "bottom": null,
            "display": null,
            "flex": null,
            "flex_flow": null,
            "grid_area": null,
            "grid_auto_columns": null,
            "grid_auto_flow": null,
            "grid_auto_rows": null,
            "grid_column": null,
            "grid_gap": null,
            "grid_row": null,
            "grid_template_areas": null,
            "grid_template_columns": null,
            "grid_template_rows": null,
            "height": null,
            "justify_content": null,
            "justify_items": null,
            "left": null,
            "margin": null,
            "max_height": null,
            "max_width": null,
            "min_height": null,
            "min_width": null,
            "object_fit": null,
            "object_position": null,
            "order": null,
            "overflow": null,
            "overflow_x": null,
            "overflow_y": null,
            "padding": null,
            "right": null,
            "top": null,
            "visibility": null,
            "width": null
          }
        },
        "d7a131d5a5df411390253b4b970eb999": {
          "model_module": "@jupyter-widgets/controls",
          "model_name": "ProgressStyleModel",
          "model_module_version": "1.5.0",
          "state": {
            "_model_module": "@jupyter-widgets/controls",
            "_model_module_version": "1.5.0",
            "_model_name": "ProgressStyleModel",
            "_view_count": null,
            "_view_module": "@jupyter-widgets/base",
            "_view_module_version": "1.2.0",
            "_view_name": "StyleView",
            "bar_color": null,
            "description_width": ""
          }
        },
        "236256502640431fb9eafa047e1493bd": {
          "model_module": "@jupyter-widgets/base",
          "model_name": "LayoutModel",
          "model_module_version": "1.2.0",
          "state": {
            "_model_module": "@jupyter-widgets/base",
            "_model_module_version": "1.2.0",
            "_model_name": "LayoutModel",
            "_view_count": null,
            "_view_module": "@jupyter-widgets/base",
            "_view_module_version": "1.2.0",
            "_view_name": "LayoutView",
            "align_content": null,
            "align_items": null,
            "align_self": null,
            "border": null,
            "bottom": null,
            "display": null,
            "flex": null,
            "flex_flow": null,
            "grid_area": null,
            "grid_auto_columns": null,
            "grid_auto_flow": null,
            "grid_auto_rows": null,
            "grid_column": null,
            "grid_gap": null,
            "grid_row": null,
            "grid_template_areas": null,
            "grid_template_columns": null,
            "grid_template_rows": null,
            "height": null,
            "justify_content": null,
            "justify_items": null,
            "left": null,
            "margin": null,
            "max_height": null,
            "max_width": null,
            "min_height": null,
            "min_width": null,
            "object_fit": null,
            "object_position": null,
            "order": null,
            "overflow": null,
            "overflow_x": null,
            "overflow_y": null,
            "padding": null,
            "right": null,
            "top": null,
            "visibility": null,
            "width": null
          }
        },
        "15f7107311554fb5bc44da7bfee47887": {
          "model_module": "@jupyter-widgets/controls",
          "model_name": "DescriptionStyleModel",
          "model_module_version": "1.5.0",
          "state": {
            "_model_module": "@jupyter-widgets/controls",
            "_model_module_version": "1.5.0",
            "_model_name": "DescriptionStyleModel",
            "_view_count": null,
            "_view_module": "@jupyter-widgets/base",
            "_view_module_version": "1.2.0",
            "_view_name": "StyleView",
            "description_width": ""
          }
        },
        "50bda875779e4a09a33df8be8d953aa7": {
          "model_module": "@jupyter-widgets/controls",
          "model_name": "HBoxModel",
          "model_module_version": "1.5.0",
          "state": {
            "_dom_classes": [],
            "_model_module": "@jupyter-widgets/controls",
            "_model_module_version": "1.5.0",
            "_model_name": "HBoxModel",
            "_view_count": null,
            "_view_module": "@jupyter-widgets/controls",
            "_view_module_version": "1.5.0",
            "_view_name": "HBoxView",
            "box_style": "",
            "children": [
              "IPY_MODEL_522b717bee7e42d1ae9ba5b6d17f9751",
              "IPY_MODEL_b4f51364b898483aa1d0e03e303cb2b6",
              "IPY_MODEL_01d7ffa5a4e5453197f6f0b731e0b8b2"
            ],
            "layout": "IPY_MODEL_63a2d15071ce41c792414c82e7191596"
          }
        },
        "522b717bee7e42d1ae9ba5b6d17f9751": {
          "model_module": "@jupyter-widgets/controls",
          "model_name": "HTMLModel",
          "model_module_version": "1.5.0",
          "state": {
            "_dom_classes": [],
            "_model_module": "@jupyter-widgets/controls",
            "_model_module_version": "1.5.0",
            "_model_name": "HTMLModel",
            "_view_count": null,
            "_view_module": "@jupyter-widgets/controls",
            "_view_module_version": "1.5.0",
            "_view_name": "HTMLView",
            "description": "",
            "description_tooltip": null,
            "layout": "IPY_MODEL_1b33b86781784b0fb3df768e1d8e8d64",
            "placeholder": "​",
            "style": "IPY_MODEL_77f7ea788fe64b508bc6ac8c850e10e8",
            "value": "model-00004-of-00004.safetensors: 100%"
          }
        },
        "b4f51364b898483aa1d0e03e303cb2b6": {
          "model_module": "@jupyter-widgets/controls",
          "model_name": "FloatProgressModel",
          "model_module_version": "1.5.0",
          "state": {
            "_dom_classes": [],
            "_model_module": "@jupyter-widgets/controls",
            "_model_module_version": "1.5.0",
            "_model_name": "FloatProgressModel",
            "_view_count": null,
            "_view_module": "@jupyter-widgets/controls",
            "_view_module_version": "1.5.0",
            "_view_name": "ProgressView",
            "bar_style": "success",
            "description": "",
            "description_tooltip": null,
            "layout": "IPY_MODEL_2a29fbf319b6458bb4403d6ad03d2d0f",
            "max": 1168138808,
            "min": 0,
            "orientation": "horizontal",
            "style": "IPY_MODEL_21a3600939a84ce08eea6fcb8c06fe06",
            "value": 1168138808
          }
        },
        "01d7ffa5a4e5453197f6f0b731e0b8b2": {
          "model_module": "@jupyter-widgets/controls",
          "model_name": "HTMLModel",
          "model_module_version": "1.5.0",
          "state": {
            "_dom_classes": [],
            "_model_module": "@jupyter-widgets/controls",
            "_model_module_version": "1.5.0",
            "_model_name": "HTMLModel",
            "_view_count": null,
            "_view_module": "@jupyter-widgets/controls",
            "_view_module_version": "1.5.0",
            "_view_name": "HTMLView",
            "description": "",
            "description_tooltip": null,
            "layout": "IPY_MODEL_96a4a90a23c045fabb6a6eac377d0bf4",
            "placeholder": "​",
            "style": "IPY_MODEL_a7f404679a194acdad420600a3050e73",
            "value": " 1.17G/1.17G [00:27&lt;00:00, 42.7MB/s]"
          }
        },
        "63a2d15071ce41c792414c82e7191596": {
          "model_module": "@jupyter-widgets/base",
          "model_name": "LayoutModel",
          "model_module_version": "1.2.0",
          "state": {
            "_model_module": "@jupyter-widgets/base",
            "_model_module_version": "1.2.0",
            "_model_name": "LayoutModel",
            "_view_count": null,
            "_view_module": "@jupyter-widgets/base",
            "_view_module_version": "1.2.0",
            "_view_name": "LayoutView",
            "align_content": null,
            "align_items": null,
            "align_self": null,
            "border": null,
            "bottom": null,
            "display": null,
            "flex": null,
            "flex_flow": null,
            "grid_area": null,
            "grid_auto_columns": null,
            "grid_auto_flow": null,
            "grid_auto_rows": null,
            "grid_column": null,
            "grid_gap": null,
            "grid_row": null,
            "grid_template_areas": null,
            "grid_template_columns": null,
            "grid_template_rows": null,
            "height": null,
            "justify_content": null,
            "justify_items": null,
            "left": null,
            "margin": null,
            "max_height": null,
            "max_width": null,
            "min_height": null,
            "min_width": null,
            "object_fit": null,
            "object_position": null,
            "order": null,
            "overflow": null,
            "overflow_x": null,
            "overflow_y": null,
            "padding": null,
            "right": null,
            "top": null,
            "visibility": null,
            "width": null
          }
        },
        "1b33b86781784b0fb3df768e1d8e8d64": {
          "model_module": "@jupyter-widgets/base",
          "model_name": "LayoutModel",
          "model_module_version": "1.2.0",
          "state": {
            "_model_module": "@jupyter-widgets/base",
            "_model_module_version": "1.2.0",
            "_model_name": "LayoutModel",
            "_view_count": null,
            "_view_module": "@jupyter-widgets/base",
            "_view_module_version": "1.2.0",
            "_view_name": "LayoutView",
            "align_content": null,
            "align_items": null,
            "align_self": null,
            "border": null,
            "bottom": null,
            "display": null,
            "flex": null,
            "flex_flow": null,
            "grid_area": null,
            "grid_auto_columns": null,
            "grid_auto_flow": null,
            "grid_auto_rows": null,
            "grid_column": null,
            "grid_gap": null,
            "grid_row": null,
            "grid_template_areas": null,
            "grid_template_columns": null,
            "grid_template_rows": null,
            "height": null,
            "justify_content": null,
            "justify_items": null,
            "left": null,
            "margin": null,
            "max_height": null,
            "max_width": null,
            "min_height": null,
            "min_width": null,
            "object_fit": null,
            "object_position": null,
            "order": null,
            "overflow": null,
            "overflow_x": null,
            "overflow_y": null,
            "padding": null,
            "right": null,
            "top": null,
            "visibility": null,
            "width": null
          }
        },
        "77f7ea788fe64b508bc6ac8c850e10e8": {
          "model_module": "@jupyter-widgets/controls",
          "model_name": "DescriptionStyleModel",
          "model_module_version": "1.5.0",
          "state": {
            "_model_module": "@jupyter-widgets/controls",
            "_model_module_version": "1.5.0",
            "_model_name": "DescriptionStyleModel",
            "_view_count": null,
            "_view_module": "@jupyter-widgets/base",
            "_view_module_version": "1.2.0",
            "_view_name": "StyleView",
            "description_width": ""
          }
        },
        "2a29fbf319b6458bb4403d6ad03d2d0f": {
          "model_module": "@jupyter-widgets/base",
          "model_name": "LayoutModel",
          "model_module_version": "1.2.0",
          "state": {
            "_model_module": "@jupyter-widgets/base",
            "_model_module_version": "1.2.0",
            "_model_name": "LayoutModel",
            "_view_count": null,
            "_view_module": "@jupyter-widgets/base",
            "_view_module_version": "1.2.0",
            "_view_name": "LayoutView",
            "align_content": null,
            "align_items": null,
            "align_self": null,
            "border": null,
            "bottom": null,
            "display": null,
            "flex": null,
            "flex_flow": null,
            "grid_area": null,
            "grid_auto_columns": null,
            "grid_auto_flow": null,
            "grid_auto_rows": null,
            "grid_column": null,
            "grid_gap": null,
            "grid_row": null,
            "grid_template_areas": null,
            "grid_template_columns": null,
            "grid_template_rows": null,
            "height": null,
            "justify_content": null,
            "justify_items": null,
            "left": null,
            "margin": null,
            "max_height": null,
            "max_width": null,
            "min_height": null,
            "min_width": null,
            "object_fit": null,
            "object_position": null,
            "order": null,
            "overflow": null,
            "overflow_x": null,
            "overflow_y": null,
            "padding": null,
            "right": null,
            "top": null,
            "visibility": null,
            "width": null
          }
        },
        "21a3600939a84ce08eea6fcb8c06fe06": {
          "model_module": "@jupyter-widgets/controls",
          "model_name": "ProgressStyleModel",
          "model_module_version": "1.5.0",
          "state": {
            "_model_module": "@jupyter-widgets/controls",
            "_model_module_version": "1.5.0",
            "_model_name": "ProgressStyleModel",
            "_view_count": null,
            "_view_module": "@jupyter-widgets/base",
            "_view_module_version": "1.2.0",
            "_view_name": "StyleView",
            "bar_color": null,
            "description_width": ""
          }
        },
        "96a4a90a23c045fabb6a6eac377d0bf4": {
          "model_module": "@jupyter-widgets/base",
          "model_name": "LayoutModel",
          "model_module_version": "1.2.0",
          "state": {
            "_model_module": "@jupyter-widgets/base",
            "_model_module_version": "1.2.0",
            "_model_name": "LayoutModel",
            "_view_count": null,
            "_view_module": "@jupyter-widgets/base",
            "_view_module_version": "1.2.0",
            "_view_name": "LayoutView",
            "align_content": null,
            "align_items": null,
            "align_self": null,
            "border": null,
            "bottom": null,
            "display": null,
            "flex": null,
            "flex_flow": null,
            "grid_area": null,
            "grid_auto_columns": null,
            "grid_auto_flow": null,
            "grid_auto_rows": null,
            "grid_column": null,
            "grid_gap": null,
            "grid_row": null,
            "grid_template_areas": null,
            "grid_template_columns": null,
            "grid_template_rows": null,
            "height": null,
            "justify_content": null,
            "justify_items": null,
            "left": null,
            "margin": null,
            "max_height": null,
            "max_width": null,
            "min_height": null,
            "min_width": null,
            "object_fit": null,
            "object_position": null,
            "order": null,
            "overflow": null,
            "overflow_x": null,
            "overflow_y": null,
            "padding": null,
            "right": null,
            "top": null,
            "visibility": null,
            "width": null
          }
        },
        "a7f404679a194acdad420600a3050e73": {
          "model_module": "@jupyter-widgets/controls",
          "model_name": "DescriptionStyleModel",
          "model_module_version": "1.5.0",
          "state": {
            "_model_module": "@jupyter-widgets/controls",
            "_model_module_version": "1.5.0",
            "_model_name": "DescriptionStyleModel",
            "_view_count": null,
            "_view_module": "@jupyter-widgets/base",
            "_view_module_version": "1.2.0",
            "_view_name": "StyleView",
            "description_width": ""
          }
        },
        "4ce1efcd43d445d59c833cc003760cd0": {
          "model_module": "@jupyter-widgets/controls",
          "model_name": "HBoxModel",
          "model_module_version": "1.5.0",
          "state": {
            "_dom_classes": [],
            "_model_module": "@jupyter-widgets/controls",
            "_model_module_version": "1.5.0",
            "_model_name": "HBoxModel",
            "_view_count": null,
            "_view_module": "@jupyter-widgets/controls",
            "_view_module_version": "1.5.0",
            "_view_name": "HBoxView",
            "box_style": "",
            "children": [
              "IPY_MODEL_5a27f896487142a79f4241da691f23f8",
              "IPY_MODEL_6bb352e7f8424c19bfd892262b4a951e",
              "IPY_MODEL_1539de1d4e924dafbe882e49d22d8422"
            ],
            "layout": "IPY_MODEL_d25c58624c4a42078ee21ec696c1169e"
          }
        },
        "5a27f896487142a79f4241da691f23f8": {
          "model_module": "@jupyter-widgets/controls",
          "model_name": "HTMLModel",
          "model_module_version": "1.5.0",
          "state": {
            "_dom_classes": [],
            "_model_module": "@jupyter-widgets/controls",
            "_model_module_version": "1.5.0",
            "_model_name": "HTMLModel",
            "_view_count": null,
            "_view_module": "@jupyter-widgets/controls",
            "_view_module_version": "1.5.0",
            "_view_name": "HTMLView",
            "description": "",
            "description_tooltip": null,
            "layout": "IPY_MODEL_4410545118564a508c2f80779c18813b",
            "placeholder": "​",
            "style": "IPY_MODEL_53b6f35b96104ec78de295906e5337d5",
            "value": "model.safetensors.index.json: 100%"
          }
        },
        "6bb352e7f8424c19bfd892262b4a951e": {
          "model_module": "@jupyter-widgets/controls",
          "model_name": "FloatProgressModel",
          "model_module_version": "1.5.0",
          "state": {
            "_dom_classes": [],
            "_model_module": "@jupyter-widgets/controls",
            "_model_module_version": "1.5.0",
            "_model_name": "FloatProgressModel",
            "_view_count": null,
            "_view_module": "@jupyter-widgets/controls",
            "_view_module_version": "1.5.0",
            "_view_name": "ProgressView",
            "bar_style": "success",
            "description": "",
            "description_tooltip": null,
            "layout": "IPY_MODEL_70d035938e8340ceaae9ad55cefba4ad",
            "max": 23950,
            "min": 0,
            "orientation": "horizontal",
            "style": "IPY_MODEL_42adb54bcb214d149cb9269e9ef1b2ea",
            "value": 23950
          }
        },
        "1539de1d4e924dafbe882e49d22d8422": {
          "model_module": "@jupyter-widgets/controls",
          "model_name": "HTMLModel",
          "model_module_version": "1.5.0",
          "state": {
            "_dom_classes": [],
            "_model_module": "@jupyter-widgets/controls",
            "_model_module_version": "1.5.0",
            "_model_name": "HTMLModel",
            "_view_count": null,
            "_view_module": "@jupyter-widgets/controls",
            "_view_module_version": "1.5.0",
            "_view_name": "HTMLView",
            "description": "",
            "description_tooltip": null,
            "layout": "IPY_MODEL_12b2d79ea1664147b089f9cc766123e0",
            "placeholder": "​",
            "style": "IPY_MODEL_2ddf052846b7448181ef253e5853a4db",
            "value": " 23.9k/23.9k [00:00&lt;00:00, 2.01MB/s]"
          }
        },
        "d25c58624c4a42078ee21ec696c1169e": {
          "model_module": "@jupyter-widgets/base",
          "model_name": "LayoutModel",
          "model_module_version": "1.2.0",
          "state": {
            "_model_module": "@jupyter-widgets/base",
            "_model_module_version": "1.2.0",
            "_model_name": "LayoutModel",
            "_view_count": null,
            "_view_module": "@jupyter-widgets/base",
            "_view_module_version": "1.2.0",
            "_view_name": "LayoutView",
            "align_content": null,
            "align_items": null,
            "align_self": null,
            "border": null,
            "bottom": null,
            "display": null,
            "flex": null,
            "flex_flow": null,
            "grid_area": null,
            "grid_auto_columns": null,
            "grid_auto_flow": null,
            "grid_auto_rows": null,
            "grid_column": null,
            "grid_gap": null,
            "grid_row": null,
            "grid_template_areas": null,
            "grid_template_columns": null,
            "grid_template_rows": null,
            "height": null,
            "justify_content": null,
            "justify_items": null,
            "left": null,
            "margin": null,
            "max_height": null,
            "max_width": null,
            "min_height": null,
            "min_width": null,
            "object_fit": null,
            "object_position": null,
            "order": null,
            "overflow": null,
            "overflow_x": null,
            "overflow_y": null,
            "padding": null,
            "right": null,
            "top": null,
            "visibility": null,
            "width": null
          }
        },
        "4410545118564a508c2f80779c18813b": {
          "model_module": "@jupyter-widgets/base",
          "model_name": "LayoutModel",
          "model_module_version": "1.2.0",
          "state": {
            "_model_module": "@jupyter-widgets/base",
            "_model_module_version": "1.2.0",
            "_model_name": "LayoutModel",
            "_view_count": null,
            "_view_module": "@jupyter-widgets/base",
            "_view_module_version": "1.2.0",
            "_view_name": "LayoutView",
            "align_content": null,
            "align_items": null,
            "align_self": null,
            "border": null,
            "bottom": null,
            "display": null,
            "flex": null,
            "flex_flow": null,
            "grid_area": null,
            "grid_auto_columns": null,
            "grid_auto_flow": null,
            "grid_auto_rows": null,
            "grid_column": null,
            "grid_gap": null,
            "grid_row": null,
            "grid_template_areas": null,
            "grid_template_columns": null,
            "grid_template_rows": null,
            "height": null,
            "justify_content": null,
            "justify_items": null,
            "left": null,
            "margin": null,
            "max_height": null,
            "max_width": null,
            "min_height": null,
            "min_width": null,
            "object_fit": null,
            "object_position": null,
            "order": null,
            "overflow": null,
            "overflow_x": null,
            "overflow_y": null,
            "padding": null,
            "right": null,
            "top": null,
            "visibility": null,
            "width": null
          }
        },
        "53b6f35b96104ec78de295906e5337d5": {
          "model_module": "@jupyter-widgets/controls",
          "model_name": "DescriptionStyleModel",
          "model_module_version": "1.5.0",
          "state": {
            "_model_module": "@jupyter-widgets/controls",
            "_model_module_version": "1.5.0",
            "_model_name": "DescriptionStyleModel",
            "_view_count": null,
            "_view_module": "@jupyter-widgets/base",
            "_view_module_version": "1.2.0",
            "_view_name": "StyleView",
            "description_width": ""
          }
        },
        "70d035938e8340ceaae9ad55cefba4ad": {
          "model_module": "@jupyter-widgets/base",
          "model_name": "LayoutModel",
          "model_module_version": "1.2.0",
          "state": {
            "_model_module": "@jupyter-widgets/base",
            "_model_module_version": "1.2.0",
            "_model_name": "LayoutModel",
            "_view_count": null,
            "_view_module": "@jupyter-widgets/base",
            "_view_module_version": "1.2.0",
            "_view_name": "LayoutView",
            "align_content": null,
            "align_items": null,
            "align_self": null,
            "border": null,
            "bottom": null,
            "display": null,
            "flex": null,
            "flex_flow": null,
            "grid_area": null,
            "grid_auto_columns": null,
            "grid_auto_flow": null,
            "grid_auto_rows": null,
            "grid_column": null,
            "grid_gap": null,
            "grid_row": null,
            "grid_template_areas": null,
            "grid_template_columns": null,
            "grid_template_rows": null,
            "height": null,
            "justify_content": null,
            "justify_items": null,
            "left": null,
            "margin": null,
            "max_height": null,
            "max_width": null,
            "min_height": null,
            "min_width": null,
            "object_fit": null,
            "object_position": null,
            "order": null,
            "overflow": null,
            "overflow_x": null,
            "overflow_y": null,
            "padding": null,
            "right": null,
            "top": null,
            "visibility": null,
            "width": null
          }
        },
        "42adb54bcb214d149cb9269e9ef1b2ea": {
          "model_module": "@jupyter-widgets/controls",
          "model_name": "ProgressStyleModel",
          "model_module_version": "1.5.0",
          "state": {
            "_model_module": "@jupyter-widgets/controls",
            "_model_module_version": "1.5.0",
            "_model_name": "ProgressStyleModel",
            "_view_count": null,
            "_view_module": "@jupyter-widgets/base",
            "_view_module_version": "1.2.0",
            "_view_name": "StyleView",
            "bar_color": null,
            "description_width": ""
          }
        },
        "12b2d79ea1664147b089f9cc766123e0": {
          "model_module": "@jupyter-widgets/base",
          "model_name": "LayoutModel",
          "model_module_version": "1.2.0",
          "state": {
            "_model_module": "@jupyter-widgets/base",
            "_model_module_version": "1.2.0",
            "_model_name": "LayoutModel",
            "_view_count": null,
            "_view_module": "@jupyter-widgets/base",
            "_view_module_version": "1.2.0",
            "_view_name": "LayoutView",
            "align_content": null,
            "align_items": null,
            "align_self": null,
            "border": null,
            "bottom": null,
            "display": null,
            "flex": null,
            "flex_flow": null,
            "grid_area": null,
            "grid_auto_columns": null,
            "grid_auto_flow": null,
            "grid_auto_rows": null,
            "grid_column": null,
            "grid_gap": null,
            "grid_row": null,
            "grid_template_areas": null,
            "grid_template_columns": null,
            "grid_template_rows": null,
            "height": null,
            "justify_content": null,
            "justify_items": null,
            "left": null,
            "margin": null,
            "max_height": null,
            "max_width": null,
            "min_height": null,
            "min_width": null,
            "object_fit": null,
            "object_position": null,
            "order": null,
            "overflow": null,
            "overflow_x": null,
            "overflow_y": null,
            "padding": null,
            "right": null,
            "top": null,
            "visibility": null,
            "width": null
          }
        },
        "2ddf052846b7448181ef253e5853a4db": {
          "model_module": "@jupyter-widgets/controls",
          "model_name": "DescriptionStyleModel",
          "model_module_version": "1.5.0",
          "state": {
            "_model_module": "@jupyter-widgets/controls",
            "_model_module_version": "1.5.0",
            "_model_name": "DescriptionStyleModel",
            "_view_count": null,
            "_view_module": "@jupyter-widgets/base",
            "_view_module_version": "1.2.0",
            "_view_name": "StyleView",
            "description_width": ""
          }
        }
      }
    }
  },
  "nbformat": 4,
  "nbformat_minor": 0
}